{
 "cells": [
  {
   "cell_type": "code",
   "execution_count": 1,
   "metadata": {},
   "outputs": [],
   "source": [
    "import pandas as pd\n",
    "coffeedb = pd.read_csv('mysite/data/coffeeDB2.csv')"
   ]
  },
  {
   "cell_type": "code",
   "execution_count": 2,
   "metadata": {},
   "outputs": [
    {
     "data": {
      "text/plain": [
       "Index(['new_id', 'id', '이름', '로스터리ID', '커피 소개', '타입', '로스팅 포인트', '지속가능성',\n",
       "       '컵 노트', '바디감', '신맛', '단맛', '쓴맛', '카페인', '나라', '식품의 유형', '제조원 및 소재지',\n",
       "       '유통기한', '제조일자', '내용량', '보관 방법', '원재료 및 함량', '제품문의 관련 주소 및 전화번호',\n",
       "       'price', '꽃', '과일', '허브', '달콤함', '고소함', '향료', '초콜릿'],\n",
       "      dtype='object')"
      ]
     },
     "execution_count": 2,
     "metadata": {},
     "output_type": "execute_result"
    }
   ],
   "source": [
    "coffeedb.columns"
   ]
  },
  {
   "cell_type": "code",
   "execution_count": 4,
   "metadata": {},
   "outputs": [
    {
     "data": {
      "text/plain": [
       "array(['200g / 1kg', '500g', '1000g', '140g / 1kg', '250g / 1kg',\n",
       "       '210g / 500g', '200g', '1kg', '150g / 1kg', '250g / 500g',\n",
       "       '150g / 400g', '150g', '상단 별도 표기', '500g / 1kg', '500g/ 1kg',\n",
       "       '별도표기', '200g / 500g', '200g/1kg', '250g', '200g / 400g', '800g',\n",
       "       '1kg,500g,200g', '200g/ 1kg', '225g', '500g x 10ea', '500g/1kg',\n",
       "       '400g', '200g, 1kg', '500kg, 1kg', '500g,1kg', '500g, 1kg',\n",
       "       '500g 1kg', '200kg', '100g', '4kg'], dtype=object)"
      ]
     },
     "execution_count": 4,
     "metadata": {},
     "output_type": "execute_result"
    }
   ],
   "source": [
    "coffeedb['내용량'].unique()"
   ]
  },
  {
   "cell_type": "markdown",
   "metadata": {},
   "source": [
    "200g : 16000원 정도?\n",
    "\n",
    "'200g / 1kg', '200g/1kg', '200g/ 1kg', '200g, 1kg'\n",
    "    - '200kg', '200g / 500g', '200g / 400g'\n",
    "'500g / 1kg', '500g/ 1kg', '500g/1kg', '500g,1kg', '500g, 1kg', '500g 1kg'\n",
    "    - '250g / 500g', '1kg,500g,200g', '500kg, 1kg'\n",
    "\n",
    "'150g / 1kg' , '150g / 400g' : 150\n",
    "\n",
    "'140g / 1kg' : 140\n",
    "'250g / 1kg' : 250\n",
    "'210g / 500g' : 210\n",
    "\n",
    "\n"
   ]
  },
  {
   "cell_type": "code",
   "execution_count": 41,
   "metadata": {},
   "outputs": [],
   "source": [
    "coffeedb['내용량'] = coffeedb['내용량'].map(lambda x: \n",
    "    '200g' if x in [\n",
    "        '200g / 1kg', '200g/1kg', '200g/ 1kg', '200g, 1kg',\n",
    "        '200kg', '200g / 500g', '200g / 400g'\n",
    "    ] else (\n",
    "    '제품 별도 표기' if x == '별도표기' or x == '상단 별도 표기' else (\n",
    "    '500g' if x in[\n",
    "        '500g / 1kg', '500g/ 1kg', '500g/1kg', '500g,1kg', '500g, 1kg', '500g 1kg',\n",
    "        '1kg,500g,200g', '500kg, 1kg', '250g / 500g'\n",
    "        ] else (\n",
    "    '150g' if x in ['150g / 1kg', '150g / 400g'] else (\n",
    "    '140g' if x == '140g / 1kg' else (\n",
    "    '250g' if x == '250g / 1kg' else (\n",
    "    '400g' if x == '4kg' else (\n",
    "    '210g' if x == '210g / 500g' else x\n",
    "    )))))))\n",
    ")"
   ]
  },
  {
   "cell_type": "code",
   "execution_count": 42,
   "metadata": {},
   "outputs": [
    {
     "data": {
      "text/plain": [
       "array(['200g', '500g', '1000g', '140g', '250g', '210g', '1kg', '150g',\n",
       "       '제품 별도 표기', '800g', '225g', '500g x 10ea', '400g', '100g'],\n",
       "      dtype=object)"
      ]
     },
     "execution_count": 42,
     "metadata": {},
     "output_type": "execute_result"
    }
   ],
   "source": [
    "coffeedb['내용량'].unique()"
   ]
  },
  {
   "cell_type": "code",
   "execution_count": 44,
   "metadata": {},
   "outputs": [
    {
     "data": {
      "text/html": [
       "<div>\n",
       "<style scoped>\n",
       "    .dataframe tbody tr th:only-of-type {\n",
       "        vertical-align: middle;\n",
       "    }\n",
       "\n",
       "    .dataframe tbody tr th {\n",
       "        vertical-align: top;\n",
       "    }\n",
       "\n",
       "    .dataframe thead th {\n",
       "        text-align: right;\n",
       "    }\n",
       "</style>\n",
       "<table border=\"1\" class=\"dataframe\">\n",
       "  <thead>\n",
       "    <tr style=\"text-align: right;\">\n",
       "      <th></th>\n",
       "      <th>new_id</th>\n",
       "      <th>id</th>\n",
       "      <th>이름</th>\n",
       "      <th>로스터리ID</th>\n",
       "      <th>커피 소개</th>\n",
       "      <th>타입</th>\n",
       "      <th>로스팅 포인트</th>\n",
       "      <th>지속가능성</th>\n",
       "      <th>컵 노트</th>\n",
       "      <th>바디감</th>\n",
       "      <th>...</th>\n",
       "      <th>원재료 및 함량</th>\n",
       "      <th>제품문의 관련 주소 및 전화번호</th>\n",
       "      <th>price</th>\n",
       "      <th>꽃</th>\n",
       "      <th>과일</th>\n",
       "      <th>허브</th>\n",
       "      <th>달콤함</th>\n",
       "      <th>고소함</th>\n",
       "      <th>향료</th>\n",
       "      <th>초콜릿</th>\n",
       "    </tr>\n",
       "  </thead>\n",
       "  <tbody>\n",
       "    <tr>\n",
       "      <th>0</th>\n",
       "      <td>0</td>\n",
       "      <td>2</td>\n",
       "      <td>나탈리</td>\n",
       "      <td>60</td>\n",
       "      <td>잘 익은 딸기를 베어 문듯한 단맛과 적당한 산미의 조화를 이루는 와인의 풍미를 느낄...</td>\n",
       "      <td>블렌드</td>\n",
       "      <td>미디엄</td>\n",
       "      <td>공정무역</td>\n",
       "      <td>['딸기', '와인', '화이트 초콜릿']</td>\n",
       "      <td>2</td>\n",
       "      <td>...</td>\n",
       "      <td>원두 커피(엘살바도르 30%, 파푸아뉴기니 40%, 코스타리카 30%)</td>\n",
       "      <td>코케 고객센터 070-4647-1868</td>\n",
       "      <td>16000</td>\n",
       "      <td>0</td>\n",
       "      <td>1</td>\n",
       "      <td>0</td>\n",
       "      <td>0</td>\n",
       "      <td>0</td>\n",
       "      <td>0</td>\n",
       "      <td>1</td>\n",
       "    </tr>\n",
       "    <tr>\n",
       "      <th>1</th>\n",
       "      <td>1</td>\n",
       "      <td>3</td>\n",
       "      <td>콜린</td>\n",
       "      <td>60</td>\n",
       "      <td>잘 익은 체리의 농후한 단맛과 고소한 아몬드 캐러멜이 입안 가득 남는 끝 맛을 느낄...</td>\n",
       "      <td>블렌드</td>\n",
       "      <td>미디엄다크</td>\n",
       "      <td>공정무역</td>\n",
       "      <td>['다크 초콜릿', '체리', '아몬드']</td>\n",
       "      <td>4</td>\n",
       "      <td>...</td>\n",
       "      <td>원두 커피(코스타리카 30%, 콜롬비아 40%, 인도 30%)</td>\n",
       "      <td>코케 고객센터 070-4647-1868</td>\n",
       "      <td>16000</td>\n",
       "      <td>0</td>\n",
       "      <td>1</td>\n",
       "      <td>0</td>\n",
       "      <td>0</td>\n",
       "      <td>1</td>\n",
       "      <td>0</td>\n",
       "      <td>1</td>\n",
       "    </tr>\n",
       "  </tbody>\n",
       "</table>\n",
       "<p>2 rows × 31 columns</p>\n",
       "</div>"
      ],
      "text/plain": [
       "   new_id  id   이름  로스터리ID                                              커피 소개  \\\n",
       "0       0   2  나탈리      60  잘 익은 딸기를 베어 문듯한 단맛과 적당한 산미의 조화를 이루는 와인의 풍미를 느낄...   \n",
       "1       1   3   콜린      60  잘 익은 체리의 농후한 단맛과 고소한 아몬드 캐러멜이 입안 가득 남는 끝 맛을 느낄...   \n",
       "\n",
       "    타입 로스팅 포인트 지속가능성                     컵 노트  바디감  ...  \\\n",
       "0  블렌드     미디엄  공정무역  ['딸기', '와인', '화이트 초콜릿']    2  ...   \n",
       "1  블렌드   미디엄다크  공정무역  ['다크 초콜릿', '체리', '아몬드']    4  ...   \n",
       "\n",
       "                                  원재료 및 함량      제품문의 관련 주소 및 전화번호  price  꽃  \\\n",
       "0  원두 커피(엘살바도르 30%, 파푸아뉴기니 40%, 코스타리카 30%)  코케 고객센터 070-4647-1868  16000  0   \n",
       "1       원두 커피(코스타리카 30%, 콜롬비아 40%, 인도 30%)  코케 고객센터 070-4647-1868  16000  0   \n",
       "\n",
       "  과일 허브 달콤함 고소함 향료 초콜릿  \n",
       "0  1  0   0   0  0   1  \n",
       "1  1  0   0   1  0   1  \n",
       "\n",
       "[2 rows x 31 columns]"
      ]
     },
     "execution_count": 44,
     "metadata": {},
     "output_type": "execute_result"
    }
   ],
   "source": [
    "coffeedb.to_csv('mysite/data/coffeeDB.csv', index=0)\n",
    "coffeedb = pd.read_csv('mysite/data/coffeeDB.csv')\n",
    "coffeedb.head(2)"
   ]
  }
 ],
 "metadata": {
  "kernelspec": {
   "display_name": "coffee",
   "language": "python",
   "name": "python3"
  },
  "language_info": {
   "codemirror_mode": {
    "name": "ipython",
    "version": 3
   },
   "file_extension": ".py",
   "mimetype": "text/x-python",
   "name": "python",
   "nbconvert_exporter": "python",
   "pygments_lexer": "ipython3",
   "version": "3.10.4"
  }
 },
 "nbformat": 4,
 "nbformat_minor": 2
}
