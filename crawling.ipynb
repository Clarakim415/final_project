{
 "cells": [
  {
   "cell_type": "code",
   "execution_count": 3,
   "metadata": {},
   "outputs": [],
   "source": [
    "from selenium import webdriver\n",
    "from selenium.webdriver.chrome.service import Service\n",
    "from selenium.webdriver.chrome.options import Options\n",
    "from selenium.webdriver.chrome.service import Service as ChromeService\n",
    "from webdriver_manager.chrome import ChromeDriverManager\n",
    "from selenium.webdriver.common.by import By\n",
    "import pandas as pd\n",
    "import warnings\n",
    "import time\n",
    "warnings.filterwarnings(action='ignore')"
   ]
  },
  {
   "cell_type": "code",
   "execution_count": 5,
   "metadata": {},
   "outputs": [],
   "source": [
    "# 드라이버 불러오기\n",
    "driver = webdriver.Chrome(service=ChromeService(ChromeDriverManager().install()))"
   ]
  },
  {
   "cell_type": "code",
   "execution_count": 10,
   "metadata": {},
   "outputs": [],
   "source": [
    "# 메인 페이지\n",
    "url = 'https://biz.koke.kr/products?filters=%7B%22categoryGroup%22%3A%22WholeBean%22%7D'\n",
    "driver.get(url) # go to website\n",
    "time.sleep(1)"
   ]
  },
  {
   "cell_type": "code",
   "execution_count": 11,
   "metadata": {},
   "outputs": [
    {
     "name": "stdout",
     "output_type": "stream",
     "text": [
      "현제 페이지(i+1):  1  링크 수:  18  총 링크 수:  18\n",
      "현제 페이지(i+1):  2  링크 수:  18  총 링크 수:  36\n",
      "현제 페이지(i+1):  3  링크 수:  18  총 링크 수:  54\n",
      "현제 페이지(i+1):  4  링크 수:  18  총 링크 수:  72\n",
      "현제 페이지(i+1):  5  링크 수:  18  총 링크 수:  90\n",
      "현제 페이지(i+1):  6  링크 수:  18  총 링크 수:  108\n",
      "현제 페이지(i+1):  7  링크 수:  18  총 링크 수:  126\n",
      "현제 페이지(i+1):  8  링크 수:  18  총 링크 수:  144\n",
      "현제 페이지(i+1):  9  링크 수:  18  총 링크 수:  162\n",
      "현제 페이지(i+1):  10  링크 수:  18  총 링크 수:  180\n",
      "현제 페이지(i+1):  11  링크 수:  18  총 링크 수:  198\n",
      "현제 페이지(i+1):  12  링크 수:  18  총 링크 수:  216\n",
      "현제 페이지(i+1):  13  링크 수:  18  총 링크 수:  234\n",
      "현제 페이지(i+1):  14  링크 수:  18  총 링크 수:  252\n",
      "현제 페이지(i+1):  15  링크 수:  18  총 링크 수:  270\n",
      "현제 페이지(i+1):  16  링크 수:  18  총 링크 수:  288\n",
      "현제 페이지(i+1):  17  링크 수:  18  총 링크 수:  306\n",
      "현제 페이지(i+1):  18  링크 수:  18  총 링크 수:  324\n",
      "현제 페이지(i+1):  19  링크 수:  18  총 링크 수:  342\n",
      "현제 페이지(i+1):  20  링크 수:  18  총 링크 수:  360\n",
      "현제 페이지(i+1):  21  링크 수:  18  총 링크 수:  378\n",
      "현제 페이지(i+1):  22  링크 수:  18  총 링크 수:  396\n",
      "현제 페이지(i+1):  23  링크 수:  18  총 링크 수:  414\n",
      "현제 페이지(i+1):  24  링크 수:  18  총 링크 수:  432\n",
      "현제 페이지(i+1):  25  링크 수:  18  총 링크 수:  450\n",
      "현제 페이지(i+1):  26  링크 수:  18  총 링크 수:  468\n",
      "현제 페이지(i+1):  27  링크 수:  18  총 링크 수:  486\n",
      "현제 페이지(i+1):  28  링크 수:  18  총 링크 수:  504\n",
      "현제 페이지(i+1):  29  링크 수:  18  총 링크 수:  522\n",
      "현제 페이지(i+1):  30  링크 수:  18  총 링크 수:  540\n",
      "현제 페이지(i+1):  31  링크 수:  18  총 링크 수:  558\n",
      "현제 페이지(i+1):  32  링크 수:  2  총 링크 수:  560\n",
      "560\n"
     ]
    }
   ],
   "source": [
    "links = [] # 제품 링크 리스트\n",
    "\n",
    "# 약 4분 30초 소요\n",
    "for i in range(32):\n",
    "    raw = driver.find_elements(By.CSS_SELECTOR,\"div.flex.flex-col.w-full.lg\\:w-3\\/4\")\n",
    "    link_elements = raw[0].find_elements(By.TAG_NAME,'a') \n",
    "    href_links = [link.get_attribute('href') for link in link_elements]\n",
    "    links = links + href_links # 현재 페이지에 있는 상품 가져오기\n",
    "    time.sleep(3)\n",
    "\n",
    "    if i is not 31:\n",
    "        button = driver.find_elements(By.CSS_SELECTOR ,\"button.text-gray-500.bg-white.border.border-gray-200.koke-button\")\n",
    "        button[-1].click()\n",
    "        time.sleep(5)\n",
    "    \n",
    "    print('현제 페이지(i+1): ',i+1,' 링크 수: ',len(href_links),' 총 링크 수: ',len(links))\n",
    "\n",
    "link = set(links)\n",
    "print(len(links)) # 총 556개\n"
   ]
  },
  {
   "cell_type": "code",
   "execution_count": 13,
   "metadata": {},
   "outputs": [
    {
     "data": {
      "text/plain": [
       "559"
      ]
     },
     "execution_count": 13,
     "metadata": {},
     "output_type": "execute_result"
    }
   ],
   "source": [
    "\n",
    "len(link)"
   ]
  },
  {
   "cell_type": "code",
   "execution_count": 14,
   "metadata": {},
   "outputs": [
    {
     "name": "stdout",
     "output_type": "stream",
     "text": [
      "Loaded links: 559\n"
     ]
    }
   ],
   "source": [
    "import pickle\n",
    "\n",
    "# Pickle dump the set of links to a file\n",
    "with open(\"links_559.pkl\", \"wb\") as file:\n",
    "    pickle.dump(link, file)\n",
    "\n",
    "# Load the set of links from the file\n",
    "with open(\"links_559.pkl\", \"rb\") as file:\n",
    "    loaded_links = pickle.load(file)\n",
    "\n",
    "# Print the loaded set of links\n",
    "print(\"Loaded links:\", len(loaded_links))"
   ]
  },
  {
   "cell_type": "code",
   "execution_count": 63,
   "metadata": {},
   "outputs": [],
   "source": [
    "def get_roastery(url):\n",
    "    # 제품 사이트로 이동\n",
    "    driver.get(url)\n",
    "    time.sleep(3)\n",
    "    # 정보 블록\n",
    "    raw = driver.find_element(By.CSS_SELECTOR,\"div.md\\:pt-\\[4rem\\]\")\n",
    "    \n",
    "    # 원두 이름\n",
    "    bean_name = driver.find_element(By.CSS_SELECTOR,\"div.flex.flex-col\").find_element(By.TAG_NAME,'h1').text\n",
    "    # 로스터리 이름\n",
    "    roastery = raw.find_element(By.TAG_NAME,'h2').text\n",
    "    # 소개글\n",
    "    temp = raw.find_element(By.CSS_SELECTOR,\"div.w-full.md\\:w-168.md\\:koke-word-keep-all\")\n",
    "    introduction = temp.find_element(By.TAG_NAME,'p').text\n",
    "    # 주소\n",
    "    address = temp.find_elements(By.TAG_NAME,'li')[-1].find_element(By.TAG_NAME,'p').text\n",
    "    # 이미지\n",
    "    img = raw.find_elements(By.TAG_NAME,'img')[-1].get_attribute('src')\n",
    "    \n",
    "    return [bean_name,roastery,introduction,address,img]\n"
   ]
  },
  {
   "cell_type": "code",
   "execution_count": null,
   "metadata": {},
   "outputs": [],
   "source": [
    "temp_list = []\n",
    "for link in links:\n",
    "    temp = get_roastery(link)\n",
    "    temp_list.append(temp)"
   ]
  },
  {
   "cell_type": "code",
   "execution_count": 76,
   "metadata": {},
   "outputs": [
    {
     "data": {
      "text/html": [
       "<div>\n",
       "<style scoped>\n",
       "    .dataframe tbody tr th:only-of-type {\n",
       "        vertical-align: middle;\n",
       "    }\n",
       "\n",
       "    .dataframe tbody tr th {\n",
       "        vertical-align: top;\n",
       "    }\n",
       "\n",
       "    .dataframe thead th {\n",
       "        text-align: right;\n",
       "    }\n",
       "</style>\n",
       "<table border=\"1\" class=\"dataframe\">\n",
       "  <thead>\n",
       "    <tr style=\"text-align: right;\">\n",
       "      <th></th>\n",
       "      <th>name</th>\n",
       "      <th>roastery</th>\n",
       "      <th>info</th>\n",
       "      <th>address</th>\n",
       "      <th>img</th>\n",
       "    </tr>\n",
       "  </thead>\n",
       "  <tbody>\n",
       "    <tr>\n",
       "      <th>551</th>\n",
       "      <td>파푸아뉴기니 AA 쿠아 블루마운틴 풀리워시드</td>\n",
       "      <td>커스프 커피</td>\n",
       "      <td>커스프는 스텀프타운에서 시작한 20년 경력의 대표 로스터 JAY가 창업한 뉴욕 브루...</td>\n",
       "      <td>서울시 강남구 학동로31길 12 7F</td>\n",
       "      <td>https://d2wosiipoa41qn.cloudfront.net/UxPzmLPG...</td>\n",
       "    </tr>\n",
       "    <tr>\n",
       "      <th>552</th>\n",
       "      <td>케냐 뚱구리 피베리</td>\n",
       "      <td>180커피로스터스</td>\n",
       "      <td>180커피로스터스는 180도 생각의 전환이라는 뜻을 가지고 있습니다.\\n우리는 단순...</td>\n",
       "      <td>경기 성남시 분당구 문정로144번길 4</td>\n",
       "      <td>https://d2wosiipoa41qn.cloudfront.net/j5QPmenj...</td>\n",
       "    </tr>\n",
       "    <tr>\n",
       "      <th>553</th>\n",
       "      <td>디카페인 스프링 블렌드</td>\n",
       "      <td>커스프 커피</td>\n",
       "      <td>커스프는 스텀프타운에서 시작한 20년 경력의 대표 로스터 JAY가 창업한 뉴욕 브루...</td>\n",
       "      <td>서울시 강남구 학동로31길 12 7F</td>\n",
       "      <td>https://d2wosiipoa41qn.cloudfront.net/UxPzmLPG...</td>\n",
       "    </tr>\n",
       "    <tr>\n",
       "      <th>554</th>\n",
       "      <td>브라질 핀할 카티구아</td>\n",
       "      <td>180커피로스터스</td>\n",
       "      <td>180커피로스터스는 180도 생각의 전환이라는 뜻을 가지고 있습니다.\\n우리는 단순...</td>\n",
       "      <td>경기 성남시 분당구 문정로144번길 4</td>\n",
       "      <td>https://d2wosiipoa41qn.cloudfront.net/j5QPmenj...</td>\n",
       "    </tr>\n",
       "    <tr>\n",
       "      <th>555</th>\n",
       "      <td>콜롬비아 수프리모 후일라 산 비센테 라 플라타</td>\n",
       "      <td>커스프 커피</td>\n",
       "      <td>커스프는 스텀프타운에서 시작한 20년 경력의 대표 로스터 JAY가 창업한 뉴욕 브루...</td>\n",
       "      <td>서울시 강남구 학동로31길 12 7F</td>\n",
       "      <td>https://d2wosiipoa41qn.cloudfront.net/UxPzmLPG...</td>\n",
       "    </tr>\n",
       "  </tbody>\n",
       "</table>\n",
       "</div>"
      ],
      "text/plain": [
       "                          name   roastery  \\\n",
       "551   파푸아뉴기니 AA 쿠아 블루마운틴 풀리워시드     커스프 커피   \n",
       "552                 케냐 뚱구리 피베리  180커피로스터스   \n",
       "553               디카페인 스프링 블렌드     커스프 커피   \n",
       "554                브라질 핀할 카티구아  180커피로스터스   \n",
       "555  콜롬비아 수프리모 후일라 산 비센테 라 플라타     커스프 커피   \n",
       "\n",
       "                                                  info                address  \\\n",
       "551  커스프는 스텀프타운에서 시작한 20년 경력의 대표 로스터 JAY가 창업한 뉴욕 브루...   서울시 강남구 학동로31길 12 7F   \n",
       "552  180커피로스터스는 180도 생각의 전환이라는 뜻을 가지고 있습니다.\\n우리는 단순...  경기 성남시 분당구 문정로144번길 4   \n",
       "553  커스프는 스텀프타운에서 시작한 20년 경력의 대표 로스터 JAY가 창업한 뉴욕 브루...   서울시 강남구 학동로31길 12 7F   \n",
       "554  180커피로스터스는 180도 생각의 전환이라는 뜻을 가지고 있습니다.\\n우리는 단순...  경기 성남시 분당구 문정로144번길 4   \n",
       "555  커스프는 스텀프타운에서 시작한 20년 경력의 대표 로스터 JAY가 창업한 뉴욕 브루...   서울시 강남구 학동로31길 12 7F   \n",
       "\n",
       "                                                   img  \n",
       "551  https://d2wosiipoa41qn.cloudfront.net/UxPzmLPG...  \n",
       "552  https://d2wosiipoa41qn.cloudfront.net/j5QPmenj...  \n",
       "553  https://d2wosiipoa41qn.cloudfront.net/UxPzmLPG...  \n",
       "554  https://d2wosiipoa41qn.cloudfront.net/j5QPmenj...  \n",
       "555  https://d2wosiipoa41qn.cloudfront.net/UxPzmLPG...  "
      ]
     },
     "execution_count": 76,
     "metadata": {},
     "output_type": "execute_result"
    }
   ],
   "source": [
    "df = pd.DataFrame(temp_list,\n",
    "                  columns=['name','roastery','info','address','img'])\n",
    "df.tail()"
   ]
  },
  {
   "cell_type": "code",
   "execution_count": 78,
   "metadata": {},
   "outputs": [],
   "source": [
    "# df.to_csv('roastery.csv')"
   ]
  },
  {
   "cell_type": "markdown",
   "metadata": {},
   "source": [
    "# 로스터리 이미지 다운로드\n"
   ]
  },
  {
   "cell_type": "code",
   "execution_count": 79,
   "metadata": {},
   "outputs": [
    {
     "data": {
      "text/html": [
       "<div>\n",
       "<style scoped>\n",
       "    .dataframe tbody tr th:only-of-type {\n",
       "        vertical-align: middle;\n",
       "    }\n",
       "\n",
       "    .dataframe tbody tr th {\n",
       "        vertical-align: top;\n",
       "    }\n",
       "\n",
       "    .dataframe thead th {\n",
       "        text-align: right;\n",
       "    }\n",
       "</style>\n",
       "<table border=\"1\" class=\"dataframe\">\n",
       "  <thead>\n",
       "    <tr style=\"text-align: right;\">\n",
       "      <th></th>\n",
       "      <th>name</th>\n",
       "      <th>roastery</th>\n",
       "      <th>info</th>\n",
       "      <th>address</th>\n",
       "      <th>img</th>\n",
       "    </tr>\n",
       "  </thead>\n",
       "  <tbody>\n",
       "    <tr>\n",
       "      <th>0</th>\n",
       "      <td>마르께</td>\n",
       "      <td>선빌리지 커피</td>\n",
       "      <td>'Fresh Roasted Coffee Company' 선빌리지커피는 신선한 뉴크롭...</td>\n",
       "      <td>경북 경산시 와촌면 갓바위로 67-2</td>\n",
       "      <td>https://d2wosiipoa41qn.cloudfront.net/O-hzQT0A...</td>\n",
       "    </tr>\n",
       "    <tr>\n",
       "      <th>1</th>\n",
       "      <td>아헨 Aachen</td>\n",
       "      <td>크레센도 커피 로스터스</td>\n",
       "      <td>Life is perfect with a cup of coffee and some ...</td>\n",
       "      <td>경기도 성남시 중원구 둔촌대로 400, 5층 511호</td>\n",
       "      <td>https://d2wosiipoa41qn.cloudfront.net/fPsdgknw...</td>\n",
       "    </tr>\n",
       "    <tr>\n",
       "      <th>2</th>\n",
       "      <td>진양조</td>\n",
       "      <td>스탠딩커피</td>\n",
       "      <td>근사한 커피한잔을 위해서는 훌륭한 생두의 선별, 생두의 장점을 극대화한 로스팅, 원...</td>\n",
       "      <td>경기도 포천시 소흘읍 죽엽산로298번길 56</td>\n",
       "      <td>https://d2wosiipoa41qn.cloudfront.net/9a6odqLa...</td>\n",
       "    </tr>\n",
       "    <tr>\n",
       "      <th>3</th>\n",
       "      <td>클래식 에스프레소</td>\n",
       "      <td>리플렉트 커피 로스터스</td>\n",
       "      <td>'우리를 커피에 비추다. 우리의 색과 진심을 커피에 반영하다'\\n품질 좋은 재료를 ...</td>\n",
       "      <td>서울시 서초구 효령로 72길 57</td>\n",
       "      <td>https://d2wosiipoa41qn.cloudfront.net/UDoFsmm2...</td>\n",
       "    </tr>\n",
       "    <tr>\n",
       "      <th>4</th>\n",
       "      <td>올드타운로드 하우스블랜드</td>\n",
       "      <td>컨트리사이드</td>\n",
       "      <td>2020년 어느 외곽지역에서 컨트리사이드는 커피 관련 다양한 경험과 장점을 바탕으로...</td>\n",
       "      <td>경기도 고양시 덕양구 행당로 1 4층 401호</td>\n",
       "      <td>https://d2wosiipoa41qn.cloudfront.net/juSlADg5...</td>\n",
       "    </tr>\n",
       "  </tbody>\n",
       "</table>\n",
       "</div>"
      ],
      "text/plain": [
       "            name      roastery  \\\n",
       "0            마르께       선빌리지 커피   \n",
       "1      아헨 Aachen  크레센도 커피 로스터스   \n",
       "2            진양조         스탠딩커피   \n",
       "3      클래식 에스프레소  리플렉트 커피 로스터스   \n",
       "4  올드타운로드 하우스블랜드        컨트리사이드   \n",
       "\n",
       "                                                info  \\\n",
       "0  'Fresh Roasted Coffee Company' 선빌리지커피는 신선한 뉴크롭...   \n",
       "1  Life is perfect with a cup of coffee and some ...   \n",
       "2  근사한 커피한잔을 위해서는 훌륭한 생두의 선별, 생두의 장점을 극대화한 로스팅, 원...   \n",
       "3  '우리를 커피에 비추다. 우리의 색과 진심을 커피에 반영하다'\\n품질 좋은 재료를 ...   \n",
       "4  2020년 어느 외곽지역에서 컨트리사이드는 커피 관련 다양한 경험과 장점을 바탕으로...   \n",
       "\n",
       "                         address  \\\n",
       "0           경북 경산시 와촌면 갓바위로 67-2   \n",
       "1  경기도 성남시 중원구 둔촌대로 400, 5층 511호   \n",
       "2       경기도 포천시 소흘읍 죽엽산로298번길 56   \n",
       "3             서울시 서초구 효령로 72길 57   \n",
       "4      경기도 고양시 덕양구 행당로 1 4층 401호   \n",
       "\n",
       "                                                 img  \n",
       "0  https://d2wosiipoa41qn.cloudfront.net/O-hzQT0A...  \n",
       "1  https://d2wosiipoa41qn.cloudfront.net/fPsdgknw...  \n",
       "2  https://d2wosiipoa41qn.cloudfront.net/9a6odqLa...  \n",
       "3  https://d2wosiipoa41qn.cloudfront.net/UDoFsmm2...  \n",
       "4  https://d2wosiipoa41qn.cloudfront.net/juSlADg5...  "
      ]
     },
     "execution_count": 79,
     "metadata": {},
     "output_type": "execute_result"
    }
   ],
   "source": [
    "df = pd.read_csv('roastery.csv').iloc[:,1:]\n",
    "df.head()"
   ]
  },
  {
   "cell_type": "code",
   "execution_count": 80,
   "metadata": {},
   "outputs": [
    {
     "data": {
      "text/html": [
       "<div>\n",
       "<style scoped>\n",
       "    .dataframe tbody tr th:only-of-type {\n",
       "        vertical-align: middle;\n",
       "    }\n",
       "\n",
       "    .dataframe tbody tr th {\n",
       "        vertical-align: top;\n",
       "    }\n",
       "\n",
       "    .dataframe thead th {\n",
       "        text-align: right;\n",
       "    }\n",
       "</style>\n",
       "<table border=\"1\" class=\"dataframe\">\n",
       "  <thead>\n",
       "    <tr style=\"text-align: right;\">\n",
       "      <th></th>\n",
       "      <th>roastery</th>\n",
       "      <th>img</th>\n",
       "    </tr>\n",
       "  </thead>\n",
       "  <tbody>\n",
       "    <tr>\n",
       "      <th>0</th>\n",
       "      <td>선빌리지 커피</td>\n",
       "      <td>https://d2wosiipoa41qn.cloudfront.net/O-hzQT0A...</td>\n",
       "    </tr>\n",
       "    <tr>\n",
       "      <th>1</th>\n",
       "      <td>크레센도 커피 로스터스</td>\n",
       "      <td>https://d2wosiipoa41qn.cloudfront.net/fPsdgknw...</td>\n",
       "    </tr>\n",
       "    <tr>\n",
       "      <th>2</th>\n",
       "      <td>스탠딩커피</td>\n",
       "      <td>https://d2wosiipoa41qn.cloudfront.net/9a6odqLa...</td>\n",
       "    </tr>\n",
       "    <tr>\n",
       "      <th>3</th>\n",
       "      <td>리플렉트 커피 로스터스</td>\n",
       "      <td>https://d2wosiipoa41qn.cloudfront.net/UDoFsmm2...</td>\n",
       "    </tr>\n",
       "    <tr>\n",
       "      <th>4</th>\n",
       "      <td>컨트리사이드</td>\n",
       "      <td>https://d2wosiipoa41qn.cloudfront.net/juSlADg5...</td>\n",
       "    </tr>\n",
       "  </tbody>\n",
       "</table>\n",
       "</div>"
      ],
      "text/plain": [
       "       roastery                                                img\n",
       "0       선빌리지 커피  https://d2wosiipoa41qn.cloudfront.net/O-hzQT0A...\n",
       "1  크레센도 커피 로스터스  https://d2wosiipoa41qn.cloudfront.net/fPsdgknw...\n",
       "2         스탠딩커피  https://d2wosiipoa41qn.cloudfront.net/9a6odqLa...\n",
       "3  리플렉트 커피 로스터스  https://d2wosiipoa41qn.cloudfront.net/UDoFsmm2...\n",
       "4        컨트리사이드  https://d2wosiipoa41qn.cloudfront.net/juSlADg5..."
      ]
     },
     "execution_count": 80,
     "metadata": {},
     "output_type": "execute_result"
    }
   ],
   "source": [
    "filtered_df = df.drop_duplicates(subset='roastery', keep='first').loc[:,['roastery','img']].reset_index().iloc[:,1:]\n",
    "filtered_df.head()"
   ]
  },
  {
   "cell_type": "code",
   "execution_count": null,
   "metadata": {},
   "outputs": [],
   "source": [
    "import requests\n",
    "\n",
    "for i in range(len(filtered_df)):\n",
    "    roastery = filtered_df.loc[i,'roastery']\n",
    "    img_url = filtered_df.loc[i,'img']\n",
    "    \n",
    "    response = requests.get(img_url)\n",
    "    \n",
    "    if response.status_code == 200:\n",
    "        with open('roastery_img/'+str(roastery)+'.jpg', 'wb') as file:\n",
    "            file.write(response.content)\n",
    "            print(i,'번째 ',roastery, \" Image downloaded successfully.\")\n",
    "    else:\n",
    "        print(roastery, f\" Failed to download the image. Status code: {response.status_code}\")\n"
   ]
  },
  {
   "cell_type": "markdown",
   "metadata": {},
   "source": [
    "## 정보 추가 (원두 추가)"
   ]
  },
  {
   "cell_type": "code",
   "execution_count": 3,
   "metadata": {},
   "outputs": [
    {
     "data": {
      "text/html": [
       "<div>\n",
       "<style scoped>\n",
       "    .dataframe tbody tr th:only-of-type {\n",
       "        vertical-align: middle;\n",
       "    }\n",
       "\n",
       "    .dataframe tbody tr th {\n",
       "        vertical-align: top;\n",
       "    }\n",
       "\n",
       "    .dataframe thead th {\n",
       "        text-align: right;\n",
       "    }\n",
       "</style>\n",
       "<table border=\"1\" class=\"dataframe\">\n",
       "  <thead>\n",
       "    <tr style=\"text-align: right;\">\n",
       "      <th></th>\n",
       "      <th>name</th>\n",
       "      <th>roastery</th>\n",
       "      <th>info</th>\n",
       "      <th>address</th>\n",
       "      <th>img</th>\n",
       "    </tr>\n",
       "  </thead>\n",
       "  <tbody>\n",
       "    <tr>\n",
       "      <th>0</th>\n",
       "      <td>마르께</td>\n",
       "      <td>선빌리지 커피</td>\n",
       "      <td>'Fresh Roasted Coffee Company' 선빌리지커피는 신선한 뉴크롭...</td>\n",
       "      <td>경북 경산시 와촌면 갓바위로 67-2</td>\n",
       "      <td>https://d2wosiipoa41qn.cloudfront.net/O-hzQT0A...</td>\n",
       "    </tr>\n",
       "    <tr>\n",
       "      <th>1</th>\n",
       "      <td>아헨 Aachen</td>\n",
       "      <td>크레센도 커피 로스터스</td>\n",
       "      <td>Life is perfect with a cup of coffee and some ...</td>\n",
       "      <td>경기도 성남시 중원구 둔촌대로 400, 5층 511호</td>\n",
       "      <td>https://d2wosiipoa41qn.cloudfront.net/fPsdgknw...</td>\n",
       "    </tr>\n",
       "    <tr>\n",
       "      <th>2</th>\n",
       "      <td>진양조</td>\n",
       "      <td>스탠딩커피</td>\n",
       "      <td>근사한 커피한잔을 위해서는 훌륭한 생두의 선별, 생두의 장점을 극대화한 로스팅, 원...</td>\n",
       "      <td>경기도 포천시 소흘읍 죽엽산로298번길 56</td>\n",
       "      <td>https://d2wosiipoa41qn.cloudfront.net/9a6odqLa...</td>\n",
       "    </tr>\n",
       "    <tr>\n",
       "      <th>3</th>\n",
       "      <td>클래식 에스프레소</td>\n",
       "      <td>리플렉트 커피 로스터스</td>\n",
       "      <td>'우리를 커피에 비추다. 우리의 색과 진심을 커피에 반영하다'\\r\\n품질 좋은 재료...</td>\n",
       "      <td>서울시 서초구 효령로 72길 57</td>\n",
       "      <td>https://d2wosiipoa41qn.cloudfront.net/UDoFsmm2...</td>\n",
       "    </tr>\n",
       "    <tr>\n",
       "      <th>4</th>\n",
       "      <td>올드타운로드 하우스블랜드</td>\n",
       "      <td>컨트리사이드</td>\n",
       "      <td>2020년 어느 외곽지역에서 컨트리사이드는 커피 관련 다양한 경험과 장점을 바탕으로...</td>\n",
       "      <td>경기도 고양시 덕양구 행당로 1 4층 401호</td>\n",
       "      <td>https://d2wosiipoa41qn.cloudfront.net/juSlADg5...</td>\n",
       "    </tr>\n",
       "  </tbody>\n",
       "</table>\n",
       "</div>"
      ],
      "text/plain": [
       "            name      roastery  \\\n",
       "0            마르께       선빌리지 커피   \n",
       "1      아헨 Aachen  크레센도 커피 로스터스   \n",
       "2            진양조         스탠딩커피   \n",
       "3      클래식 에스프레소  리플렉트 커피 로스터스   \n",
       "4  올드타운로드 하우스블랜드        컨트리사이드   \n",
       "\n",
       "                                                info  \\\n",
       "0  'Fresh Roasted Coffee Company' 선빌리지커피는 신선한 뉴크롭...   \n",
       "1  Life is perfect with a cup of coffee and some ...   \n",
       "2  근사한 커피한잔을 위해서는 훌륭한 생두의 선별, 생두의 장점을 극대화한 로스팅, 원...   \n",
       "3  '우리를 커피에 비추다. 우리의 색과 진심을 커피에 반영하다'\\r\\n품질 좋은 재료...   \n",
       "4  2020년 어느 외곽지역에서 컨트리사이드는 커피 관련 다양한 경험과 장점을 바탕으로...   \n",
       "\n",
       "                         address  \\\n",
       "0           경북 경산시 와촌면 갓바위로 67-2   \n",
       "1  경기도 성남시 중원구 둔촌대로 400, 5층 511호   \n",
       "2       경기도 포천시 소흘읍 죽엽산로298번길 56   \n",
       "3             서울시 서초구 효령로 72길 57   \n",
       "4      경기도 고양시 덕양구 행당로 1 4층 401호   \n",
       "\n",
       "                                                 img  \n",
       "0  https://d2wosiipoa41qn.cloudfront.net/O-hzQT0A...  \n",
       "1  https://d2wosiipoa41qn.cloudfront.net/fPsdgknw...  \n",
       "2  https://d2wosiipoa41qn.cloudfront.net/9a6odqLa...  \n",
       "3  https://d2wosiipoa41qn.cloudfront.net/UDoFsmm2...  \n",
       "4  https://d2wosiipoa41qn.cloudfront.net/juSlADg5...  "
      ]
     },
     "execution_count": 3,
     "metadata": {},
     "output_type": "execute_result"
    }
   ],
   "source": [
    "df = pd.read_csv('roastery.csv').iloc[:,1:]\n",
    "df.head()"
   ]
  },
  {
   "cell_type": "code",
   "execution_count": 7,
   "metadata": {},
   "outputs": [
    {
     "data": {
      "text/plain": [
       "True"
      ]
     },
     "execution_count": 7,
     "metadata": {},
     "output_type": "execute_result"
    }
   ],
   "source": [
    "'와이칸 다크' in list(df.name)"
   ]
  },
  {
   "cell_type": "code",
   "execution_count": null,
   "metadata": {},
   "outputs": [],
   "source": []
  },
  {
   "cell_type": "code",
   "execution_count": null,
   "metadata": {},
   "outputs": [],
   "source": []
  },
  {
   "cell_type": "code",
   "execution_count": null,
   "metadata": {},
   "outputs": [],
   "source": []
  },
  {
   "cell_type": "code",
   "execution_count": null,
   "metadata": {},
   "outputs": [],
   "source": []
  }
 ],
 "metadata": {
  "kernelspec": {
   "display_name": "base",
   "language": "python",
   "name": "python3"
  },
  "language_info": {
   "codemirror_mode": {
    "name": "ipython",
    "version": 3
   },
   "file_extension": ".py",
   "mimetype": "text/x-python",
   "name": "python",
   "nbconvert_exporter": "python",
   "pygments_lexer": "ipython3",
   "version": "3.10.4"
  }
 },
 "nbformat": 4,
 "nbformat_minor": 2
}
