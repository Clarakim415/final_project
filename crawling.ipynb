{
 "cells": [
  {
   "cell_type": "code",
   "execution_count": 3,
   "metadata": {},
   "outputs": [],
   "source": [
    "from selenium import webdriver\n",
    "from selenium.webdriver.chrome.service import Service\n",
    "from selenium.webdriver.chrome.options import Options\n",
    "from selenium.webdriver.chrome.service import Service as ChromeService\n",
    "from webdriver_manager.chrome import ChromeDriverManager\n",
    "from selenium.webdriver.common.by import By\n",
    "import pandas as pd\n",
    "import warnings\n",
    "import time\n",
    "warnings.filterwarnings(action='ignore')"
   ]
  },
  {
   "cell_type": "code",
   "execution_count": 9,
   "metadata": {},
   "outputs": [],
   "source": [
    "# 드라이버 불러오기\n",
    "driver = webdriver.Chrome(service=ChromeService(ChromeDriverManager().install()))"
   ]
  },
  {
   "cell_type": "code",
   "execution_count": 10,
   "metadata": {},
   "outputs": [],
   "source": [
    "# 메인 페이지\n",
    "url = 'https://biz.koke.kr/products?filters=%7B%22categoryGroup%22%3A%22WholeBean%22%7D'\n",
    "driver.get(url) # go to website\n",
    "time.sleep(1)"
   ]
  },
  {
   "cell_type": "code",
   "execution_count": 14,
   "metadata": {},
   "outputs": [
    {
     "name": "stdout",
     "output_type": "stream",
     "text": [
      "페이지:  0  링크 수: 18  총 링크 수: 18\n",
      "2\n",
      "페이지:  1  링크 수: 18  총 링크 수: 36\n",
      "2\n",
      "페이지:  2  링크 수: 18  총 링크 수: 54\n",
      "3\n",
      "페이지:  3  링크 수: 18  총 링크 수: 72\n",
      "3\n",
      "페이지:  4  링크 수: 18  총 링크 수: 90\n",
      "3\n",
      "페이지:  5  링크 수: 18  총 링크 수: 108\n",
      "3\n",
      "페이지:  6  링크 수: 18  총 링크 수: 126\n",
      "3\n",
      "페이지:  7  링크 수: 18  총 링크 수: 144\n",
      "3\n",
      "페이지:  8  링크 수: 18  총 링크 수: 162\n",
      "3\n",
      "페이지:  9  링크 수: 18  총 링크 수: 180\n",
      "3\n",
      "페이지:  10  링크 수: 18  총 링크 수: 198\n",
      "3\n",
      "페이지:  11  링크 수: 18  총 링크 수: 216\n",
      "3\n",
      "페이지:  12  링크 수: 18  총 링크 수: 234\n",
      "3\n",
      "페이지:  13  링크 수: 18  총 링크 수: 252\n",
      "3\n",
      "페이지:  14  링크 수: 18  총 링크 수: 270\n",
      "3\n",
      "페이지:  15  링크 수: 18  총 링크 수: 288\n",
      "3\n",
      "페이지:  16  링크 수: 18  총 링크 수: 306\n",
      "3\n",
      "페이지:  17  링크 수: 18  총 링크 수: 324\n",
      "3\n",
      "페이지:  18  링크 수: 18  총 링크 수: 342\n",
      "3\n",
      "페이지:  19  링크 수: 18  총 링크 수: 360\n",
      "3\n",
      "페이지:  20  링크 수: 18  총 링크 수: 378\n",
      "3\n",
      "페이지:  21  링크 수: 18  총 링크 수: 396\n",
      "3\n",
      "페이지:  22  링크 수: 18  총 링크 수: 414\n",
      "3\n",
      "페이지:  23  링크 수: 18  총 링크 수: 432\n",
      "3\n",
      "페이지:  24  링크 수: 18  총 링크 수: 450\n",
      "3\n",
      "페이지:  25  링크 수: 18  총 링크 수: 468\n",
      "3\n",
      "페이지:  26  링크 수: 18  총 링크 수: 486\n",
      "3\n",
      "페이지:  27  링크 수: 18  총 링크 수: 504\n",
      "3\n",
      "페이지:  28  링크 수: 18  총 링크 수: 522\n",
      "3\n",
      "페이지:  29  링크 수: 18  총 링크 수: 540\n",
      "3\n",
      "페이지:  30  링크 수: 16  총 링크 수: 556\n",
      "556 556\n"
     ]
    }
   ],
   "source": [
    "links = [] # 제품 링크 리스트\n",
    "\n",
    "# 약 4분 30초 소요\n",
    "for i in range(31):\n",
    "    raw = driver.find_elements(By.CSS_SELECTOR,\"div.flex.flex-col.w-full.lg\\:w-3\\/4\")\n",
    "    link_elements = raw[0].find_elements(By.TAG_NAME,'a') \n",
    "    href_links = [link.get_attribute('href') for link in link_elements]\n",
    "    links = links + href_links # 현재 페이지에 있는 상품 가져오기\n",
    "    time.sleep(3)\n",
    "\n",
    "    if i is not 30:\n",
    "        button = driver.find_elements(By.CSS_SELECTOR ,\"button.text-gray-500.bg-white.border.border-gray-200.koke-button\")\n",
    "        button[-1].click()\n",
    "        time.sleep(5)\n",
    "\n",
    "links = set(links)\n",
    "print(len(links)) # 총 556개\n"
   ]
  },
  {
   "cell_type": "code",
   "execution_count": 63,
   "metadata": {},
   "outputs": [],
   "source": [
    "def get_roastery(url):\n",
    "    # 제품 사이트로 이동\n",
    "    driver.get(url)\n",
    "    time.sleep(3)\n",
    "    # 정보 블록\n",
    "    raw = driver.find_element(By.CSS_SELECTOR,\"div.md\\:pt-\\[4rem\\]\")\n",
    "    \n",
    "    # 원두 이름\n",
    "    bean_name = driver.find_element(By.CSS_SELECTOR,\"div.flex.flex-col\").find_element(By.TAG_NAME,'h1').text\n",
    "    # 로스터리 이름\n",
    "    roastery = raw.find_element(By.TAG_NAME,'h2').text\n",
    "    # 소개글\n",
    "    temp = raw.find_element(By.CSS_SELECTOR,\"div.w-full.md\\:w-168.md\\:koke-word-keep-all\")\n",
    "    introduction = temp.find_element(By.TAG_NAME,'p').text\n",
    "    # 주소\n",
    "    address = temp.find_elements(By.TAG_NAME,'li')[-1].find_element(By.TAG_NAME,'p').text\n",
    "    # 이미지\n",
    "    img = raw.find_elements(By.TAG_NAME,'img')[-1].get_attribute('src')\n",
    "    \n",
    "    return [bean_name,roastery,introduction,address,img]\n"
   ]
  },
  {
   "cell_type": "code",
   "execution_count": 69,
   "metadata": {},
   "outputs": [
    {
     "ename": "NoSuchElementException",
     "evalue": "Message: no such element: Unable to locate element: {\"method\":\"css selector\",\"selector\":\"div.md\\:pt-\\[4rem\\]\"}\n  (Session info: chrome=118.0.5993.70); For documentation on this error, please visit: https://www.selenium.dev/documentation/webdriver/troubleshooting/errors#no-such-element-exception\nStacktrace:\n\tGetHandleVerifier [0x01214DE3+43907]\n\t(No symbol) [0x011A0741]\n\t(No symbol) [0x010933ED]\n\t(No symbol) [0x010C6760]\n\t(No symbol) [0x010C6C2B]\n\t(No symbol) [0x010F6F62]\n\t(No symbol) [0x010E2BA4]\n\t(No symbol) [0x010F55CA]\n\t(No symbol) [0x010E2956]\n\t(No symbol) [0x010BE17E]\n\t(No symbol) [0x010BF32D]\n\tGetHandleVerifier [0x014C5AF9+2865305]\n\tGetHandleVerifier [0x0150E78B+3163435]\n\tGetHandleVerifier [0x01508441+3138017]\n\tGetHandleVerifier [0x0129E0F0+605840]\n\t(No symbol) [0x011AA64C]\n\t(No symbol) [0x011A6638]\n\t(No symbol) [0x011A675F]\n\t(No symbol) [0x01198DB7]\n\tBaseThreadInitThunk [0x76037BA9+25]\n\tRtlInitializeExceptionChain [0x7700BD3B+107]\n\tRtlClearBits [0x7700BCBF+191]\n",
     "output_type": "error",
     "traceback": [
      "\u001b[1;31m---------------------------------------------------------------------------\u001b[0m",
      "\u001b[1;31mNoSuchElementException\u001b[0m                    Traceback (most recent call last)",
      "\u001b[1;32mc:\\python\\project\\final_project\\project\\crawling.ipynb Cell 6\u001b[0m line \u001b[0;36m3\n\u001b[0;32m      <a href='vscode-notebook-cell:/c%3A/python/project/final_project/project/crawling.ipynb#X26sZmlsZQ%3D%3D?line=0'>1</a>\u001b[0m temp_list \u001b[39m=\u001b[39m []\n\u001b[0;32m      <a href='vscode-notebook-cell:/c%3A/python/project/final_project/project/crawling.ipynb#X26sZmlsZQ%3D%3D?line=1'>2</a>\u001b[0m \u001b[39mfor\u001b[39;00m link \u001b[39min\u001b[39;00m links:\n\u001b[1;32m----> <a href='vscode-notebook-cell:/c%3A/python/project/final_project/project/crawling.ipynb#X26sZmlsZQ%3D%3D?line=2'>3</a>\u001b[0m     temp \u001b[39m=\u001b[39m get_roastery(link)\n\u001b[0;32m      <a href='vscode-notebook-cell:/c%3A/python/project/final_project/project/crawling.ipynb#X26sZmlsZQ%3D%3D?line=3'>4</a>\u001b[0m     temp_list\u001b[39m.\u001b[39mappend(temp)\n\u001b[0;32m      <a href='vscode-notebook-cell:/c%3A/python/project/final_project/project/crawling.ipynb#X26sZmlsZQ%3D%3D?line=4'>5</a>\u001b[0m \u001b[39mprint\u001b[39m(temp_list)\n",
      "\u001b[1;32mc:\\python\\project\\final_project\\project\\crawling.ipynb Cell 6\u001b[0m line \u001b[0;36m6\n\u001b[0;32m      <a href='vscode-notebook-cell:/c%3A/python/project/final_project/project/crawling.ipynb#X26sZmlsZQ%3D%3D?line=3'>4</a>\u001b[0m time\u001b[39m.\u001b[39msleep(\u001b[39m3\u001b[39m)\n\u001b[0;32m      <a href='vscode-notebook-cell:/c%3A/python/project/final_project/project/crawling.ipynb#X26sZmlsZQ%3D%3D?line=4'>5</a>\u001b[0m \u001b[39m# 정보 블록\u001b[39;00m\n\u001b[1;32m----> <a href='vscode-notebook-cell:/c%3A/python/project/final_project/project/crawling.ipynb#X26sZmlsZQ%3D%3D?line=5'>6</a>\u001b[0m raw \u001b[39m=\u001b[39m driver\u001b[39m.\u001b[39;49mfind_element(By\u001b[39m.\u001b[39;49mCSS_SELECTOR,\u001b[39m\"\u001b[39;49m\u001b[39mdiv.md\u001b[39;49m\u001b[39m\\\u001b[39;49m\u001b[39m:pt-\u001b[39;49m\u001b[39m\\\u001b[39;49m\u001b[39m[4rem\u001b[39;49m\u001b[39m\\\u001b[39;49m\u001b[39m]\u001b[39;49m\u001b[39m\"\u001b[39;49m)\n\u001b[0;32m      <a href='vscode-notebook-cell:/c%3A/python/project/final_project/project/crawling.ipynb#X26sZmlsZQ%3D%3D?line=7'>8</a>\u001b[0m \u001b[39m# 원두 이름\u001b[39;00m\n\u001b[0;32m      <a href='vscode-notebook-cell:/c%3A/python/project/final_project/project/crawling.ipynb#X26sZmlsZQ%3D%3D?line=8'>9</a>\u001b[0m bean_name \u001b[39m=\u001b[39m driver\u001b[39m.\u001b[39mfind_element(By\u001b[39m.\u001b[39mCSS_SELECTOR,\u001b[39m\"\u001b[39m\u001b[39mdiv.flex.flex-col\u001b[39m\u001b[39m\"\u001b[39m)\u001b[39m.\u001b[39mfind_element(By\u001b[39m.\u001b[39mTAG_NAME,\u001b[39m'\u001b[39m\u001b[39mh1\u001b[39m\u001b[39m'\u001b[39m)\u001b[39m.\u001b[39mtext\n",
      "File \u001b[1;32mc:\\python\\project\\final_project\\fpvenv\\lib\\site-packages\\selenium\\webdriver\\remote\\webdriver.py:738\u001b[0m, in \u001b[0;36mWebDriver.find_element\u001b[1;34m(self, by, value)\u001b[0m\n\u001b[0;32m    735\u001b[0m     by \u001b[39m=\u001b[39m By\u001b[39m.\u001b[39mCSS_SELECTOR\n\u001b[0;32m    736\u001b[0m     value \u001b[39m=\u001b[39m \u001b[39mf\u001b[39m\u001b[39m'\u001b[39m\u001b[39m[name=\u001b[39m\u001b[39m\"\u001b[39m\u001b[39m{\u001b[39;00mvalue\u001b[39m}\u001b[39;00m\u001b[39m\"\u001b[39m\u001b[39m]\u001b[39m\u001b[39m'\u001b[39m\n\u001b[1;32m--> 738\u001b[0m \u001b[39mreturn\u001b[39;00m \u001b[39mself\u001b[39;49m\u001b[39m.\u001b[39;49mexecute(Command\u001b[39m.\u001b[39;49mFIND_ELEMENT, {\u001b[39m\"\u001b[39;49m\u001b[39musing\u001b[39;49m\u001b[39m\"\u001b[39;49m: by, \u001b[39m\"\u001b[39;49m\u001b[39mvalue\u001b[39;49m\u001b[39m\"\u001b[39;49m: value})[\u001b[39m\"\u001b[39m\u001b[39mvalue\u001b[39m\u001b[39m\"\u001b[39m]\n",
      "File \u001b[1;32mc:\\python\\project\\final_project\\fpvenv\\lib\\site-packages\\selenium\\webdriver\\remote\\webdriver.py:344\u001b[0m, in \u001b[0;36mWebDriver.execute\u001b[1;34m(self, driver_command, params)\u001b[0m\n\u001b[0;32m    342\u001b[0m response \u001b[39m=\u001b[39m \u001b[39mself\u001b[39m\u001b[39m.\u001b[39mcommand_executor\u001b[39m.\u001b[39mexecute(driver_command, params)\n\u001b[0;32m    343\u001b[0m \u001b[39mif\u001b[39;00m response:\n\u001b[1;32m--> 344\u001b[0m     \u001b[39mself\u001b[39;49m\u001b[39m.\u001b[39;49merror_handler\u001b[39m.\u001b[39;49mcheck_response(response)\n\u001b[0;32m    345\u001b[0m     response[\u001b[39m\"\u001b[39m\u001b[39mvalue\u001b[39m\u001b[39m\"\u001b[39m] \u001b[39m=\u001b[39m \u001b[39mself\u001b[39m\u001b[39m.\u001b[39m_unwrap_value(response\u001b[39m.\u001b[39mget(\u001b[39m\"\u001b[39m\u001b[39mvalue\u001b[39m\u001b[39m\"\u001b[39m, \u001b[39mNone\u001b[39;00m))\n\u001b[0;32m    346\u001b[0m     \u001b[39mreturn\u001b[39;00m response\n",
      "File \u001b[1;32mc:\\python\\project\\final_project\\fpvenv\\lib\\site-packages\\selenium\\webdriver\\remote\\errorhandler.py:229\u001b[0m, in \u001b[0;36mErrorHandler.check_response\u001b[1;34m(self, response)\u001b[0m\n\u001b[0;32m    227\u001b[0m         alert_text \u001b[39m=\u001b[39m value[\u001b[39m\"\u001b[39m\u001b[39malert\u001b[39m\u001b[39m\"\u001b[39m]\u001b[39m.\u001b[39mget(\u001b[39m\"\u001b[39m\u001b[39mtext\u001b[39m\u001b[39m\"\u001b[39m)\n\u001b[0;32m    228\u001b[0m     \u001b[39mraise\u001b[39;00m exception_class(message, screen, stacktrace, alert_text)  \u001b[39m# type: ignore[call-arg]  # mypy is not smart enough here\u001b[39;00m\n\u001b[1;32m--> 229\u001b[0m \u001b[39mraise\u001b[39;00m exception_class(message, screen, stacktrace)\n",
      "\u001b[1;31mNoSuchElementException\u001b[0m: Message: no such element: Unable to locate element: {\"method\":\"css selector\",\"selector\":\"div.md\\:pt-\\[4rem\\]\"}\n  (Session info: chrome=118.0.5993.70); For documentation on this error, please visit: https://www.selenium.dev/documentation/webdriver/troubleshooting/errors#no-such-element-exception\nStacktrace:\n\tGetHandleVerifier [0x01214DE3+43907]\n\t(No symbol) [0x011A0741]\n\t(No symbol) [0x010933ED]\n\t(No symbol) [0x010C6760]\n\t(No symbol) [0x010C6C2B]\n\t(No symbol) [0x010F6F62]\n\t(No symbol) [0x010E2BA4]\n\t(No symbol) [0x010F55CA]\n\t(No symbol) [0x010E2956]\n\t(No symbol) [0x010BE17E]\n\t(No symbol) [0x010BF32D]\n\tGetHandleVerifier [0x014C5AF9+2865305]\n\tGetHandleVerifier [0x0150E78B+3163435]\n\tGetHandleVerifier [0x01508441+3138017]\n\tGetHandleVerifier [0x0129E0F0+605840]\n\t(No symbol) [0x011AA64C]\n\t(No symbol) [0x011A6638]\n\t(No symbol) [0x011A675F]\n\t(No symbol) [0x01198DB7]\n\tBaseThreadInitThunk [0x76037BA9+25]\n\tRtlInitializeExceptionChain [0x7700BD3B+107]\n\tRtlClearBits [0x7700BCBF+191]\n"
     ]
    }
   ],
   "source": [
    "temp_list = []\n",
    "for link in links:\n",
    "    temp = get_roastery(link)\n",
    "    temp_list.append(temp)"
   ]
  },
  {
   "cell_type": "code",
   "execution_count": 76,
   "metadata": {},
   "outputs": [
    {
     "data": {
      "text/html": [
       "<div>\n",
       "<style scoped>\n",
       "    .dataframe tbody tr th:only-of-type {\n",
       "        vertical-align: middle;\n",
       "    }\n",
       "\n",
       "    .dataframe tbody tr th {\n",
       "        vertical-align: top;\n",
       "    }\n",
       "\n",
       "    .dataframe thead th {\n",
       "        text-align: right;\n",
       "    }\n",
       "</style>\n",
       "<table border=\"1\" class=\"dataframe\">\n",
       "  <thead>\n",
       "    <tr style=\"text-align: right;\">\n",
       "      <th></th>\n",
       "      <th>name</th>\n",
       "      <th>roastery</th>\n",
       "      <th>info</th>\n",
       "      <th>address</th>\n",
       "      <th>img</th>\n",
       "    </tr>\n",
       "  </thead>\n",
       "  <tbody>\n",
       "    <tr>\n",
       "      <th>551</th>\n",
       "      <td>파푸아뉴기니 AA 쿠아 블루마운틴 풀리워시드</td>\n",
       "      <td>커스프 커피</td>\n",
       "      <td>커스프는 스텀프타운에서 시작한 20년 경력의 대표 로스터 JAY가 창업한 뉴욕 브루...</td>\n",
       "      <td>서울시 강남구 학동로31길 12 7F</td>\n",
       "      <td>https://d2wosiipoa41qn.cloudfront.net/UxPzmLPG...</td>\n",
       "    </tr>\n",
       "    <tr>\n",
       "      <th>552</th>\n",
       "      <td>케냐 뚱구리 피베리</td>\n",
       "      <td>180커피로스터스</td>\n",
       "      <td>180커피로스터스는 180도 생각의 전환이라는 뜻을 가지고 있습니다.\\n우리는 단순...</td>\n",
       "      <td>경기 성남시 분당구 문정로144번길 4</td>\n",
       "      <td>https://d2wosiipoa41qn.cloudfront.net/j5QPmenj...</td>\n",
       "    </tr>\n",
       "    <tr>\n",
       "      <th>553</th>\n",
       "      <td>디카페인 스프링 블렌드</td>\n",
       "      <td>커스프 커피</td>\n",
       "      <td>커스프는 스텀프타운에서 시작한 20년 경력의 대표 로스터 JAY가 창업한 뉴욕 브루...</td>\n",
       "      <td>서울시 강남구 학동로31길 12 7F</td>\n",
       "      <td>https://d2wosiipoa41qn.cloudfront.net/UxPzmLPG...</td>\n",
       "    </tr>\n",
       "    <tr>\n",
       "      <th>554</th>\n",
       "      <td>브라질 핀할 카티구아</td>\n",
       "      <td>180커피로스터스</td>\n",
       "      <td>180커피로스터스는 180도 생각의 전환이라는 뜻을 가지고 있습니다.\\n우리는 단순...</td>\n",
       "      <td>경기 성남시 분당구 문정로144번길 4</td>\n",
       "      <td>https://d2wosiipoa41qn.cloudfront.net/j5QPmenj...</td>\n",
       "    </tr>\n",
       "    <tr>\n",
       "      <th>555</th>\n",
       "      <td>콜롬비아 수프리모 후일라 산 비센테 라 플라타</td>\n",
       "      <td>커스프 커피</td>\n",
       "      <td>커스프는 스텀프타운에서 시작한 20년 경력의 대표 로스터 JAY가 창업한 뉴욕 브루...</td>\n",
       "      <td>서울시 강남구 학동로31길 12 7F</td>\n",
       "      <td>https://d2wosiipoa41qn.cloudfront.net/UxPzmLPG...</td>\n",
       "    </tr>\n",
       "  </tbody>\n",
       "</table>\n",
       "</div>"
      ],
      "text/plain": [
       "                          name   roastery  \\\n",
       "551   파푸아뉴기니 AA 쿠아 블루마운틴 풀리워시드     커스프 커피   \n",
       "552                 케냐 뚱구리 피베리  180커피로스터스   \n",
       "553               디카페인 스프링 블렌드     커스프 커피   \n",
       "554                브라질 핀할 카티구아  180커피로스터스   \n",
       "555  콜롬비아 수프리모 후일라 산 비센테 라 플라타     커스프 커피   \n",
       "\n",
       "                                                  info                address  \\\n",
       "551  커스프는 스텀프타운에서 시작한 20년 경력의 대표 로스터 JAY가 창업한 뉴욕 브루...   서울시 강남구 학동로31길 12 7F   \n",
       "552  180커피로스터스는 180도 생각의 전환이라는 뜻을 가지고 있습니다.\\n우리는 단순...  경기 성남시 분당구 문정로144번길 4   \n",
       "553  커스프는 스텀프타운에서 시작한 20년 경력의 대표 로스터 JAY가 창업한 뉴욕 브루...   서울시 강남구 학동로31길 12 7F   \n",
       "554  180커피로스터스는 180도 생각의 전환이라는 뜻을 가지고 있습니다.\\n우리는 단순...  경기 성남시 분당구 문정로144번길 4   \n",
       "555  커스프는 스텀프타운에서 시작한 20년 경력의 대표 로스터 JAY가 창업한 뉴욕 브루...   서울시 강남구 학동로31길 12 7F   \n",
       "\n",
       "                                                   img  \n",
       "551  https://d2wosiipoa41qn.cloudfront.net/UxPzmLPG...  \n",
       "552  https://d2wosiipoa41qn.cloudfront.net/j5QPmenj...  \n",
       "553  https://d2wosiipoa41qn.cloudfront.net/UxPzmLPG...  \n",
       "554  https://d2wosiipoa41qn.cloudfront.net/j5QPmenj...  \n",
       "555  https://d2wosiipoa41qn.cloudfront.net/UxPzmLPG...  "
      ]
     },
     "execution_count": 76,
     "metadata": {},
     "output_type": "execute_result"
    }
   ],
   "source": [
    "df = pd.DataFrame(temp_list,\n",
    "                  columns=['name','roastery','info','address','img'])\n",
    "df.tail()"
   ]
  },
  {
   "cell_type": "code",
   "execution_count": 78,
   "metadata": {},
   "outputs": [],
   "source": [
    "# df.to_csv('roastery.csv')"
   ]
  },
  {
   "cell_type": "code",
   "execution_count": null,
   "metadata": {},
   "outputs": [],
   "source": []
  }
 ],
 "metadata": {
  "kernelspec": {
   "display_name": "base",
   "language": "python",
   "name": "python3"
  },
  "language_info": {
   "codemirror_mode": {
    "name": "ipython",
    "version": 3
   },
   "file_extension": ".py",
   "mimetype": "text/x-python",
   "name": "python",
   "nbconvert_exporter": "python",
   "pygments_lexer": "ipython3",
   "version": "3.10.4"
  }
 },
 "nbformat": 4,
 "nbformat_minor": 2
}
