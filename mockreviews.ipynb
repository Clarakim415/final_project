{
 "cells": [
  {
   "cell_type": "code",
   "execution_count": 1,
   "metadata": {},
   "outputs": [],
   "source": [
    "mock = {'email': 'hwhj1214@naver.com', '137': '5', '292': '4', '1063': '3', '1341': '5', '3013': '3', '3029': '5', '3041': '3', '3935': '2', '4333': '1', '4736': '5'}"
   ]
  },
  {
   "cell_type": "markdown",
   "metadata": {},
   "source": [
    "test_Reviews.objects.create(\n",
    "               blog = blog,\n",
    "               name = data.name\n",
    "               email = data.email\n",
    "               text = data.text\n",
    "               date = timezone.now()\n",
    "           )\n",
    "\n",
    "CoffeeID = models.ForeignKey(Coffee, on_delete=models.CASCADE)\n",
    "######## 사용자 입력값 ########\n",
    "email = models.EmailField(max_length=40)  # 이메일\n",
    "Caffeine = models.CharField(max_length=1)  # 디카페인/카페인\n",
    "CoffeeType = models.TextField()  # 타입\n",
    "CupNoteCategories = models.PositiveSmallIntegerField()  # 선호 컵 노트 카테고리\n",
    "Body = models.CharField(max_length=1)  # 바디감\n",
    "Sourness = models.CharField(max_length=1)  # 신맛\n",
    "Sweetness = models.CharField(max_length=1)  # 단맛\n",
    "Bitterness = models.CharField(max_length=1)  # 쓴맛\n",
    "Stars = models.CharField(max_length=1, default=0) # 별점. 1~5점. 0점은 아직 리뷰를 남기지 않은 커피\n",
    "\n",
    "created_date = models.DateTimeField()"
   ]
  },
  {
   "cell_type": "code",
   "execution_count": null,
   "metadata": {},
   "outputs": [],
   "source": [
    "# test_Reviews.objects.create(\n",
    "#                email = email\n",
    "#                coffee_id = \n",
    "#                stars = \n",
    "#                created_date = timezone.now()\n",
    "#            )"
   ]
  },
  {
   "cell_type": "code",
   "execution_count": 15,
   "metadata": {},
   "outputs": [],
   "source": [
    "score = dict(list(mock.items())[-10:])\n",
    "keys = list(score.keys())\n",
    "values = list(score.values())"
   ]
  },
  {
   "cell_type": "code",
   "execution_count": 17,
   "metadata": {},
   "outputs": [
    {
     "data": {
      "text/plain": [
       "{'137': '5',\n",
       " '292': '4',\n",
       " '1063': '3',\n",
       " '1341': '5',\n",
       " '3013': '3',\n",
       " '3029': '5',\n",
       " '3041': '3',\n",
       " '3935': '2',\n",
       " '4333': '1',\n",
       " '4736': '5'}"
      ]
     },
     "execution_count": 17,
     "metadata": {},
     "output_type": "execute_result"
    }
   ],
   "source": [
    "score"
   ]
  },
  {
   "cell_type": "code",
   "execution_count": 16,
   "metadata": {},
   "outputs": [
    {
     "name": "stdout",
     "output_type": "stream",
     "text": [
      "['137', '292', '1063', '1341', '3013', '3029', '3041', '3935', '4333', '4736']\n",
      "['5', '4', '3', '5', '3', '5', '3', '2', '1', '5']\n"
     ]
    }
   ],
   "source": [
    "print(keys)\n",
    "print(values)"
   ]
  },
  {
   "cell_type": "code",
   "execution_count": 13,
   "metadata": {},
   "outputs": [
    {
     "data": {
      "text/plain": [
       "'hwhj1214@naver.com'"
      ]
     },
     "execution_count": 13,
     "metadata": {},
     "output_type": "execute_result"
    }
   ],
   "source": [
    "mock['email']"
   ]
  },
  {
   "cell_type": "code",
   "execution_count": 19,
   "metadata": {},
   "outputs": [
    {
     "data": {
      "text/plain": [
       "137"
      ]
     },
     "execution_count": 19,
     "metadata": {},
     "output_type": "execute_result"
    }
   ],
   "source": [
    "int(keys[0])"
   ]
  },
  {
   "cell_type": "code",
   "execution_count": 20,
   "metadata": {},
   "outputs": [
    {
     "data": {
      "text/plain": [
       "'5'"
      ]
     },
     "execution_count": 20,
     "metadata": {},
     "output_type": "execute_result"
    }
   ],
   "source": [
    "values[0]"
   ]
  },
  {
   "cell_type": "code",
   "execution_count": null,
   "metadata": {},
   "outputs": [],
   "source": []
  }
 ],
 "metadata": {
  "kernelspec": {
   "display_name": "coffee",
   "language": "python",
   "name": "python3"
  },
  "language_info": {
   "codemirror_mode": {
    "name": "ipython",
    "version": 3
   },
   "file_extension": ".py",
   "mimetype": "text/x-python",
   "name": "python",
   "nbconvert_exporter": "python",
   "pygments_lexer": "ipython3",
   "version": "3.10.4"
  }
 },
 "nbformat": 4,
 "nbformat_minor": 2
}
