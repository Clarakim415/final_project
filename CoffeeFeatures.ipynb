{
 "cells": [
  {
   "cell_type": "markdown",
   "metadata": {},
   "source": [
    "### 커피 특징\n",
    "* !원두 이름!\n",
    "    - 타입 (string)\n",
    "    - 로스팅 포인트 (string)\n",
    "    - 지속가능성 (string)\n",
    "    - 컵 노트 (list of strings)\n",
    "    - 바디감\n",
    "    - 신맛\n",
    "    - 단맛\n",
    "    - 쓴맛"
   ]
  },
  {
   "cell_type": "code",
   "execution_count": 1,
   "metadata": {},
   "outputs": [],
   "source": [
    "# package import\n",
    "import pandas as pd\n",
    "\n",
    "from bs4 import BeautifulSoup\n",
    "from selenium import webdriver\n",
    "from selenium.webdriver.chrome.service import Service\n",
    "from selenium.webdriver.common.by import By\n",
    "from selenium.webdriver.chrome.options import Options\n",
    "\n",
    "import re\n",
    "import time\n",
    "# from tqdm import tqdm_notebook\n",
    "from tqdm import tqdm\n",
    "\n",
    "import pickle\n",
    "import itertools"
   ]
  },
  {
   "cell_type": "code",
   "execution_count": 46,
   "metadata": {},
   "outputs": [],
   "source": [
    "# # example dictionary into df\n",
    "# dict = {'원두1':{'타입':'블랜드', '로스팅 포인트':'다크', '지속가능성':'-', '컵노트':['구운 아몬드', '밀크 초콜릿'], '바디감':4, '신맛':2, '단맛':4, '쓴맛':3}}\n",
    "# # df = pd.DataFrame.from_dict(dict)\n",
    "# # df.T\n",
    "\n",
    "# # dict 추가\n",
    "# dict['원두1']['테스트'] = '테스트'\n",
    "### dict {'name':'원두1', ...}"
   ]
  },
  {
   "cell_type": "code",
   "execution_count": 112,
   "metadata": {},
   "outputs": [],
   "source": [
    "service = Service(path= './driver/chromedriver.exe')\n",
    "driver = webdriver.Chrome(service=service)"
   ]
  },
  {
   "cell_type": "code",
   "execution_count": 113,
   "metadata": {},
   "outputs": [],
   "source": [
    "# 메인 페이지\n",
    "url = 'https://biz.koke.kr/products?filters=%7B%22categoryGroup%22%3A%22WholeBean%22%7D'\n",
    "driver.get(url) # go to website\n",
    "time.sleep(1)"
   ]
  },
  {
   "cell_type": "code",
   "execution_count": 114,
   "metadata": {},
   "outputs": [
    {
     "name": "stderr",
     "output_type": "stream",
     "text": [
      "<>:12: SyntaxWarning: \"is not\" with a literal. Did you mean \"!=\"?\n",
      "<>:12: SyntaxWarning: \"is not\" with a literal. Did you mean \"!=\"?\n",
      "C:\\Users\\Playdata\\AppData\\Local\\Temp\\ipykernel_1956\\2079587560.py:12: SyntaxWarning: \"is not\" with a literal. Did you mean \"!=\"?\n",
      "  if i is not 30:\n"
     ]
    },
    {
     "name": "stdout",
     "output_type": "stream",
     "text": [
      "페이지수 0 링크 수 18 총 링크 수 18\n",
      "2\n",
      "페이지수 1 링크 수 18 총 링크 수 36\n",
      "2\n",
      "페이지수 2 링크 수 18 총 링크 수 54\n",
      "3\n",
      "페이지수 3 링크 수 18 총 링크 수 72\n",
      "3\n",
      "페이지수 4 링크 수 18 총 링크 수 90\n",
      "3\n",
      "페이지수 5 링크 수 18 총 링크 수 108\n",
      "3\n",
      "페이지수 6 링크 수 18 총 링크 수 126\n",
      "3\n",
      "페이지수 7 링크 수 18 총 링크 수 144\n",
      "3\n",
      "페이지수 8 링크 수 18 총 링크 수 162\n",
      "3\n",
      "페이지수 9 링크 수 18 총 링크 수 180\n",
      "3\n",
      "페이지수 10 링크 수 18 총 링크 수 198\n",
      "3\n",
      "페이지수 11 링크 수 18 총 링크 수 216\n",
      "3\n",
      "페이지수 12 링크 수 18 총 링크 수 234\n",
      "3\n",
      "페이지수 13 링크 수 18 총 링크 수 252\n",
      "3\n",
      "페이지수 14 링크 수 18 총 링크 수 270\n",
      "3\n",
      "페이지수 15 링크 수 18 총 링크 수 288\n",
      "3\n",
      "페이지수 16 링크 수 18 총 링크 수 306\n",
      "3\n",
      "페이지수 17 링크 수 18 총 링크 수 324\n",
      "3\n",
      "페이지수 18 링크 수 18 총 링크 수 342\n",
      "3\n",
      "페이지수 19 링크 수 18 총 링크 수 360\n",
      "3\n",
      "페이지수 20 링크 수 18 총 링크 수 378\n",
      "3\n",
      "페이지수 21 링크 수 18 총 링크 수 396\n",
      "3\n",
      "페이지수 22 링크 수 18 총 링크 수 414\n",
      "3\n",
      "페이지수 23 링크 수 18 총 링크 수 432\n",
      "3\n",
      "페이지수 24 링크 수 18 총 링크 수 450\n",
      "3\n",
      "페이지수 25 링크 수 18 총 링크 수 468\n",
      "3\n",
      "페이지수 26 링크 수 18 총 링크 수 486\n",
      "3\n",
      "페이지수 27 링크 수 18 총 링크 수 504\n",
      "3\n",
      "페이지수 28 링크 수 18 총 링크 수 522\n",
      "3\n",
      "페이지수 29 링크 수 18 총 링크 수 540\n",
      "3\n",
      "페이지수 30 링크 수 16 총 링크 수 556\n",
      "556\n"
     ]
    }
   ],
   "source": [
    "links = [] # 제품 링크 리스트\n",
    "\n",
    "# 약 4분 30초 소요\n",
    "for i in range(31):\n",
    "    raw = driver.find_elements(By.CSS_SELECTOR,\"div.flex.flex-col.w-full.lg\\:w-3\\/4\")\n",
    "    link_elements = raw[0].find_elements(By.TAG_NAME,'a') \n",
    "    href_links = [link.get_attribute('href') for link in link_elements]\n",
    "    links = links + href_links # 현재 페이지에 있는 상품 가져오기\n",
    "    print('페이지수', i, '링크 수', len(href_links), '총 링크 수', len(links))\n",
    "    time.sleep(3)\n",
    "\n",
    "    if i is not 30:\n",
    "        button = driver.find_elements(By.CSS_SELECTOR ,\"button.text-gray-500.bg-white.border.border-gray-200.koke-button\")\n",
    "        print(len(button))\n",
    "        button[-1].click()\n",
    "        time.sleep(5)\n",
    "\n",
    "links = set(links)\n",
    "print(len(links)) # 총 556개\n",
    "\n",
    "driver.quit()"
   ]
  },
  {
   "cell_type": "code",
   "execution_count": 4,
   "metadata": {},
   "outputs": [
    {
     "ename": "NameError",
     "evalue": "name 'links' is not defined",
     "output_type": "error",
     "traceback": [
      "\u001b[1;31m---------------------------------------------------------------------------\u001b[0m",
      "\u001b[1;31mNameError\u001b[0m                                 Traceback (most recent call last)",
      "\u001b[1;32mc:\\Users\\Playdata\\Documents\\coffee_Proj\\CoffeeFeatures.ipynb 셀 7\u001b[0m line \u001b[0;36m3\n\u001b[0;32m      <a href='vscode-notebook-cell:/c%3A/Users/Playdata/Documents/coffee_Proj/CoffeeFeatures.ipynb#W6sZmlsZQ%3D%3D?line=0'>1</a>\u001b[0m \u001b[39m# Pickle dump the set of links to a file\u001b[39;00m\n\u001b[0;32m      <a href='vscode-notebook-cell:/c%3A/Users/Playdata/Documents/coffee_Proj/CoffeeFeatures.ipynb#W6sZmlsZQ%3D%3D?line=1'>2</a>\u001b[0m \u001b[39mwith\u001b[39;00m \u001b[39mopen\u001b[39m(\u001b[39m\"\u001b[39m\u001b[39mlinks.pkl\u001b[39m\u001b[39m\"\u001b[39m, \u001b[39m\"\u001b[39m\u001b[39mwb\u001b[39m\u001b[39m\"\u001b[39m) \u001b[39mas\u001b[39;00m file:\n\u001b[1;32m----> <a href='vscode-notebook-cell:/c%3A/Users/Playdata/Documents/coffee_Proj/CoffeeFeatures.ipynb#W6sZmlsZQ%3D%3D?line=2'>3</a>\u001b[0m     pickle\u001b[39m.\u001b[39mdump(links, file)\n",
      "\u001b[1;31mNameError\u001b[0m: name 'links' is not defined"
     ]
    }
   ],
   "source": [
    "# # Pickle dump the set of links to a file\n",
    "# with open(\"links.pkl\", \"wb\") as file:\n",
    "#     pickle.dump(links, file)"
   ]
  },
  {
   "cell_type": "code",
   "execution_count": 5,
   "metadata": {},
   "outputs": [],
   "source": [
    "# Load the set of links from the file\n",
    "with open(\"links.pkl\", \"rb\") as file:\n",
    "    loaded_links = pickle.load(file)\n",
    "\n",
    "# Print the loaded set of links\n",
    "# print(\"Loaded links:\", loaded_links)"
   ]
  },
  {
   "cell_type": "code",
   "execution_count": 6,
   "metadata": {},
   "outputs": [
    {
     "data": {
      "text/plain": [
       "556"
      ]
     },
     "execution_count": 6,
     "metadata": {},
     "output_type": "execute_result"
    }
   ],
   "source": [
    "len(loaded_links)"
   ]
  },
  {
   "cell_type": "markdown",
   "metadata": {},
   "source": [
    "***"
   ]
  },
  {
   "cell_type": "markdown",
   "metadata": {},
   "source": [
    "### 제품 페이지에서의 데이터 수집"
   ]
  },
  {
   "cell_type": "code",
   "execution_count": 2,
   "metadata": {},
   "outputs": [],
   "source": [
    "# class\n",
    "def level_data(html):\n",
    "    # Parse the HTML content\n",
    "    soup = BeautifulSoup(html, 'html.parser')\n",
    "\n",
    "    # Find all div elements without the 'bg-opacity-30' class\n",
    "    divs_without_opacity_30 = [div for div in soup.find_all('div', class_='bg-koke-green') if 'bg-opacity-30' not in div.get('class')]\n",
    "\n",
    "    # Total number of blocks\n",
    "    total_blocks = 5\n",
    "\n",
    "    # Initialize position (n) to None\n",
    "    position = None\n",
    "\n",
    "    # Check if there are any elements without the 'bg-opacity-30' class\n",
    "    if divs_without_opacity_30:\n",
    "        # Get the index of the first element (0-based) and add 1 to get the position (1-based)\n",
    "        position = divs_without_opacity_30[0].find_parent().find_all('div', class_='bg-koke-green').index(divs_without_opacity_30[0]) + 1\n",
    "\n",
    "    #print(f\"The element without 'bg-opacity-30' class is at position {position}/{total_blocks}\")\n",
    "    return position"
   ]
  },
  {
   "cell_type": "code",
   "execution_count": 3,
   "metadata": {},
   "outputs": [],
   "source": [
    "def other(driver):\n",
    "    type = ['블렌드', '싱글오리진', '디카페인']\n",
    "    roast = ['라이트', '라이트미디엄', '미디엄', '미디엄다크', '다크']\n",
    "    sustain = ['직접무역', '공정무역', '유기농']\n",
    "    tmp = {}\n",
    "    \n",
    "    elements = driver.find_elements(By.CSS_SELECTOR, 'li.lg\\:block')\n",
    "    \n",
    "    result = []\n",
    "    for i in range(len(elements)):\n",
    "        html = elements[i].get_attribute('innerHTML')\n",
    "        # Parse the HTML content\n",
    "        soup = BeautifulSoup(html, 'html.parser')\n",
    "    \n",
    "        if soup.find_all('svg', 'hidden'):\n",
    "            result.append(elements[i].text)\n",
    "    \n",
    "    for i in result:\n",
    "        if i in type:\n",
    "            tmp['type'] = i\n",
    "        elif i in roast:\n",
    "            tmp['roast'] = i\n",
    "        else: # i in sustain:\n",
    "            tmp['sustain'] = i\n",
    "    return tmp\n",
    "            "
   ]
  },
  {
   "cell_type": "code",
   "execution_count": 35,
   "metadata": {},
   "outputs": [],
   "source": [
    "# loaded_links\n",
    "# small_set = set(itertools.islice(loaded_links, 3))"
   ]
  },
  {
   "cell_type": "code",
   "execution_count": 82,
   "metadata": {},
   "outputs": [
    {
     "data": {
      "text/plain": [
       "556"
      ]
     },
     "execution_count": 82,
     "metadata": {},
     "output_type": "execute_result"
    }
   ],
   "source": [
    "len(loaded_links)"
   ]
  },
  {
   "cell_type": "code",
   "execution_count": 7,
   "metadata": {},
   "outputs": [],
   "source": [
    "links_list = list(loaded_links)"
   ]
  },
  {
   "cell_type": "code",
   "execution_count": 8,
   "metadata": {},
   "outputs": [
    {
     "data": {
      "text/plain": [
       "556"
      ]
     },
     "execution_count": 8,
     "metadata": {},
     "output_type": "execute_result"
    }
   ],
   "source": [
    "len(links_list)"
   ]
  },
  {
   "cell_type": "code",
   "execution_count": 15,
   "metadata": {},
   "outputs": [],
   "source": [
    "service = Service(path= './driver/chromedriver.exe')\n",
    "driver = webdriver.Chrome(service=service)"
   ]
  },
  {
   "cell_type": "code",
   "execution_count": 10,
   "metadata": {},
   "outputs": [
    {
     "name": "stderr",
     "output_type": "stream",
     "text": [
      "  0%|          | 0/556 [00:00<?, ?it/s]"
     ]
    },
    {
     "name": "stderr",
     "output_type": "stream",
     "text": [
      "100%|██████████| 556/556 [2:08:42<00:00, 13.89s/it]  \n"
     ]
    }
   ],
   "source": [
    "data = {}\n",
    "for link in tqdm(links_list):\n",
    "    name = {}\n",
    "    driver.get(link)\n",
    "    time.sleep(3)\n",
    "    \n",
    "    # name\n",
    "    raw = driver.find_elements(By.CSS_SELECTOR,\"div.flex.flex-col\")\n",
    "    coffee_name = raw[0].find_element(By.TAG_NAME,'h1').text\n",
    "    data[coffee_name] =  dict.fromkeys(['타입', '로스팅 포인트', '지속가능성', '컵 노트', '바디감', '신맛', '단맛', '쓴맛'])  # add coffee names as keys and empty dictionary as values\n",
    "    time.sleep(3)\n",
    "    \n",
    "    # add data\n",
    "    temp = driver.find_elements(By.CSS_SELECTOR,'div.flex.justify-between.w-full.h-2\\.5.overflow-hidden.rounded-full') # len(temp) = 4\n",
    "    keys = ['바디감', '신맛', '단맛', '쓴맛']\n",
    "    for i in range(4):\n",
    "        html = temp[i].get_attribute('innerHTML')\n",
    "        data[coffee_name][keys[i]] = level_data(html)\n",
    "    time.sleep(3)\n",
    "    \n",
    "    # others\n",
    "    tmp = other(driver)\n",
    "    for i in range(len(tmp)):\n",
    "        keys = list(tmp.keys())\n",
    "        if keys[i] == 'type':\n",
    "            data[coffee_name]['타입'] = tmp['type']\n",
    "        elif keys[i] == 'roast':\n",
    "            data[coffee_name]['로스팅 포인트'] = tmp['roast']\n",
    "        else:\n",
    "            data[coffee_name]['지속가능성'] = tmp['sustain']\n",
    "    time.sleep(3)\n",
    "            \n",
    "    # 컵 노트\n",
    "    try:\n",
    "        notes = driver.find_element(By.CSS_SELECTOR, 'li.tracking-wide.koke-word-keep-all')\n",
    "        data[coffee_name]['컵 노트'] = notes\n",
    "    except:\n",
    "      data[coffee_name]['컵 노트'] = '-'\n",
    "      \n",
    "    time.sleep(1)       \n",
    "    \n",
    "driver.quit()"
   ]
  },
  {
   "cell_type": "code",
   "execution_count": 11,
   "metadata": {},
   "outputs": [
    {
     "data": {
      "text/plain": [
       "537"
      ]
     },
     "execution_count": 11,
     "metadata": {},
     "output_type": "execute_result"
    }
   ],
   "source": [
    "len(data.keys())"
   ]
  },
  {
   "cell_type": "code",
   "execution_count": 12,
   "metadata": {},
   "outputs": [
    {
     "data": {
      "text/plain": [
       "'과테말라 디카페인'"
      ]
     },
     "execution_count": 12,
     "metadata": {},
     "output_type": "execute_result"
    }
   ],
   "source": [
    "list(data.keys())[0]"
   ]
  },
  {
   "cell_type": "code",
   "execution_count": 23,
   "metadata": {},
   "outputs": [
    {
     "data": {
      "text/plain": [
       "dict"
      ]
     },
     "execution_count": 23,
     "metadata": {},
     "output_type": "execute_result"
    }
   ],
   "source": [
    "type(data)"
   ]
  },
  {
   "cell_type": "code",
   "execution_count": 27,
   "metadata": {},
   "outputs": [],
   "source": [
    "df = pd.DataFrame.from_dict(data)\n",
    "newdf = df.T"
   ]
  },
  {
   "cell_type": "code",
   "execution_count": 28,
   "metadata": {},
   "outputs": [],
   "source": [
    "newdf.to_csv('data.csv')"
   ]
  },
  {
   "cell_type": "code",
   "execution_count": 16,
   "metadata": {},
   "outputs": [
    {
     "name": "stderr",
     "output_type": "stream",
     "text": [
      "100%|██████████| 556/556 [37:56<00:00,  4.09s/it]\n"
     ]
    }
   ],
   "source": [
    "names = {}\n",
    "for link in tqdm(links_list):\n",
    "    name = {}\n",
    "    driver.get(link)\n",
    "    time.sleep(3)\n",
    "    \n",
    "    # name\n",
    "    raw = driver.find_elements(By.CSS_SELECTOR,\"div.flex.flex-col\")\n",
    "    coffee_name = raw[0].find_element(By.TAG_NAME,'h1').text\n",
    "    names[coffee_name] =  dict.fromkeys(['타입', '로스팅 포인트', '지속가능성', '컵 노트', '바디감', '신맛', '단맛', '쓴맛'])  # add coffee names as keys and empty dictionary as values\n",
    "    time.sleep(0.5)"
   ]
  },
  {
   "cell_type": "code",
   "execution_count": 19,
   "metadata": {},
   "outputs": [],
   "source": [
    "name_ls = list(names.keys())"
   ]
  },
  {
   "cell_type": "code",
   "execution_count": 20,
   "metadata": {},
   "outputs": [
    {
     "data": {
      "text/plain": [
       "537"
      ]
     },
     "execution_count": 20,
     "metadata": {},
     "output_type": "execute_result"
    }
   ],
   "source": [
    "len(name_ls)"
   ]
  },
  {
   "cell_type": "code",
   "execution_count": null,
   "metadata": {},
   "outputs": [],
   "source": []
  }
 ],
 "metadata": {
  "kernelspec": {
   "display_name": "coffee",
   "language": "python",
   "name": "python3"
  },
  "language_info": {
   "codemirror_mode": {
    "name": "ipython",
    "version": 3
   },
   "file_extension": ".py",
   "mimetype": "text/x-python",
   "name": "python",
   "nbconvert_exporter": "python",
   "pygments_lexer": "ipython3",
   "version": "3.10.4"
  }
 },
 "nbformat": 4,
 "nbformat_minor": 2
}
