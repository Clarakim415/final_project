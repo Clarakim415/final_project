{
 "cells": [
  {
   "cell_type": "code",
   "execution_count": 21,
   "metadata": {},
   "outputs": [],
   "source": [
    "import pandas as pd\n",
    "import numpy as np\n",
    "from ast import literal_eval"
   ]
  },
  {
   "cell_type": "markdown",
   "metadata": {},
   "source": [
    "***\n",
    "Contents 기반 추천 해보기\n",
    "***"
   ]
  },
  {
   "cell_type": "code",
   "execution_count": 77,
   "metadata": {},
   "outputs": [],
   "source": [
    "df = pd.read_csv('wondoofin.csv')\n",
    "cat_df = pd.read_csv('category.csv')"
   ]
  },
  {
   "cell_type": "code",
   "execution_count": 78,
   "metadata": {},
   "outputs": [
    {
     "name": "stdout",
     "output_type": "stream",
     "text": [
      "<class 'pandas.core.frame.DataFrame'>\n",
      "RangeIndex: 559 entries, 0 to 558\n",
      "Data columns (total 26 columns):\n",
      " #   Column             Non-Null Count  Dtype \n",
      "---  ------             --------------  ----- \n",
      " 0   id                 559 non-null    int64 \n",
      " 1   이름                 559 non-null    object\n",
      " 2   로스터리               559 non-null    object\n",
      " 3   타입                 559 non-null    object\n",
      " 4   로스팅 포인트            559 non-null    object\n",
      " 5   지속가능성              113 non-null    object\n",
      " 6   컵 노트               559 non-null    object\n",
      " 7   바디감                559 non-null    int64 \n",
      " 8   신맛                 559 non-null    int64 \n",
      " 9   단맛                 559 non-null    int64 \n",
      " 10  쓴맛                 559 non-null    int64 \n",
      " 11  커피 소개              559 non-null    object\n",
      " 12  나라                 543 non-null    object\n",
      " 13  로스터리 소개            559 non-null    object\n",
      " 14  로스터리 주소            550 non-null    object\n",
      " 15  이름.1               559 non-null    object\n",
      " 16  식품의 유형             554 non-null    object\n",
      " 17  제조원 및 소재지          557 non-null    object\n",
      " 18  유통기한               557 non-null    object\n",
      " 19  제조일자               559 non-null    object\n",
      " 20  내용량                559 non-null    object\n",
      " 21  보관 방법              545 non-null    object\n",
      " 22  원재료 및 함량           559 non-null    object\n",
      " 23  제품문의 관련 주소 및 전화번호  559 non-null    object\n",
      " 24  카페인                559 non-null    int64 \n",
      " 25  로스터리ID             559 non-null    int64 \n",
      "dtypes: int64(7), object(19)\n",
      "memory usage: 113.7+ KB\n"
     ]
    }
   ],
   "source": [
    "df.info()"
   ]
  },
  {
   "cell_type": "code",
   "execution_count": 91,
   "metadata": {},
   "outputs": [
    {
     "data": {
      "text/plain": [
       "Index(['id', '이름', '로스터리', '타입', '로스팅 포인트', '지속가능성', '컵 노트', '바디감', '신맛', '단맛',\n",
       "       '쓴맛', '커피 소개', '나라', '로스터리 소개', '로스터리 주소', '이름.1', '식품의 유형',\n",
       "       '제조원 및 소재지', '유통기한', '제조일자', '내용량', '보관 방법', '원재료 및 함량',\n",
       "       '제품문의 관련 주소 및 전화번호', '카페인', '로스터리ID'],\n",
       "      dtype='object')"
      ]
     },
     "execution_count": 91,
     "metadata": {},
     "output_type": "execute_result"
    }
   ],
   "source": [
    "df.columns"
   ]
  },
  {
   "cell_type": "markdown",
   "metadata": {},
   "source": [
    "***\n",
    "null 값 처리\n",
    "- 지속가능성 : 113\n",
    "- 나라 : 543\n",
    "- 로스터리 주소 : 550\n",
    "- 식품의 유형 : 554\n",
    "- 제조원 및 소재지 : 557/559\n",
    "- 유통기한 : 557\n",
    "- 보관 방법 : 545\n",
    "***"
   ]
  },
  {
   "cell_type": "code",
   "execution_count": 79,
   "metadata": {},
   "outputs": [
    {
     "data": {
      "text/plain": [
       "['토피', '맥아', '흑설탕']"
      ]
     },
     "execution_count": 79,
     "metadata": {},
     "output_type": "execute_result"
    }
   ],
   "source": [
    "# 리스트 처리\n",
    "df['컵 노트'] = df['컵 노트'].apply(literal_eval)\n",
    "df['컵 노트'][0]"
   ]
  },
  {
   "cell_type": "markdown",
   "metadata": {},
   "source": [
    "***"
   ]
  },
  {
   "cell_type": "code",
   "execution_count": 80,
   "metadata": {},
   "outputs": [
    {
     "data": {
      "text/plain": [
       "0         0\n",
       "1         0\n",
       "2       유기농\n",
       "3      공정무역\n",
       "4         0\n",
       "       ... \n",
       "554       0\n",
       "555       0\n",
       "556       0\n",
       "557       0\n",
       "558       0\n",
       "Name: 지속가능성, Length: 559, dtype: object"
      ]
     },
     "execution_count": 80,
     "metadata": {},
     "output_type": "execute_result"
    }
   ],
   "source": [
    "#################################\n",
    "########## 지속 가능성 ##########\n",
    "#################################\n",
    "for i in range(len(df)):\n",
    "    if df['지속가능성'][i] is np.nan:\n",
    "        df.at[i, '지속가능성'] = 0\n",
    "        \n",
    "df['지속가능성']"
   ]
  },
  {
   "cell_type": "markdown",
   "metadata": {},
   "source": [
    "***"
   ]
  },
  {
   "cell_type": "code",
   "execution_count": 81,
   "metadata": {},
   "outputs": [
    {
     "data": {
      "text/plain": [
       "['브라질', '과테말라']"
      ]
     },
     "execution_count": 81,
     "metadata": {},
     "output_type": "execute_result"
    }
   ],
   "source": [
    "###########################\n",
    "########## 나라 ##########\n",
    "###########################\n",
    "df['나라'] = df['나라'].str.split(', ')\n",
    "df['나라'][0]"
   ]
  },
  {
   "cell_type": "code",
   "execution_count": 82,
   "metadata": {},
   "outputs": [
    {
     "data": {
      "text/plain": [
       "0           [브라질, 과테말라]\n",
       "1                 [세라도]\n",
       "2                 [아리차]\n",
       "3             [브라질, 인도]\n",
       "4              [리무 볼레소]\n",
       "             ...       \n",
       "554                   0\n",
       "555       [에티오피아, 콜롬비아]\n",
       "556         [브라질, 콜롬비아]\n",
       "557               [파젠다]\n",
       "558    [과테말라, 콜롬비아, 인도]\n",
       "Name: 나라, Length: 559, dtype: object"
      ]
     },
     "execution_count": 82,
     "metadata": {},
     "output_type": "execute_result"
    }
   ],
   "source": [
    "for i in range(len(df)):\n",
    "    if df['나라'][i] is np.nan:\n",
    "        df.at[i, '나라'] = 0\n",
    "        \n",
    "df['나라']"
   ]
  },
  {
   "cell_type": "markdown",
   "metadata": {},
   "source": [
    "***"
   ]
  },
  {
   "cell_type": "code",
   "execution_count": 83,
   "metadata": {},
   "outputs": [
    {
     "name": "stdout",
     "output_type": "stream",
     "text": [
      "[4701, 4692, 4613, 4614, 4695, 4694, 4612, 4611, 4693]\n"
     ]
    }
   ],
   "source": [
    "print(df.loc[df['로스터리 주소'].isna(), 'id'].tolist())"
   ]
  },
  {
   "cell_type": "code",
   "execution_count": 84,
   "metadata": {},
   "outputs": [],
   "source": [
    "df.loc[df['로스터리 주소'].isna(), '로스터리 주소'] = 0"
   ]
  },
  {
   "cell_type": "code",
   "execution_count": 87,
   "metadata": {},
   "outputs": [
    {
     "name": "stdout",
     "output_type": "stream",
     "text": [
      "[274, 272]\n"
     ]
    }
   ],
   "source": [
    "print(df.loc[df['제조원 및 소재지'].isna(), 'id'].tolist())"
   ]
  },
  {
   "cell_type": "code",
   "execution_count": 93,
   "metadata": {},
   "outputs": [
    {
     "name": "stdout",
     "output_type": "stream",
     "text": [
      "로스터리 :  17    커피네츄럴스페셜티\n",
      "Name: 로스터리, dtype: object\n",
      "로스토리 주소 :  17    0\n",
      "Name: 로스터리 주소, dtype: object\n",
      "제조원 :  17    경기도 고양시 덕양구 행신동 741-17 1층\n",
      "Name: 제조원 및 소재지, dtype: object\n"
     ]
    }
   ],
   "source": [
    "print('로스터리 : ', df.loc[df['id'] == 4701, '로스터리'])\n",
    "print('로스토리 주소 : ', df.loc[df['id'] == 4701, '로스터리 주소'])\n",
    "print('제조원 : ', df.loc[df['id'] == 4701, '제조원 및 소재지'])"
   ]
  },
  {
   "cell_type": "code",
   "execution_count": null,
   "metadata": {},
   "outputs": [],
   "source": []
  }
 ],
 "metadata": {
  "kernelspec": {
   "display_name": "coffee",
   "language": "python",
   "name": "python3"
  },
  "language_info": {
   "codemirror_mode": {
    "name": "ipython",
    "version": 3
   },
   "file_extension": ".py",
   "mimetype": "text/x-python",
   "name": "python",
   "nbconvert_exporter": "python",
   "pygments_lexer": "ipython3",
   "version": "3.10.4"
  }
 },
 "nbformat": 4,
 "nbformat_minor": 2
}
