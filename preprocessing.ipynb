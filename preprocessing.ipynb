{
 "cells": [
  {
   "cell_type": "code",
   "execution_count": 2,
   "metadata": {},
   "outputs": [],
   "source": [
    "import pandas as pd\n",
    "import numpy as np\n",
    "from ast import literal_eval"
   ]
  },
  {
   "cell_type": "code",
   "execution_count": 53,
   "metadata": {},
   "outputs": [],
   "source": [
    "df = pd.read_csv('wondoofin.csv')\n",
    "cat_df = pd.read_csv('category.csv')"
   ]
  },
  {
   "cell_type": "code",
   "execution_count": 54,
   "metadata": {},
   "outputs": [
    {
     "name": "stdout",
     "output_type": "stream",
     "text": [
      "<class 'pandas.core.frame.DataFrame'>\n",
      "RangeIndex: 559 entries, 0 to 558\n",
      "Data columns (total 26 columns):\n",
      " #   Column             Non-Null Count  Dtype \n",
      "---  ------             --------------  ----- \n",
      " 0   id                 559 non-null    int64 \n",
      " 1   이름                 559 non-null    object\n",
      " 2   로스터리               559 non-null    object\n",
      " 3   타입                 559 non-null    object\n",
      " 4   로스팅 포인트            559 non-null    object\n",
      " 5   지속가능성              113 non-null    object\n",
      " 6   컵 노트               559 non-null    object\n",
      " 7   바디감                559 non-null    int64 \n",
      " 8   신맛                 559 non-null    int64 \n",
      " 9   단맛                 559 non-null    int64 \n",
      " 10  쓴맛                 559 non-null    int64 \n",
      " 11  커피 소개              559 non-null    object\n",
      " 12  나라                 543 non-null    object\n",
      " 13  로스터리 소개            559 non-null    object\n",
      " 14  로스터리 주소            550 non-null    object\n",
      " 15  이름.1               559 non-null    object\n",
      " 16  식품의 유형             554 non-null    object\n",
      " 17  제조원 및 소재지          557 non-null    object\n",
      " 18  유통기한               557 non-null    object\n",
      " 19  제조일자               559 non-null    object\n",
      " 20  내용량                559 non-null    object\n",
      " 21  보관 방법              545 non-null    object\n",
      " 22  원재료 및 함량           559 non-null    object\n",
      " 23  제품문의 관련 주소 및 전화번호  559 non-null    object\n",
      " 24  카페인                559 non-null    int64 \n",
      " 25  로스터리ID             559 non-null    int64 \n",
      "dtypes: int64(7), object(19)\n",
      "memory usage: 113.7+ KB\n"
     ]
    }
   ],
   "source": [
    "df.info()"
   ]
  },
  {
   "cell_type": "code",
   "execution_count": 55,
   "metadata": {},
   "outputs": [
    {
     "data": {
      "text/plain": [
       "Index(['id', '이름', '로스터리', '타입', '로스팅 포인트', '지속가능성', '컵 노트', '바디감', '신맛', '단맛',\n",
       "       '쓴맛', '커피 소개', '나라', '로스터리 소개', '로스터리 주소', '이름.1', '식품의 유형',\n",
       "       '제조원 및 소재지', '유통기한', '제조일자', '내용량', '보관 방법', '원재료 및 함량',\n",
       "       '제품문의 관련 주소 및 전화번호', '카페인', '로스터리ID'],\n",
       "      dtype='object')"
      ]
     },
     "execution_count": 55,
     "metadata": {},
     "output_type": "execute_result"
    }
   ],
   "source": [
    "df.columns"
   ]
  },
  {
   "cell_type": "code",
   "execution_count": 56,
   "metadata": {},
   "outputs": [
    {
     "data": {
      "text/plain": [
       "(559, 26)"
      ]
     },
     "execution_count": 56,
     "metadata": {},
     "output_type": "execute_result"
    }
   ],
   "source": [
    "df.shape"
   ]
  },
  {
   "cell_type": "markdown",
   "metadata": {},
   "source": [
    "***\n",
    "null 값 처리\n",
    "- 지속가능성 : 113\n",
    "- 나라 : 543\n",
    "***\n",
    "- 로스터리 주소 : 550\n",
    "- 제조원 및 소재지 : 557/559\n",
    "- 유통기한 : 557\n",
    "- 보관 방법 : 545\n",
    "- 식품의 유형 : 554\n",
    "***"
   ]
  },
  {
   "cell_type": "code",
   "execution_count": 57,
   "metadata": {},
   "outputs": [
    {
     "data": {
      "text/plain": [
       "['토피', '맥아', '흑설탕']"
      ]
     },
     "execution_count": 57,
     "metadata": {},
     "output_type": "execute_result"
    }
   ],
   "source": [
    "# 리스트 처리\n",
    "df['컵 노트'] = df['컵 노트'].apply(literal_eval)\n",
    "df['컵 노트'][0]"
   ]
  },
  {
   "cell_type": "markdown",
   "metadata": {},
   "source": [
    "***"
   ]
  },
  {
   "cell_type": "code",
   "execution_count": 58,
   "metadata": {},
   "outputs": [
    {
     "data": {
      "text/plain": [
       "0         0\n",
       "1         0\n",
       "2       유기농\n",
       "3      공정무역\n",
       "4         0\n",
       "       ... \n",
       "554       0\n",
       "555       0\n",
       "556       0\n",
       "557       0\n",
       "558       0\n",
       "Name: 지속가능성, Length: 559, dtype: object"
      ]
     },
     "execution_count": 58,
     "metadata": {},
     "output_type": "execute_result"
    }
   ],
   "source": [
    "#################################\n",
    "########## 지속 가능성 ##########\n",
    "#################################\n",
    "for i in range(len(df)):\n",
    "    if df['지속가능성'][i] is np.nan:\n",
    "        df.at[i, '지속가능성'] = 0\n",
    "        \n",
    "df['지속가능성']"
   ]
  },
  {
   "cell_type": "code",
   "execution_count": null,
   "metadata": {},
   "outputs": [],
   "source": [
    "df['나라'] = df['나라'].str.split(', ')\n",
    "df['나라'][0]"
   ]
  },
  {
   "cell_type": "code",
   "execution_count": null,
   "metadata": {},
   "outputs": [],
   "source": [
    "\n",
    "for i in range(len(df)):\n",
    "    if df['나라'][i] is np.nan:\n",
    "        df.at[i, '나라'] = 0\n",
    "        \n",
    "df['나라']"
   ]
  },
  {
   "cell_type": "markdown",
   "metadata": {},
   "source": [
    "***\n",
    "추천과는 상관없는 칼럼들\n",
    "1. 주소\n",
    "***"
   ]
  },
  {
   "cell_type": "code",
   "execution_count": 61,
   "metadata": {},
   "outputs": [
    {
     "name": "stdout",
     "output_type": "stream",
     "text": [
      "[4701, 4692, 4613, 4614, 4695, 4694, 4612, 4611, 4693]\n"
     ]
    }
   ],
   "source": [
    "print(df.loc[df['로스터리 주소'].isna(), 'id'].tolist())"
   ]
  },
  {
   "cell_type": "code",
   "execution_count": 62,
   "metadata": {},
   "outputs": [
    {
     "name": "stdout",
     "output_type": "stream",
     "text": [
      "[274, 272]\n"
     ]
    }
   ],
   "source": [
    "print(df.loc[df['제조원 및 소재지'].isna(), 'id'].tolist())"
   ]
  },
  {
   "cell_type": "code",
   "execution_count": 63,
   "metadata": {},
   "outputs": [
    {
     "name": "stdout",
     "output_type": "stream",
     "text": [
      "로스터리 :  커피네츄럴스페셜티\n",
      "로스토리 주소 :  nan\n",
      "제조원 :  경기도 고양시 덕양구 행신동 741-17 1층\n"
     ]
    }
   ],
   "source": [
    "print('로스터리 : ', df.loc[df['id'] == 4701, '로스터리'].values[0])\n",
    "print('로스토리 주소 : ', df.loc[df['id'] == 4701, '로스터리 주소'].values[0])\n",
    "print('제조원 : ', df.loc[df['id'] == 4701, '제조원 및 소재지'].values[0])"
   ]
  },
  {
   "cell_type": "markdown",
   "metadata": {},
   "source": [
    "***\n",
    "df의 로스터리 null 정보 확인\n",
    "***"
   ]
  },
  {
   "cell_type": "code",
   "execution_count": 64,
   "metadata": {},
   "outputs": [],
   "source": [
    "# df.loc[df['로스터리 주소'].isna(), '로스터리 주소'] = 0\n",
    "# df.loc[df['제조원 및 소재지'].isna(), '제조원 및 소재지'] = 0\n",
    "df[['로스터리 주소', '제조원 및 소재지']] = df[['로스터리 주소', '제조원 및 소재지']].fillna(0)"
   ]
  },
  {
   "cell_type": "code",
   "execution_count": 65,
   "metadata": {},
   "outputs": [
    {
     "data": {
      "text/html": [
       "<div>\n",
       "<style scoped>\n",
       "    .dataframe tbody tr th:only-of-type {\n",
       "        vertical-align: middle;\n",
       "    }\n",
       "\n",
       "    .dataframe tbody tr th {\n",
       "        vertical-align: top;\n",
       "    }\n",
       "\n",
       "    .dataframe thead th {\n",
       "        text-align: right;\n",
       "    }\n",
       "</style>\n",
       "<table border=\"1\" class=\"dataframe\">\n",
       "  <thead>\n",
       "    <tr style=\"text-align: right;\">\n",
       "      <th></th>\n",
       "      <th>로스터리ID</th>\n",
       "      <th>로스터리</th>\n",
       "      <th>로스터리 주소</th>\n",
       "      <th>제조원 및 소재지</th>\n",
       "    </tr>\n",
       "  </thead>\n",
       "  <tbody>\n",
       "    <tr>\n",
       "      <th>0</th>\n",
       "      <td>57</td>\n",
       "      <td>언더프레셔</td>\n",
       "      <td>서울 강남구 영동대로106길 37 1층</td>\n",
       "      <td>(주)핸디엄, 경기도 여주시 세종대왕면 상동길 68</td>\n",
       "    </tr>\n",
       "    <tr>\n",
       "      <th>1</th>\n",
       "      <td>67</td>\n",
       "      <td>운조커피</td>\n",
       "      <td>경기도 화성시 동탄지성로 306번길 68</td>\n",
       "      <td>경기도 화성시 동탄지성로 306번길 68</td>\n",
       "    </tr>\n",
       "    <tr>\n",
       "      <th>2</th>\n",
       "      <td>77</td>\n",
       "      <td>제이엠디커피팩토리</td>\n",
       "      <td>경기 고양시 일산동구 장대길 75-53 나동 1층 JMD Coffee Factory</td>\n",
       "      <td>경기 고양시 일산동구 장대길 75-53 나동 1층 JMD Coffee Factory</td>\n",
       "    </tr>\n",
       "    <tr>\n",
       "      <th>3</th>\n",
       "      <td>11</td>\n",
       "      <td>뉴웨이브 커피로스터스</td>\n",
       "      <td>서울특별시 양천구 오목로56길 2,1층</td>\n",
       "      <td>뉴웨이브커피로스터스, 서울시 양천구 오목로 56길 2, 영원빌딩 103호</td>\n",
       "    </tr>\n",
       "    <tr>\n",
       "      <th>4</th>\n",
       "      <td>34</td>\n",
       "      <td>베르크 로스터스</td>\n",
       "      <td>부산 부산진구 전포동 356-6 지하1층</td>\n",
       "      <td>베르크로스터스, 부산광역시 사상구 학감대로222번길 83, 2층</td>\n",
       "    </tr>\n",
       "  </tbody>\n",
       "</table>\n",
       "</div>"
      ],
      "text/plain": [
       "   로스터리ID         로스터리                                         로스터리 주소  \\\n",
       "0      57        언더프레셔                           서울 강남구 영동대로106길 37 1층   \n",
       "1      67         운조커피                          경기도 화성시 동탄지성로 306번길 68   \n",
       "2      77    제이엠디커피팩토리  경기 고양시 일산동구 장대길 75-53 나동 1층 JMD Coffee Factory   \n",
       "3      11  뉴웨이브 커피로스터스                           서울특별시 양천구 오목로56길 2,1층   \n",
       "4      34     베르크 로스터스                          부산 부산진구 전포동 356-6 지하1층   \n",
       "\n",
       "                                        제조원 및 소재지  \n",
       "0                    (주)핸디엄, 경기도 여주시 세종대왕면 상동길 68  \n",
       "1                          경기도 화성시 동탄지성로 306번길 68  \n",
       "2  경기 고양시 일산동구 장대길 75-53 나동 1층 JMD Coffee Factory  \n",
       "3        뉴웨이브커피로스터스, 서울시 양천구 오목로 56길 2, 영원빌딩 103호  \n",
       "4             베르크로스터스, 부산광역시 사상구 학감대로222번길 83, 2층  "
      ]
     },
     "execution_count": 65,
     "metadata": {},
     "output_type": "execute_result"
    }
   ],
   "source": [
    "addrdf = df[['로스터리ID', '로스터리', '로스터리 주소', '제조원 및 소재지']]\n",
    "addrdf.head()"
   ]
  },
  {
   "cell_type": "code",
   "execution_count": 66,
   "metadata": {},
   "outputs": [
    {
     "data": {
      "text/html": [
       "<div>\n",
       "<style scoped>\n",
       "    .dataframe tbody tr th:only-of-type {\n",
       "        vertical-align: middle;\n",
       "    }\n",
       "\n",
       "    .dataframe tbody tr th {\n",
       "        vertical-align: top;\n",
       "    }\n",
       "\n",
       "    .dataframe thead th {\n",
       "        text-align: right;\n",
       "    }\n",
       "</style>\n",
       "<table border=\"1\" class=\"dataframe\">\n",
       "  <thead>\n",
       "    <tr style=\"text-align: right;\">\n",
       "      <th></th>\n",
       "      <th>로스터리ID</th>\n",
       "      <th>로스터리</th>\n",
       "      <th>로스터리 주소</th>\n",
       "      <th>제조원 및 소재지</th>\n",
       "    </tr>\n",
       "  </thead>\n",
       "  <tbody>\n",
       "    <tr>\n",
       "      <th>17</th>\n",
       "      <td>89</td>\n",
       "      <td>커피네츄럴스페셜티</td>\n",
       "      <td>0</td>\n",
       "      <td>경기도 고양시 덕양구 행신동 741-17 1층</td>\n",
       "    </tr>\n",
       "    <tr>\n",
       "      <th>59</th>\n",
       "      <td>89</td>\n",
       "      <td>커피네츄럴스페셜티</td>\n",
       "      <td>0</td>\n",
       "      <td>경기도 고양시 덕양구 행신동 741-17 1층</td>\n",
       "    </tr>\n",
       "    <tr>\n",
       "      <th>137</th>\n",
       "      <td>110</td>\n",
       "      <td>헤베커피</td>\n",
       "      <td>0</td>\n",
       "      <td>서울 중구 필동로 32 낙원빌딩 1층</td>\n",
       "    </tr>\n",
       "    <tr>\n",
       "      <th>240</th>\n",
       "      <td>110</td>\n",
       "      <td>헤베커피</td>\n",
       "      <td>0</td>\n",
       "      <td>서울 중구 필동로 32 낙원빌딩 1층</td>\n",
       "    </tr>\n",
       "    <tr>\n",
       "      <th>248</th>\n",
       "      <td>89</td>\n",
       "      <td>커피네츄럴스페셜티</td>\n",
       "      <td>0</td>\n",
       "      <td>경기도 고양시 덕양구 행신동 741-17 1층</td>\n",
       "    </tr>\n",
       "    <tr>\n",
       "      <th>322</th>\n",
       "      <td>89</td>\n",
       "      <td>커피네츄럴스페셜티</td>\n",
       "      <td>0</td>\n",
       "      <td>경기도 고양시 덕양구 행신동 741-17 1층</td>\n",
       "    </tr>\n",
       "    <tr>\n",
       "      <th>455</th>\n",
       "      <td>110</td>\n",
       "      <td>헤베커피</td>\n",
       "      <td>0</td>\n",
       "      <td>서울 중구 필동로 32 낙원빌딩 1층</td>\n",
       "    </tr>\n",
       "    <tr>\n",
       "      <th>521</th>\n",
       "      <td>110</td>\n",
       "      <td>헤베커피</td>\n",
       "      <td>0</td>\n",
       "      <td>서울 중구 필동로 32 낙원빌딩 1층</td>\n",
       "    </tr>\n",
       "    <tr>\n",
       "      <th>527</th>\n",
       "      <td>89</td>\n",
       "      <td>커피네츄럴스페셜티</td>\n",
       "      <td>0</td>\n",
       "      <td>경기도 고양시 덕양구 행신동741-17 1층</td>\n",
       "    </tr>\n",
       "  </tbody>\n",
       "</table>\n",
       "</div>"
      ],
      "text/plain": [
       "     로스터리ID       로스터리 로스터리 주소                  제조원 및 소재지\n",
       "17       89  커피네츄럴스페셜티       0  경기도 고양시 덕양구 행신동 741-17 1층\n",
       "59       89  커피네츄럴스페셜티       0  경기도 고양시 덕양구 행신동 741-17 1층\n",
       "137     110       헤베커피       0       서울 중구 필동로 32 낙원빌딩 1층\n",
       "240     110       헤베커피       0       서울 중구 필동로 32 낙원빌딩 1층\n",
       "248      89  커피네츄럴스페셜티       0  경기도 고양시 덕양구 행신동 741-17 1층\n",
       "322      89  커피네츄럴스페셜티       0  경기도 고양시 덕양구 행신동 741-17 1층\n",
       "455     110       헤베커피       0       서울 중구 필동로 32 낙원빌딩 1층\n",
       "521     110       헤베커피       0       서울 중구 필동로 32 낙원빌딩 1층\n",
       "527      89  커피네츄럴스페셜티       0   경기도 고양시 덕양구 행신동741-17 1층"
      ]
     },
     "execution_count": 66,
     "metadata": {},
     "output_type": "execute_result"
    }
   ],
   "source": [
    "result = addrdf[addrdf['로스터리 주소']==0]\n",
    "result"
   ]
  },
  {
   "cell_type": "code",
   "execution_count": 67,
   "metadata": {},
   "outputs": [
    {
     "data": {
      "text/html": [
       "<div>\n",
       "<style scoped>\n",
       "    .dataframe tbody tr th:only-of-type {\n",
       "        vertical-align: middle;\n",
       "    }\n",
       "\n",
       "    .dataframe tbody tr th {\n",
       "        vertical-align: top;\n",
       "    }\n",
       "\n",
       "    .dataframe thead th {\n",
       "        text-align: right;\n",
       "    }\n",
       "</style>\n",
       "<table border=\"1\" class=\"dataframe\">\n",
       "  <thead>\n",
       "    <tr style=\"text-align: right;\">\n",
       "      <th></th>\n",
       "      <th>로스터리ID</th>\n",
       "      <th>로스터리</th>\n",
       "      <th>로스터리 주소</th>\n",
       "      <th>제조원 및 소재지</th>\n",
       "    </tr>\n",
       "  </thead>\n",
       "  <tbody>\n",
       "    <tr>\n",
       "      <th>413</th>\n",
       "      <td>42</td>\n",
       "      <td>센터 커피</td>\n",
       "      <td>서울특별시 성동구 서울숲 2길 28-11</td>\n",
       "      <td>0</td>\n",
       "    </tr>\n",
       "    <tr>\n",
       "      <th>529</th>\n",
       "      <td>42</td>\n",
       "      <td>센터 커피</td>\n",
       "      <td>서울특별시 성동구 서울숲 2길 28-11</td>\n",
       "      <td>0</td>\n",
       "    </tr>\n",
       "  </tbody>\n",
       "</table>\n",
       "</div>"
      ],
      "text/plain": [
       "     로스터리ID   로스터리                 로스터리 주소 제조원 및 소재지\n",
       "413      42  센터 커피  서울특별시 성동구 서울숲 2길 28-11         0\n",
       "529      42  센터 커피  서울특별시 성동구 서울숲 2길 28-11         0"
      ]
     },
     "execution_count": 67,
     "metadata": {},
     "output_type": "execute_result"
    }
   ],
   "source": [
    "# result2 = addrdf[addrdf['제조원 및 소재지'].isna()]\n",
    "result2 = addrdf[addrdf['제조원 및 소재지']==0]\n",
    "result2"
   ]
  },
  {
   "cell_type": "code",
   "execution_count": 68,
   "metadata": {},
   "outputs": [
    {
     "data": {
      "text/html": [
       "<div>\n",
       "<style scoped>\n",
       "    .dataframe tbody tr th:only-of-type {\n",
       "        vertical-align: middle;\n",
       "    }\n",
       "\n",
       "    .dataframe tbody tr th {\n",
       "        vertical-align: top;\n",
       "    }\n",
       "\n",
       "    .dataframe thead th {\n",
       "        text-align: right;\n",
       "    }\n",
       "</style>\n",
       "<table border=\"1\" class=\"dataframe\">\n",
       "  <thead>\n",
       "    <tr style=\"text-align: right;\">\n",
       "      <th></th>\n",
       "      <th>로스터리ID</th>\n",
       "      <th>로스터리</th>\n",
       "      <th>로스터리 주소</th>\n",
       "      <th>제조원 및 소재지</th>\n",
       "    </tr>\n",
       "  </thead>\n",
       "  <tbody>\n",
       "    <tr>\n",
       "      <th>0</th>\n",
       "      <td>57</td>\n",
       "      <td>언더프레셔</td>\n",
       "      <td>서울 강남구 영동대로106길 37 1층</td>\n",
       "      <td>(주)핸디엄, 경기도 여주시 세종대왕면 상동길 68</td>\n",
       "    </tr>\n",
       "    <tr>\n",
       "      <th>3</th>\n",
       "      <td>11</td>\n",
       "      <td>뉴웨이브 커피로스터스</td>\n",
       "      <td>서울특별시 양천구 오목로56길 2,1층</td>\n",
       "      <td>뉴웨이브커피로스터스, 서울시 양천구 오목로 56길 2, 영원빌딩 103호</td>\n",
       "    </tr>\n",
       "    <tr>\n",
       "      <th>4</th>\n",
       "      <td>34</td>\n",
       "      <td>베르크 로스터스</td>\n",
       "      <td>부산 부산진구 전포동 356-6 지하1층</td>\n",
       "      <td>베르크로스터스, 부산광역시 사상구 학감대로222번길 83, 2층</td>\n",
       "    </tr>\n",
       "    <tr>\n",
       "      <th>6</th>\n",
       "      <td>18</td>\n",
       "      <td>라메르판지 비앤알</td>\n",
       "      <td>울산 북구 판지1길 30</td>\n",
       "      <td>라메르판지 비앤알 / 울산광역시 북구 판지1길 30 (지상2~3층 구유동)</td>\n",
       "    </tr>\n",
       "    <tr>\n",
       "      <th>7</th>\n",
       "      <td>98</td>\n",
       "      <td>토치커피</td>\n",
       "      <td>서울시 강남구 봉은사로 68길 41</td>\n",
       "      <td>서울시 강남구 봉은사로 68길 41, 1층</td>\n",
       "    </tr>\n",
       "    <tr>\n",
       "      <th>...</th>\n",
       "      <td>...</td>\n",
       "      <td>...</td>\n",
       "      <td>...</td>\n",
       "      <td>...</td>\n",
       "    </tr>\n",
       "    <tr>\n",
       "      <th>541</th>\n",
       "      <td>93</td>\n",
       "      <td>컨트리사이드</td>\n",
       "      <td>경기도 고양시 덕양구 행당로 1 4층 401호</td>\n",
       "      <td>경기도 고양시 덕양구 행당로1 4층 401호</td>\n",
       "    </tr>\n",
       "    <tr>\n",
       "      <th>543</th>\n",
       "      <td>48</td>\n",
       "      <td>식물학 커피로스터스</td>\n",
       "      <td>서울시 강남구 강남대로154길 33</td>\n",
       "      <td>식물학커피로스터스, 서울특별시 용산구 서빙고로67길 21 2층</td>\n",
       "    </tr>\n",
       "    <tr>\n",
       "      <th>544</th>\n",
       "      <td>49</td>\n",
       "      <td>싸인포스트커피</td>\n",
       "      <td>서울시 동작구 솔밭로 97-6</td>\n",
       "      <td>싸인포스트커피, 서울시 동작구 솔밭로 97-6</td>\n",
       "    </tr>\n",
       "    <tr>\n",
       "      <th>553</th>\n",
       "      <td>61</td>\n",
       "      <td>오드이븐</td>\n",
       "      <td>부산 중구 중구로29번길 7 1층 오드이븐</td>\n",
       "      <td>부산광역시 중구 중구로 29번길 7 오드이븐</td>\n",
       "    </tr>\n",
       "    <tr>\n",
       "      <th>558</th>\n",
       "      <td>36</td>\n",
       "      <td>보사노바 커피로스터스</td>\n",
       "      <td>강원 강릉시 창해로14번길 28</td>\n",
       "      <td>보사노바로스팅팩토리, 강원도 강릉시 경강로2660번길 7</td>\n",
       "    </tr>\n",
       "  </tbody>\n",
       "</table>\n",
       "<p>318 rows × 4 columns</p>\n",
       "</div>"
      ],
      "text/plain": [
       "     로스터리ID         로스터리                    로스터리 주소  \\\n",
       "0        57        언더프레셔      서울 강남구 영동대로106길 37 1층   \n",
       "3        11  뉴웨이브 커피로스터스      서울특별시 양천구 오목로56길 2,1층   \n",
       "4        34     베르크 로스터스     부산 부산진구 전포동 356-6 지하1층   \n",
       "6        18    라메르판지 비앤알              울산 북구 판지1길 30   \n",
       "7        98         토치커피        서울시 강남구 봉은사로 68길 41   \n",
       "..      ...          ...                        ...   \n",
       "541      93       컨트리사이드  경기도 고양시 덕양구 행당로 1 4층 401호   \n",
       "543      48   식물학 커피로스터스        서울시 강남구 강남대로154길 33   \n",
       "544      49      싸인포스트커피           서울시 동작구 솔밭로 97-6   \n",
       "553      61         오드이븐    부산 중구 중구로29번길 7 1층 오드이븐   \n",
       "558      36  보사노바 커피로스터스          강원 강릉시 창해로14번길 28   \n",
       "\n",
       "                                     제조원 및 소재지  \n",
       "0                 (주)핸디엄, 경기도 여주시 세종대왕면 상동길 68  \n",
       "3     뉴웨이브커피로스터스, 서울시 양천구 오목로 56길 2, 영원빌딩 103호  \n",
       "4          베르크로스터스, 부산광역시 사상구 학감대로222번길 83, 2층  \n",
       "6    라메르판지 비앤알 / 울산광역시 북구 판지1길 30 (지상2~3층 구유동)  \n",
       "7                      서울시 강남구 봉은사로 68길 41, 1층  \n",
       "..                                         ...  \n",
       "541                   경기도 고양시 덕양구 행당로1 4층 401호  \n",
       "543         식물학커피로스터스, 서울특별시 용산구 서빙고로67길 21 2층  \n",
       "544                  싸인포스트커피, 서울시 동작구 솔밭로 97-6  \n",
       "553                   부산광역시 중구 중구로 29번길 7 오드이븐  \n",
       "558            보사노바로스팅팩토리, 강원도 강릉시 경강로2660번길 7  \n",
       "\n",
       "[318 rows x 4 columns]"
      ]
     },
     "execution_count": 68,
     "metadata": {},
     "output_type": "execute_result"
    }
   ],
   "source": [
    "# 항상 '로스터리 주소'와 '제조원 및 소재지' 주소가 일치하는가? \n",
    "result3 = addrdf[addrdf['제조원 및 소재지'] != addrdf['로스터리 주소']]\n",
    "result3"
   ]
  },
  {
   "cell_type": "markdown",
   "metadata": {},
   "source": [
    "<로스터리 주소와 제조원이 항상 일치하지는 않는다.> <br>\n",
    "로스터리 주소 : 커피네츄럴스페셜티, 헤베커피 <br>\n",
    "제조원은 그냥 0으로 둬야할 것 같다."
   ]
  },
  {
   "cell_type": "code",
   "execution_count": 69,
   "metadata": {},
   "outputs": [],
   "source": [
    "df.loc[df['로스터리'] == '커피네츄럴스페셜티', '로스터리 주소'] = df['제조원 및 소재지'][df['로스터리'] == '커피네츄럴스페셜티'].values[0]\n",
    "df.loc[df['로스터리'] == '헤베커피', '로스터리 주소'] = df['제조원 및 소재지'][df['로스터리'] == '헤베커피'].values[0]"
   ]
  },
  {
   "cell_type": "code",
   "execution_count": 70,
   "metadata": {},
   "outputs": [
    {
     "data": {
      "text/plain": [
       "'경기도 고양시 덕양구 행신동 741-17 1층'"
      ]
     },
     "execution_count": 70,
     "metadata": {},
     "output_type": "execute_result"
    }
   ],
   "source": [
    "df['제조원 및 소재지'][df['로스터리'] == '커피네츄럴스페셜티'].values[0]"
   ]
  },
  {
   "cell_type": "code",
   "execution_count": 71,
   "metadata": {},
   "outputs": [
    {
     "data": {
      "text/plain": [
       "17     경기도 고양시 덕양구 행신동 741-17 1층\n",
       "59     경기도 고양시 덕양구 행신동 741-17 1층\n",
       "248    경기도 고양시 덕양구 행신동 741-17 1층\n",
       "322    경기도 고양시 덕양구 행신동 741-17 1층\n",
       "527    경기도 고양시 덕양구 행신동 741-17 1층\n",
       "Name: 로스터리 주소, dtype: object"
      ]
     },
     "execution_count": 71,
     "metadata": {},
     "output_type": "execute_result"
    }
   ],
   "source": [
    "df['로스터리 주소'][df['로스터리']=='커피네츄럴스페셜티']"
   ]
  },
  {
   "cell_type": "code",
   "execution_count": 72,
   "metadata": {},
   "outputs": [
    {
     "name": "stdout",
     "output_type": "stream",
     "text": [
      "<class 'pandas.core.frame.DataFrame'>\n",
      "RangeIndex: 559 entries, 0 to 558\n",
      "Data columns (total 26 columns):\n",
      " #   Column             Non-Null Count  Dtype \n",
      "---  ------             --------------  ----- \n",
      " 0   id                 559 non-null    int64 \n",
      " 1   이름                 559 non-null    object\n",
      " 2   로스터리               559 non-null    object\n",
      " 3   타입                 559 non-null    object\n",
      " 4   로스팅 포인트            559 non-null    object\n",
      " 5   지속가능성              559 non-null    object\n",
      " 6   컵 노트               559 non-null    object\n",
      " 7   바디감                559 non-null    int64 \n",
      " 8   신맛                 559 non-null    int64 \n",
      " 9   단맛                 559 non-null    int64 \n",
      " 10  쓴맛                 559 non-null    int64 \n",
      " 11  커피 소개              559 non-null    object\n",
      " 12  나라                 559 non-null    object\n",
      " 13  로스터리 소개            559 non-null    object\n",
      " 14  로스터리 주소            559 non-null    object\n",
      " 15  이름.1               559 non-null    object\n",
      " 16  식품의 유형             554 non-null    object\n",
      " 17  제조원 및 소재지          559 non-null    object\n",
      " 18  유통기한               557 non-null    object\n",
      " 19  제조일자               559 non-null    object\n",
      " 20  내용량                559 non-null    object\n",
      " 21  보관 방법              545 non-null    object\n",
      " 22  원재료 및 함량           559 non-null    object\n",
      " 23  제품문의 관련 주소 및 전화번호  559 non-null    object\n",
      " 24  카페인                559 non-null    int64 \n",
      " 25  로스터리ID             559 non-null    int64 \n",
      "dtypes: int64(7), object(19)\n",
      "memory usage: 113.7+ KB\n"
     ]
    }
   ],
   "source": [
    "df.info()"
   ]
  },
  {
   "cell_type": "code",
   "execution_count": 73,
   "metadata": {},
   "outputs": [],
   "source": [
    "# 업데이트 wondoofin.csv\n",
    "df.to_csv('wondoofin.csv', index=False)"
   ]
  },
  {
   "cell_type": "markdown",
   "metadata": {},
   "source": [
    "***\n",
    "나라 전처리\n",
    "***"
   ]
  },
  {
   "cell_type": "code",
   "execution_count": 3,
   "metadata": {},
   "outputs": [
    {
     "data": {
      "text/html": [
       "<div>\n",
       "<style scoped>\n",
       "    .dataframe tbody tr th:only-of-type {\n",
       "        vertical-align: middle;\n",
       "    }\n",
       "\n",
       "    .dataframe tbody tr th {\n",
       "        vertical-align: top;\n",
       "    }\n",
       "\n",
       "    .dataframe thead th {\n",
       "        text-align: right;\n",
       "    }\n",
       "</style>\n",
       "<table border=\"1\" class=\"dataframe\">\n",
       "  <thead>\n",
       "    <tr style=\"text-align: right;\">\n",
       "      <th></th>\n",
       "      <th>id</th>\n",
       "      <th>이름</th>\n",
       "      <th>로스터리</th>\n",
       "      <th>타입</th>\n",
       "      <th>로스팅 포인트</th>\n",
       "      <th>지속가능성</th>\n",
       "      <th>컵 노트</th>\n",
       "      <th>바디감</th>\n",
       "      <th>신맛</th>\n",
       "      <th>단맛</th>\n",
       "      <th>...</th>\n",
       "      <th>제조원 및 소재지</th>\n",
       "      <th>유통기한</th>\n",
       "      <th>제조일자</th>\n",
       "      <th>내용량</th>\n",
       "      <th>보관 방법</th>\n",
       "      <th>원재료 및 함량</th>\n",
       "      <th>제품문의 관련 주소 및 전화번호</th>\n",
       "      <th>카페인</th>\n",
       "      <th>로스터리ID</th>\n",
       "      <th>price</th>\n",
       "    </tr>\n",
       "  </thead>\n",
       "  <tbody>\n",
       "    <tr>\n",
       "      <th>0</th>\n",
       "      <td>43</td>\n",
       "      <td>데일리스윗</td>\n",
       "      <td>언더프레셔</td>\n",
       "      <td>블렌드</td>\n",
       "      <td>미디엄다크</td>\n",
       "      <td>0</td>\n",
       "      <td>['토피', '맥아', '흑설탕']</td>\n",
       "      <td>4</td>\n",
       "      <td>2</td>\n",
       "      <td>4</td>\n",
       "      <td>...</td>\n",
       "      <td>(주)핸디엄, 경기도 여주시 세종대왕면 상동길 68</td>\n",
       "      <td>제조일로부터 12개월</td>\n",
       "      <td>상단 표기일</td>\n",
       "      <td>140g / 1kg</td>\n",
       "      <td>직사광선을 피하고 온도, 습도가 낮으며 통풍이 잘 되는 곳에 보관하여 주십시오.</td>\n",
       "      <td>커피원두 100% (브라질산 60%, 과테말라산 40%)</td>\n",
       "      <td>핸디엄 고객센터 1599-2681</td>\n",
       "      <td>1</td>\n",
       "      <td>57</td>\n",
       "      <td>11800</td>\n",
       "    </tr>\n",
       "    <tr>\n",
       "      <th>1</th>\n",
       "      <td>3896</td>\n",
       "      <td>브라질 세라도 디카페인</td>\n",
       "      <td>운조커피</td>\n",
       "      <td>디카페인</td>\n",
       "      <td>미디엄다크</td>\n",
       "      <td>0</td>\n",
       "      <td>['null']</td>\n",
       "      <td>4</td>\n",
       "      <td>2</td>\n",
       "      <td>4</td>\n",
       "      <td>...</td>\n",
       "      <td>경기도 화성시 동탄지성로 306번길 68</td>\n",
       "      <td>제조일로부터 1년</td>\n",
       "      <td>주문 확인 후 제조</td>\n",
       "      <td>500g 1kg</td>\n",
       "      <td>직사광선을 피하고 온도, 습도가 낮으며 통풍이 잘 되는 곳에 밀폐 보관</td>\n",
       "      <td>커피원두 100%</td>\n",
       "      <td>운조커피 010-4535-8819</td>\n",
       "      <td>0</td>\n",
       "      <td>67</td>\n",
       "      <td>13000</td>\n",
       "    </tr>\n",
       "  </tbody>\n",
       "</table>\n",
       "<p>2 rows × 27 columns</p>\n",
       "</div>"
      ],
      "text/plain": [
       "     id            이름   로스터리    타입 로스팅 포인트 지속가능성                 컵 노트  바디감  \\\n",
       "0    43         데일리스윗  언더프레셔   블렌드   미디엄다크     0  ['토피', '맥아', '흑설탕']    4   \n",
       "1  3896  브라질 세라도 디카페인   운조커피  디카페인   미디엄다크     0             ['null']    4   \n",
       "\n",
       "   신맛  단맛  ...                     제조원 및 소재지         유통기한        제조일자  \\\n",
       "0   2   4  ...  (주)핸디엄, 경기도 여주시 세종대왕면 상동길 68  제조일로부터 12개월      상단 표기일   \n",
       "1   2   4  ...        경기도 화성시 동탄지성로 306번길 68    제조일로부터 1년  주문 확인 후 제조   \n",
       "\n",
       "          내용량                                         보관 방법  \\\n",
       "0  140g / 1kg  직사광선을 피하고 온도, 습도가 낮으며 통풍이 잘 되는 곳에 보관하여 주십시오.   \n",
       "1    500g 1kg       직사광선을 피하고 온도, 습도가 낮으며 통풍이 잘 되는 곳에 밀폐 보관   \n",
       "\n",
       "                          원재료 및 함량   제품문의 관련 주소 및 전화번호 카페인 로스터리ID  price  \n",
       "0  커피원두 100% (브라질산 60%, 과테말라산 40%)  핸디엄 고객센터 1599-2681   1     57  11800  \n",
       "1                        커피원두 100%  운조커피 010-4535-8819   0     67  13000  \n",
       "\n",
       "[2 rows x 27 columns]"
      ]
     },
     "execution_count": 3,
     "metadata": {},
     "output_type": "execute_result"
    }
   ],
   "source": [
    "df = pd.read_csv('wondoofin.csv')\n",
    "df.head(2)"
   ]
  },
  {
   "cell_type": "code",
   "execution_count": 144,
   "metadata": {},
   "outputs": [
    {
     "data": {
      "text/plain": [
       "['브라질', '과테말라']"
      ]
     },
     "execution_count": 144,
     "metadata": {},
     "output_type": "execute_result"
    }
   ],
   "source": [
    "df['나라'] = df['나라'].apply(literal_eval)\n",
    "# for i in range(len(df)):\n",
    "#     for k in range(len(df['나라'][i])):\n",
    "#         df['나라'][i][k] = df['나라'][i][k].lstrip() # 띄어쓰기가 단어 첫번째에 있으면 지운다!\n",
    "df['나라'] = [[country.lstrip() for country in sublist] if sublist != 0 else sublist for sublist in df['나라']]\n",
    "\n",
    "df['나라'][0]"
   ]
  },
  {
   "cell_type": "code",
   "execution_count": 145,
   "metadata": {},
   "outputs": [
    {
     "data": {
      "text/plain": [
       "11     3460\n",
       "15     3907\n",
       "30     4717\n",
       "67       61\n",
       "72     4702\n",
       "167    3232\n",
       "179    1707\n",
       "192    3177\n",
       "218    3196\n",
       "242    4750\n",
       "301    3438\n",
       "381    4817\n",
       "416    4707\n",
       "474    1038\n",
       "548    4643\n",
       "554    3231\n",
       "Name: id, dtype: int64"
      ]
     },
     "execution_count": 145,
     "metadata": {},
     "output_type": "execute_result"
    }
   ],
   "source": [
    "df['id'][df['나라']==0]"
   ]
  },
  {
   "cell_type": "code",
   "execution_count": 146,
   "metadata": {},
   "outputs": [],
   "source": [
    "# Flatten the 'country' column and remove 0 values\n",
    "flat_countries = [subitem for sublist in df['나라'] if sublist != 0 for subitem in sublist]\n",
    "\n",
    "# Get unique country names\n",
    "unique_countries = list(set(flat_countries))"
   ]
  },
  {
   "cell_type": "code",
   "execution_count": 147,
   "metadata": {},
   "outputs": [
    {
     "data": {
      "text/plain": [
       "130"
      ]
     },
     "execution_count": 147,
     "metadata": {},
     "output_type": "execute_result"
    }
   ],
   "source": [
    "len(unique_countries)"
   ]
  },
  {
   "cell_type": "code",
   "execution_count": 148,
   "metadata": {},
   "outputs": [
    {
     "data": {
      "text/plain": [
       "['산 로렌조', '탄자이나', '칼다스', '가차타', '산타아나', '안티오키아 볼리바르', '카우카', '괴템말라', '라 단타']"
      ]
     },
     "execution_count": 148,
     "metadata": {},
     "output_type": "execute_result"
    }
   ],
   "source": [
    "unique_countries[41:50]"
   ]
  },
  {
   "cell_type": "code",
   "execution_count": null,
   "metadata": {},
   "outputs": [],
   "source": []
  },
  {
   "cell_type": "code",
   "execution_count": null,
   "metadata": {},
   "outputs": [],
   "source": []
  },
  {
   "cell_type": "code",
   "execution_count": null,
   "metadata": {},
   "outputs": [],
   "source": []
  },
  {
   "cell_type": "markdown",
   "metadata": {},
   "source": [
    "***\n",
    "가격 정보\n",
    "***"
   ]
  },
  {
   "cell_type": "code",
   "execution_count": 149,
   "metadata": {},
   "outputs": [
    {
     "data": {
      "text/html": [
       "<div>\n",
       "<style scoped>\n",
       "    .dataframe tbody tr th:only-of-type {\n",
       "        vertical-align: middle;\n",
       "    }\n",
       "\n",
       "    .dataframe tbody tr th {\n",
       "        vertical-align: top;\n",
       "    }\n",
       "\n",
       "    .dataframe thead th {\n",
       "        text-align: right;\n",
       "    }\n",
       "</style>\n",
       "<table border=\"1\" class=\"dataframe\">\n",
       "  <thead>\n",
       "    <tr style=\"text-align: right;\">\n",
       "      <th></th>\n",
       "      <th>Name</th>\n",
       "      <th>Price</th>\n",
       "      <th>Roastery</th>\n",
       "    </tr>\n",
       "  </thead>\n",
       "  <tbody>\n",
       "    <tr>\n",
       "      <th>0</th>\n",
       "      <td>진양조</td>\n",
       "      <td>10,000원</td>\n",
       "      <td>스탠딩커피</td>\n",
       "    </tr>\n",
       "    <tr>\n",
       "      <th>1</th>\n",
       "      <td>클래식 에스프레소</td>\n",
       "      <td>13,000원</td>\n",
       "      <td>리플렉트 커피 로스터스</td>\n",
       "    </tr>\n",
       "    <tr>\n",
       "      <th>2</th>\n",
       "      <td>디카페인 올 데이 블렌드</td>\n",
       "      <td>10,600원</td>\n",
       "      <td>디카커피랩</td>\n",
       "    </tr>\n",
       "    <tr>\n",
       "      <th>3</th>\n",
       "      <td>우리집블렌드</td>\n",
       "      <td>9,400원</td>\n",
       "      <td>챁챁커피</td>\n",
       "    </tr>\n",
       "    <tr>\n",
       "      <th>4</th>\n",
       "      <td>오닉스 블렌드</td>\n",
       "      <td>12,000원</td>\n",
       "      <td>필리그리커피</td>\n",
       "    </tr>\n",
       "  </tbody>\n",
       "</table>\n",
       "</div>"
      ],
      "text/plain": [
       "            Name    Price      Roastery\n",
       "0            진양조  10,000원         스탠딩커피\n",
       "1      클래식 에스프레소  13,000원  리플렉트 커피 로스터스\n",
       "2  디카페인 올 데이 블렌드  10,600원         디카커피랩\n",
       "3         우리집블렌드   9,400원          챁챁커피\n",
       "4        오닉스 블렌드  12,000원        필리그리커피"
      ]
     },
     "execution_count": 149,
     "metadata": {},
     "output_type": "execute_result"
    }
   ],
   "source": [
    "price_df = pd.read_csv('price.csv')\n",
    "price_df.head()"
   ]
  },
  {
   "cell_type": "code",
   "execution_count": 150,
   "metadata": {},
   "outputs": [
    {
     "data": {
      "text/plain": [
       "(345, 3)"
      ]
     },
     "execution_count": 150,
     "metadata": {},
     "output_type": "execute_result"
    }
   ],
   "source": [
    "price_df.shape"
   ]
  },
  {
   "cell_type": "code",
   "execution_count": 151,
   "metadata": {},
   "outputs": [
    {
     "data": {
      "text/plain": [
       "335"
      ]
     },
     "execution_count": 151,
     "metadata": {},
     "output_type": "execute_result"
    }
   ],
   "source": [
    "len(price_df['Name'].unique())"
   ]
  },
  {
   "cell_type": "code",
   "execution_count": 152,
   "metadata": {},
   "outputs": [
    {
     "data": {
      "text/html": [
       "<div>\n",
       "<style scoped>\n",
       "    .dataframe tbody tr th:only-of-type {\n",
       "        vertical-align: middle;\n",
       "    }\n",
       "\n",
       "    .dataframe tbody tr th {\n",
       "        vertical-align: top;\n",
       "    }\n",
       "\n",
       "    .dataframe thead th {\n",
       "        text-align: right;\n",
       "    }\n",
       "</style>\n",
       "<table border=\"1\" class=\"dataframe\">\n",
       "  <thead>\n",
       "    <tr style=\"text-align: right;\">\n",
       "      <th></th>\n",
       "      <th>Name</th>\n",
       "      <th>Price</th>\n",
       "      <th>Roastery</th>\n",
       "    </tr>\n",
       "  </thead>\n",
       "  <tbody>\n",
       "    <tr>\n",
       "      <th>70</th>\n",
       "      <td>디카페인 콜롬비아</td>\n",
       "      <td>16,000원</td>\n",
       "      <td>커피가게 동경</td>\n",
       "    </tr>\n",
       "    <tr>\n",
       "      <th>97</th>\n",
       "      <td>디카페인 블렌드</td>\n",
       "      <td>12,000원</td>\n",
       "      <td>하우트 커피컴퍼니</td>\n",
       "    </tr>\n",
       "    <tr>\n",
       "      <th>98</th>\n",
       "      <td>콜롬비아 디카페인</td>\n",
       "      <td>12,800원</td>\n",
       "      <td>언더프레셔</td>\n",
       "    </tr>\n",
       "    <tr>\n",
       "      <th>101</th>\n",
       "      <td>콜롬비아 디카페인</td>\n",
       "      <td>15,000원</td>\n",
       "      <td>피어 커피로스터스</td>\n",
       "    </tr>\n",
       "    <tr>\n",
       "      <th>142</th>\n",
       "      <td>피크 블렌드</td>\n",
       "      <td>10,000원</td>\n",
       "      <td>오드이븐</td>\n",
       "    </tr>\n",
       "    <tr>\n",
       "      <th>159</th>\n",
       "      <td>콜롬비아 디카페인</td>\n",
       "      <td>15,000원</td>\n",
       "      <td>스탠딩커피</td>\n",
       "    </tr>\n",
       "    <tr>\n",
       "      <th>205</th>\n",
       "      <td>콜롬비아 디카페인</td>\n",
       "      <td>11,000원</td>\n",
       "      <td>하늘에커피</td>\n",
       "    </tr>\n",
       "    <tr>\n",
       "      <th>218</th>\n",
       "      <td>콜롬비아 디카페인</td>\n",
       "      <td>15,000원</td>\n",
       "      <td>502 커피로스터스</td>\n",
       "    </tr>\n",
       "    <tr>\n",
       "      <th>271</th>\n",
       "      <td>브라질 디카페인</td>\n",
       "      <td>9,100원</td>\n",
       "      <td>리플로우 커피 로스터스</td>\n",
       "    </tr>\n",
       "    <tr>\n",
       "      <th>284</th>\n",
       "      <td>클래식 블렌드</td>\n",
       "      <td>12,000원</td>\n",
       "      <td>502 커피로스터스</td>\n",
       "    </tr>\n",
       "  </tbody>\n",
       "</table>\n",
       "</div>"
      ],
      "text/plain": [
       "          Name    Price      Roastery\n",
       "70   디카페인 콜롬비아  16,000원       커피가게 동경\n",
       "97    디카페인 블렌드  12,000원     하우트 커피컴퍼니\n",
       "98   콜롬비아 디카페인  12,800원         언더프레셔\n",
       "101  콜롬비아 디카페인  15,000원     피어 커피로스터스\n",
       "142     피크 블렌드  10,000원          오드이븐\n",
       "159  콜롬비아 디카페인  15,000원         스탠딩커피\n",
       "205  콜롬비아 디카페인  11,000원         하늘에커피\n",
       "218  콜롬비아 디카페인  15,000원    502 커피로스터스\n",
       "271   브라질 디카페인   9,100원  리플로우 커피 로스터스\n",
       "284    클래식 블렌드  12,000원    502 커피로스터스"
      ]
     },
     "execution_count": 152,
     "metadata": {},
     "output_type": "execute_result"
    }
   ],
   "source": [
    "price_df[price_df['Name'].duplicated()]"
   ]
  },
  {
   "cell_type": "code",
   "execution_count": 153,
   "metadata": {},
   "outputs": [
    {
     "data": {
      "text/html": [
       "<div>\n",
       "<style scoped>\n",
       "    .dataframe tbody tr th:only-of-type {\n",
       "        vertical-align: middle;\n",
       "    }\n",
       "\n",
       "    .dataframe tbody tr th {\n",
       "        vertical-align: top;\n",
       "    }\n",
       "\n",
       "    .dataframe thead th {\n",
       "        text-align: right;\n",
       "    }\n",
       "</style>\n",
       "<table border=\"1\" class=\"dataframe\">\n",
       "  <thead>\n",
       "    <tr style=\"text-align: right;\">\n",
       "      <th></th>\n",
       "      <th>Name</th>\n",
       "      <th>Price</th>\n",
       "      <th>Roastery</th>\n",
       "    </tr>\n",
       "  </thead>\n",
       "  <tbody>\n",
       "    <tr>\n",
       "      <th>26</th>\n",
       "      <td>디카페인 블렌드</td>\n",
       "      <td>15,000원</td>\n",
       "      <td>웨이브온 커피</td>\n",
       "    </tr>\n",
       "    <tr>\n",
       "      <th>97</th>\n",
       "      <td>디카페인 블렌드</td>\n",
       "      <td>12,000원</td>\n",
       "      <td>하우트 커피컴퍼니</td>\n",
       "    </tr>\n",
       "  </tbody>\n",
       "</table>\n",
       "</div>"
      ],
      "text/plain": [
       "        Name    Price   Roastery\n",
       "26  디카페인 블렌드  15,000원    웨이브온 커피\n",
       "97  디카페인 블렌드  12,000원  하우트 커피컴퍼니"
      ]
     },
     "execution_count": 153,
     "metadata": {},
     "output_type": "execute_result"
    }
   ],
   "source": [
    "price_df[price_df['Name'] == '디카페인 블렌드']"
   ]
  },
  {
   "cell_type": "code",
   "execution_count": 154,
   "metadata": {},
   "outputs": [
    {
     "data": {
      "text/html": [
       "<div>\n",
       "<style scoped>\n",
       "    .dataframe tbody tr th:only-of-type {\n",
       "        vertical-align: middle;\n",
       "    }\n",
       "\n",
       "    .dataframe tbody tr th {\n",
       "        vertical-align: top;\n",
       "    }\n",
       "\n",
       "    .dataframe thead th {\n",
       "        text-align: right;\n",
       "    }\n",
       "</style>\n",
       "<table border=\"1\" class=\"dataframe\">\n",
       "  <thead>\n",
       "    <tr style=\"text-align: right;\">\n",
       "      <th></th>\n",
       "      <th>id</th>\n",
       "      <th>이름</th>\n",
       "      <th>로스터리</th>\n",
       "      <th>타입</th>\n",
       "      <th>로스팅 포인트</th>\n",
       "      <th>지속가능성</th>\n",
       "      <th>컵 노트</th>\n",
       "      <th>바디감</th>\n",
       "      <th>신맛</th>\n",
       "      <th>단맛</th>\n",
       "      <th>...</th>\n",
       "      <th>식품의 유형</th>\n",
       "      <th>제조원 및 소재지</th>\n",
       "      <th>유통기한</th>\n",
       "      <th>제조일자</th>\n",
       "      <th>내용량</th>\n",
       "      <th>보관 방법</th>\n",
       "      <th>원재료 및 함량</th>\n",
       "      <th>제품문의 관련 주소 및 전화번호</th>\n",
       "      <th>카페인</th>\n",
       "      <th>로스터리ID</th>\n",
       "    </tr>\n",
       "  </thead>\n",
       "  <tbody>\n",
       "    <tr>\n",
       "      <th>532</th>\n",
       "      <td>226</td>\n",
       "      <td>디카페인 블렌드</td>\n",
       "      <td>웨이브온 커피</td>\n",
       "      <td>디카페인</td>\n",
       "      <td>다크</td>\n",
       "      <td>직접무역</td>\n",
       "      <td>['견과류', '카라멜', '아몬드', '카카오', '황설탕']</td>\n",
       "      <td>4</td>\n",
       "      <td>1</td>\n",
       "      <td>3</td>\n",
       "      <td>...</td>\n",
       "      <td>커피</td>\n",
       "      <td>웨이브온커피, 부산광역시 기장군 장안읍 해맞이로 286</td>\n",
       "      <td>제조일로부터 1년</td>\n",
       "      <td>별도 표시</td>\n",
       "      <td>200g / 1kg</td>\n",
       "      <td>밀봉 후 직사광선을 피하여 실온 보관</td>\n",
       "      <td>커피원두100%</td>\n",
       "      <td>코케 고객센터 070-4647-1868</td>\n",
       "      <td>0</td>\n",
       "      <td>69</td>\n",
       "    </tr>\n",
       "  </tbody>\n",
       "</table>\n",
       "<p>1 rows × 26 columns</p>\n",
       "</div>"
      ],
      "text/plain": [
       "      id        이름     로스터리    타입 로스팅 포인트 지속가능성  \\\n",
       "532  226  디카페인 블렌드  웨이브온 커피  디카페인      다크  직접무역   \n",
       "\n",
       "                                    컵 노트  바디감  신맛  단맛  ...  식품의 유형  \\\n",
       "532  ['견과류', '카라멜', '아몬드', '카카오', '황설탕']    4   1   3  ...      커피   \n",
       "\n",
       "                          제조원 및 소재지       유통기한   제조일자         내용량  \\\n",
       "532  웨이브온커피, 부산광역시 기장군 장안읍 해맞이로 286  제조일로부터 1년  별도 표시  200g / 1kg   \n",
       "\n",
       "                    보관 방법  원재료 및 함량      제품문의 관련 주소 및 전화번호 카페인 로스터리ID  \n",
       "532  밀봉 후 직사광선을 피하여 실온 보관  커피원두100%  코케 고객센터 070-4647-1868   0     69  \n",
       "\n",
       "[1 rows x 26 columns]"
      ]
     },
     "execution_count": 154,
     "metadata": {},
     "output_type": "execute_result"
    }
   ],
   "source": [
    "df[(df['이름'] == '디카페인 블렌드') & (df['로스터리']=='웨이브온 커피')]"
   ]
  },
  {
   "cell_type": "code",
   "execution_count": 155,
   "metadata": {},
   "outputs": [
    {
     "data": {
      "text/html": [
       "<div>\n",
       "<style scoped>\n",
       "    .dataframe tbody tr th:only-of-type {\n",
       "        vertical-align: middle;\n",
       "    }\n",
       "\n",
       "    .dataframe tbody tr th {\n",
       "        vertical-align: top;\n",
       "    }\n",
       "\n",
       "    .dataframe thead th {\n",
       "        text-align: right;\n",
       "    }\n",
       "</style>\n",
       "<table border=\"1\" class=\"dataframe\">\n",
       "  <thead>\n",
       "    <tr style=\"text-align: right;\">\n",
       "      <th></th>\n",
       "      <th>id</th>\n",
       "      <th>이름</th>\n",
       "      <th>로스터리</th>\n",
       "      <th>타입</th>\n",
       "      <th>로스팅 포인트</th>\n",
       "      <th>지속가능성</th>\n",
       "      <th>컵 노트</th>\n",
       "      <th>바디감</th>\n",
       "      <th>신맛</th>\n",
       "      <th>단맛</th>\n",
       "      <th>...</th>\n",
       "      <th>식품의 유형</th>\n",
       "      <th>제조원 및 소재지</th>\n",
       "      <th>유통기한</th>\n",
       "      <th>제조일자</th>\n",
       "      <th>내용량</th>\n",
       "      <th>보관 방법</th>\n",
       "      <th>원재료 및 함량</th>\n",
       "      <th>제품문의 관련 주소 및 전화번호</th>\n",
       "      <th>카페인</th>\n",
       "      <th>로스터리ID</th>\n",
       "    </tr>\n",
       "  </thead>\n",
       "  <tbody>\n",
       "    <tr>\n",
       "      <th>532</th>\n",
       "      <td>226</td>\n",
       "      <td>디카페인 블렌드</td>\n",
       "      <td>웨이브온 커피</td>\n",
       "      <td>디카페인</td>\n",
       "      <td>다크</td>\n",
       "      <td>직접무역</td>\n",
       "      <td>['견과류', '카라멜', '아몬드', '카카오', '황설탕']</td>\n",
       "      <td>4</td>\n",
       "      <td>1</td>\n",
       "      <td>3</td>\n",
       "      <td>...</td>\n",
       "      <td>커피</td>\n",
       "      <td>웨이브온커피, 부산광역시 기장군 장안읍 해맞이로 286</td>\n",
       "      <td>제조일로부터 1년</td>\n",
       "      <td>별도 표시</td>\n",
       "      <td>200g / 1kg</td>\n",
       "      <td>밀봉 후 직사광선을 피하여 실온 보관</td>\n",
       "      <td>커피원두100%</td>\n",
       "      <td>코케 고객센터 070-4647-1868</td>\n",
       "      <td>0</td>\n",
       "      <td>69</td>\n",
       "    </tr>\n",
       "  </tbody>\n",
       "</table>\n",
       "<p>1 rows × 26 columns</p>\n",
       "</div>"
      ],
      "text/plain": [
       "      id        이름     로스터리    타입 로스팅 포인트 지속가능성  \\\n",
       "532  226  디카페인 블렌드  웨이브온 커피  디카페인      다크  직접무역   \n",
       "\n",
       "                                    컵 노트  바디감  신맛  단맛  ...  식품의 유형  \\\n",
       "532  ['견과류', '카라멜', '아몬드', '카카오', '황설탕']    4   1   3  ...      커피   \n",
       "\n",
       "                          제조원 및 소재지       유통기한   제조일자         내용량  \\\n",
       "532  웨이브온커피, 부산광역시 기장군 장안읍 해맞이로 286  제조일로부터 1년  별도 표시  200g / 1kg   \n",
       "\n",
       "                    보관 방법  원재료 및 함량      제품문의 관련 주소 및 전화번호 카페인 로스터리ID  \n",
       "532  밀봉 후 직사광선을 피하여 실온 보관  커피원두100%  코케 고객센터 070-4647-1868   0     69  \n",
       "\n",
       "[1 rows x 26 columns]"
      ]
     },
     "execution_count": 155,
     "metadata": {},
     "output_type": "execute_result"
    }
   ],
   "source": [
    "df[(df['이름'] == price_df['Name'][26]) & (df['로스터리'] == price_df['Roastery'][26])]"
   ]
  },
  {
   "cell_type": "code",
   "execution_count": 156,
   "metadata": {},
   "outputs": [
    {
     "data": {
      "text/plain": [
       "'15,000원'"
      ]
     },
     "execution_count": 156,
     "metadata": {},
     "output_type": "execute_result"
    }
   ],
   "source": [
    "price_df['Price'][26]"
   ]
  },
  {
   "cell_type": "code",
   "execution_count": 177,
   "metadata": {},
   "outputs": [],
   "source": [
    "df['price'] = 0\n",
    "for i in range(len(price_df)):\n",
    "    # df['price'][(df['이름'] == price_df['Name'][i]) & (df['로스터리'] == price_df['Roastery'][i])] = price_df['Price'][i]\n",
    "    mask = (df['이름'] == price_df['Name'][i]) & (df['로스터리'] == price_df['Roastery'][i])\n",
    "    price_value = price_df['Price'][i]\n",
    "\n",
    "    # Convert 'price_value' to an integer (assuming it's a numeric value)\n",
    "    price_value = int(price_value.replace(',', '').replace('원', ''))\n",
    "\n",
    "    df.loc[mask, 'price'] = price_value"
   ]
  },
  {
   "cell_type": "code",
   "execution_count": 178,
   "metadata": {},
   "outputs": [
    {
     "data": {
      "text/plain": [
       "532    15000\n",
       "Name: price, dtype: int64"
      ]
     },
     "execution_count": 178,
     "metadata": {},
     "output_type": "execute_result"
    }
   ],
   "source": [
    "df['price'][(df['이름'] == price_df['Name'][26]) & (df['로스터리'] == price_df['Roastery'][26])]"
   ]
  },
  {
   "cell_type": "code",
   "execution_count": 191,
   "metadata": {},
   "outputs": [
    {
     "data": {
      "text/html": [
       "<div>\n",
       "<style scoped>\n",
       "    .dataframe tbody tr th:only-of-type {\n",
       "        vertical-align: middle;\n",
       "    }\n",
       "\n",
       "    .dataframe tbody tr th {\n",
       "        vertical-align: top;\n",
       "    }\n",
       "\n",
       "    .dataframe thead th {\n",
       "        text-align: right;\n",
       "    }\n",
       "</style>\n",
       "<table border=\"1\" class=\"dataframe\">\n",
       "  <thead>\n",
       "    <tr style=\"text-align: right;\">\n",
       "      <th></th>\n",
       "      <th>id</th>\n",
       "      <th>이름</th>\n",
       "      <th>로스터리</th>\n",
       "      <th>타입</th>\n",
       "      <th>로스팅 포인트</th>\n",
       "      <th>지속가능성</th>\n",
       "      <th>컵 노트</th>\n",
       "      <th>바디감</th>\n",
       "      <th>신맛</th>\n",
       "      <th>단맛</th>\n",
       "      <th>...</th>\n",
       "      <th>제조원 및 소재지</th>\n",
       "      <th>유통기한</th>\n",
       "      <th>제조일자</th>\n",
       "      <th>내용량</th>\n",
       "      <th>보관 방법</th>\n",
       "      <th>원재료 및 함량</th>\n",
       "      <th>제품문의 관련 주소 및 전화번호</th>\n",
       "      <th>카페인</th>\n",
       "      <th>로스터리ID</th>\n",
       "      <th>price</th>\n",
       "    </tr>\n",
       "  </thead>\n",
       "  <tbody>\n",
       "    <tr>\n",
       "      <th>0</th>\n",
       "      <td>43</td>\n",
       "      <td>데일리스윗</td>\n",
       "      <td>언더프레셔</td>\n",
       "      <td>블렌드</td>\n",
       "      <td>미디엄다크</td>\n",
       "      <td>0</td>\n",
       "      <td>['토피', '맥아', '흑설탕']</td>\n",
       "      <td>4</td>\n",
       "      <td>2</td>\n",
       "      <td>4</td>\n",
       "      <td>...</td>\n",
       "      <td>(주)핸디엄, 경기도 여주시 세종대왕면 상동길 68</td>\n",
       "      <td>제조일로부터 12개월</td>\n",
       "      <td>상단 표기일</td>\n",
       "      <td>140g / 1kg</td>\n",
       "      <td>직사광선을 피하고 온도, 습도가 낮으며 통풍이 잘 되는 곳에 보관하여 주십시오.</td>\n",
       "      <td>커피원두 100% (브라질산 60%, 과테말라산 40%)</td>\n",
       "      <td>핸디엄 고객센터 1599-2681</td>\n",
       "      <td>1</td>\n",
       "      <td>57</td>\n",
       "      <td>11800</td>\n",
       "    </tr>\n",
       "    <tr>\n",
       "      <th>1</th>\n",
       "      <td>3896</td>\n",
       "      <td>브라질 세라도 디카페인</td>\n",
       "      <td>운조커피</td>\n",
       "      <td>디카페인</td>\n",
       "      <td>미디엄다크</td>\n",
       "      <td>0</td>\n",
       "      <td>['null']</td>\n",
       "      <td>4</td>\n",
       "      <td>2</td>\n",
       "      <td>4</td>\n",
       "      <td>...</td>\n",
       "      <td>경기도 화성시 동탄지성로 306번길 68</td>\n",
       "      <td>제조일로부터 1년</td>\n",
       "      <td>주문 확인 후 제조</td>\n",
       "      <td>500g 1kg</td>\n",
       "      <td>직사광선을 피하고 온도, 습도가 낮으며 통풍이 잘 되는 곳에 밀폐 보관</td>\n",
       "      <td>커피원두 100%</td>\n",
       "      <td>운조커피 010-4535-8819</td>\n",
       "      <td>0</td>\n",
       "      <td>67</td>\n",
       "      <td>0</td>\n",
       "    </tr>\n",
       "  </tbody>\n",
       "</table>\n",
       "<p>2 rows × 27 columns</p>\n",
       "</div>"
      ],
      "text/plain": [
       "     id            이름   로스터리    타입 로스팅 포인트 지속가능성                 컵 노트  바디감  \\\n",
       "0    43         데일리스윗  언더프레셔   블렌드   미디엄다크     0  ['토피', '맥아', '흑설탕']    4   \n",
       "1  3896  브라질 세라도 디카페인   운조커피  디카페인   미디엄다크     0             ['null']    4   \n",
       "\n",
       "   신맛  단맛  ...                     제조원 및 소재지         유통기한        제조일자  \\\n",
       "0   2   4  ...  (주)핸디엄, 경기도 여주시 세종대왕면 상동길 68  제조일로부터 12개월      상단 표기일   \n",
       "1   2   4  ...        경기도 화성시 동탄지성로 306번길 68    제조일로부터 1년  주문 확인 후 제조   \n",
       "\n",
       "          내용량                                         보관 방법  \\\n",
       "0  140g / 1kg  직사광선을 피하고 온도, 습도가 낮으며 통풍이 잘 되는 곳에 보관하여 주십시오.   \n",
       "1    500g 1kg       직사광선을 피하고 온도, 습도가 낮으며 통풍이 잘 되는 곳에 밀폐 보관   \n",
       "\n",
       "                          원재료 및 함량   제품문의 관련 주소 및 전화번호 카페인 로스터리ID  price  \n",
       "0  커피원두 100% (브라질산 60%, 과테말라산 40%)  핸디엄 고객센터 1599-2681   1     57  11800  \n",
       "1                        커피원두 100%  운조커피 010-4535-8819   0     67      0  \n",
       "\n",
       "[2 rows x 27 columns]"
      ]
     },
     "execution_count": 191,
     "metadata": {},
     "output_type": "execute_result"
    }
   ],
   "source": [
    "df.head(2)"
   ]
  },
  {
   "cell_type": "code",
   "execution_count": 192,
   "metadata": {},
   "outputs": [
    {
     "data": {
      "text/plain": [
       "count      559.000000\n",
       "mean      8015.921288\n",
       "std       8202.946439\n",
       "min          0.000000\n",
       "25%          0.000000\n",
       "50%       9700.000000\n",
       "75%      14000.000000\n",
       "max      46000.000000\n",
       "Name: price, dtype: float64"
      ]
     },
     "execution_count": 192,
     "metadata": {},
     "output_type": "execute_result"
    }
   ],
   "source": [
    "df['price'].describe()"
   ]
  },
  {
   "cell_type": "code",
   "execution_count": 193,
   "metadata": {},
   "outputs": [],
   "source": [
    "# Calculate the second most frequent value of the 'price' column. most frequent value is 0\n",
    "mode_value = df['price'].mode().iloc[0]\n",
    "df_without_mode = df[df['price'] != mode_value]\n",
    "\n",
    "# Calculate the mode again, which is the second most frequent value\n",
    "second_mode_value = df_without_mode['price'].mode().iloc[0]\n",
    "second_mode_value\n",
    "\n",
    "# Replace 0 values with NaN so that we can calculate the mean without them\n",
    "df['price'].replace(0, pd.NA, inplace=True)\n",
    "\n",
    "# Fill NaN values (including the former 0 values) with the mean value\n",
    "df['price'].fillna(second_mode_value, inplace=True)"
   ]
  },
  {
   "cell_type": "code",
   "execution_count": 194,
   "metadata": {},
   "outputs": [
    {
     "data": {
      "text/plain": [
       "count      559.000000\n",
       "mean     13806.618962\n",
       "std       4013.491028\n",
       "min       5500.000000\n",
       "25%      13000.000000\n",
       "50%      13000.000000\n",
       "75%      14000.000000\n",
       "max      46000.000000\n",
       "Name: price, dtype: float64"
      ]
     },
     "execution_count": 194,
     "metadata": {},
     "output_type": "execute_result"
    }
   ],
   "source": [
    "df['price'].describe()"
   ]
  },
  {
   "cell_type": "code",
   "execution_count": 195,
   "metadata": {},
   "outputs": [],
   "source": [
    "# 업데이트 wondoofin.csv\n",
    "df.to_csv('wondoofin.csv', index=False)"
   ]
  },
  {
   "cell_type": "code",
   "execution_count": 196,
   "metadata": {},
   "outputs": [
    {
     "data": {
      "text/html": [
       "<div>\n",
       "<style scoped>\n",
       "    .dataframe tbody tr th:only-of-type {\n",
       "        vertical-align: middle;\n",
       "    }\n",
       "\n",
       "    .dataframe tbody tr th {\n",
       "        vertical-align: top;\n",
       "    }\n",
       "\n",
       "    .dataframe thead th {\n",
       "        text-align: right;\n",
       "    }\n",
       "</style>\n",
       "<table border=\"1\" class=\"dataframe\">\n",
       "  <thead>\n",
       "    <tr style=\"text-align: right;\">\n",
       "      <th></th>\n",
       "      <th>id</th>\n",
       "      <th>이름</th>\n",
       "      <th>로스터리</th>\n",
       "      <th>타입</th>\n",
       "      <th>로스팅 포인트</th>\n",
       "      <th>지속가능성</th>\n",
       "      <th>컵 노트</th>\n",
       "      <th>바디감</th>\n",
       "      <th>신맛</th>\n",
       "      <th>단맛</th>\n",
       "      <th>...</th>\n",
       "      <th>제조원 및 소재지</th>\n",
       "      <th>유통기한</th>\n",
       "      <th>제조일자</th>\n",
       "      <th>내용량</th>\n",
       "      <th>보관 방법</th>\n",
       "      <th>원재료 및 함량</th>\n",
       "      <th>제품문의 관련 주소 및 전화번호</th>\n",
       "      <th>카페인</th>\n",
       "      <th>로스터리ID</th>\n",
       "      <th>price</th>\n",
       "    </tr>\n",
       "  </thead>\n",
       "  <tbody>\n",
       "    <tr>\n",
       "      <th>0</th>\n",
       "      <td>43</td>\n",
       "      <td>데일리스윗</td>\n",
       "      <td>언더프레셔</td>\n",
       "      <td>블렌드</td>\n",
       "      <td>미디엄다크</td>\n",
       "      <td>0</td>\n",
       "      <td>['토피', '맥아', '흑설탕']</td>\n",
       "      <td>4</td>\n",
       "      <td>2</td>\n",
       "      <td>4</td>\n",
       "      <td>...</td>\n",
       "      <td>(주)핸디엄, 경기도 여주시 세종대왕면 상동길 68</td>\n",
       "      <td>제조일로부터 12개월</td>\n",
       "      <td>상단 표기일</td>\n",
       "      <td>140g / 1kg</td>\n",
       "      <td>직사광선을 피하고 온도, 습도가 낮으며 통풍이 잘 되는 곳에 보관하여 주십시오.</td>\n",
       "      <td>커피원두 100% (브라질산 60%, 과테말라산 40%)</td>\n",
       "      <td>핸디엄 고객센터 1599-2681</td>\n",
       "      <td>1</td>\n",
       "      <td>57</td>\n",
       "      <td>11800</td>\n",
       "    </tr>\n",
       "    <tr>\n",
       "      <th>1</th>\n",
       "      <td>3896</td>\n",
       "      <td>브라질 세라도 디카페인</td>\n",
       "      <td>운조커피</td>\n",
       "      <td>디카페인</td>\n",
       "      <td>미디엄다크</td>\n",
       "      <td>0</td>\n",
       "      <td>['null']</td>\n",
       "      <td>4</td>\n",
       "      <td>2</td>\n",
       "      <td>4</td>\n",
       "      <td>...</td>\n",
       "      <td>경기도 화성시 동탄지성로 306번길 68</td>\n",
       "      <td>제조일로부터 1년</td>\n",
       "      <td>주문 확인 후 제조</td>\n",
       "      <td>500g 1kg</td>\n",
       "      <td>직사광선을 피하고 온도, 습도가 낮으며 통풍이 잘 되는 곳에 밀폐 보관</td>\n",
       "      <td>커피원두 100%</td>\n",
       "      <td>운조커피 010-4535-8819</td>\n",
       "      <td>0</td>\n",
       "      <td>67</td>\n",
       "      <td>13000</td>\n",
       "    </tr>\n",
       "  </tbody>\n",
       "</table>\n",
       "<p>2 rows × 27 columns</p>\n",
       "</div>"
      ],
      "text/plain": [
       "     id            이름   로스터리    타입 로스팅 포인트 지속가능성                 컵 노트  바디감  \\\n",
       "0    43         데일리스윗  언더프레셔   블렌드   미디엄다크     0  ['토피', '맥아', '흑설탕']    4   \n",
       "1  3896  브라질 세라도 디카페인   운조커피  디카페인   미디엄다크     0             ['null']    4   \n",
       "\n",
       "   신맛  단맛  ...                     제조원 및 소재지         유통기한        제조일자  \\\n",
       "0   2   4  ...  (주)핸디엄, 경기도 여주시 세종대왕면 상동길 68  제조일로부터 12개월      상단 표기일   \n",
       "1   2   4  ...        경기도 화성시 동탄지성로 306번길 68    제조일로부터 1년  주문 확인 후 제조   \n",
       "\n",
       "          내용량                                         보관 방법  \\\n",
       "0  140g / 1kg  직사광선을 피하고 온도, 습도가 낮으며 통풍이 잘 되는 곳에 보관하여 주십시오.   \n",
       "1    500g 1kg       직사광선을 피하고 온도, 습도가 낮으며 통풍이 잘 되는 곳에 밀폐 보관   \n",
       "\n",
       "                          원재료 및 함량   제품문의 관련 주소 및 전화번호 카페인 로스터리ID  price  \n",
       "0  커피원두 100% (브라질산 60%, 과테말라산 40%)  핸디엄 고객센터 1599-2681   1     57  11800  \n",
       "1                        커피원두 100%  운조커피 010-4535-8819   0     67  13000  \n",
       "\n",
       "[2 rows x 27 columns]"
      ]
     },
     "execution_count": 196,
     "metadata": {},
     "output_type": "execute_result"
    }
   ],
   "source": [
    "df.head(2)"
   ]
  },
  {
   "cell_type": "code",
   "execution_count": 198,
   "metadata": {},
   "outputs": [
    {
     "data": {
      "text/plain": [
       "'10,000'"
      ]
     },
     "execution_count": 198,
     "metadata": {},
     "output_type": "execute_result"
    }
   ],
   "source": [
    "# value = 10000  # Example integer\n",
    "# formatted_value = \"{:,}\".format(value)\n",
    "# formatted_value"
   ]
  },
  {
   "cell_type": "markdown",
   "metadata": {},
   "source": [
    "***\n",
    "가격 정보 coffeeDB에 넣기\n",
    "***"
   ]
  },
  {
   "cell_type": "code",
   "execution_count": 132,
   "metadata": {},
   "outputs": [
    {
     "data": {
      "text/html": [
       "<div>\n",
       "<style scoped>\n",
       "    .dataframe tbody tr th:only-of-type {\n",
       "        vertical-align: middle;\n",
       "    }\n",
       "\n",
       "    .dataframe tbody tr th {\n",
       "        vertical-align: top;\n",
       "    }\n",
       "\n",
       "    .dataframe thead th {\n",
       "        text-align: right;\n",
       "    }\n",
       "</style>\n",
       "<table border=\"1\" class=\"dataframe\">\n",
       "  <thead>\n",
       "    <tr style=\"text-align: right;\">\n",
       "      <th></th>\n",
       "      <th>이름</th>\n",
       "      <th>로스터리ID</th>\n",
       "      <th>커피 소개</th>\n",
       "      <th>타입</th>\n",
       "      <th>로스팅 포인트</th>\n",
       "      <th>지속가능성</th>\n",
       "      <th>컵 노트</th>\n",
       "      <th>바디감</th>\n",
       "      <th>신맛</th>\n",
       "      <th>단맛</th>\n",
       "      <th>...</th>\n",
       "      <th>나라</th>\n",
       "      <th>식품의 유형</th>\n",
       "      <th>제조원 및 소재지</th>\n",
       "      <th>유통기한</th>\n",
       "      <th>제조일자</th>\n",
       "      <th>내용량</th>\n",
       "      <th>보관 방법</th>\n",
       "      <th>원재료 및 함량</th>\n",
       "      <th>제품문의 관련 주소 및 전화번호</th>\n",
       "      <th>price</th>\n",
       "    </tr>\n",
       "    <tr>\n",
       "      <th>id</th>\n",
       "      <th></th>\n",
       "      <th></th>\n",
       "      <th></th>\n",
       "      <th></th>\n",
       "      <th></th>\n",
       "      <th></th>\n",
       "      <th></th>\n",
       "      <th></th>\n",
       "      <th></th>\n",
       "      <th></th>\n",
       "      <th></th>\n",
       "      <th></th>\n",
       "      <th></th>\n",
       "      <th></th>\n",
       "      <th></th>\n",
       "      <th></th>\n",
       "      <th></th>\n",
       "      <th></th>\n",
       "      <th></th>\n",
       "      <th></th>\n",
       "      <th></th>\n",
       "    </tr>\n",
       "  </thead>\n",
       "  <tbody>\n",
       "    <tr>\n",
       "      <th>43</th>\n",
       "      <td>데일리스윗</td>\n",
       "      <td>57</td>\n",
       "      <td>중남미 블렌딩으로 깊이 있는 단맛과 초콜렛티함이 조화롭게 어우러진 하우스 블렌드 입...</td>\n",
       "      <td>블렌드</td>\n",
       "      <td>미디엄다크</td>\n",
       "      <td>NaN</td>\n",
       "      <td>['토피', ' 맥아', ' 흑설탕']</td>\n",
       "      <td>4</td>\n",
       "      <td>2</td>\n",
       "      <td>4</td>\n",
       "      <td>...</td>\n",
       "      <td>브라질, 과테말라</td>\n",
       "      <td>커피(볶은커피)</td>\n",
       "      <td>(주)핸디엄, 경기도 여주시 세종대왕면 상동길 68</td>\n",
       "      <td>제조일로부터 12개월</td>\n",
       "      <td>상단 표기일</td>\n",
       "      <td>140g / 1kg</td>\n",
       "      <td>직사광선을 피하고 온도, 습도가 낮으며 통풍이 잘 되는 곳에 보관하여 주십시오.</td>\n",
       "      <td>커피원두 100% (브라질산 60%, 과테말라산 40%)</td>\n",
       "      <td>핸디엄 고객센터 1599-2681</td>\n",
       "      <td>11800</td>\n",
       "    </tr>\n",
       "    <tr>\n",
       "      <th>3896</th>\n",
       "      <td>브라질 세라도 디카페인</td>\n",
       "      <td>67</td>\n",
       "      <td>땅콩의 고소함과 코코아 파우더의 쌉싸름함 진득한 단맛과 클래식한 커피향  중강배전으...</td>\n",
       "      <td>디카페인</td>\n",
       "      <td>미디엄다크</td>\n",
       "      <td>NaN</td>\n",
       "      <td>NaN</td>\n",
       "      <td>4</td>\n",
       "      <td>2</td>\n",
       "      <td>4</td>\n",
       "      <td>...</td>\n",
       "      <td>세라도</td>\n",
       "      <td>커피</td>\n",
       "      <td>경기도 화성시 동탄지성로 306번길 68</td>\n",
       "      <td>제조일로부터 1년</td>\n",
       "      <td>주문 확인 후 제조</td>\n",
       "      <td>500g 1kg</td>\n",
       "      <td>직사광선을 피하고 온도, 습도가 낮으며 통풍이 잘 되는 곳에 밀폐 보관</td>\n",
       "      <td>커피원두 100%</td>\n",
       "      <td>운조커피 010-4535-8819</td>\n",
       "      <td>13000</td>\n",
       "    </tr>\n",
       "  </tbody>\n",
       "</table>\n",
       "<p>2 rows × 22 columns</p>\n",
       "</div>"
      ],
      "text/plain": [
       "                이름  로스터리ID                                              커피 소개  \\\n",
       "id                                                                              \n",
       "43           데일리스윗      57  중남미 블렌딩으로 깊이 있는 단맛과 초콜렛티함이 조화롭게 어우러진 하우스 블렌드 입...   \n",
       "3896  브라질 세라도 디카페인      67  땅콩의 고소함과 코코아 파우더의 쌉싸름함 진득한 단맛과 클래식한 커피향  중강배전으...   \n",
       "\n",
       "        타입 로스팅 포인트 지속가능성                   컵 노트  바디감  신맛  단맛  ...         나라  \\\n",
       "id                                                            ...              \n",
       "43     블렌드   미디엄다크   NaN  ['토피', ' 맥아', ' 흑설탕']    4   2   4  ...  브라질, 과테말라   \n",
       "3896  디카페인   미디엄다크   NaN                    NaN    4   2   4  ...        세라도   \n",
       "\n",
       "        식품의 유형                     제조원 및 소재지         유통기한        제조일자  \\\n",
       "id                                                                      \n",
       "43    커피(볶은커피)  (주)핸디엄, 경기도 여주시 세종대왕면 상동길 68  제조일로부터 12개월      상단 표기일   \n",
       "3896        커피        경기도 화성시 동탄지성로 306번길 68    제조일로부터 1년  주문 확인 후 제조   \n",
       "\n",
       "             내용량                                         보관 방법  \\\n",
       "id                                                               \n",
       "43    140g / 1kg  직사광선을 피하고 온도, 습도가 낮으며 통풍이 잘 되는 곳에 보관하여 주십시오.   \n",
       "3896    500g 1kg       직사광선을 피하고 온도, 습도가 낮으며 통풍이 잘 되는 곳에 밀폐 보관   \n",
       "\n",
       "                             원재료 및 함량   제품문의 관련 주소 및 전화번호  price  \n",
       "id                                                                \n",
       "43    커피원두 100% (브라질산 60%, 과테말라산 40%)  핸디엄 고객센터 1599-2681  11800  \n",
       "3896                        커피원두 100%  운조커피 010-4535-8819  13000  \n",
       "\n",
       "[2 rows x 22 columns]"
      ]
     },
     "execution_count": 132,
     "metadata": {},
     "output_type": "execute_result"
    }
   ],
   "source": [
    "pricedf = pd.read_csv('wondoofin.csv')\n",
    "coffeeDB = pd.read_csv('mysite/data/coffeeDB.csv', index_col=0)\n",
    "pricedf = pricedf[['id', 'price']]\n",
    "\n",
    "# coffeeDB = pd.merge(coffeeDB, pricedf, on=\"id\")\n",
    "coffeeDB.head(2)"
   ]
  },
  {
   "cell_type": "code",
   "execution_count": 131,
   "metadata": {},
   "outputs": [],
   "source": [
    "coffeeDB.to_csv('mysite/data/coffeeDB.csv', index=False)"
   ]
  },
  {
   "cell_type": "markdown",
   "metadata": {},
   "source": [
    "***\n",
    "로스터리 전화번호 \n",
    "***"
   ]
  },
  {
   "cell_type": "code",
   "execution_count": 8,
   "metadata": {},
   "outputs": [
    {
     "data": {
      "text/html": [
       "<div>\n",
       "<style scoped>\n",
       "    .dataframe tbody tr th:only-of-type {\n",
       "        vertical-align: middle;\n",
       "    }\n",
       "\n",
       "    .dataframe tbody tr th {\n",
       "        vertical-align: top;\n",
       "    }\n",
       "\n",
       "    .dataframe thead th {\n",
       "        text-align: right;\n",
       "    }\n",
       "</style>\n",
       "<table border=\"1\" class=\"dataframe\">\n",
       "  <thead>\n",
       "    <tr style=\"text-align: right;\">\n",
       "      <th></th>\n",
       "      <th>로스터리ID</th>\n",
       "      <th>로스터리</th>\n",
       "      <th>로스터리 주소</th>\n",
       "      <th>제품문의 관련 주소 및 전화번호</th>\n",
       "    </tr>\n",
       "  </thead>\n",
       "  <tbody>\n",
       "    <tr>\n",
       "      <th>0</th>\n",
       "      <td>57</td>\n",
       "      <td>언더프레셔</td>\n",
       "      <td>서울 강남구 영동대로106길 37 1층</td>\n",
       "      <td>핸디엄 고객센터 1599-2681</td>\n",
       "    </tr>\n",
       "    <tr>\n",
       "      <th>1</th>\n",
       "      <td>67</td>\n",
       "      <td>운조커피</td>\n",
       "      <td>경기도 화성시 동탄지성로 306번길 68</td>\n",
       "      <td>운조커피 010-4535-8819</td>\n",
       "    </tr>\n",
       "    <tr>\n",
       "      <th>2</th>\n",
       "      <td>77</td>\n",
       "      <td>제이엠디커피팩토리</td>\n",
       "      <td>경기 고양시 일산동구 장대길 75-53 나동 1층 JMD Coffee Factory</td>\n",
       "      <td>제이엠디커피팩토리 010-9903-8794</td>\n",
       "    </tr>\n",
       "    <tr>\n",
       "      <th>3</th>\n",
       "      <td>11</td>\n",
       "      <td>뉴웨이브 커피로스터스</td>\n",
       "      <td>서울특별시 양천구 오목로56길 2,1층</td>\n",
       "      <td>코케 고객센터 070-4647-1868</td>\n",
       "    </tr>\n",
       "    <tr>\n",
       "      <th>4</th>\n",
       "      <td>34</td>\n",
       "      <td>베르크 로스터스</td>\n",
       "      <td>부산 부산진구 전포동 356-6 지하1층</td>\n",
       "      <td>코케 고객센터 070-4647-1868</td>\n",
       "    </tr>\n",
       "    <tr>\n",
       "      <th>...</th>\n",
       "      <td>...</td>\n",
       "      <td>...</td>\n",
       "      <td>...</td>\n",
       "      <td>...</td>\n",
       "    </tr>\n",
       "    <tr>\n",
       "      <th>554</th>\n",
       "      <td>4</td>\n",
       "      <td>UFO 커피로스터스</td>\n",
       "      <td>서울시 관악구 은천로 39</td>\n",
       "      <td>UFO 커피로스터스 010-4240-8455</td>\n",
       "    </tr>\n",
       "    <tr>\n",
       "      <th>555</th>\n",
       "      <td>109</td>\n",
       "      <td>핸디엄</td>\n",
       "      <td>서울특별시 강남구 영동대로106길 37</td>\n",
       "      <td>핸디엄 010-4194-8939</td>\n",
       "    </tr>\n",
       "    <tr>\n",
       "      <th>556</th>\n",
       "      <td>30</td>\n",
       "      <td>링크 커피 로스터스</td>\n",
       "      <td>전라남도 장성군 진원면 나노산단2로 52, 205호</td>\n",
       "      <td>링크 커피 로스터스 010-5035-1425</td>\n",
       "    </tr>\n",
       "    <tr>\n",
       "      <th>557</th>\n",
       "      <td>82</td>\n",
       "      <td>카페소소한사치</td>\n",
       "      <td>경기도 부천시 소사구 호현로 489</td>\n",
       "      <td>카페소소한사치 010-9340-4364</td>\n",
       "    </tr>\n",
       "    <tr>\n",
       "      <th>558</th>\n",
       "      <td>36</td>\n",
       "      <td>보사노바 커피로스터스</td>\n",
       "      <td>강원 강릉시 창해로14번길 28</td>\n",
       "      <td>코케 고객센터 070-4647-1868</td>\n",
       "    </tr>\n",
       "  </tbody>\n",
       "</table>\n",
       "<p>559 rows × 4 columns</p>\n",
       "</div>"
      ],
      "text/plain": [
       "     로스터리ID         로스터리                                         로스터리 주소  \\\n",
       "0        57        언더프레셔                           서울 강남구 영동대로106길 37 1층   \n",
       "1        67         운조커피                          경기도 화성시 동탄지성로 306번길 68   \n",
       "2        77    제이엠디커피팩토리  경기 고양시 일산동구 장대길 75-53 나동 1층 JMD Coffee Factory   \n",
       "3        11  뉴웨이브 커피로스터스                           서울특별시 양천구 오목로56길 2,1층   \n",
       "4        34     베르크 로스터스                          부산 부산진구 전포동 356-6 지하1층   \n",
       "..      ...          ...                                             ...   \n",
       "554       4   UFO 커피로스터스                                  서울시 관악구 은천로 39   \n",
       "555     109          핸디엄                           서울특별시 강남구 영동대로106길 37   \n",
       "556      30   링크 커피 로스터스                    전라남도 장성군 진원면 나노산단2로 52, 205호   \n",
       "557      82      카페소소한사치                             경기도 부천시 소사구 호현로 489   \n",
       "558      36  보사노바 커피로스터스                               강원 강릉시 창해로14번길 28   \n",
       "\n",
       "            제품문의 관련 주소 및 전화번호  \n",
       "0          핸디엄 고객센터 1599-2681  \n",
       "1          운조커피 010-4535-8819  \n",
       "2     제이엠디커피팩토리 010-9903-8794  \n",
       "3       코케 고객센터 070-4647-1868  \n",
       "4       코케 고객센터 070-4647-1868  \n",
       "..                        ...  \n",
       "554  UFO 커피로스터스 010-4240-8455  \n",
       "555         핸디엄 010-4194-8939  \n",
       "556  링크 커피 로스터스 010-5035-1425  \n",
       "557     카페소소한사치 010-9340-4364  \n",
       "558     코케 고객센터 070-4647-1868  \n",
       "\n",
       "[559 rows x 4 columns]"
      ]
     },
     "execution_count": 8,
     "metadata": {},
     "output_type": "execute_result"
    }
   ],
   "source": [
    "import pandas as pd\n",
    "df = pd.read_csv('wondoofin.csv')\n",
    "roastery = df[['로스터리ID', '로스터리', '로스터리 주소', '제품문의 관련 주소 및 전화번호']]\n",
    "roastery"
   ]
  },
  {
   "cell_type": "code",
   "execution_count": 9,
   "metadata": {},
   "outputs": [
    {
     "data": {
      "text/plain": [
       "114"
      ]
     },
     "execution_count": 9,
     "metadata": {},
     "output_type": "execute_result"
    }
   ],
   "source": [
    "len(roastery['로스터리ID'].unique())"
   ]
  },
  {
   "cell_type": "code",
   "execution_count": 10,
   "metadata": {},
   "outputs": [
    {
     "data": {
      "text/plain": [
       "['코케 고객센터 070-4647-1868', '180커피로스터스 010-4510-8597']"
      ]
     },
     "execution_count": 10,
     "metadata": {},
     "output_type": "execute_result"
    }
   ],
   "source": [
    "roastery['제품문의 관련 주소 및 전화번호'][roastery['로스터리ID'] == 0].unique().tolist()"
   ]
  },
  {
   "cell_type": "code",
   "execution_count": 11,
   "metadata": {},
   "outputs": [
    {
     "data": {
      "text/plain": [
       "54"
      ]
     },
     "execution_count": 11,
     "metadata": {},
     "output_type": "execute_result"
    }
   ],
   "source": [
    "koke = roastery[roastery['제품문의 관련 주소 및 전화번호'] == '코케 고객센터 070-4647-1868']\n",
    "len(koke['로스터리ID'].unique())"
   ]
  },
  {
   "cell_type": "code",
   "execution_count": 12,
   "metadata": {},
   "outputs": [
    {
     "data": {
      "text/plain": [
       "114"
      ]
     },
     "execution_count": 12,
     "metadata": {},
     "output_type": "execute_result"
    }
   ],
   "source": [
    "rdict = {}\n",
    "id_list = []\n",
    "for i in range(len(df)):\n",
    "    rdict[roastery['로스터리ID'][i]] = []\n",
    "    \n",
    "    id_list.append(roastery['로스터리ID'][i])\n",
    "    id_list = list(set(id_list))\n",
    "\n",
    "len(id_list)"
   ]
  },
  {
   "cell_type": "code",
   "execution_count": 13,
   "metadata": {},
   "outputs": [
    {
     "data": {
      "text/plain": [
       "{57: ['핸디엄 고객센터 1599-2681', '언더프레셔 1599-2681'],\n",
       " 67: ['운조커피 010-4535-8819'],\n",
       " 77: ['제이엠디커피팩토리 010-9903-8794'],\n",
       " 11: ['코케 고객센터 070-4647-1868'],\n",
       " 34: ['코케 고객센터 070-4647-1868'],\n",
       " 78: ['조바티커피 070-4203-6900', '조바티커피'],\n",
       " 18: ['라메르판지비앤알 0522928787', '라메르판지 비앤알 0522928787'],\n",
       " 98: ['코케 고객센터 070-4647-1868'],\n",
       " 29: ['리플로우 커피 로스터스 010-4932-9198', '코케 고객센터 070-4647-1868'],\n",
       " 85: ['커스프 커피 010-3267-0430', '커스프 커피 070-8098-8025'],\n",
       " 8: ['코케 고객센터 070-4647-1868'],\n",
       " 75: ['전광수 커피 010-2936-0501'],\n",
       " 63: ['오프사이트 0507-1399-2781'],\n",
       " 43: ['수수커피 010-5068-4771', '코케 고객센터 070-4647-1868'],\n",
       " 6: ['그린마일커피'],\n",
       " 89: ['커피네츄럴스페셜티 01090945303', '커피네츄럴스페셜티'],\n",
       " 101: ['[폰트오피스] 031-946-8549', '폰트커피 010-9483-1853'],\n",
       " 102: ['코케 고객센터 070-4647-1868'],\n",
       " 0: ['코케 고객센터 070-4647-1868', '180커피로스터스 010-4510-8597'],\n",
       " 104: ['피어 커피로스터스 010-4501-1464',\n",
       "  '피어 커피로스터스 010-9388-7053',\n",
       "  '코케 고객센터 070-4647-1868'],\n",
       " 113: ['코케 고객센터 070-4647-1868'],\n",
       " 46: ['코케 고객센터 070-4647-1868', '스티머스 커피팩토리 010-6620-5557'],\n",
       " 13: ['디그리 01031660563'],\n",
       " 1: ['코케 고객센터 070-4647-1868'],\n",
       " 83: ['카페플롬 010-4155-8282'],\n",
       " 56: ['010-5134-1306', '놈코어커피 010-5134-1306', '어나더룸 010-5134-1306'],\n",
       " 24: ['루비아 커피 010-2942-3069', '루비아 커피 / 010-2942-3069'],\n",
       " 47: ['슬러핀 커피 010-2031-5959', '코케 고객센터 070-4647-1868'],\n",
       " 20: ['랑케커피 01089630224'],\n",
       " 15: ['코케 고객센터 070-4647-1868', '디카 커피랩 010-3102-1655'],\n",
       " 62: ['오이르로스터스',\n",
       "  '오이르로스터스 경기도 부천시 양지로92번길9-3, 106호',\n",
       "  '오이르 로스터스 010-8720-3414',\n",
       "  '오이르 로스터스 07080283535'],\n",
       " 100: ['코케 고객센터 070-4647-1868'],\n",
       " 7: ['글루 01023160961'],\n",
       " 69: ['코케 고객센터 070-4647-1868', '웨이브온 커피 051-727-1660 /2번'],\n",
       " 49: ['코케 고객센터 070-4647-1868', '싸인포스트커피 010-4879-1791'],\n",
       " 70: ['웨이즈커피 010-6434-8150'],\n",
       " 10: ['놈코어 커피 01049722312'],\n",
       " 16: ['코케 고객센터 070-4647-1868'],\n",
       " 87: ['코케 고객센터 070-4647-1868'],\n",
       " 80: ['챁챁커피 031-736-0090'],\n",
       " 82: ['카페소소한사치 010-9340-4364'],\n",
       " 37: ['코케 고객센터 070-4647-1868'],\n",
       " 26: ['리버벨 010-7220-7215', '코케 고객센터 070-4647-1868'],\n",
       " 36: ['코케 고객센터 070-4647-1868'],\n",
       " 44: ['스탠딩커피 010-7386-0386', '코케 고객센터 070-4647-1868'],\n",
       " 108: ['한국커피 010-9957-4231', '코케 고객센터 070-4647-1868'],\n",
       " 21: ['레인디어 010-3976-1590', '레인디어커피컴퍼니 010-3976-1590'],\n",
       " 52: ['코케 고객센터 070-4647-1868'],\n",
       " 96: ['크레센도 커피 로스터스 010-3386-5969'],\n",
       " 112: ['흐드러진커피 01046819876'],\n",
       " 25: ['리밀커피 010-3173-2923', '코케 고객센터 070-4647-1868'],\n",
       " 42: ['코케 고객센터 070-4647-1868'],\n",
       " 31: ['마그마커피 070-7599-2210'],\n",
       " 74: ['저스트로스터 010-5632-5026'],\n",
       " 40: ['서가로스터리 01063083067'],\n",
       " 19: ['라운지엑스 070-5161-0005'],\n",
       " 54: ['애크로매틱 커피 컴퍼니 010-4737-1664', '코케 고객센터 070-4647-1868'],\n",
       " 35: ['코케 고객센터 070-4647-1868', '보난자커피 코리아 010-4202-3313'],\n",
       " 30: ['코케 고객센터 070-4647-1868', '링크 커피 로스터스 010-5035-1425'],\n",
       " 71: ['이보크 01092901646', '이보크 010-9290-1646'],\n",
       " 23: ['로컬커피 로스터스 01025550698'],\n",
       " 59: ['연경재 010-6662-4474'],\n",
       " 38: ['블랙빈스 010-5684-2955', '블랙빈스 010-7747-4918'],\n",
       " 79: ['코케 고객센터 070-4647-1868', '차군커피로스터스 010-3378-6759'],\n",
       " 99: ['퍼블릭 커피 로스터즈 010-9328-0036'],\n",
       " 12: ['코케 고객센터 070-4647-1868'],\n",
       " 32: ['바다뷰 커피공장 010-9969-3824'],\n",
       " 86: ['코케 고객센터 070-4647-1868'],\n",
       " 48: ['코케 고객센터 070-4647-1868', '식물학 커피로스터스 010-6506-4165'],\n",
       " 5: ['코케 고객센터 070-4647-1868'],\n",
       " 66: ['올인커피 010-7636-6916'],\n",
       " 90: ['커피루소 02-2056-7619'],\n",
       " 2: ['코케 고객센터 070-4647-1868', '55도 커피로스터스 010-2671-8620'],\n",
       " 84: ['코케 고객센터 070-4647-1868', '커넥츠커피 010-5758-1108'],\n",
       " 3: ['BACS 010-3083-5636', '코케 고객센터 070-4647-1868'],\n",
       " 111: ['헬퍼 스튜디오 010-2918-9270'],\n",
       " 72: ['이수팩토리 01086348481'],\n",
       " 91: ['커피볶는곰 0262422113'],\n",
       " 81: ['칠복상회로스터스 010-6521-4889', '칠복상회 010-6521-4889'],\n",
       " 105: ['필리그리커피 032-672-9127'],\n",
       " 110: ['헤베커피 010-5295-5742'],\n",
       " 17: ['라까프 070-8098-2019', '라까프 070-8098-2019 또는 Korea@lacaph.com 문의'],\n",
       " 88: ['커피가이 010-9507-2095', '커피가이 070-4897-3440'],\n",
       " 95: ['크래커스 커피 로스터스 010-4125-2284', '크래커스 커피 로스터스 010-2605-1001'],\n",
       " 45: ['스트레토 커피팩토리 01086790553'],\n",
       " 106: ['코케 고객센터 070-4647-1868'],\n",
       " 41: ['코케 고객센터 070-4647-1868', '선빌리지 커피 010-7463-0104'],\n",
       " 76: ['코케 고객센터 070-4647-1868'],\n",
       " 68: ['코케 고객센터 070-4647-1868', '원더월 커피 로스터스 010-8754-6467'],\n",
       " 53: ['코케 고객센터 070-4647-1868'],\n",
       " 4: ['UFO 커피로스터스 010-4240-8455'],\n",
       " 64: ['올디스트커피 경기 군포시 고산로539번길 7-6 묘향롯데아파트상가 104호 올디스트커피'],\n",
       " 33: ['코케 고객센터 070-4647-1868'],\n",
       " 107: ['코케 고객센터 070-4647-1868', '하우트 커피컴퍼니 070-7503-5677'],\n",
       " 92: ['코케 고객센터 070-4647-1868'],\n",
       " 27: ['서울특별시 송파구 법원로 114 B동 106호 리프커피 02-2088-4341',\n",
       "  '서울시 송파구 법원로 114, B동 106호 02-2088-4341',\n",
       "  '리프커피 010-9955-1551'],\n",
       " 73: ['이알코퍼레이션 01033422398'],\n",
       " 60: ['코케 고객센터 070-4647-1868', '영앤도터스 010-7449-0207'],\n",
       " 93: ['컨트리사이드', '컨트리사이드 010-6639-4576'],\n",
       " 97: ['클라리멘토 010-9290-5005'],\n",
       " 94: ['코케 고객센터 070-4647-1868'],\n",
       " 28: ['코케 고객센터 070-4647-1868'],\n",
       " 50: ['아드프커피로스터스 010-4277-6875', '아드프커피로스터스', '아드프 커피로스터스'],\n",
       " 9: ['노스모크위드아웃파이어 010-2979-2040', '노스모크위드아웃파이어 010-7278-5547'],\n",
       " 58: ['코케 고객센터 070-4647-1868'],\n",
       " 51: ['아몰렌떼 / 070-8843-0526'],\n",
       " 22: ['로스터리 카페 스테이 010-9939-3710'],\n",
       " 61: ['코케 고객센터 070-4647-1868', '오드이븐 010-9742-0929'],\n",
       " 55: ['코케 고객센터 070-4647-1868', '앤써커피 010-4064-3852'],\n",
       " 39: ['빈도 로스터스 커피 / 02-2643-2988'],\n",
       " 65: ['올바른생각 010-3309-3120'],\n",
       " 109: ['핸디엄 010-4194-8939', '핸디엄 1599-2681'],\n",
       " 103: ['코케 고객센터 070-4647-1868'],\n",
       " 14: ['코케 고객센터 070-4647-1868']}"
      ]
     },
     "execution_count": 13,
     "metadata": {},
     "output_type": "execute_result"
    }
   ],
   "source": [
    "for id in id_list:\n",
    "    ad = roastery['제품문의 관련 주소 및 전화번호'][roastery['로스터리ID'] == id].unique().tolist()\n",
    "    rdict[id] = ad\n",
    "rdict"
   ]
  },
  {
   "cell_type": "code",
   "execution_count": 61,
   "metadata": {},
   "outputs": [
    {
     "name": "stdout",
     "output_type": "stream",
     "text": [
      "{57: ['핸디엄 고객센터 1599-2681', '언더프레셔 1599-2681'], 67: ['운조커피 010-4535-8819'], 77: ['제이엠디커피팩토리 010-9903-8794'], 11: ['코케 고객센터 070-4647-1868'], 34: ['코케 고객센터 070-4647-1868'], 78: ['조바티커피 070-4203-6900', '조바티커피'], 18: ['라메르판지비앤알 0522928787', '라메르판지 비앤알 0522928787'], 98: ['코케 고객센터 070-4647-1868'], 29: ['리플로우 커피 로스터스 010-4932-9198', '코케 고객센터 070-4647-1868'], 85: ['커스프 커피 010-3267-0430', '커스프 커피 070-8098-8025'], 8: ['코케 고객센터 070-4647-1868'], 75: ['전광수 커피 010-2936-0501'], 63: ['오프사이트 0507-1399-2781'], 43: ['수수커피 010-5068-4771', '코케 고객센터 070-4647-1868'], 6: ['그린마일커피'], 89: ['커피네츄럴스페셜티 01090945303', '커피네츄럴스페셜티'], 101: ['[폰트오피스] 031-946-8549', '폰트커피 010-9483-1853'], 102: ['코케 고객센터 070-4647-1868'], 0: ['코케 고객센터 070-4647-1868', '180커피로스터스 010-4510-8597'], 104: ['피어 커피로스터스 010-4501-1464', '피어 커피로스터스 010-9388-7053'], 113: ['코케 고객센터 070-4647-1868'], 46: ['코케 고객센터 070-4647-1868', '스티머스 커피팩토리 010-6620-5557'], 13: ['디그리 01031660563'], 1: ['코케 고객센터 070-4647-1868'], 83: ['카페플롬 010-4155-8282'], 56: ['010-5134-1306', '놈코어커피 010-5134-1306', '어나더룸 010-5134-1306'], 24: ['루비아 커피 010-2942-3069', '루비아 커피 / 010-2942-3069'], 47: ['슬러핀 커피 010-2031-5959', '코케 고객센터 070-4647-1868'], 20: ['랑케커피 01089630224'], 15: ['코케 고객센터 070-4647-1868', '디카 커피랩 010-3102-1655'], 62: ['오이르로스터스', '오이르로스터스 경기도 부천시 양지로92번길9-3, 106호', '오이르 로스터스 010-8720-3414', '오이르 로스터스 07080283535'], 100: ['코케 고객센터 070-4647-1868'], 7: ['글루 01023160961'], 69: ['코케 고객센터 070-4647-1868', '웨이브온 커피 051-727-1660 /2번'], 49: ['코케 고객센터 070-4647-1868', '싸인포스트커피 010-4879-1791'], 70: ['웨이즈커피 010-6434-8150'], 10: ['놈코어 커피 01049722312'], 16: ['코케 고객센터 070-4647-1868'], 87: ['코케 고객센터 070-4647-1868'], 80: ['챁챁커피 031-736-0090'], 82: ['카페소소한사치 010-9340-4364'], 37: ['코케 고객센터 070-4647-1868'], 26: ['리버벨 010-7220-7215', '코케 고객센터 070-4647-1868'], 36: ['코케 고객센터 070-4647-1868'], 44: ['스탠딩커피 010-7386-0386', '코케 고객센터 070-4647-1868'], 108: ['한국커피 010-9957-4231', '코케 고객센터 070-4647-1868'], 21: ['레인디어 010-3976-1590', '레인디어커피컴퍼니 010-3976-1590'], 52: ['코케 고객센터 070-4647-1868'], 96: ['크레센도 커피 로스터스 010-3386-5969'], 112: ['흐드러진커피 01046819876'], 25: ['리밀커피 010-3173-2923', '코케 고객센터 070-4647-1868'], 42: ['코케 고객센터 070-4647-1868'], 31: ['마그마커피 070-7599-2210'], 74: ['저스트로스터 010-5632-5026'], 40: ['서가로스터리 01063083067'], 19: ['라운지엑스 070-5161-0005'], 54: ['애크로매틱 커피 컴퍼니 010-4737-1664', '코케 고객센터 070-4647-1868'], 35: ['코케 고객센터 070-4647-1868', '보난자커피 코리아 010-4202-3313'], 30: ['코케 고객센터 070-4647-1868', '링크 커피 로스터스 010-5035-1425'], 71: ['이보크 01092901646', '이보크 010-9290-1646'], 23: ['로컬커피 로스터스 01025550698'], 59: ['연경재 010-6662-4474'], 38: ['블랙빈스 010-5684-2955', '블랙빈스 010-7747-4918'], 79: ['코케 고객센터 070-4647-1868', '차군커피로스터스 010-3378-6759'], 99: ['퍼블릭 커피 로스터즈 010-9328-0036'], 12: ['코케 고객센터 070-4647-1868'], 32: ['바다뷰 커피공장 010-9969-3824'], 86: ['코케 고객센터 070-4647-1868'], 48: ['코케 고객센터 070-4647-1868', '식물학 커피로스터스 010-6506-4165'], 5: ['코케 고객센터 070-4647-1868'], 66: ['올인커피 010-7636-6916'], 90: ['커피루소 02-2056-7619'], 2: ['코케 고객센터 070-4647-1868', '55도 커피로스터스 010-2671-8620'], 84: ['코케 고객센터 070-4647-1868', '커넥츠커피 010-5758-1108'], 3: ['BACS 010-3083-5636', '코케 고객센터 070-4647-1868'], 111: ['헬퍼 스튜디오 010-2918-9270'], 72: ['이수팩토리 01086348481'], 91: ['커피볶는곰 0262422113'], 81: ['칠복상회로스터스 010-6521-4889', '칠복상회 010-6521-4889'], 105: ['필리그리커피 032-672-9127'], 110: ['헤베커피 010-5295-5742'], 17: ['라까프 070-8098-2019', '라까프 070-8098-2019 또는 Korea@lacaph.com 문의'], 88: ['커피가이 010-9507-2095', '커피가이 070-4897-3440'], 95: ['크래커스 커피 로스터스 010-4125-2284', '크래커스 커피 로스터스 010-2605-1001'], 45: ['스트레토 커피팩토리 01086790553'], 106: ['코케 고객센터 070-4647-1868'], 41: ['코케 고객센터 070-4647-1868', '선빌리지 커피 010-7463-0104'], 76: ['코케 고객센터 070-4647-1868'], 68: ['코케 고객센터 070-4647-1868', '원더월 커피 로스터스 010-8754-6467'], 53: ['코케 고객센터 070-4647-1868'], 4: ['UFO 커피로스터스 010-4240-8455'], 64: ['올디스트커피 경기 군포시 고산로539번길 7-6 묘향롯데아파트상가 104호 올디스트커피'], 33: ['코케 고객센터 070-4647-1868'], 107: ['코케 고객센터 070-4647-1868', '하우트 커피컴퍼니 070-7503-5677'], 92: ['코케 고객센터 070-4647-1868'], 27: ['서울특별시 송파구 법원로 114 B동 106호 리프커피 02-2088-4341', '서울시 송파구 법원로 114, B동 106호 02-2088-4341', '리프커피 010-9955-1551'], 73: ['이알코퍼레이션 01033422398'], 60: ['코케 고객센터 070-4647-1868', '영앤도터스 010-7449-0207'], 93: ['컨트리사이드', '컨트리사이드 010-6639-4576'], 97: ['클라리멘토 010-9290-5005'], 94: ['코케 고객센터 070-4647-1868'], 28: ['코케 고객센터 070-4647-1868'], 50: ['아드프커피로스터스 010-4277-6875', '아드프커피로스터스', '아드프 커피로스터스'], 9: ['노스모크위드아웃파이어 010-2979-2040', '노스모크위드아웃파이어 010-7278-5547'], 58: ['코케 고객센터 070-4647-1868'], 51: ['아몰렌떼 / 070-8843-0526'], 22: ['로스터리 카페 스테이 010-9939-3710'], 61: ['코케 고객센터 070-4647-1868', '오드이븐 010-9742-0929'], 55: ['코케 고객센터 070-4647-1868', '앤써커피 010-4064-3852'], 39: ['빈도 로스터스 커피 / 02-2643-2988'], 65: ['올바른생각 010-3309-3120'], 109: ['핸디엄 010-4194-8939', '핸디엄 1599-2681'], 103: ['코케 고객센터 070-4647-1868'], 14: ['코케 고객센터 070-4647-1868']}\n"
     ]
    }
   ],
   "source": [
    "# Create a new dictionary to store the filtered lists\n",
    "# 전화 번호 정보가 2개 이상일때 그 중 하나가 코케 정보라면 코케 정보 삭제, 전화번호 정보가 한개인데 코케라면 남겨두기\n",
    "filtered_dict = {}\n",
    "\n",
    "for key, value in rdict.items():\n",
    "    if len(value) > 2:\n",
    "        value = [item for item in value if item != '코케 고객센터 070-4647-1868']\n",
    "    filtered_dict[key] = value\n",
    "\n",
    "print(filtered_dict)"
   ]
  },
  {
   "cell_type": "code",
   "execution_count": 28,
   "metadata": {},
   "outputs": [
    {
     "data": {
      "text/plain": [
       "['라메르판지비앤알 0522928787', '라메르판지 비앤알 0522928787']"
      ]
     },
     "execution_count": 28,
     "metadata": {},
     "output_type": "execute_result"
    }
   ],
   "source": [
    "filtered_dict[18]"
   ]
  },
  {
   "cell_type": "code",
   "execution_count": 31,
   "metadata": {},
   "outputs": [
    {
     "name": "stdout",
     "output_type": "stream",
     "text": [
      "{57: ['1599-2681'], 67: ['010-4535-8819'], 77: ['010-9903-8794'], 11: ['070-4647-1868'], 34: ['070-4647-1868'], 78: ['070-4203-6900'], 18: ['0522928787'], 98: ['070-4647-1868'], 29: ['010-4932-9198', '070-4647-1868'], 85: ['070-8098-8025', '010-3267-0430'], 8: ['070-4647-1868'], 75: ['010-2936-0501'], 63: ['0507-1399-2781'], 43: ['070-4647-1868', '010-5068-4771'], 6: [], 89: ['01090945303'], 101: ['031-946-8549', '010-9483-1853'], 102: ['070-4647-1868'], 0: ['180010-4510-8597', '070-4647-1868'], 104: ['010-4501-1464', '010-9388-7053'], 113: ['070-4647-1868'], 46: ['010-6620-5557', '070-4647-1868'], 13: ['01031660563'], 1: ['070-4647-1868'], 83: ['010-4155-8282'], 56: ['010-5134-1306'], 24: ['010-2942-3069'], 47: ['070-4647-1868', '010-2031-5959'], 20: ['01089630224'], 15: ['070-4647-1868', '010-3102-1655'], 62: ['929-3106', '07080283535', '010-8720-3414'], 100: ['070-4647-1868'], 7: ['01023160961'], 69: ['051-727-16602', '070-4647-1868'], 49: ['070-4647-1868', '010-4879-1791'], 70: ['010-6434-8150'], 10: ['01049722312'], 16: ['070-4647-1868'], 87: ['070-4647-1868'], 80: ['031-736-0090'], 82: ['010-9340-4364'], 37: ['070-4647-1868'], 26: ['070-4647-1868', '010-7220-7215'], 36: ['070-4647-1868'], 44: ['010-7386-0386', '070-4647-1868'], 108: ['010-9957-4231', '070-4647-1868'], 21: ['010-3976-1590'], 52: ['070-4647-1868'], 96: ['010-3386-5969'], 112: ['01046819876'], 25: ['010-3173-2923', '070-4647-1868'], 42: ['070-4647-1868'], 31: ['070-7599-2210'], 74: ['010-5632-5026'], 40: ['01063083067'], 19: ['070-5161-0005'], 54: ['070-4647-1868', '010-4737-1664'], 35: ['070-4647-1868', '010-4202-3313'], 30: ['010-5035-1425', '070-4647-1868'], 71: ['01092901646', '010-9290-1646'], 23: ['01025550698'], 59: ['010-6662-4474'], 38: ['010-5684-2955', '010-7747-4918'], 79: ['070-4647-1868', '010-3378-6759'], 99: ['010-9328-0036'], 12: ['070-4647-1868'], 32: ['010-9969-3824'], 86: ['070-4647-1868'], 48: ['010-6506-4165', '070-4647-1868'], 5: ['070-4647-1868'], 66: ['010-7636-6916'], 90: ['02-2056-7619'], 2: ['55010-2671-8620', '070-4647-1868'], 84: ['010-5758-1108', '070-4647-1868'], 3: ['070-4647-1868', '010-3083-5636'], 111: ['010-2918-9270'], 72: ['01086348481'], 91: ['0262422113'], 81: ['010-6521-4889'], 105: ['032-672-9127'], 110: ['010-5295-5742'], 17: ['070-8098-2019'], 88: ['070-4897-3440', '010-9507-2095'], 95: ['010-2605-1001', '010-4125-2284'], 45: ['01086790553'], 106: ['070-4647-1868'], 41: ['070-4647-1868', '010-7463-0104'], 76: ['070-4647-1868'], 68: ['010-8754-6467', '070-4647-1868'], 53: ['070-4647-1868'], 4: ['010-4240-8455'], 64: ['5397-6104'], 33: ['070-4647-1868'], 107: ['070-4647-1868', '070-7503-5677'], 92: ['070-4647-1868'], 27: ['010-9955-1551', '11410602-2088-4341'], 73: ['01033422398'], 60: ['010-7449-0207', '070-4647-1868'], 93: ['010-6639-4576'], 97: ['010-9290-5005'], 94: ['070-4647-1868'], 28: ['070-4647-1868'], 50: ['010-4277-6875'], 9: ['010-2979-2040', '010-7278-5547'], 58: ['070-4647-1868'], 51: ['070-8843-0526'], 22: ['010-9939-3710'], 61: ['010-9742-0929', '070-4647-1868'], 55: ['070-4647-1868', '010-4064-3852'], 39: ['02-2643-2988'], 65: ['010-3309-3120'], 109: ['1599-2681', '010-4194-8939'], 103: ['070-4647-1868'], 14: ['070-4647-1868']}\n"
     ]
    }
   ],
   "source": [
    "# 전화번호 정보만 남기기\n",
    "phone_numbers_data = {}\n",
    "\n",
    "for key, value in filtered_dict.items():\n",
    "    phone_numbers = []\n",
    "    for item in value:\n",
    "        # Use regular expressions to extract phone numbers\n",
    "        numbers_and_hyphens = re.findall(r'[0-9-]+', item)\n",
    "        # Join the extracted parts into a single string\n",
    "        phone_number = ''.join(numbers_and_hyphens)\n",
    "        if len(phone_number) > 0:\n",
    "            phone_numbers.append(phone_number)\n",
    "        phone_numbers = list(set(phone_numbers))\n",
    "    phone_numbers_data[key] = phone_numbers\n",
    "\n",
    "print(phone_numbers_data)"
   ]
  },
  {
   "cell_type": "code",
   "execution_count": 65,
   "metadata": {},
   "outputs": [
    {
     "name": "stdout",
     "output_type": "stream",
     "text": [
      "[57, 63, 109]\n"
     ]
    }
   ],
   "source": [
    "# Filter rows where 'phone_numbers' contain a number in \"0000-0000\" format\n",
    "pattern = r'\\d{4}-\\d{4}'\n",
    "filtered_df = phone_df[phone_df['phone_numbers'].apply(lambda x: any(re.match(pattern, number) for number in x))]\n",
    "\n",
    "# Print the 'id' values for the filtered rows\n",
    "id_values = filtered_df['id'].tolist()\n",
    "print(id_values)"
   ]
  },
  {
   "cell_type": "markdown",
   "metadata": {},
   "source": [
    "위의 코드로 전화번호를 추출한 결과 주소내의 숫자와 -로 전화번호를 만들어버렸다.\n",
    "- 다시ㅠㅠㅠ"
   ]
  },
  {
   "cell_type": "code",
   "execution_count": 79,
   "metadata": {},
   "outputs": [
    {
     "name": "stdout",
     "output_type": "stream",
     "text": [
      "{57: ['1599-2681'], 67: ['010-4535-8819'], 77: ['010-9903-8794'], 11: ['070-4647-1868'], 34: ['070-4647-1868'], 78: ['070-4203-6900'], 18: ['0522928787'], 98: ['070-4647-1868'], 29: ['010-4932-9198', '070-4647-1868'], 85: ['070-8098-8025', '010-3267-0430'], 8: ['070-4647-1868'], 75: ['010-2936-0501'], 63: ['0507-1399-2781'], 43: ['070-4647-1868', '010-5068-4771'], 6: [], 89: ['01090945303'], 101: ['031-946-8549', '010-9483-1853'], 102: ['070-4647-1868'], 0: ['010-4510-8597', '070-4647-1868'], 104: ['010-4501-1464', '010-9388-7053'], 113: ['070-4647-1868'], 46: ['010-6620-5557', '070-4647-1868'], 13: ['01031660563'], 1: ['070-4647-1868'], 83: ['010-4155-8282'], 56: ['010-5134-1306'], 24: ['010-2942-3069'], 47: ['070-4647-1868', '010-2031-5959'], 20: ['01089630224'], 15: ['070-4647-1868', '010-3102-1655'], 62: ['010-8720-3414', '07080283535'], 100: ['070-4647-1868'], 7: ['01023160961'], 69: ['051-727-1660', '070-4647-1868'], 49: ['070-4647-1868', '010-4879-1791'], 70: ['010-6434-8150'], 10: ['01049722312'], 16: ['070-4647-1868'], 87: ['070-4647-1868'], 80: ['031-736-0090'], 82: ['010-9340-4364'], 37: ['070-4647-1868'], 26: ['070-4647-1868', '010-7220-7215'], 36: ['070-4647-1868'], 44: ['010-7386-0386', '070-4647-1868'], 108: ['010-9957-4231', '070-4647-1868'], 21: ['010-3976-1590'], 52: ['070-4647-1868'], 96: ['010-3386-5969'], 112: ['01046819876'], 25: ['010-3173-2923', '070-4647-1868'], 42: ['070-4647-1868'], 31: ['070-7599-2210'], 74: ['010-5632-5026'], 40: ['01063083067'], 19: ['070-5161-0005'], 54: ['070-4647-1868', '010-4737-1664'], 35: ['070-4647-1868', '010-4202-3313'], 30: ['010-5035-1425', '070-4647-1868'], 71: ['01092901646', '010-9290-1646'], 23: ['01025550698'], 59: ['010-6662-4474'], 38: ['010-5684-2955', '010-7747-4918'], 79: ['070-4647-1868', '010-3378-6759'], 99: ['010-9328-0036'], 12: ['070-4647-1868'], 32: ['010-9969-3824'], 86: ['070-4647-1868'], 48: ['010-6506-4165', '070-4647-1868'], 5: ['070-4647-1868'], 66: ['010-7636-6916'], 90: ['02-2056-7619'], 2: ['010-2671-8620', '070-4647-1868'], 84: ['010-5758-1108', '070-4647-1868'], 3: ['070-4647-1868', '010-3083-5636'], 111: ['010-2918-9270'], 72: ['01086348481'], 91: ['0262422113'], 81: ['010-6521-4889'], 105: ['032-672-9127'], 110: ['010-5295-5742'], 17: ['070-8098-2019'], 88: ['070-4897-3440', '010-9507-2095'], 95: ['010-2605-1001', '010-4125-2284'], 45: ['01086790553'], 106: ['070-4647-1868'], 41: ['070-4647-1868', '010-7463-0104'], 76: ['070-4647-1868'], 68: ['010-8754-6467', '070-4647-1868'], 53: ['070-4647-1868'], 4: ['010-4240-8455'], 64: [], 33: ['070-4647-1868'], 107: ['070-4647-1868', '070-7503-5677'], 92: ['070-4647-1868'], 27: ['010-9955-1551', '02-2088-4341'], 73: ['01033422398'], 60: ['010-7449-0207', '070-4647-1868'], 93: ['010-6639-4576'], 97: ['010-9290-5005'], 94: ['070-4647-1868'], 28: ['070-4647-1868'], 50: ['010-4277-6875'], 9: ['010-2979-2040', '010-7278-5547'], 58: ['070-4647-1868'], 51: ['070-8843-0526'], 22: ['010-9939-3710'], 61: ['010-9742-0929', '070-4647-1868'], 55: ['070-4647-1868', '010-4064-3852'], 39: ['02-2643-2988'], 65: ['010-3309-3120'], 109: ['1599-2681', '010-4194-8939'], 103: ['070-4647-1868'], 14: ['070-4647-1868']}\n"
     ]
    }
   ],
   "source": [
    "def filter_phone_numbers(phone_numbers):\n",
    "    filtered_numbers = []\n",
    "    for number in phone_numbers:\n",
    "        # If there is no hyphen, it must be longer than 7\n",
    "        if '-' not in number and len(number) > 7:\n",
    "            filtered_numbers.append(number)\n",
    "        # If there is a hyphen, check the length of parts before and after the hyphen\n",
    "        elif '-' in number:\n",
    "            parts = number.split('-')\n",
    "            if len(parts) >= 2 and len(parts[0]) >= 2 and len(parts[1]) >= 2:\n",
    "                filtered_numbers.append(number)\n",
    "    return filtered_numbers\n",
    "\n",
    "phone_numbers_data = {}\n",
    "\n",
    "for key, value in filtered_dict.items():\n",
    "    phone_numbers = []\n",
    "    for item in value:\n",
    "        # Use a regular expression to extract numbers and hyphens without alphabetic characters in between\n",
    "        phone_numbers_found = re.findall(r'[\\d-]+', item)\n",
    "        phone_numbers.extend(phone_numbers_found)\n",
    "    \n",
    "    # Filter the extracted phone numbers\n",
    "    filtered_numbers = filter_phone_numbers(phone_numbers)\n",
    "    \n",
    "    if filtered_numbers:\n",
    "        phone_numbers_data[key] = list(set(filtered_numbers))\n",
    "    else:\n",
    "        phone_numbers_data[key] = []\n",
    "\n",
    "print(phone_numbers_data)"
   ]
  },
  {
   "cell_type": "code",
   "execution_count": 80,
   "metadata": {},
   "outputs": [
    {
     "name": "stdout",
     "output_type": "stream",
     "text": [
      "      id               phone_numbers\n",
      "0     57                 [1599-2681]\n",
      "1     67             [010-4535-8819]\n",
      "2     77             [010-9903-8794]\n",
      "3     11             [070-4647-1868]\n",
      "4     34             [070-4647-1868]\n",
      "..   ...                         ...\n",
      "109   39              [02-2643-2988]\n",
      "110   65             [010-3309-3120]\n",
      "111  109  [1599-2681, 010-4194-8939]\n",
      "112  103             [070-4647-1868]\n",
      "113   14             [070-4647-1868]\n",
      "\n",
      "[114 rows x 2 columns]\n"
     ]
    }
   ],
   "source": [
    "# Create an empty list to hold data for the DataFrame\n",
    "data = []\n",
    "\n",
    "for key, values in phone_numbers_data.items():\n",
    "    data.append([key, values])\n",
    "\n",
    "# Create a DataFrame from the list of data\n",
    "phone_df = pd.DataFrame(data, columns=['id', 'phone_numbers'])\n",
    "\n",
    "# Display the DataFrame\n",
    "print(phone_df)"
   ]
  },
  {
   "cell_type": "code",
   "execution_count": 81,
   "metadata": {},
   "outputs": [
    {
     "name": "stdout",
     "output_type": "stream",
     "text": [
      "[57, 63, 109]\n"
     ]
    }
   ],
   "source": [
    "# Filter rows where 'phone_numbers' contain a number in \"0000-0000\" format\n",
    "pattern = r'\\d{4}-\\d{4}'\n",
    "filtered_df = phone_df[phone_df['phone_numbers'].apply(lambda x: any(re.match(pattern, number) for number in x))]\n",
    "\n",
    "# Print the 'id' values for the filtered rows\n",
    "id_values = filtered_df['id'].tolist()\n",
    "print(id_values)"
   ]
  },
  {
   "cell_type": "code",
   "execution_count": 82,
   "metadata": {},
   "outputs": [
    {
     "name": "stdout",
     "output_type": "stream",
     "text": [
      "['핸디엄 고객센터 1599-2681', '언더프레셔 1599-2681']\n",
      "['오프사이트 0507-1399-2781']\n",
      "['핸디엄 010-4194-8939', '핸디엄 1599-2681']\n"
     ]
    }
   ],
   "source": [
    "print(rdict[57])\n",
    "print(rdict[63])\n",
    "print(rdict[109])"
   ]
  },
  {
   "cell_type": "code",
   "execution_count": 103,
   "metadata": {},
   "outputs": [
    {
     "name": "stdout",
     "output_type": "stream",
     "text": [
      "Duplicates found:\n",
      "1599-2681\n",
      "070-4647-1868\n"
     ]
    }
   ],
   "source": [
    "# Flatten the list of lists\n",
    "flattened_v = [item for sublist in v for item in sublist]\n",
    "\n",
    "# Check for duplicates using a set\n",
    "duplicates = [item for item in set(flattened_v) if flattened_v.count(item) > 1]\n",
    "\n",
    "if duplicates:\n",
    "    print(\"Duplicates found:\")\n",
    "    for duplicate in duplicates:\n",
    "        print(duplicate)\n",
    "else:\n",
    "    print(\"No duplicates found.\")"
   ]
  },
  {
   "cell_type": "code",
   "execution_count": 111,
   "metadata": {},
   "outputs": [
    {
     "name": "stdout",
     "output_type": "stream",
     "text": [
      "[57]\n"
     ]
    }
   ],
   "source": [
    "def find_keys_by_value(input_dict, target_value):\n",
    "    keys = []\n",
    "    for key, value in input_dict.items():\n",
    "        if value == target_value:\n",
    "            keys.append(key)\n",
    "    return keys\n",
    "\n",
    "# Example usage:\n",
    "target_value = ['1599-2681']\n",
    "keys_with_target_value = find_keys_by_value(phone_numbers_data, target_value)\n",
    "print(keys_with_target_value)"
   ]
  },
  {
   "cell_type": "code",
   "execution_count": 108,
   "metadata": {},
   "outputs": [
    {
     "data": {
      "text/html": [
       "<div>\n",
       "<style scoped>\n",
       "    .dataframe tbody tr th:only-of-type {\n",
       "        vertical-align: middle;\n",
       "    }\n",
       "\n",
       "    .dataframe tbody tr th {\n",
       "        vertical-align: top;\n",
       "    }\n",
       "\n",
       "    .dataframe thead th {\n",
       "        text-align: right;\n",
       "    }\n",
       "</style>\n",
       "<table border=\"1\" class=\"dataframe\">\n",
       "  <thead>\n",
       "    <tr style=\"text-align: right;\">\n",
       "      <th></th>\n",
       "      <th>로스터리ID</th>\n",
       "      <th>로스터리</th>\n",
       "      <th>로스터리 주소</th>\n",
       "      <th>제품문의 관련 주소 및 전화번호</th>\n",
       "    </tr>\n",
       "  </thead>\n",
       "  <tbody>\n",
       "    <tr>\n",
       "      <th>0</th>\n",
       "      <td>57</td>\n",
       "      <td>언더프레셔</td>\n",
       "      <td>서울 강남구 영동대로106길 37 1층</td>\n",
       "      <td>핸디엄 고객센터 1599-2681</td>\n",
       "    </tr>\n",
       "    <tr>\n",
       "      <th>65</th>\n",
       "      <td>57</td>\n",
       "      <td>언더프레셔</td>\n",
       "      <td>서울 강남구 영동대로106길 37 1층</td>\n",
       "      <td>핸디엄 고객센터 1599-2681</td>\n",
       "    </tr>\n",
       "    <tr>\n",
       "      <th>286</th>\n",
       "      <td>57</td>\n",
       "      <td>언더프레셔</td>\n",
       "      <td>서울 강남구 영동대로106길 37 1층</td>\n",
       "      <td>핸디엄 고객센터 1599-2681</td>\n",
       "    </tr>\n",
       "    <tr>\n",
       "      <th>291</th>\n",
       "      <td>57</td>\n",
       "      <td>언더프레셔</td>\n",
       "      <td>서울 강남구 영동대로106길 37 1층</td>\n",
       "      <td>언더프레셔 1599-2681</td>\n",
       "    </tr>\n",
       "    <tr>\n",
       "      <th>415</th>\n",
       "      <td>57</td>\n",
       "      <td>언더프레셔</td>\n",
       "      <td>서울 강남구 영동대로106길 37 1층</td>\n",
       "      <td>핸디엄 고객센터 1599-2681</td>\n",
       "    </tr>\n",
       "  </tbody>\n",
       "</table>\n",
       "</div>"
      ],
      "text/plain": [
       "     로스터리ID   로스터리                로스터리 주소   제품문의 관련 주소 및 전화번호\n",
       "0        57  언더프레셔  서울 강남구 영동대로106길 37 1층  핸디엄 고객센터 1599-2681\n",
       "65       57  언더프레셔  서울 강남구 영동대로106길 37 1층  핸디엄 고객센터 1599-2681\n",
       "286      57  언더프레셔  서울 강남구 영동대로106길 37 1층  핸디엄 고객센터 1599-2681\n",
       "291      57  언더프레셔  서울 강남구 영동대로106길 37 1층     언더프레셔 1599-2681\n",
       "415      57  언더프레셔  서울 강남구 영동대로106길 37 1층  핸디엄 고객센터 1599-2681"
      ]
     },
     "execution_count": 108,
     "metadata": {},
     "output_type": "execute_result"
    }
   ],
   "source": [
    "# 57, 109 : 핸디엄이랑 언더프레셔는 같은 회사!!\n",
    "roastery[roastery['로스터리ID']==57]"
   ]
  },
  {
   "cell_type": "code",
   "execution_count": 114,
   "metadata": {},
   "outputs": [
    {
     "data": {
      "text/plain": [
       "(114, 2)"
      ]
     },
     "execution_count": 114,
     "metadata": {},
     "output_type": "execute_result"
    }
   ],
   "source": [
    "phone_df.shape"
   ]
  },
  {
   "cell_type": "code",
   "execution_count": 120,
   "metadata": {},
   "outputs": [
    {
     "data": {
      "text/html": [
       "<div>\n",
       "<style scoped>\n",
       "    .dataframe tbody tr th:only-of-type {\n",
       "        vertical-align: middle;\n",
       "    }\n",
       "\n",
       "    .dataframe tbody tr th {\n",
       "        vertical-align: top;\n",
       "    }\n",
       "\n",
       "    .dataframe thead th {\n",
       "        text-align: right;\n",
       "    }\n",
       "</style>\n",
       "<table border=\"1\" class=\"dataframe\">\n",
       "  <thead>\n",
       "    <tr style=\"text-align: right;\">\n",
       "      <th></th>\n",
       "      <th>로스터리ID</th>\n",
       "      <th>phone_numbers</th>\n",
       "    </tr>\n",
       "  </thead>\n",
       "  <tbody>\n",
       "    <tr>\n",
       "      <th>0</th>\n",
       "      <td>57</td>\n",
       "      <td>[1599-2681]</td>\n",
       "    </tr>\n",
       "    <tr>\n",
       "      <th>1</th>\n",
       "      <td>67</td>\n",
       "      <td>[010-4535-8819]</td>\n",
       "    </tr>\n",
       "    <tr>\n",
       "      <th>2</th>\n",
       "      <td>77</td>\n",
       "      <td>[010-9903-8794]</td>\n",
       "    </tr>\n",
       "    <tr>\n",
       "      <th>3</th>\n",
       "      <td>11</td>\n",
       "      <td>[070-4647-1868]</td>\n",
       "    </tr>\n",
       "    <tr>\n",
       "      <th>4</th>\n",
       "      <td>34</td>\n",
       "      <td>[070-4647-1868]</td>\n",
       "    </tr>\n",
       "  </tbody>\n",
       "</table>\n",
       "</div>"
      ],
      "text/plain": [
       "   로스터리ID    phone_numbers\n",
       "0      57      [1599-2681]\n",
       "1      67  [010-4535-8819]\n",
       "2      77  [010-9903-8794]\n",
       "3      11  [070-4647-1868]\n",
       "4      34  [070-4647-1868]"
      ]
     },
     "execution_count": 120,
     "metadata": {},
     "output_type": "execute_result"
    }
   ],
   "source": [
    "phone_df = phone_df.rename(columns={'id':'로스터리ID'})\n",
    "phone_df.head()"
   ]
  },
  {
   "cell_type": "code",
   "execution_count": 116,
   "metadata": {},
   "outputs": [
    {
     "data": {
      "text/html": [
       "<div>\n",
       "<style scoped>\n",
       "    .dataframe tbody tr th:only-of-type {\n",
       "        vertical-align: middle;\n",
       "    }\n",
       "\n",
       "    .dataframe tbody tr th {\n",
       "        vertical-align: top;\n",
       "    }\n",
       "\n",
       "    .dataframe thead th {\n",
       "        text-align: right;\n",
       "    }\n",
       "</style>\n",
       "<table border=\"1\" class=\"dataframe\">\n",
       "  <thead>\n",
       "    <tr style=\"text-align: right;\">\n",
       "      <th></th>\n",
       "      <th>로스터리ID</th>\n",
       "      <th>로스터리</th>\n",
       "      <th>로스터리 주소</th>\n",
       "      <th>로스터리 소개</th>\n",
       "    </tr>\n",
       "  </thead>\n",
       "  <tbody>\n",
       "    <tr>\n",
       "      <th>0</th>\n",
       "      <td>57</td>\n",
       "      <td>언더프레셔</td>\n",
       "      <td>서울 강남구 영동대로106길 37 1층</td>\n",
       "      <td>“일상 속 특별한 휴식” 커피를 추출하는 기본 원리인 물줄기의 압력(Pressure...</td>\n",
       "    </tr>\n",
       "    <tr>\n",
       "      <th>1</th>\n",
       "      <td>67</td>\n",
       "      <td>운조커피</td>\n",
       "      <td>경기도 화성시 동탄지성로 306번길 68</td>\n",
       "      <td>커피가 나에게 준 커다란 변화를 모두와 나누고 싶습니다. 나의 이름이 붙은 커피를 ...</td>\n",
       "    </tr>\n",
       "    <tr>\n",
       "      <th>2</th>\n",
       "      <td>77</td>\n",
       "      <td>제이엠디커피팩토리</td>\n",
       "      <td>경기 고양시 일산동구 장대길 75-53 나동 1층 JMD Coffee Factory</td>\n",
       "      <td>“JMD만의 명품 원두로 그 이상의 무한함을 창조하고자 합니다.” 커피는 이제 단지...</td>\n",
       "    </tr>\n",
       "    <tr>\n",
       "      <th>3</th>\n",
       "      <td>11</td>\n",
       "      <td>뉴웨이브 커피로스터스</td>\n",
       "      <td>서울특별시 양천구 오목로56길 2,1층</td>\n",
       "      <td>뉴웨이브 커피로스터스는 확고한 커피의 철학으로 우리만의 스타일로 많은 커피를 전달하...</td>\n",
       "    </tr>\n",
       "    <tr>\n",
       "      <th>4</th>\n",
       "      <td>34</td>\n",
       "      <td>베르크 로스터스</td>\n",
       "      <td>부산 부산진구 전포동 356-6 지하1층</td>\n",
       "      <td>부산에 위치한 스몰배치 스페셜티 커피 로스터리이자, 서로 다른 경험과 개성을 가진 ...</td>\n",
       "    </tr>\n",
       "  </tbody>\n",
       "</table>\n",
       "</div>"
      ],
      "text/plain": [
       "   로스터리ID         로스터리                                         로스터리 주소  \\\n",
       "0      57        언더프레셔                           서울 강남구 영동대로106길 37 1층   \n",
       "1      67         운조커피                          경기도 화성시 동탄지성로 306번길 68   \n",
       "2      77    제이엠디커피팩토리  경기 고양시 일산동구 장대길 75-53 나동 1층 JMD Coffee Factory   \n",
       "3      11  뉴웨이브 커피로스터스                           서울특별시 양천구 오목로56길 2,1층   \n",
       "4      34     베르크 로스터스                          부산 부산진구 전포동 356-6 지하1층   \n",
       "\n",
       "                                             로스터리 소개  \n",
       "0  “일상 속 특별한 휴식” 커피를 추출하는 기본 원리인 물줄기의 압력(Pressure...  \n",
       "1  커피가 나에게 준 커다란 변화를 모두와 나누고 싶습니다. 나의 이름이 붙은 커피를 ...  \n",
       "2  “JMD만의 명품 원두로 그 이상의 무한함을 창조하고자 합니다.” 커피는 이제 단지...  \n",
       "3  뉴웨이브 커피로스터스는 확고한 커피의 철학으로 우리만의 스타일로 많은 커피를 전달하...  \n",
       "4  부산에 위치한 스몰배치 스페셜티 커피 로스터리이자, 서로 다른 경험과 개성을 가진 ...  "
      ]
     },
     "execution_count": 116,
     "metadata": {},
     "output_type": "execute_result"
    }
   ],
   "source": [
    "# phone_df랑 roasteryDB.csv랑 id로 합치기\n",
    "DB = pd.read_csv('mysite/data/roasteryDB.csv', index_col=0)\n",
    "DB.head()"
   ]
  },
  {
   "cell_type": "code",
   "execution_count": 117,
   "metadata": {},
   "outputs": [
    {
     "data": {
      "text/plain": [
       "(114, 4)"
      ]
     },
     "execution_count": 117,
     "metadata": {},
     "output_type": "execute_result"
    }
   ],
   "source": [
    "DB.shape"
   ]
  },
  {
   "cell_type": "code",
   "execution_count": 121,
   "metadata": {},
   "outputs": [
    {
     "data": {
      "text/html": [
       "<div>\n",
       "<style scoped>\n",
       "    .dataframe tbody tr th:only-of-type {\n",
       "        vertical-align: middle;\n",
       "    }\n",
       "\n",
       "    .dataframe tbody tr th {\n",
       "        vertical-align: top;\n",
       "    }\n",
       "\n",
       "    .dataframe thead th {\n",
       "        text-align: right;\n",
       "    }\n",
       "</style>\n",
       "<table border=\"1\" class=\"dataframe\">\n",
       "  <thead>\n",
       "    <tr style=\"text-align: right;\">\n",
       "      <th></th>\n",
       "      <th>로스터리ID</th>\n",
       "      <th>로스터리</th>\n",
       "      <th>로스터리 주소</th>\n",
       "      <th>로스터리 소개</th>\n",
       "      <th>phone_numbers</th>\n",
       "    </tr>\n",
       "  </thead>\n",
       "  <tbody>\n",
       "    <tr>\n",
       "      <th>0</th>\n",
       "      <td>57</td>\n",
       "      <td>언더프레셔</td>\n",
       "      <td>서울 강남구 영동대로106길 37 1층</td>\n",
       "      <td>“일상 속 특별한 휴식” 커피를 추출하는 기본 원리인 물줄기의 압력(Pressure...</td>\n",
       "      <td>[1599-2681]</td>\n",
       "    </tr>\n",
       "    <tr>\n",
       "      <th>1</th>\n",
       "      <td>67</td>\n",
       "      <td>운조커피</td>\n",
       "      <td>경기도 화성시 동탄지성로 306번길 68</td>\n",
       "      <td>커피가 나에게 준 커다란 변화를 모두와 나누고 싶습니다. 나의 이름이 붙은 커피를 ...</td>\n",
       "      <td>[010-4535-8819]</td>\n",
       "    </tr>\n",
       "    <tr>\n",
       "      <th>2</th>\n",
       "      <td>77</td>\n",
       "      <td>제이엠디커피팩토리</td>\n",
       "      <td>경기 고양시 일산동구 장대길 75-53 나동 1층 JMD Coffee Factory</td>\n",
       "      <td>“JMD만의 명품 원두로 그 이상의 무한함을 창조하고자 합니다.” 커피는 이제 단지...</td>\n",
       "      <td>[010-9903-8794]</td>\n",
       "    </tr>\n",
       "    <tr>\n",
       "      <th>3</th>\n",
       "      <td>11</td>\n",
       "      <td>뉴웨이브 커피로스터스</td>\n",
       "      <td>서울특별시 양천구 오목로56길 2,1층</td>\n",
       "      <td>뉴웨이브 커피로스터스는 확고한 커피의 철학으로 우리만의 스타일로 많은 커피를 전달하...</td>\n",
       "      <td>[070-4647-1868]</td>\n",
       "    </tr>\n",
       "    <tr>\n",
       "      <th>4</th>\n",
       "      <td>34</td>\n",
       "      <td>베르크 로스터스</td>\n",
       "      <td>부산 부산진구 전포동 356-6 지하1층</td>\n",
       "      <td>부산에 위치한 스몰배치 스페셜티 커피 로스터리이자, 서로 다른 경험과 개성을 가진 ...</td>\n",
       "      <td>[070-4647-1868]</td>\n",
       "    </tr>\n",
       "  </tbody>\n",
       "</table>\n",
       "</div>"
      ],
      "text/plain": [
       "   로스터리ID         로스터리                                         로스터리 주소  \\\n",
       "0      57        언더프레셔                           서울 강남구 영동대로106길 37 1층   \n",
       "1      67         운조커피                          경기도 화성시 동탄지성로 306번길 68   \n",
       "2      77    제이엠디커피팩토리  경기 고양시 일산동구 장대길 75-53 나동 1층 JMD Coffee Factory   \n",
       "3      11  뉴웨이브 커피로스터스                           서울특별시 양천구 오목로56길 2,1층   \n",
       "4      34     베르크 로스터스                          부산 부산진구 전포동 356-6 지하1층   \n",
       "\n",
       "                                             로스터리 소개    phone_numbers  \n",
       "0  “일상 속 특별한 휴식” 커피를 추출하는 기본 원리인 물줄기의 압력(Pressure...      [1599-2681]  \n",
       "1  커피가 나에게 준 커다란 변화를 모두와 나누고 싶습니다. 나의 이름이 붙은 커피를 ...  [010-4535-8819]  \n",
       "2  “JMD만의 명품 원두로 그 이상의 무한함을 창조하고자 합니다.” 커피는 이제 단지...  [010-9903-8794]  \n",
       "3  뉴웨이브 커피로스터스는 확고한 커피의 철학으로 우리만의 스타일로 많은 커피를 전달하...  [070-4647-1868]  \n",
       "4  부산에 위치한 스몰배치 스페셜티 커피 로스터리이자, 서로 다른 경험과 개성을 가진 ...  [070-4647-1868]  "
      ]
     },
     "execution_count": 121,
     "metadata": {},
     "output_type": "execute_result"
    }
   ],
   "source": [
    "roasteryDB = pd.merge(DB, phone_df, on=\"로스터리ID\")\n",
    "roasteryDB.head()"
   ]
  },
  {
   "cell_type": "code",
   "execution_count": 122,
   "metadata": {},
   "outputs": [],
   "source": [
    "# 업데이트 mysite/data/roasteryDB.csv\n",
    "roasteryDB.to_csv('mysite/data/roasteryDB.csv', index=False)"
   ]
  },
  {
   "cell_type": "code",
   "execution_count": 125,
   "metadata": {},
   "outputs": [
    {
     "data": {
      "text/html": [
       "<div>\n",
       "<style scoped>\n",
       "    .dataframe tbody tr th:only-of-type {\n",
       "        vertical-align: middle;\n",
       "    }\n",
       "\n",
       "    .dataframe tbody tr th {\n",
       "        vertical-align: top;\n",
       "    }\n",
       "\n",
       "    .dataframe thead th {\n",
       "        text-align: right;\n",
       "    }\n",
       "</style>\n",
       "<table border=\"1\" class=\"dataframe\">\n",
       "  <thead>\n",
       "    <tr style=\"text-align: right;\">\n",
       "      <th></th>\n",
       "      <th>로스터리ID</th>\n",
       "      <th>로스터리</th>\n",
       "      <th>로스터리 주소</th>\n",
       "      <th>로스터리 소개</th>\n",
       "      <th>phone_numbers</th>\n",
       "    </tr>\n",
       "  </thead>\n",
       "  <tbody>\n",
       "    <tr>\n",
       "      <th>19</th>\n",
       "      <td>104</td>\n",
       "      <td>피어 커피로스터스</td>\n",
       "      <td>서울특별시 성동구 광나루로4가길 28 1층</td>\n",
       "      <td>PEER : 당신의 삶속에 더욱 더 가까이 동료,친구 라는 의미를 가지고 있는 PE...</td>\n",
       "      <td>[010-4501-1464, 010-9388-7053]</td>\n",
       "    </tr>\n",
       "  </tbody>\n",
       "</table>\n",
       "</div>"
      ],
      "text/plain": [
       "    로스터리ID       로스터리                  로스터리 주소  \\\n",
       "19     104  피어 커피로스터스  서울특별시 성동구 광나루로4가길 28 1층   \n",
       "\n",
       "                                              로스터리 소개  \\\n",
       "19  PEER : 당신의 삶속에 더욱 더 가까이 동료,친구 라는 의미를 가지고 있는 PE...   \n",
       "\n",
       "                     phone_numbers  \n",
       "19  [010-4501-1464, 010-9388-7053]  "
      ]
     },
     "execution_count": 125,
     "metadata": {},
     "output_type": "execute_result"
    }
   ],
   "source": [
    "roasteryDB[roasteryDB['로스터리ID']==104]"
   ]
  },
  {
   "cell_type": "markdown",
   "metadata": {},
   "source": [
    "***\n",
    "컵 노트 카테고리 칼럼\n",
    "***"
   ]
  },
  {
   "cell_type": "code",
   "execution_count": 7,
   "metadata": {},
   "outputs": [
    {
     "data": {
      "text/html": [
       "<div>\n",
       "<style scoped>\n",
       "    .dataframe tbody tr th:only-of-type {\n",
       "        vertical-align: middle;\n",
       "    }\n",
       "\n",
       "    .dataframe tbody tr th {\n",
       "        vertical-align: top;\n",
       "    }\n",
       "\n",
       "    .dataframe thead th {\n",
       "        text-align: right;\n",
       "    }\n",
       "</style>\n",
       "<table border=\"1\" class=\"dataframe\">\n",
       "  <thead>\n",
       "    <tr style=\"text-align: right;\">\n",
       "      <th></th>\n",
       "      <th>id</th>\n",
       "      <th>컵 노트</th>\n",
       "      <th>꽃</th>\n",
       "      <th>과일</th>\n",
       "      <th>허브</th>\n",
       "      <th>달콤함</th>\n",
       "      <th>고소함</th>\n",
       "      <th>향료_풍미</th>\n",
       "      <th>초콜릿</th>\n",
       "    </tr>\n",
       "  </thead>\n",
       "  <tbody>\n",
       "    <tr>\n",
       "      <th>0</th>\n",
       "      <td>43</td>\n",
       "      <td>['토피', '맥아', '흑설탕']</td>\n",
       "      <td>0</td>\n",
       "      <td>0</td>\n",
       "      <td>0</td>\n",
       "      <td>1</td>\n",
       "      <td>0</td>\n",
       "      <td>1</td>\n",
       "      <td>0</td>\n",
       "    </tr>\n",
       "    <tr>\n",
       "      <th>1</th>\n",
       "      <td>3896</td>\n",
       "      <td>['null']</td>\n",
       "      <td>0</td>\n",
       "      <td>0</td>\n",
       "      <td>0</td>\n",
       "      <td>0</td>\n",
       "      <td>0</td>\n",
       "      <td>0</td>\n",
       "      <td>0</td>\n",
       "    </tr>\n",
       "    <tr>\n",
       "      <th>2</th>\n",
       "      <td>3458</td>\n",
       "      <td>['null']</td>\n",
       "      <td>0</td>\n",
       "      <td>0</td>\n",
       "      <td>0</td>\n",
       "      <td>0</td>\n",
       "      <td>0</td>\n",
       "      <td>0</td>\n",
       "      <td>0</td>\n",
       "    </tr>\n",
       "    <tr>\n",
       "      <th>3</th>\n",
       "      <td>22</td>\n",
       "      <td>['다크 초콜릿', '마카다미아', '카라멜']</td>\n",
       "      <td>0</td>\n",
       "      <td>0</td>\n",
       "      <td>0</td>\n",
       "      <td>1</td>\n",
       "      <td>1</td>\n",
       "      <td>0</td>\n",
       "      <td>1</td>\n",
       "    </tr>\n",
       "    <tr>\n",
       "      <th>4</th>\n",
       "      <td>180</td>\n",
       "      <td>['초콜릿', '과일']</td>\n",
       "      <td>0</td>\n",
       "      <td>1</td>\n",
       "      <td>0</td>\n",
       "      <td>0</td>\n",
       "      <td>0</td>\n",
       "      <td>0</td>\n",
       "      <td>1</td>\n",
       "    </tr>\n",
       "  </tbody>\n",
       "</table>\n",
       "</div>"
      ],
      "text/plain": [
       "     id                        컵 노트  꽃  과일  허브  달콤함  고소함  향료_풍미  초콜릿\n",
       "0    43         ['토피', '맥아', '흑설탕']  0   0   0    1    0      1    0\n",
       "1  3896                    ['null']  0   0   0    0    0      0    0\n",
       "2  3458                    ['null']  0   0   0    0    0      0    0\n",
       "3    22  ['다크 초콜릿', '마카다미아', '카라멜']  0   0   0    1    1      0    1\n",
       "4   180               ['초콜릿', '과일']  0   1   0    0    0      0    1"
      ]
     },
     "execution_count": 7,
     "metadata": {},
     "output_type": "execute_result"
    }
   ],
   "source": [
    "category = pd.read_csv('category.csv')\n",
    "category = category.rename(columns={'향료_풍미':'향료'})\n",
    "\n",
    "# update category.csv\n",
    "category.to_csv('category.csv', index=False)\n",
    "test = pd.read_csv('category.csv')\n",
    "test.head(2)"
   ]
  },
  {
   "cell_type": "code",
   "execution_count": 14,
   "metadata": {},
   "outputs": [
    {
     "data": {
      "text/html": [
       "<div>\n",
       "<style scoped>\n",
       "    .dataframe tbody tr th:only-of-type {\n",
       "        vertical-align: middle;\n",
       "    }\n",
       "\n",
       "    .dataframe tbody tr th {\n",
       "        vertical-align: top;\n",
       "    }\n",
       "\n",
       "    .dataframe thead th {\n",
       "        text-align: right;\n",
       "    }\n",
       "</style>\n",
       "<table border=\"1\" class=\"dataframe\">\n",
       "  <thead>\n",
       "    <tr style=\"text-align: right;\">\n",
       "      <th></th>\n",
       "      <th>id</th>\n",
       "      <th>바디감</th>\n",
       "      <th>신맛</th>\n",
       "      <th>단맛</th>\n",
       "      <th>쓴맛</th>\n",
       "      <th>타입_디카페인</th>\n",
       "      <th>타입_블렌드</th>\n",
       "      <th>타입_싱글오리진</th>\n",
       "      <th>지속가능성_0</th>\n",
       "      <th>지속가능성_공정무역</th>\n",
       "      <th>...</th>\n",
       "      <th>로스팅 포인트_라이트미디엄</th>\n",
       "      <th>로스팅 포인트_미디엄</th>\n",
       "      <th>로스팅 포인트_미디엄다크</th>\n",
       "      <th>꽃</th>\n",
       "      <th>과일</th>\n",
       "      <th>허브</th>\n",
       "      <th>달콤함</th>\n",
       "      <th>고소함</th>\n",
       "      <th>향료_풍미</th>\n",
       "      <th>초콜릿</th>\n",
       "    </tr>\n",
       "  </thead>\n",
       "  <tbody>\n",
       "    <tr>\n",
       "      <th>0</th>\n",
       "      <td>43</td>\n",
       "      <td>4</td>\n",
       "      <td>2</td>\n",
       "      <td>4</td>\n",
       "      <td>3</td>\n",
       "      <td>0</td>\n",
       "      <td>1</td>\n",
       "      <td>0</td>\n",
       "      <td>1</td>\n",
       "      <td>0</td>\n",
       "      <td>...</td>\n",
       "      <td>0</td>\n",
       "      <td>0</td>\n",
       "      <td>1</td>\n",
       "      <td>0</td>\n",
       "      <td>0</td>\n",
       "      <td>0</td>\n",
       "      <td>1</td>\n",
       "      <td>0</td>\n",
       "      <td>1</td>\n",
       "      <td>0</td>\n",
       "    </tr>\n",
       "    <tr>\n",
       "      <th>1</th>\n",
       "      <td>3896</td>\n",
       "      <td>4</td>\n",
       "      <td>2</td>\n",
       "      <td>4</td>\n",
       "      <td>3</td>\n",
       "      <td>1</td>\n",
       "      <td>0</td>\n",
       "      <td>0</td>\n",
       "      <td>1</td>\n",
       "      <td>0</td>\n",
       "      <td>...</td>\n",
       "      <td>0</td>\n",
       "      <td>0</td>\n",
       "      <td>1</td>\n",
       "      <td>0</td>\n",
       "      <td>0</td>\n",
       "      <td>0</td>\n",
       "      <td>0</td>\n",
       "      <td>0</td>\n",
       "      <td>0</td>\n",
       "      <td>0</td>\n",
       "    </tr>\n",
       "    <tr>\n",
       "      <th>2</th>\n",
       "      <td>3458</td>\n",
       "      <td>3</td>\n",
       "      <td>4</td>\n",
       "      <td>5</td>\n",
       "      <td>1</td>\n",
       "      <td>0</td>\n",
       "      <td>0</td>\n",
       "      <td>1</td>\n",
       "      <td>0</td>\n",
       "      <td>0</td>\n",
       "      <td>...</td>\n",
       "      <td>1</td>\n",
       "      <td>0</td>\n",
       "      <td>0</td>\n",
       "      <td>0</td>\n",
       "      <td>0</td>\n",
       "      <td>0</td>\n",
       "      <td>0</td>\n",
       "      <td>0</td>\n",
       "      <td>0</td>\n",
       "      <td>0</td>\n",
       "    </tr>\n",
       "    <tr>\n",
       "      <th>3</th>\n",
       "      <td>22</td>\n",
       "      <td>4</td>\n",
       "      <td>1</td>\n",
       "      <td>3</td>\n",
       "      <td>4</td>\n",
       "      <td>0</td>\n",
       "      <td>1</td>\n",
       "      <td>0</td>\n",
       "      <td>0</td>\n",
       "      <td>1</td>\n",
       "      <td>...</td>\n",
       "      <td>0</td>\n",
       "      <td>0</td>\n",
       "      <td>0</td>\n",
       "      <td>0</td>\n",
       "      <td>0</td>\n",
       "      <td>0</td>\n",
       "      <td>1</td>\n",
       "      <td>1</td>\n",
       "      <td>0</td>\n",
       "      <td>1</td>\n",
       "    </tr>\n",
       "    <tr>\n",
       "      <th>4</th>\n",
       "      <td>180</td>\n",
       "      <td>5</td>\n",
       "      <td>3</td>\n",
       "      <td>5</td>\n",
       "      <td>1</td>\n",
       "      <td>0</td>\n",
       "      <td>0</td>\n",
       "      <td>1</td>\n",
       "      <td>1</td>\n",
       "      <td>0</td>\n",
       "      <td>...</td>\n",
       "      <td>0</td>\n",
       "      <td>0</td>\n",
       "      <td>1</td>\n",
       "      <td>0</td>\n",
       "      <td>1</td>\n",
       "      <td>0</td>\n",
       "      <td>0</td>\n",
       "      <td>0</td>\n",
       "      <td>0</td>\n",
       "      <td>1</td>\n",
       "    </tr>\n",
       "  </tbody>\n",
       "</table>\n",
       "<p>5 rows × 24 columns</p>\n",
       "</div>"
      ],
      "text/plain": [
       "     id  바디감  신맛  단맛  쓴맛  타입_디카페인  타입_블렌드  타입_싱글오리진  지속가능성_0  지속가능성_공정무역  ...  \\\n",
       "0    43    4   2   4   3        0       1         0        1           0  ...   \n",
       "1  3896    4   2   4   3        1       0         0        1           0  ...   \n",
       "2  3458    3   4   5   1        0       0         1        0           0  ...   \n",
       "3    22    4   1   3   4        0       1         0        0           1  ...   \n",
       "4   180    5   3   5   1        0       0         1        1           0  ...   \n",
       "\n",
       "   로스팅 포인트_라이트미디엄  로스팅 포인트_미디엄  로스팅 포인트_미디엄다크  꽃  과일  허브  달콤함  고소함  향료_풍미  초콜릿  \n",
       "0               0            0              1  0   0   0    1    0      1    0  \n",
       "1               0            0              1  0   0   0    0    0      0    0  \n",
       "2               1            0              0  0   0   0    0    0      0    0  \n",
       "3               0            0              0  0   0   0    1    1      0    1  \n",
       "4               0            0              1  0   1   0    0    0      0    1  \n",
       "\n",
       "[5 rows x 24 columns]"
      ]
     },
     "execution_count": 14,
     "metadata": {},
     "output_type": "execute_result"
    }
   ],
   "source": [
    "features = pd.read_csv('mysite/data/features.csv')\n",
    "features.head()"
   ]
  },
  {
   "cell_type": "code",
   "execution_count": 15,
   "metadata": {},
   "outputs": [
    {
     "data": {
      "text/plain": [
       "Index(['id', '바디감', '신맛', '단맛', '쓴맛', '타입_디카페인', '타입_블렌드', '타입_싱글오리진',\n",
       "       '지속가능성_0', '지속가능성_공정무역', '지속가능성_유기농', '지속가능성_직접무역', '로스팅 포인트_다크',\n",
       "       '로스팅 포인트_라이트', '로스팅 포인트_라이트미디엄', '로스팅 포인트_미디엄', '로스팅 포인트_미디엄다크', '꽃',\n",
       "       '과일', '허브', '달콤함', '고소함', '향료_풍미', '초콜릿'],\n",
       "      dtype='object')"
      ]
     },
     "execution_count": 15,
     "metadata": {},
     "output_type": "execute_result"
    }
   ],
   "source": [
    "features.columns"
   ]
  },
  {
   "cell_type": "code",
   "execution_count": 17,
   "metadata": {},
   "outputs": [
    {
     "data": {
      "text/plain": [
       "Index(['id', 'body', 'sour', 'sweet', 'bitter', 'decaf', 'blend', '타입_싱글오리진',\n",
       "       '지속가능성_0', '지속가능성_공정무역', '지속가능성_유기농', '지속가능성_직접무역', '로스팅 포인트_다크',\n",
       "       '로스팅 포인트_라이트', '로스팅 포인트_라이트미디엄', '로스팅 포인트_미디엄', '로스팅 포인트_미디엄다크', '꽃',\n",
       "       '과일', '허브', '달콤함', '고소함', '향료', '초콜릿'],\n",
       "      dtype='object')"
      ]
     },
     "execution_count": 17,
     "metadata": {},
     "output_type": "execute_result"
    }
   ],
   "source": [
    "column_mapping = {'바디감' : 'body', '신맛' : 'sour', '단맛' : 'sweet', '쓴맛' : 'bitter', '타입_디카페인' : 'decaf', '타입_블렌드' : 'blend', '향료_풍미':'향료'}\n",
    "features.rename(columns=column_mapping, inplace=True)\n",
    "features.columns"
   ]
  },
  {
   "cell_type": "code",
   "execution_count": 18,
   "metadata": {},
   "outputs": [
    {
     "data": {
      "text/html": [
       "<div>\n",
       "<style scoped>\n",
       "    .dataframe tbody tr th:only-of-type {\n",
       "        vertical-align: middle;\n",
       "    }\n",
       "\n",
       "    .dataframe tbody tr th {\n",
       "        vertical-align: top;\n",
       "    }\n",
       "\n",
       "    .dataframe thead th {\n",
       "        text-align: right;\n",
       "    }\n",
       "</style>\n",
       "<table border=\"1\" class=\"dataframe\">\n",
       "  <thead>\n",
       "    <tr style=\"text-align: right;\">\n",
       "      <th></th>\n",
       "      <th>id</th>\n",
       "      <th>body</th>\n",
       "      <th>sour</th>\n",
       "      <th>sweet</th>\n",
       "      <th>bitter</th>\n",
       "      <th>decaf</th>\n",
       "      <th>blend</th>\n",
       "      <th>타입_싱글오리진</th>\n",
       "      <th>지속가능성_0</th>\n",
       "      <th>지속가능성_공정무역</th>\n",
       "      <th>...</th>\n",
       "      <th>로스팅 포인트_라이트미디엄</th>\n",
       "      <th>로스팅 포인트_미디엄</th>\n",
       "      <th>로스팅 포인트_미디엄다크</th>\n",
       "      <th>꽃</th>\n",
       "      <th>과일</th>\n",
       "      <th>허브</th>\n",
       "      <th>달콤함</th>\n",
       "      <th>고소함</th>\n",
       "      <th>향료</th>\n",
       "      <th>초콜릿</th>\n",
       "    </tr>\n",
       "  </thead>\n",
       "  <tbody>\n",
       "    <tr>\n",
       "      <th>0</th>\n",
       "      <td>43</td>\n",
       "      <td>4</td>\n",
       "      <td>2</td>\n",
       "      <td>4</td>\n",
       "      <td>3</td>\n",
       "      <td>0</td>\n",
       "      <td>1</td>\n",
       "      <td>0</td>\n",
       "      <td>1</td>\n",
       "      <td>0</td>\n",
       "      <td>...</td>\n",
       "      <td>0</td>\n",
       "      <td>0</td>\n",
       "      <td>1</td>\n",
       "      <td>0</td>\n",
       "      <td>0</td>\n",
       "      <td>0</td>\n",
       "      <td>1</td>\n",
       "      <td>0</td>\n",
       "      <td>1</td>\n",
       "      <td>0</td>\n",
       "    </tr>\n",
       "    <tr>\n",
       "      <th>1</th>\n",
       "      <td>3896</td>\n",
       "      <td>4</td>\n",
       "      <td>2</td>\n",
       "      <td>4</td>\n",
       "      <td>3</td>\n",
       "      <td>1</td>\n",
       "      <td>0</td>\n",
       "      <td>0</td>\n",
       "      <td>1</td>\n",
       "      <td>0</td>\n",
       "      <td>...</td>\n",
       "      <td>0</td>\n",
       "      <td>0</td>\n",
       "      <td>1</td>\n",
       "      <td>0</td>\n",
       "      <td>0</td>\n",
       "      <td>0</td>\n",
       "      <td>0</td>\n",
       "      <td>0</td>\n",
       "      <td>0</td>\n",
       "      <td>0</td>\n",
       "    </tr>\n",
       "  </tbody>\n",
       "</table>\n",
       "<p>2 rows × 24 columns</p>\n",
       "</div>"
      ],
      "text/plain": [
       "     id  body  sour  sweet  bitter  decaf  blend  타입_싱글오리진  지속가능성_0  \\\n",
       "0    43     4     2      4       3      0      1         0        1   \n",
       "1  3896     4     2      4       3      1      0         0        1   \n",
       "\n",
       "   지속가능성_공정무역  ...  로스팅 포인트_라이트미디엄  로스팅 포인트_미디엄  로스팅 포인트_미디엄다크  꽃  과일  허브  \\\n",
       "0           0  ...               0            0              1  0   0   0   \n",
       "1           0  ...               0            0              1  0   0   0   \n",
       "\n",
       "   달콤함  고소함  향료  초콜릿  \n",
       "0    1    0   1    0  \n",
       "1    0    0   0    0  \n",
       "\n",
       "[2 rows x 24 columns]"
      ]
     },
     "execution_count": 18,
     "metadata": {},
     "output_type": "execute_result"
    }
   ],
   "source": [
    "# update features.csv\n",
    "features.to_csv('mysite/data/features.csv', index=False)\n",
    "test = pd.read_csv('mysite/data/features.csv')\n",
    "test.head(2)"
   ]
  },
  {
   "cell_type": "markdown",
   "metadata": {},
   "source": [
    "***\n",
    "디카페인\n",
    "****"
   ]
  },
  {
   "cell_type": "code",
   "execution_count": 1,
   "metadata": {},
   "outputs": [],
   "source": [
    "import pandas as pd"
   ]
  },
  {
   "cell_type": "code",
   "execution_count": 2,
   "metadata": {},
   "outputs": [
    {
     "data": {
      "text/plain": [
       "Index(['id', '이름', '로스터리', '타입', '로스팅 포인트', '지속가능성', '컵 노트', '바디감', '신맛', '단맛',\n",
       "       '쓴맛', '커피 소개', '나라', '로스터리 소개', '로스터리 주소', '이름.1', '식품의 유형',\n",
       "       '제조원 및 소재지', '유통기한', '제조일자', '내용량', '보관 방법', '원재료 및 함량',\n",
       "       '제품문의 관련 주소 및 전화번호', '카페인', '로스터리ID', 'price'],\n",
       "      dtype='object')"
      ]
     },
     "execution_count": 2,
     "metadata": {},
     "output_type": "execute_result"
    }
   ],
   "source": [
    "df = pd.read_csv('wondoofin.csv')\n",
    "df.columns"
   ]
  },
  {
   "cell_type": "code",
   "execution_count": 4,
   "metadata": {},
   "outputs": [
    {
     "data": {
      "text/plain": [
       "Index(['id', '바디감', '신맛', '단맛', '쓴맛', '타입_디카페인', '타입_블렌드', '타입_싱글오리진',\n",
       "       '지속가능성_0', '지속가능성_공정무역', '지속가능성_유기농', '지속가능성_직접무역', '로스팅 포인트_다크',\n",
       "       '로스팅 포인트_라이트', '로스팅 포인트_라이트미디엄', '로스팅 포인트_미디엄', '로스팅 포인트_미디엄다크', '꽃',\n",
       "       '과일', '허브', '달콤함', '고소함', '향료', '초콜릿'],\n",
       "      dtype='object')"
      ]
     },
     "execution_count": 4,
     "metadata": {},
     "output_type": "execute_result"
    }
   ],
   "source": [
    "features = pd.read_csv('features.csv')\n",
    "features.columns"
   ]
  },
  {
   "cell_type": "code",
   "execution_count": 5,
   "metadata": {},
   "outputs": [
    {
     "data": {
      "text/plain": [
       "Index(['id', 'body', 'sour', 'sweet', 'bitter', 'decaf', 'blend', '타입_싱글오리진',\n",
       "       '지속가능성_0', '지속가능성_공정무역', '지속가능성_유기농', '지속가능성_직접무역', '로스팅 포인트_다크',\n",
       "       '로스팅 포인트_라이트', '로스팅 포인트_라이트미디엄', '로스팅 포인트_미디엄', '로스팅 포인트_미디엄다크', '꽃',\n",
       "       '과일', '허브', '달콤함', '고소함', '향료', '초콜릿'],\n",
       "      dtype='object')"
      ]
     },
     "execution_count": 5,
     "metadata": {},
     "output_type": "execute_result"
    }
   ],
   "source": [
    "fe = pd.read_csv('mysite/data/features.csv')\n",
    "fe.columns"
   ]
  },
  {
   "cell_type": "code",
   "execution_count": 7,
   "metadata": {},
   "outputs": [
    {
     "data": {
      "text/html": [
       "<div>\n",
       "<style scoped>\n",
       "    .dataframe tbody tr th:only-of-type {\n",
       "        vertical-align: middle;\n",
       "    }\n",
       "\n",
       "    .dataframe tbody tr th {\n",
       "        vertical-align: top;\n",
       "    }\n",
       "\n",
       "    .dataframe thead th {\n",
       "        text-align: right;\n",
       "    }\n",
       "</style>\n",
       "<table border=\"1\" class=\"dataframe\">\n",
       "  <thead>\n",
       "    <tr style=\"text-align: right;\">\n",
       "      <th></th>\n",
       "      <th>id</th>\n",
       "      <th>타입_디카페인</th>\n",
       "      <th>타입_블렌드</th>\n",
       "      <th>타입_싱글오리진</th>\n",
       "    </tr>\n",
       "  </thead>\n",
       "  <tbody>\n",
       "    <tr>\n",
       "      <th>0</th>\n",
       "      <td>43</td>\n",
       "      <td>0</td>\n",
       "      <td>1</td>\n",
       "      <td>0</td>\n",
       "    </tr>\n",
       "    <tr>\n",
       "      <th>1</th>\n",
       "      <td>3896</td>\n",
       "      <td>1</td>\n",
       "      <td>0</td>\n",
       "      <td>0</td>\n",
       "    </tr>\n",
       "    <tr>\n",
       "      <th>2</th>\n",
       "      <td>3458</td>\n",
       "      <td>0</td>\n",
       "      <td>0</td>\n",
       "      <td>1</td>\n",
       "    </tr>\n",
       "    <tr>\n",
       "      <th>3</th>\n",
       "      <td>22</td>\n",
       "      <td>0</td>\n",
       "      <td>1</td>\n",
       "      <td>0</td>\n",
       "    </tr>\n",
       "    <tr>\n",
       "      <th>4</th>\n",
       "      <td>180</td>\n",
       "      <td>0</td>\n",
       "      <td>0</td>\n",
       "      <td>1</td>\n",
       "    </tr>\n",
       "  </tbody>\n",
       "</table>\n",
       "</div>"
      ],
      "text/plain": [
       "     id  타입_디카페인  타입_블렌드  타입_싱글오리진\n",
       "0    43        0       1         0\n",
       "1  3896        1       0         0\n",
       "2  3458        0       0         1\n",
       "3    22        0       1         0\n",
       "4   180        0       0         1"
      ]
     },
     "execution_count": 7,
     "metadata": {},
     "output_type": "execute_result"
    }
   ],
   "source": [
    "type_c = features[['id', '타입_디카페인', '타입_블렌드', '타입_싱글오리진']]\n",
    "type_c.head()"
   ]
  },
  {
   "cell_type": "code",
   "execution_count": 8,
   "metadata": {},
   "outputs": [
    {
     "data": {
      "text/html": [
       "<div>\n",
       "<style scoped>\n",
       "    .dataframe tbody tr th:only-of-type {\n",
       "        vertical-align: middle;\n",
       "    }\n",
       "\n",
       "    .dataframe tbody tr th {\n",
       "        vertical-align: top;\n",
       "    }\n",
       "\n",
       "    .dataframe thead th {\n",
       "        text-align: right;\n",
       "    }\n",
       "</style>\n",
       "<table border=\"1\" class=\"dataframe\">\n",
       "  <thead>\n",
       "    <tr style=\"text-align: right;\">\n",
       "      <th></th>\n",
       "      <th>id</th>\n",
       "      <th>타입_디카페인</th>\n",
       "      <th>타입_블렌드</th>\n",
       "      <th>타입_싱글오리진</th>\n",
       "    </tr>\n",
       "  </thead>\n",
       "  <tbody>\n",
       "    <tr>\n",
       "      <th>186</th>\n",
       "      <td>4483</td>\n",
       "      <td>1</td>\n",
       "      <td>0</td>\n",
       "      <td>0</td>\n",
       "    </tr>\n",
       "  </tbody>\n",
       "</table>\n",
       "</div>"
      ],
      "text/plain": [
       "       id  타입_디카페인  타입_블렌드  타입_싱글오리진\n",
       "186  4483        1       0         0"
      ]
     },
     "execution_count": 8,
     "metadata": {},
     "output_type": "execute_result"
    }
   ],
   "source": [
    "type_c[type_c['id']==4483]"
   ]
  },
  {
   "cell_type": "code",
   "execution_count": 9,
   "metadata": {},
   "outputs": [],
   "source": [
    "decaf = type_c[type_c['타입_디카페인'] == 1]"
   ]
  },
  {
   "cell_type": "code",
   "execution_count": 10,
   "metadata": {},
   "outputs": [
    {
     "data": {
      "text/plain": [
       "(93, 4)"
      ]
     },
     "execution_count": 10,
     "metadata": {},
     "output_type": "execute_result"
    }
   ],
   "source": [
    "decaf.shape"
   ]
  },
  {
   "cell_type": "code",
   "execution_count": 12,
   "metadata": {},
   "outputs": [
    {
     "data": {
      "text/plain": [
       "[3896,\n",
       " 4603,\n",
       " 3460,\n",
       " 4737,\n",
       " 4701,\n",
       " 1055,\n",
       " 127,\n",
       " 1477,\n",
       " 3180,\n",
       " 4599,\n",
       " 82,\n",
       " 137,\n",
       " 1084,\n",
       " 61,\n",
       " 194,\n",
       " 3909,\n",
       " 1505,\n",
       " 37,\n",
       " 4842,\n",
       " 1495,\n",
       " 1017,\n",
       " 1083,\n",
       " 3340,\n",
       " 4878,\n",
       " 4600,\n",
       " 124,\n",
       " 3914,\n",
       " 1707,\n",
       " 135,\n",
       " 4483,\n",
       " 3895,\n",
       " 3069,\n",
       " 3586,\n",
       " 3333,\n",
       " 4487,\n",
       " 3148,\n",
       " 1013,\n",
       " 3196,\n",
       " 3447,\n",
       " 3614,\n",
       " 4614,\n",
       " 4408,\n",
       " 1049,\n",
       " 1296,\n",
       " 3042,\n",
       " 125,\n",
       " 44,\n",
       " 4686,\n",
       " 4716,\n",
       " 1045,\n",
       " 3438,\n",
       " 4017,\n",
       " 189,\n",
       " 1086,\n",
       " 3075,\n",
       " 3516,\n",
       " 3921,\n",
       " 116,\n",
       " 4328,\n",
       " 3963,\n",
       " 3394,\n",
       " 4172,\n",
       " 136,\n",
       " 2999,\n",
       " 1714,\n",
       " 282,\n",
       " 3357,\n",
       " 4707,\n",
       " 3946,\n",
       " 1573,\n",
       " 1085,\n",
       " 3508,\n",
       " 1478,\n",
       " 4601,\n",
       " 1038,\n",
       " 3058,\n",
       " 3206,\n",
       " 4407,\n",
       " 3725,\n",
       " 4602,\n",
       " 4824,\n",
       " 1088,\n",
       " 3587,\n",
       " 4449,\n",
       " 1094,\n",
       " 2995,\n",
       " 3214,\n",
       " 226,\n",
       " 3897,\n",
       " 4004,\n",
       " 1105,\n",
       " 4643,\n",
       " 3231]"
      ]
     },
     "execution_count": 12,
     "metadata": {},
     "output_type": "execute_result"
    }
   ],
   "source": [
    "decaf = list(decaf['id'])\n",
    "decaf"
   ]
  },
  {
   "cell_type": "code",
   "execution_count": 15,
   "metadata": {},
   "outputs": [
    {
     "data": {
      "text/plain": [
       "93"
      ]
     },
     "execution_count": 15,
     "metadata": {},
     "output_type": "execute_result"
    }
   ],
   "source": [
    "len(decaf)"
   ]
  },
  {
   "cell_type": "code",
   "execution_count": 13,
   "metadata": {},
   "outputs": [],
   "source": [
    "import pickle\n",
    "# Pickle dump the set of links to a file\n",
    "with open(\"decaf.pkl\", \"wb\") as file:\n",
    "    pickle.dump(decaf, file)"
   ]
  },
  {
   "cell_type": "code",
   "execution_count": 18,
   "metadata": {},
   "outputs": [],
   "source": [
    "# package import\n",
    "import pandas as pd\n",
    "\n",
    "from bs4 import BeautifulSoup\n",
    "from selenium import webdriver\n",
    "from selenium.webdriver.chrome.service import Service\n",
    "from selenium.webdriver.common.by import By\n",
    "from selenium.webdriver.chrome.options import Options\n",
    "\n",
    "import re\n",
    "import time\n",
    "# from tqdm import tqdm_notebook\n",
    "from tqdm import tqdm\n",
    "\n",
    "import pickle\n",
    "import itertools"
   ]
  },
  {
   "cell_type": "code",
   "execution_count": 19,
   "metadata": {},
   "outputs": [
    {
     "name": "stdout",
     "output_type": "stream",
     "text": [
      "Intended length : 93 ==  93\n",
      "list length :  93\n"
     ]
    }
   ],
   "source": [
    "# Load the set of links from the file\n",
    "with open(\"decaf.pkl\", \"rb\") as file:\n",
    "    loaded_decaf = pickle.load(file)\n",
    "\n",
    "# Print the length loaded set of links. Intended length : 556\n",
    "print(\"Intended length : 93 == \", len(loaded_decaf))\n",
    "\n",
    "# change set to list\n",
    "decaf_list = list(loaded_decaf)\n",
    "print(\"list length : \", len(decaf_list))"
   ]
  },
  {
   "cell_type": "code",
   "execution_count": 22,
   "metadata": {},
   "outputs": [
    {
     "name": "stdout",
     "output_type": "stream",
     "text": [
      "3896  :  https://biz.koke.kr/products/3896\n",
      "4603  :  https://biz.koke.kr/products/4603\n",
      "3460  :  https://biz.koke.kr/products/3460\n",
      "4737  :  https://biz.koke.kr/products/4737\n",
      "4701  :  https://biz.koke.kr/products/4701\n",
      "1055  :  https://biz.koke.kr/products/1055\n",
      "127  :  https://biz.koke.kr/products/127\n",
      "1477  :  https://biz.koke.kr/products/1477\n",
      "3180  :  https://biz.koke.kr/products/3180\n",
      "4599  :  https://biz.koke.kr/products/4599\n",
      "82  :  https://biz.koke.kr/products/82\n",
      "137  :  https://biz.koke.kr/products/137\n",
      "1084  :  https://biz.koke.kr/products/1084\n",
      "61  :  https://biz.koke.kr/products/61\n",
      "194  :  https://biz.koke.kr/products/194\n",
      "3909  :  https://biz.koke.kr/products/3909\n",
      "1505  :  https://biz.koke.kr/products/1505\n",
      "37  :  https://biz.koke.kr/products/37\n",
      "4842  :  https://biz.koke.kr/products/4842\n",
      "1495  :  https://biz.koke.kr/products/1495\n",
      "1017  :  https://biz.koke.kr/products/1017\n",
      "1083  :  https://biz.koke.kr/products/1083\n",
      "3340  :  https://biz.koke.kr/products/3340\n",
      "4878  :  https://biz.koke.kr/products/4878\n",
      "4600  :  https://biz.koke.kr/products/4600\n",
      "124  :  https://biz.koke.kr/products/124\n",
      "3914  :  https://biz.koke.kr/products/3914\n",
      "1707  :  https://biz.koke.kr/products/1707\n",
      "135  :  https://biz.koke.kr/products/135\n",
      "4483  :  https://biz.koke.kr/products/4483\n",
      "3895  :  https://biz.koke.kr/products/3895\n",
      "3069  :  https://biz.koke.kr/products/3069\n",
      "3586  :  https://biz.koke.kr/products/3586\n",
      "3333  :  https://biz.koke.kr/products/3333\n",
      "4487  :  https://biz.koke.kr/products/4487\n",
      "3148  :  https://biz.koke.kr/products/3148\n",
      "1013  :  https://biz.koke.kr/products/1013\n",
      "3196  :  https://biz.koke.kr/products/3196\n",
      "3447  :  https://biz.koke.kr/products/3447\n",
      "3614  :  https://biz.koke.kr/products/3614\n",
      "4614  :  https://biz.koke.kr/products/4614\n",
      "4408  :  https://biz.koke.kr/products/4408\n",
      "1049  :  https://biz.koke.kr/products/1049\n",
      "1296  :  https://biz.koke.kr/products/1296\n",
      "3042  :  https://biz.koke.kr/products/3042\n",
      "125  :  https://biz.koke.kr/products/125\n",
      "44  :  https://biz.koke.kr/products/44\n",
      "4686  :  https://biz.koke.kr/products/4686\n",
      "4716  :  https://biz.koke.kr/products/4716\n",
      "1045  :  https://biz.koke.kr/products/1045\n",
      "3438  :  https://biz.koke.kr/products/3438\n",
      "4017  :  https://biz.koke.kr/products/4017\n",
      "189  :  https://biz.koke.kr/products/189\n",
      "1086  :  https://biz.koke.kr/products/1086\n",
      "3075  :  https://biz.koke.kr/products/3075\n",
      "3516  :  https://biz.koke.kr/products/3516\n",
      "3921  :  https://biz.koke.kr/products/3921\n",
      "116  :  https://biz.koke.kr/products/116\n",
      "4328  :  https://biz.koke.kr/products/4328\n",
      "3963  :  https://biz.koke.kr/products/3963\n",
      "3394  :  https://biz.koke.kr/products/3394\n",
      "4172  :  https://biz.koke.kr/products/4172\n",
      "136  :  https://biz.koke.kr/products/136\n",
      "2999  :  https://biz.koke.kr/products/2999\n",
      "1714  :  https://biz.koke.kr/products/1714\n",
      "282  :  https://biz.koke.kr/products/282\n",
      "3357  :  https://biz.koke.kr/products/3357\n",
      "4707  :  https://biz.koke.kr/products/4707\n",
      "3946  :  https://biz.koke.kr/products/3946\n",
      "1573  :  https://biz.koke.kr/products/1573\n",
      "1085  :  https://biz.koke.kr/products/1085\n",
      "3508  :  https://biz.koke.kr/products/3508\n",
      "1478  :  https://biz.koke.kr/products/1478\n",
      "4601  :  https://biz.koke.kr/products/4601\n",
      "1038  :  https://biz.koke.kr/products/1038\n",
      "3058  :  https://biz.koke.kr/products/3058\n",
      "3206  :  https://biz.koke.kr/products/3206\n",
      "4407  :  https://biz.koke.kr/products/4407\n",
      "3725  :  https://biz.koke.kr/products/3725\n",
      "4602  :  https://biz.koke.kr/products/4602\n",
      "4824  :  https://biz.koke.kr/products/4824\n",
      "1088  :  https://biz.koke.kr/products/1088\n",
      "3587  :  https://biz.koke.kr/products/3587\n",
      "4449  :  https://biz.koke.kr/products/4449\n",
      "1094  :  https://biz.koke.kr/products/1094\n",
      "2995  :  https://biz.koke.kr/products/2995\n",
      "3214  :  https://biz.koke.kr/products/3214\n",
      "226  :  https://biz.koke.kr/products/226\n",
      "3897  :  https://biz.koke.kr/products/3897\n",
      "4004  :  https://biz.koke.kr/products/4004\n",
      "1105  :  https://biz.koke.kr/products/1105\n",
      "4643  :  https://biz.koke.kr/products/4643\n",
      "3231  :  https://biz.koke.kr/products/3231\n",
      "True\n"
     ]
    }
   ],
   "source": [
    "decaf_links = []\n",
    "for item in decaf_list:\n",
    "    link = 'https://biz.koke.kr/products/' + str(item)\n",
    "    decaf_links.append(link)\n",
    "    print(item, ' : ', link)\n",
    "\n",
    "print(len(decaf_links) == len(decaf_list))"
   ]
  },
  {
   "cell_type": "code",
   "execution_count": 18,
   "metadata": {},
   "outputs": [],
   "source": [
    "# return type, roasting point, and sustainability of the coffee\n",
    "def other(driver):\n",
    "    type = ['블렌드', '싱글오리진', '디카페인']\n",
    "    roast = ['라이트', '라이트미디엄', '미디엄', '미디엄다크', '다크']\n",
    "    # sustain = ['직접무역', '공정무역', '유기농']\n",
    "    tmp = {'type' : [],\n",
    "           'roast' : [],\n",
    "           'sustain' : []}\n",
    "    \n",
    "    elements = driver.find_elements(By.CSS_SELECTOR, 'li.lg\\:block')\n",
    "    \n",
    "    result = []\n",
    "    for i in range(len(elements)):\n",
    "        html = elements[i].get_attribute('innerHTML')\n",
    "        # Parse the HTML content\n",
    "        soup = BeautifulSoup(html, 'html.parser')\n",
    "    \n",
    "        if soup.find_all('svg', 'hidden'):\n",
    "            result.append(elements[i].text)\n",
    "    \n",
    "    for i in result:\n",
    "        if i in type:\n",
    "            tmp['type'].append(i)\n",
    "        elif i in roast:\n",
    "            tmp['roast'].append(i)\n",
    "        else: # i in sustain:\n",
    "            tmp['sustain'].append(i)\n",
    "    return tmp"
   ]
  },
  {
   "cell_type": "code",
   "execution_count": 23,
   "metadata": {},
   "outputs": [
    {
     "name": "stderr",
     "output_type": "stream",
     "text": [
      "100%|██████████| 93/93 [10:30<00:00,  6.78s/it]\n"
     ]
    },
    {
     "name": "stdout",
     "output_type": "stream",
     "text": [
      "93 out of 93 Success!\n"
     ]
    }
   ],
   "source": [
    "service = Service(path= './driver/chromedriver.exe')\n",
    "driver = webdriver.Chrome(service=service)\n",
    "time.sleep(3)\n",
    "\n",
    "data = {}\n",
    "for link in tqdm(decaf_links):\n",
    "    driver.get(link)\n",
    "    time.sleep(3)\n",
    "    \n",
    "    # product id\n",
    "    pattern = r\"https://biz.koke.kr/products/(\\d+)\"  # Regular expression pattern to match the product number\n",
    "    match = re.search(pattern, link)\n",
    "    if match:\n",
    "        product_number = match.group(1)\n",
    "        data[product_number] = dict.fromkeys(['타입', '로스팅 포인트', '지속가능성'])  # add coffee names as keys and empty dictionary as values\n",
    "        \n",
    "    # others : '타입', '로스팅 포인트', '지속가능성'\n",
    "    tmp = other(driver)\n",
    "    for i in range(len(tmp)):\n",
    "        keys = list(tmp.keys())\n",
    "        if keys[i] == 'type':\n",
    "            data[product_number]['타입'] = tmp['type']\n",
    "        elif keys[i] == 'roast':\n",
    "            data[product_number]['로스팅 포인트'] = tmp['roast']\n",
    "        else:\n",
    "            data[product_number]['지속가능성'] = tmp['sustain']\n",
    "    time.sleep(3)\n",
    "                \n",
    "    \n",
    "driver.quit()\n",
    "\n",
    "time.sleep(3)\n",
    "\n",
    "if len(data.keys()) == 93:\n",
    "    print('{} out of 93'.format(len(data.keys())), 'Success!')\n",
    "    df = pd.DataFrame.from_dict(data)\n",
    "    newdf = df.T\n",
    "    newdf.to_csv('decaf.csv')\n",
    "else:\n",
    "    print('{} out of 93'.format(len(data.keys())))\n",
    "    # export current collected data\n",
    "    comparedf = pd.DataFrame.from_dict(data)\n",
    "    comparedf = comparedf.T\n",
    "    comparedf.to_csv('compare.csv')"
   ]
  },
  {
   "cell_type": "code",
   "execution_count": 38,
   "metadata": {},
   "outputs": [
    {
     "data": {
      "text/html": [
       "<div>\n",
       "<style scoped>\n",
       "    .dataframe tbody tr th:only-of-type {\n",
       "        vertical-align: middle;\n",
       "    }\n",
       "\n",
       "    .dataframe tbody tr th {\n",
       "        vertical-align: top;\n",
       "    }\n",
       "\n",
       "    .dataframe thead th {\n",
       "        text-align: right;\n",
       "    }\n",
       "</style>\n",
       "<table border=\"1\" class=\"dataframe\">\n",
       "  <thead>\n",
       "    <tr style=\"text-align: right;\">\n",
       "      <th></th>\n",
       "      <th>Unnamed: 0</th>\n",
       "      <th>타입</th>\n",
       "      <th>로스팅 포인트</th>\n",
       "      <th>지속가능성</th>\n",
       "    </tr>\n",
       "  </thead>\n",
       "  <tbody>\n",
       "    <tr>\n",
       "      <th>0</th>\n",
       "      <td>3896</td>\n",
       "      <td>['싱글오리진', '디카페인']</td>\n",
       "      <td>['미디엄다크']</td>\n",
       "      <td>[]</td>\n",
       "    </tr>\n",
       "    <tr>\n",
       "      <th>1</th>\n",
       "      <td>4603</td>\n",
       "      <td>['싱글오리진', '디카페인']</td>\n",
       "      <td>['미디엄다크']</td>\n",
       "      <td>['공정무역']</td>\n",
       "    </tr>\n",
       "    <tr>\n",
       "      <th>2</th>\n",
       "      <td>3460</td>\n",
       "      <td>['싱글오리진', '디카페인']</td>\n",
       "      <td>['미디엄']</td>\n",
       "      <td>['유기농']</td>\n",
       "    </tr>\n",
       "    <tr>\n",
       "      <th>3</th>\n",
       "      <td>4737</td>\n",
       "      <td>['싱글오리진', '디카페인']</td>\n",
       "      <td>['라이트미디엄']</td>\n",
       "      <td>[]</td>\n",
       "    </tr>\n",
       "    <tr>\n",
       "      <th>4</th>\n",
       "      <td>4701</td>\n",
       "      <td>['블렌드', '디카페인']</td>\n",
       "      <td>['미디엄']</td>\n",
       "      <td>[]</td>\n",
       "    </tr>\n",
       "  </tbody>\n",
       "</table>\n",
       "</div>"
      ],
      "text/plain": [
       "   Unnamed: 0                 타입     로스팅 포인트     지속가능성\n",
       "0        3896  ['싱글오리진', '디카페인']   ['미디엄다크']        []\n",
       "1        4603  ['싱글오리진', '디카페인']   ['미디엄다크']  ['공정무역']\n",
       "2        3460  ['싱글오리진', '디카페인']     ['미디엄']   ['유기농']\n",
       "3        4737  ['싱글오리진', '디카페인']  ['라이트미디엄']        []\n",
       "4        4701    ['블렌드', '디카페인']     ['미디엄']        []"
      ]
     },
     "execution_count": 38,
     "metadata": {},
     "output_type": "execute_result"
    }
   ],
   "source": [
    "decafdf = pd.read_csv('decaf.csv')\n",
    "decafdf.head()"
   ]
  },
  {
   "cell_type": "code",
   "execution_count": 39,
   "metadata": {},
   "outputs": [
    {
     "data": {
      "text/plain": [
       "['싱글오리진', '디카페인']"
      ]
     },
     "execution_count": 39,
     "metadata": {},
     "output_type": "execute_result"
    }
   ],
   "source": [
    "from ast import literal_eval\n",
    "# 리스트 처리\n",
    "decafdf['타입'] = decafdf['타입'].apply(literal_eval)\n",
    "decafdf['타입'][0]"
   ]
  },
  {
   "cell_type": "code",
   "execution_count": 40,
   "metadata": {},
   "outputs": [
    {
     "data": {
      "text/html": [
       "<div>\n",
       "<style scoped>\n",
       "    .dataframe tbody tr th:only-of-type {\n",
       "        vertical-align: middle;\n",
       "    }\n",
       "\n",
       "    .dataframe tbody tr th {\n",
       "        vertical-align: top;\n",
       "    }\n",
       "\n",
       "    .dataframe thead th {\n",
       "        text-align: right;\n",
       "    }\n",
       "</style>\n",
       "<table border=\"1\" class=\"dataframe\">\n",
       "  <thead>\n",
       "    <tr style=\"text-align: right;\">\n",
       "      <th></th>\n",
       "      <th>Unnamed: 0</th>\n",
       "      <th>타입</th>\n",
       "      <th>로스팅 포인트</th>\n",
       "      <th>지속가능성</th>\n",
       "      <th>블렌드</th>\n",
       "      <th>싱글오리진</th>\n",
       "      <th>디카페인</th>\n",
       "    </tr>\n",
       "  </thead>\n",
       "  <tbody>\n",
       "    <tr>\n",
       "      <th>0</th>\n",
       "      <td>3896</td>\n",
       "      <td>[싱글오리진, 디카페인]</td>\n",
       "      <td>['미디엄다크']</td>\n",
       "      <td>[]</td>\n",
       "      <td>0</td>\n",
       "      <td>0</td>\n",
       "      <td>0</td>\n",
       "    </tr>\n",
       "    <tr>\n",
       "      <th>1</th>\n",
       "      <td>4603</td>\n",
       "      <td>[싱글오리진, 디카페인]</td>\n",
       "      <td>['미디엄다크']</td>\n",
       "      <td>['공정무역']</td>\n",
       "      <td>0</td>\n",
       "      <td>0</td>\n",
       "      <td>0</td>\n",
       "    </tr>\n",
       "    <tr>\n",
       "      <th>2</th>\n",
       "      <td>3460</td>\n",
       "      <td>[싱글오리진, 디카페인]</td>\n",
       "      <td>['미디엄']</td>\n",
       "      <td>['유기농']</td>\n",
       "      <td>0</td>\n",
       "      <td>0</td>\n",
       "      <td>0</td>\n",
       "    </tr>\n",
       "    <tr>\n",
       "      <th>3</th>\n",
       "      <td>4737</td>\n",
       "      <td>[싱글오리진, 디카페인]</td>\n",
       "      <td>['라이트미디엄']</td>\n",
       "      <td>[]</td>\n",
       "      <td>0</td>\n",
       "      <td>0</td>\n",
       "      <td>0</td>\n",
       "    </tr>\n",
       "    <tr>\n",
       "      <th>4</th>\n",
       "      <td>4701</td>\n",
       "      <td>[블렌드, 디카페인]</td>\n",
       "      <td>['미디엄']</td>\n",
       "      <td>[]</td>\n",
       "      <td>0</td>\n",
       "      <td>0</td>\n",
       "      <td>0</td>\n",
       "    </tr>\n",
       "  </tbody>\n",
       "</table>\n",
       "</div>"
      ],
      "text/plain": [
       "   Unnamed: 0             타입     로스팅 포인트     지속가능성  블렌드  싱글오리진  디카페인\n",
       "0        3896  [싱글오리진, 디카페인]   ['미디엄다크']        []    0      0     0\n",
       "1        4603  [싱글오리진, 디카페인]   ['미디엄다크']  ['공정무역']    0      0     0\n",
       "2        3460  [싱글오리진, 디카페인]     ['미디엄']   ['유기농']    0      0     0\n",
       "3        4737  [싱글오리진, 디카페인]  ['라이트미디엄']        []    0      0     0\n",
       "4        4701    [블렌드, 디카페인]     ['미디엄']        []    0      0     0"
      ]
     },
     "execution_count": 40,
     "metadata": {},
     "output_type": "execute_result"
    }
   ],
   "source": [
    "coffee_type = ['블렌드', '싱글오리진', '디카페인']\n",
    "for i in coffee_type:\n",
    "    decafdf[i] = 0\n",
    "decafdf.head()"
   ]
  },
  {
   "cell_type": "code",
   "execution_count": 41,
   "metadata": {},
   "outputs": [
    {
     "data": {
      "text/html": [
       "<div>\n",
       "<style scoped>\n",
       "    .dataframe tbody tr th:only-of-type {\n",
       "        vertical-align: middle;\n",
       "    }\n",
       "\n",
       "    .dataframe tbody tr th {\n",
       "        vertical-align: top;\n",
       "    }\n",
       "\n",
       "    .dataframe thead th {\n",
       "        text-align: right;\n",
       "    }\n",
       "</style>\n",
       "<table border=\"1\" class=\"dataframe\">\n",
       "  <thead>\n",
       "    <tr style=\"text-align: right;\">\n",
       "      <th></th>\n",
       "      <th>Unnamed: 0</th>\n",
       "      <th>타입</th>\n",
       "      <th>로스팅 포인트</th>\n",
       "      <th>지속가능성</th>\n",
       "      <th>블렌드</th>\n",
       "      <th>싱글오리진</th>\n",
       "      <th>디카페인</th>\n",
       "    </tr>\n",
       "  </thead>\n",
       "  <tbody>\n",
       "    <tr>\n",
       "      <th>0</th>\n",
       "      <td>3896</td>\n",
       "      <td>[싱글오리진, 디카페인]</td>\n",
       "      <td>['미디엄다크']</td>\n",
       "      <td>[]</td>\n",
       "      <td>0</td>\n",
       "      <td>1</td>\n",
       "      <td>1</td>\n",
       "    </tr>\n",
       "    <tr>\n",
       "      <th>1</th>\n",
       "      <td>4603</td>\n",
       "      <td>[싱글오리진, 디카페인]</td>\n",
       "      <td>['미디엄다크']</td>\n",
       "      <td>['공정무역']</td>\n",
       "      <td>0</td>\n",
       "      <td>1</td>\n",
       "      <td>1</td>\n",
       "    </tr>\n",
       "    <tr>\n",
       "      <th>2</th>\n",
       "      <td>3460</td>\n",
       "      <td>[싱글오리진, 디카페인]</td>\n",
       "      <td>['미디엄']</td>\n",
       "      <td>['유기농']</td>\n",
       "      <td>0</td>\n",
       "      <td>1</td>\n",
       "      <td>1</td>\n",
       "    </tr>\n",
       "    <tr>\n",
       "      <th>3</th>\n",
       "      <td>4737</td>\n",
       "      <td>[싱글오리진, 디카페인]</td>\n",
       "      <td>['라이트미디엄']</td>\n",
       "      <td>[]</td>\n",
       "      <td>0</td>\n",
       "      <td>1</td>\n",
       "      <td>1</td>\n",
       "    </tr>\n",
       "    <tr>\n",
       "      <th>4</th>\n",
       "      <td>4701</td>\n",
       "      <td>[블렌드, 디카페인]</td>\n",
       "      <td>['미디엄']</td>\n",
       "      <td>[]</td>\n",
       "      <td>1</td>\n",
       "      <td>0</td>\n",
       "      <td>1</td>\n",
       "    </tr>\n",
       "  </tbody>\n",
       "</table>\n",
       "</div>"
      ],
      "text/plain": [
       "   Unnamed: 0             타입     로스팅 포인트     지속가능성  블렌드  싱글오리진  디카페인\n",
       "0        3896  [싱글오리진, 디카페인]   ['미디엄다크']        []    0      1     1\n",
       "1        4603  [싱글오리진, 디카페인]   ['미디엄다크']  ['공정무역']    0      1     1\n",
       "2        3460  [싱글오리진, 디카페인]     ['미디엄']   ['유기농']    0      1     1\n",
       "3        4737  [싱글오리진, 디카페인]  ['라이트미디엄']        []    0      1     1\n",
       "4        4701    [블렌드, 디카페인]     ['미디엄']        []    1      0     1"
      ]
     },
     "execution_count": 41,
     "metadata": {},
     "output_type": "execute_result"
    }
   ],
   "source": [
    "for i in range(len(decafdf)):\n",
    "    for k in decafdf['타입'][i]:\n",
    "        decafdf.loc[i, k] = 1\n",
    "        \n",
    "decafdf.head()"
   ]
  },
  {
   "cell_type": "code",
   "execution_count": 46,
   "metadata": {},
   "outputs": [
    {
     "data": {
      "text/html": [
       "<div>\n",
       "<style scoped>\n",
       "    .dataframe tbody tr th:only-of-type {\n",
       "        vertical-align: middle;\n",
       "    }\n",
       "\n",
       "    .dataframe tbody tr th {\n",
       "        vertical-align: top;\n",
       "    }\n",
       "\n",
       "    .dataframe thead th {\n",
       "        text-align: right;\n",
       "    }\n",
       "</style>\n",
       "<table border=\"1\" class=\"dataframe\">\n",
       "  <thead>\n",
       "    <tr style=\"text-align: right;\">\n",
       "      <th></th>\n",
       "      <th>id</th>\n",
       "      <th>타입</th>\n",
       "      <th>로스팅 포인트</th>\n",
       "      <th>지속가능성</th>\n",
       "      <th>블렌드</th>\n",
       "      <th>싱글오리진</th>\n",
       "      <th>디카페인</th>\n",
       "    </tr>\n",
       "  </thead>\n",
       "  <tbody>\n",
       "    <tr>\n",
       "      <th>0</th>\n",
       "      <td>3896</td>\n",
       "      <td>[싱글오리진, 디카페인]</td>\n",
       "      <td>['미디엄다크']</td>\n",
       "      <td>[]</td>\n",
       "      <td>0</td>\n",
       "      <td>1</td>\n",
       "      <td>1</td>\n",
       "    </tr>\n",
       "    <tr>\n",
       "      <th>1</th>\n",
       "      <td>4603</td>\n",
       "      <td>[싱글오리진, 디카페인]</td>\n",
       "      <td>['미디엄다크']</td>\n",
       "      <td>['공정무역']</td>\n",
       "      <td>0</td>\n",
       "      <td>1</td>\n",
       "      <td>1</td>\n",
       "    </tr>\n",
       "    <tr>\n",
       "      <th>2</th>\n",
       "      <td>3460</td>\n",
       "      <td>[싱글오리진, 디카페인]</td>\n",
       "      <td>['미디엄']</td>\n",
       "      <td>['유기농']</td>\n",
       "      <td>0</td>\n",
       "      <td>1</td>\n",
       "      <td>1</td>\n",
       "    </tr>\n",
       "    <tr>\n",
       "      <th>3</th>\n",
       "      <td>4737</td>\n",
       "      <td>[싱글오리진, 디카페인]</td>\n",
       "      <td>['라이트미디엄']</td>\n",
       "      <td>[]</td>\n",
       "      <td>0</td>\n",
       "      <td>1</td>\n",
       "      <td>1</td>\n",
       "    </tr>\n",
       "    <tr>\n",
       "      <th>4</th>\n",
       "      <td>4701</td>\n",
       "      <td>[블렌드, 디카페인]</td>\n",
       "      <td>['미디엄']</td>\n",
       "      <td>[]</td>\n",
       "      <td>1</td>\n",
       "      <td>0</td>\n",
       "      <td>1</td>\n",
       "    </tr>\n",
       "  </tbody>\n",
       "</table>\n",
       "</div>"
      ],
      "text/plain": [
       "     id             타입     로스팅 포인트     지속가능성  블렌드  싱글오리진  디카페인\n",
       "0  3896  [싱글오리진, 디카페인]   ['미디엄다크']        []    0      1     1\n",
       "1  4603  [싱글오리진, 디카페인]   ['미디엄다크']  ['공정무역']    0      1     1\n",
       "2  3460  [싱글오리진, 디카페인]     ['미디엄']   ['유기농']    0      1     1\n",
       "3  4737  [싱글오리진, 디카페인]  ['라이트미디엄']        []    0      1     1\n",
       "4  4701    [블렌드, 디카페인]     ['미디엄']        []    1      0     1"
      ]
     },
     "execution_count": 46,
     "metadata": {},
     "output_type": "execute_result"
    }
   ],
   "source": [
    "decafdf = decafdf.rename(columns={'Unnamed: 0':'id'})\n",
    "decafdf.head()"
   ]
  },
  {
   "cell_type": "code",
   "execution_count": 45,
   "metadata": {},
   "outputs": [
    {
     "data": {
      "text/html": [
       "<div>\n",
       "<style scoped>\n",
       "    .dataframe tbody tr th:only-of-type {\n",
       "        vertical-align: middle;\n",
       "    }\n",
       "\n",
       "    .dataframe tbody tr th {\n",
       "        vertical-align: top;\n",
       "    }\n",
       "\n",
       "    .dataframe thead th {\n",
       "        text-align: right;\n",
       "    }\n",
       "</style>\n",
       "<table border=\"1\" class=\"dataframe\">\n",
       "  <thead>\n",
       "    <tr style=\"text-align: right;\">\n",
       "      <th></th>\n",
       "      <th>id</th>\n",
       "      <th>타입_블렌드</th>\n",
       "      <th>타입_싱글오리진</th>\n",
       "      <th>타입_디카페인</th>\n",
       "    </tr>\n",
       "  </thead>\n",
       "  <tbody>\n",
       "    <tr>\n",
       "      <th>0</th>\n",
       "      <td>43</td>\n",
       "      <td>1</td>\n",
       "      <td>0</td>\n",
       "      <td>0</td>\n",
       "    </tr>\n",
       "    <tr>\n",
       "      <th>1</th>\n",
       "      <td>3896</td>\n",
       "      <td>0</td>\n",
       "      <td>0</td>\n",
       "      <td>1</td>\n",
       "    </tr>\n",
       "    <tr>\n",
       "      <th>2</th>\n",
       "      <td>3458</td>\n",
       "      <td>0</td>\n",
       "      <td>1</td>\n",
       "      <td>0</td>\n",
       "    </tr>\n",
       "    <tr>\n",
       "      <th>3</th>\n",
       "      <td>22</td>\n",
       "      <td>1</td>\n",
       "      <td>0</td>\n",
       "      <td>0</td>\n",
       "    </tr>\n",
       "    <tr>\n",
       "      <th>4</th>\n",
       "      <td>180</td>\n",
       "      <td>0</td>\n",
       "      <td>1</td>\n",
       "      <td>0</td>\n",
       "    </tr>\n",
       "  </tbody>\n",
       "</table>\n",
       "</div>"
      ],
      "text/plain": [
       "     id  타입_블렌드  타입_싱글오리진  타입_디카페인\n",
       "0    43       1         0        0\n",
       "1  3896       0         0        1\n",
       "2  3458       0         1        0\n",
       "3    22       1         0        0\n",
       "4   180       0         1        0"
      ]
     },
     "execution_count": 45,
     "metadata": {},
     "output_type": "execute_result"
    }
   ],
   "source": [
    "features[['id', '타입_블렌드', '타입_싱글오리진', '타입_디카페인']].head()"
   ]
  },
  {
   "cell_type": "code",
   "execution_count": 48,
   "metadata": {},
   "outputs": [
    {
     "data": {
      "text/html": [
       "<div>\n",
       "<style scoped>\n",
       "    .dataframe tbody tr th:only-of-type {\n",
       "        vertical-align: middle;\n",
       "    }\n",
       "\n",
       "    .dataframe tbody tr th {\n",
       "        vertical-align: top;\n",
       "    }\n",
       "\n",
       "    .dataframe thead th {\n",
       "        text-align: right;\n",
       "    }\n",
       "</style>\n",
       "<table border=\"1\" class=\"dataframe\">\n",
       "  <thead>\n",
       "    <tr style=\"text-align: right;\">\n",
       "      <th></th>\n",
       "      <th>id</th>\n",
       "      <th>바디감</th>\n",
       "      <th>신맛</th>\n",
       "      <th>단맛</th>\n",
       "      <th>쓴맛</th>\n",
       "      <th>타입_디카페인</th>\n",
       "      <th>타입_블렌드</th>\n",
       "      <th>타입_싱글오리진</th>\n",
       "      <th>지속가능성_0</th>\n",
       "      <th>지속가능성_공정무역</th>\n",
       "      <th>...</th>\n",
       "      <th>달콤함</th>\n",
       "      <th>고소함</th>\n",
       "      <th>향료</th>\n",
       "      <th>초콜릿</th>\n",
       "      <th>타입</th>\n",
       "      <th>로스팅 포인트</th>\n",
       "      <th>지속가능성</th>\n",
       "      <th>블렌드</th>\n",
       "      <th>싱글오리진</th>\n",
       "      <th>디카페인</th>\n",
       "    </tr>\n",
       "  </thead>\n",
       "  <tbody>\n",
       "    <tr>\n",
       "      <th>0</th>\n",
       "      <td>3896</td>\n",
       "      <td>4</td>\n",
       "      <td>2</td>\n",
       "      <td>4</td>\n",
       "      <td>3</td>\n",
       "      <td>1</td>\n",
       "      <td>0</td>\n",
       "      <td>0</td>\n",
       "      <td>1</td>\n",
       "      <td>0</td>\n",
       "      <td>...</td>\n",
       "      <td>0</td>\n",
       "      <td>0</td>\n",
       "      <td>0</td>\n",
       "      <td>0</td>\n",
       "      <td>[싱글오리진, 디카페인]</td>\n",
       "      <td>['미디엄다크']</td>\n",
       "      <td>[]</td>\n",
       "      <td>0</td>\n",
       "      <td>1</td>\n",
       "      <td>1</td>\n",
       "    </tr>\n",
       "    <tr>\n",
       "      <th>1</th>\n",
       "      <td>4603</td>\n",
       "      <td>3</td>\n",
       "      <td>2</td>\n",
       "      <td>3</td>\n",
       "      <td>2</td>\n",
       "      <td>1</td>\n",
       "      <td>0</td>\n",
       "      <td>0</td>\n",
       "      <td>0</td>\n",
       "      <td>1</td>\n",
       "      <td>...</td>\n",
       "      <td>0</td>\n",
       "      <td>0</td>\n",
       "      <td>0</td>\n",
       "      <td>0</td>\n",
       "      <td>[싱글오리진, 디카페인]</td>\n",
       "      <td>['미디엄다크']</td>\n",
       "      <td>['공정무역']</td>\n",
       "      <td>0</td>\n",
       "      <td>1</td>\n",
       "      <td>1</td>\n",
       "    </tr>\n",
       "  </tbody>\n",
       "</table>\n",
       "<p>2 rows × 30 columns</p>\n",
       "</div>"
      ],
      "text/plain": [
       "     id  바디감  신맛  단맛  쓴맛  타입_디카페인  타입_블렌드  타입_싱글오리진  지속가능성_0  지속가능성_공정무역  ...  \\\n",
       "0  3896    4   2   4   3        1       0         0        1           0  ...   \n",
       "1  4603    3   2   3   2        1       0         0        0           1  ...   \n",
       "\n",
       "   달콤함  고소함  향료  초콜릿             타입    로스팅 포인트     지속가능성  블렌드  싱글오리진  디카페인  \n",
       "0    0    0   0    0  [싱글오리진, 디카페인]  ['미디엄다크']        []    0      1     1  \n",
       "1    0    0   0    0  [싱글오리진, 디카페인]  ['미디엄다크']  ['공정무역']    0      1     1  \n",
       "\n",
       "[2 rows x 30 columns]"
      ]
     },
     "execution_count": 48,
     "metadata": {},
     "output_type": "execute_result"
    }
   ],
   "source": [
    "corrected_features = pd.merge(features, decafdf, on=\"id\")\n",
    "corrected_features.head(2)"
   ]
  },
  {
   "cell_type": "code",
   "execution_count": 53,
   "metadata": {},
   "outputs": [],
   "source": [
    "# corrected_features.drop(columns=['타입_블렌드', '타입_싱글오리진', '타입_디카페인'], inplace=True)\n",
    "corrected_features = corrected_features.rename(columns={'블렌드':'타입_블렌드', '싱글오리진':'타입_싱글오리진', '디카페인':'타입_디카페인'})\n",
    "corrected_features.drop(columns=['타입', '로스팅 포인트', '지속가능성'], inplace=True)"
   ]
  },
  {
   "cell_type": "code",
   "execution_count": 54,
   "metadata": {},
   "outputs": [
    {
     "data": {
      "text/html": [
       "<div>\n",
       "<style scoped>\n",
       "    .dataframe tbody tr th:only-of-type {\n",
       "        vertical-align: middle;\n",
       "    }\n",
       "\n",
       "    .dataframe tbody tr th {\n",
       "        vertical-align: top;\n",
       "    }\n",
       "\n",
       "    .dataframe thead th {\n",
       "        text-align: right;\n",
       "    }\n",
       "</style>\n",
       "<table border=\"1\" class=\"dataframe\">\n",
       "  <thead>\n",
       "    <tr style=\"text-align: right;\">\n",
       "      <th></th>\n",
       "      <th>id</th>\n",
       "      <th>바디감</th>\n",
       "      <th>신맛</th>\n",
       "      <th>단맛</th>\n",
       "      <th>쓴맛</th>\n",
       "      <th>지속가능성_0</th>\n",
       "      <th>지속가능성_공정무역</th>\n",
       "      <th>지속가능성_유기농</th>\n",
       "      <th>지속가능성_직접무역</th>\n",
       "      <th>로스팅 포인트_다크</th>\n",
       "      <th>...</th>\n",
       "      <th>꽃</th>\n",
       "      <th>과일</th>\n",
       "      <th>허브</th>\n",
       "      <th>달콤함</th>\n",
       "      <th>고소함</th>\n",
       "      <th>향료</th>\n",
       "      <th>초콜릿</th>\n",
       "      <th>타입_블렌드</th>\n",
       "      <th>타입_싱글오리진</th>\n",
       "      <th>타입_디카페인</th>\n",
       "    </tr>\n",
       "  </thead>\n",
       "  <tbody>\n",
       "    <tr>\n",
       "      <th>0</th>\n",
       "      <td>3896</td>\n",
       "      <td>4</td>\n",
       "      <td>2</td>\n",
       "      <td>4</td>\n",
       "      <td>3</td>\n",
       "      <td>1</td>\n",
       "      <td>0</td>\n",
       "      <td>0</td>\n",
       "      <td>0</td>\n",
       "      <td>0</td>\n",
       "      <td>...</td>\n",
       "      <td>0</td>\n",
       "      <td>0</td>\n",
       "      <td>0</td>\n",
       "      <td>0</td>\n",
       "      <td>0</td>\n",
       "      <td>0</td>\n",
       "      <td>0</td>\n",
       "      <td>0</td>\n",
       "      <td>1</td>\n",
       "      <td>1</td>\n",
       "    </tr>\n",
       "    <tr>\n",
       "      <th>1</th>\n",
       "      <td>4603</td>\n",
       "      <td>3</td>\n",
       "      <td>2</td>\n",
       "      <td>3</td>\n",
       "      <td>2</td>\n",
       "      <td>0</td>\n",
       "      <td>1</td>\n",
       "      <td>0</td>\n",
       "      <td>0</td>\n",
       "      <td>0</td>\n",
       "      <td>...</td>\n",
       "      <td>0</td>\n",
       "      <td>0</td>\n",
       "      <td>0</td>\n",
       "      <td>0</td>\n",
       "      <td>0</td>\n",
       "      <td>0</td>\n",
       "      <td>0</td>\n",
       "      <td>0</td>\n",
       "      <td>1</td>\n",
       "      <td>1</td>\n",
       "    </tr>\n",
       "    <tr>\n",
       "      <th>2</th>\n",
       "      <td>3460</td>\n",
       "      <td>3</td>\n",
       "      <td>4</td>\n",
       "      <td>5</td>\n",
       "      <td>3</td>\n",
       "      <td>0</td>\n",
       "      <td>0</td>\n",
       "      <td>1</td>\n",
       "      <td>0</td>\n",
       "      <td>0</td>\n",
       "      <td>...</td>\n",
       "      <td>0</td>\n",
       "      <td>0</td>\n",
       "      <td>0</td>\n",
       "      <td>0</td>\n",
       "      <td>0</td>\n",
       "      <td>0</td>\n",
       "      <td>0</td>\n",
       "      <td>0</td>\n",
       "      <td>1</td>\n",
       "      <td>1</td>\n",
       "    </tr>\n",
       "    <tr>\n",
       "      <th>3</th>\n",
       "      <td>4737</td>\n",
       "      <td>2</td>\n",
       "      <td>4</td>\n",
       "      <td>3</td>\n",
       "      <td>1</td>\n",
       "      <td>1</td>\n",
       "      <td>0</td>\n",
       "      <td>0</td>\n",
       "      <td>0</td>\n",
       "      <td>0</td>\n",
       "      <td>...</td>\n",
       "      <td>0</td>\n",
       "      <td>0</td>\n",
       "      <td>0</td>\n",
       "      <td>0</td>\n",
       "      <td>0</td>\n",
       "      <td>0</td>\n",
       "      <td>0</td>\n",
       "      <td>0</td>\n",
       "      <td>1</td>\n",
       "      <td>1</td>\n",
       "    </tr>\n",
       "    <tr>\n",
       "      <th>4</th>\n",
       "      <td>4701</td>\n",
       "      <td>3</td>\n",
       "      <td>2</td>\n",
       "      <td>4</td>\n",
       "      <td>1</td>\n",
       "      <td>1</td>\n",
       "      <td>0</td>\n",
       "      <td>0</td>\n",
       "      <td>0</td>\n",
       "      <td>0</td>\n",
       "      <td>...</td>\n",
       "      <td>0</td>\n",
       "      <td>0</td>\n",
       "      <td>0</td>\n",
       "      <td>0</td>\n",
       "      <td>0</td>\n",
       "      <td>0</td>\n",
       "      <td>0</td>\n",
       "      <td>1</td>\n",
       "      <td>0</td>\n",
       "      <td>1</td>\n",
       "    </tr>\n",
       "  </tbody>\n",
       "</table>\n",
       "<p>5 rows × 24 columns</p>\n",
       "</div>"
      ],
      "text/plain": [
       "     id  바디감  신맛  단맛  쓴맛  지속가능성_0  지속가능성_공정무역  지속가능성_유기농  지속가능성_직접무역  \\\n",
       "0  3896    4   2   4   3        1           0          0           0   \n",
       "1  4603    3   2   3   2        0           1          0           0   \n",
       "2  3460    3   4   5   3        0           0          1           0   \n",
       "3  4737    2   4   3   1        1           0          0           0   \n",
       "4  4701    3   2   4   1        1           0          0           0   \n",
       "\n",
       "   로스팅 포인트_다크  ...  꽃  과일  허브  달콤함  고소함  향료  초콜릿  타입_블렌드  타입_싱글오리진  타입_디카페인  \n",
       "0           0  ...  0   0   0    0    0   0    0       0         1        1  \n",
       "1           0  ...  0   0   0    0    0   0    0       0         1        1  \n",
       "2           0  ...  0   0   0    0    0   0    0       0         1        1  \n",
       "3           0  ...  0   0   0    0    0   0    0       0         1        1  \n",
       "4           0  ...  0   0   0    0    0   0    0       1         0        1  \n",
       "\n",
       "[5 rows x 24 columns]"
      ]
     },
     "execution_count": 54,
     "metadata": {},
     "output_type": "execute_result"
    }
   ],
   "source": [
    "corrected_features.head()"
   ]
  },
  {
   "cell_type": "code",
   "execution_count": 55,
   "metadata": {},
   "outputs": [
    {
     "data": {
      "text/html": [
       "<div>\n",
       "<style scoped>\n",
       "    .dataframe tbody tr th:only-of-type {\n",
       "        vertical-align: middle;\n",
       "    }\n",
       "\n",
       "    .dataframe tbody tr th {\n",
       "        vertical-align: top;\n",
       "    }\n",
       "\n",
       "    .dataframe thead th {\n",
       "        text-align: right;\n",
       "    }\n",
       "</style>\n",
       "<table border=\"1\" class=\"dataframe\">\n",
       "  <thead>\n",
       "    <tr style=\"text-align: right;\">\n",
       "      <th></th>\n",
       "      <th>id</th>\n",
       "      <th>바디감</th>\n",
       "      <th>신맛</th>\n",
       "      <th>단맛</th>\n",
       "      <th>쓴맛</th>\n",
       "      <th>타입_디카페인</th>\n",
       "      <th>타입_블렌드</th>\n",
       "      <th>타입_싱글오리진</th>\n",
       "      <th>지속가능성_0</th>\n",
       "      <th>지속가능성_공정무역</th>\n",
       "      <th>...</th>\n",
       "      <th>로스팅 포인트_라이트미디엄</th>\n",
       "      <th>로스팅 포인트_미디엄</th>\n",
       "      <th>로스팅 포인트_미디엄다크</th>\n",
       "      <th>꽃</th>\n",
       "      <th>과일</th>\n",
       "      <th>허브</th>\n",
       "      <th>달콤함</th>\n",
       "      <th>고소함</th>\n",
       "      <th>향료</th>\n",
       "      <th>초콜릿</th>\n",
       "    </tr>\n",
       "  </thead>\n",
       "  <tbody>\n",
       "    <tr>\n",
       "      <th>0</th>\n",
       "      <td>3896</td>\n",
       "      <td>4</td>\n",
       "      <td>2</td>\n",
       "      <td>4</td>\n",
       "      <td>3</td>\n",
       "      <td>1</td>\n",
       "      <td>0</td>\n",
       "      <td>1</td>\n",
       "      <td>1</td>\n",
       "      <td>0</td>\n",
       "      <td>...</td>\n",
       "      <td>0</td>\n",
       "      <td>0</td>\n",
       "      <td>1</td>\n",
       "      <td>0</td>\n",
       "      <td>0</td>\n",
       "      <td>0</td>\n",
       "      <td>0</td>\n",
       "      <td>0</td>\n",
       "      <td>0</td>\n",
       "      <td>0</td>\n",
       "    </tr>\n",
       "    <tr>\n",
       "      <th>1</th>\n",
       "      <td>4603</td>\n",
       "      <td>3</td>\n",
       "      <td>2</td>\n",
       "      <td>3</td>\n",
       "      <td>2</td>\n",
       "      <td>1</td>\n",
       "      <td>0</td>\n",
       "      <td>1</td>\n",
       "      <td>0</td>\n",
       "      <td>1</td>\n",
       "      <td>...</td>\n",
       "      <td>0</td>\n",
       "      <td>0</td>\n",
       "      <td>1</td>\n",
       "      <td>0</td>\n",
       "      <td>0</td>\n",
       "      <td>0</td>\n",
       "      <td>0</td>\n",
       "      <td>0</td>\n",
       "      <td>0</td>\n",
       "      <td>0</td>\n",
       "    </tr>\n",
       "  </tbody>\n",
       "</table>\n",
       "<p>2 rows × 24 columns</p>\n",
       "</div>"
      ],
      "text/plain": [
       "     id  바디감  신맛  단맛  쓴맛  타입_디카페인  타입_블렌드  타입_싱글오리진  지속가능성_0  지속가능성_공정무역  ...  \\\n",
       "0  3896    4   2   4   3        1       0         1        1           0  ...   \n",
       "1  4603    3   2   3   2        1       0         1        0           1  ...   \n",
       "\n",
       "   로스팅 포인트_라이트미디엄  로스팅 포인트_미디엄  로스팅 포인트_미디엄다크  꽃  과일  허브  달콤함  고소함  향료  초콜릿  \n",
       "0               0            0              1  0   0   0    0    0   0    0  \n",
       "1               0            0              1  0   0   0    0    0   0    0  \n",
       "\n",
       "[2 rows x 24 columns]"
      ]
     },
     "execution_count": 55,
     "metadata": {},
     "output_type": "execute_result"
    }
   ],
   "source": [
    "corrected_features = corrected_features[['id', '바디감', '신맛', '단맛', '쓴맛', '타입_디카페인', '타입_블렌드', '타입_싱글오리진',\n",
    "       '지속가능성_0', '지속가능성_공정무역', '지속가능성_유기농', '지속가능성_직접무역', '로스팅 포인트_다크',\n",
    "       '로스팅 포인트_라이트', '로스팅 포인트_라이트미디엄', '로스팅 포인트_미디엄', '로스팅 포인트_미디엄다크', '꽃',\n",
    "       '과일', '허브', '달콤함', '고소함', '향료', '초콜릿']]\n",
    "corrected_features.head(2)"
   ]
  },
  {
   "cell_type": "code",
   "execution_count": 56,
   "metadata": {},
   "outputs": [],
   "source": [
    "# update features.csv\n",
    "corrected_features.to_csv('features.csv')"
   ]
  },
  {
   "cell_type": "code",
   "execution_count": 58,
   "metadata": {},
   "outputs": [
    {
     "data": {
      "text/html": [
       "<div>\n",
       "<style scoped>\n",
       "    .dataframe tbody tr th:only-of-type {\n",
       "        vertical-align: middle;\n",
       "    }\n",
       "\n",
       "    .dataframe tbody tr th {\n",
       "        vertical-align: top;\n",
       "    }\n",
       "\n",
       "    .dataframe thead th {\n",
       "        text-align: right;\n",
       "    }\n",
       "</style>\n",
       "<table border=\"1\" class=\"dataframe\">\n",
       "  <thead>\n",
       "    <tr style=\"text-align: right;\">\n",
       "      <th></th>\n",
       "      <th>id</th>\n",
       "      <th>타입_디카페인</th>\n",
       "      <th>타입_블렌드</th>\n",
       "      <th>타입_싱글오리진</th>\n",
       "    </tr>\n",
       "  </thead>\n",
       "  <tbody>\n",
       "    <tr>\n",
       "      <th>0</th>\n",
       "      <td>3896</td>\n",
       "      <td>1</td>\n",
       "      <td>0</td>\n",
       "      <td>1</td>\n",
       "    </tr>\n",
       "    <tr>\n",
       "      <th>1</th>\n",
       "      <td>4603</td>\n",
       "      <td>1</td>\n",
       "      <td>0</td>\n",
       "      <td>1</td>\n",
       "    </tr>\n",
       "  </tbody>\n",
       "</table>\n",
       "</div>"
      ],
      "text/plain": [
       "     id  타입_디카페인  타입_블렌드  타입_싱글오리진\n",
       "0  3896        1       0         1\n",
       "1  4603        1       0         1"
      ]
     },
     "execution_count": 58,
     "metadata": {},
     "output_type": "execute_result"
    }
   ],
   "source": [
    "corrected_features = corrected_features[['id', '타입_디카페인', '타입_블렌드', '타입_싱글오리진']]\n",
    "corrected_features.head(2)"
   ]
  },
  {
   "cell_type": "code",
   "execution_count": 67,
   "metadata": {},
   "outputs": [
    {
     "data": {
      "text/html": [
       "<div>\n",
       "<style scoped>\n",
       "    .dataframe tbody tr th:only-of-type {\n",
       "        vertical-align: middle;\n",
       "    }\n",
       "\n",
       "    .dataframe tbody tr th {\n",
       "        vertical-align: top;\n",
       "    }\n",
       "\n",
       "    .dataframe thead th {\n",
       "        text-align: right;\n",
       "    }\n",
       "</style>\n",
       "<table border=\"1\" class=\"dataframe\">\n",
       "  <thead>\n",
       "    <tr style=\"text-align: right;\">\n",
       "      <th></th>\n",
       "      <th>id</th>\n",
       "      <th>body</th>\n",
       "      <th>sour</th>\n",
       "      <th>sweet</th>\n",
       "      <th>bitter</th>\n",
       "      <th>decaf</th>\n",
       "      <th>blend</th>\n",
       "      <th>타입_싱글오리진</th>\n",
       "      <th>지속가능성_0</th>\n",
       "      <th>지속가능성_공정무역</th>\n",
       "      <th>...</th>\n",
       "      <th>로스팅 포인트_라이트미디엄</th>\n",
       "      <th>로스팅 포인트_미디엄</th>\n",
       "      <th>로스팅 포인트_미디엄다크</th>\n",
       "      <th>꽃</th>\n",
       "      <th>과일</th>\n",
       "      <th>허브</th>\n",
       "      <th>달콤함</th>\n",
       "      <th>고소함</th>\n",
       "      <th>향료</th>\n",
       "      <th>초콜릿</th>\n",
       "    </tr>\n",
       "  </thead>\n",
       "  <tbody>\n",
       "    <tr>\n",
       "      <th>0</th>\n",
       "      <td>43</td>\n",
       "      <td>4</td>\n",
       "      <td>2</td>\n",
       "      <td>4</td>\n",
       "      <td>3</td>\n",
       "      <td>0</td>\n",
       "      <td>1</td>\n",
       "      <td>0</td>\n",
       "      <td>1</td>\n",
       "      <td>0</td>\n",
       "      <td>...</td>\n",
       "      <td>0</td>\n",
       "      <td>0</td>\n",
       "      <td>1</td>\n",
       "      <td>0</td>\n",
       "      <td>0</td>\n",
       "      <td>0</td>\n",
       "      <td>1</td>\n",
       "      <td>0</td>\n",
       "      <td>1</td>\n",
       "      <td>0</td>\n",
       "    </tr>\n",
       "    <tr>\n",
       "      <th>1</th>\n",
       "      <td>3896</td>\n",
       "      <td>4</td>\n",
       "      <td>2</td>\n",
       "      <td>4</td>\n",
       "      <td>3</td>\n",
       "      <td>1</td>\n",
       "      <td>0</td>\n",
       "      <td>0</td>\n",
       "      <td>1</td>\n",
       "      <td>0</td>\n",
       "      <td>...</td>\n",
       "      <td>0</td>\n",
       "      <td>0</td>\n",
       "      <td>1</td>\n",
       "      <td>0</td>\n",
       "      <td>0</td>\n",
       "      <td>0</td>\n",
       "      <td>0</td>\n",
       "      <td>0</td>\n",
       "      <td>0</td>\n",
       "      <td>0</td>\n",
       "    </tr>\n",
       "    <tr>\n",
       "      <th>2</th>\n",
       "      <td>3458</td>\n",
       "      <td>3</td>\n",
       "      <td>4</td>\n",
       "      <td>5</td>\n",
       "      <td>1</td>\n",
       "      <td>0</td>\n",
       "      <td>0</td>\n",
       "      <td>1</td>\n",
       "      <td>0</td>\n",
       "      <td>0</td>\n",
       "      <td>...</td>\n",
       "      <td>1</td>\n",
       "      <td>0</td>\n",
       "      <td>0</td>\n",
       "      <td>0</td>\n",
       "      <td>0</td>\n",
       "      <td>0</td>\n",
       "      <td>0</td>\n",
       "      <td>0</td>\n",
       "      <td>0</td>\n",
       "      <td>0</td>\n",
       "    </tr>\n",
       "    <tr>\n",
       "      <th>3</th>\n",
       "      <td>22</td>\n",
       "      <td>4</td>\n",
       "      <td>1</td>\n",
       "      <td>3</td>\n",
       "      <td>4</td>\n",
       "      <td>0</td>\n",
       "      <td>1</td>\n",
       "      <td>0</td>\n",
       "      <td>0</td>\n",
       "      <td>1</td>\n",
       "      <td>...</td>\n",
       "      <td>0</td>\n",
       "      <td>0</td>\n",
       "      <td>0</td>\n",
       "      <td>0</td>\n",
       "      <td>0</td>\n",
       "      <td>0</td>\n",
       "      <td>1</td>\n",
       "      <td>1</td>\n",
       "      <td>0</td>\n",
       "      <td>1</td>\n",
       "    </tr>\n",
       "    <tr>\n",
       "      <th>4</th>\n",
       "      <td>180</td>\n",
       "      <td>5</td>\n",
       "      <td>3</td>\n",
       "      <td>5</td>\n",
       "      <td>1</td>\n",
       "      <td>0</td>\n",
       "      <td>0</td>\n",
       "      <td>1</td>\n",
       "      <td>1</td>\n",
       "      <td>0</td>\n",
       "      <td>...</td>\n",
       "      <td>0</td>\n",
       "      <td>0</td>\n",
       "      <td>1</td>\n",
       "      <td>0</td>\n",
       "      <td>1</td>\n",
       "      <td>0</td>\n",
       "      <td>0</td>\n",
       "      <td>0</td>\n",
       "      <td>0</td>\n",
       "      <td>1</td>\n",
       "    </tr>\n",
       "  </tbody>\n",
       "</table>\n",
       "<p>5 rows × 24 columns</p>\n",
       "</div>"
      ],
      "text/plain": [
       "     id  body  sour  sweet  bitter  decaf  blend  타입_싱글오리진  지속가능성_0  \\\n",
       "0    43     4     2      4       3      0      1         0        1   \n",
       "1  3896     4     2      4       3      1      0         0        1   \n",
       "2  3458     3     4      5       1      0      0         1        0   \n",
       "3    22     4     1      3       4      0      1         0        0   \n",
       "4   180     5     3      5       1      0      0         1        1   \n",
       "\n",
       "   지속가능성_공정무역  ...  로스팅 포인트_라이트미디엄  로스팅 포인트_미디엄  로스팅 포인트_미디엄다크  꽃  과일  허브  \\\n",
       "0           0  ...               0            0              1  0   0   0   \n",
       "1           0  ...               0            0              1  0   0   0   \n",
       "2           0  ...               1            0              0  0   0   0   \n",
       "3           1  ...               0            0              0  0   0   0   \n",
       "4           0  ...               0            0              1  0   1   0   \n",
       "\n",
       "   달콤함  고소함  향료  초콜릿  \n",
       "0    1    0   1    0  \n",
       "1    0    0   0    0  \n",
       "2    0    0   0    0  \n",
       "3    1    1   0    1  \n",
       "4    0    0   0    1  \n",
       "\n",
       "[5 rows x 24 columns]"
      ]
     },
     "execution_count": 67,
     "metadata": {},
     "output_type": "execute_result"
    }
   ],
   "source": [
    "# need to modify mysite/data/features and connected codes for similarity score.\n",
    "mysite = pd.read_csv('mysite/data/features.csv')\n",
    "mysite.head()"
   ]
  },
  {
   "cell_type": "code",
   "execution_count": 68,
   "metadata": {},
   "outputs": [
    {
     "data": {
      "text/html": [
       "<div>\n",
       "<style scoped>\n",
       "    .dataframe tbody tr th:only-of-type {\n",
       "        vertical-align: middle;\n",
       "    }\n",
       "\n",
       "    .dataframe tbody tr th {\n",
       "        vertical-align: top;\n",
       "    }\n",
       "\n",
       "    .dataframe thead th {\n",
       "        text-align: right;\n",
       "    }\n",
       "</style>\n",
       "<table border=\"1\" class=\"dataframe\">\n",
       "  <thead>\n",
       "    <tr style=\"text-align: right;\">\n",
       "      <th></th>\n",
       "      <th>id</th>\n",
       "      <th>body</th>\n",
       "      <th>sour</th>\n",
       "      <th>sweet</th>\n",
       "      <th>bitter</th>\n",
       "      <th>decaf</th>\n",
       "      <th>blend</th>\n",
       "      <th>single</th>\n",
       "      <th>지속가능성_0</th>\n",
       "      <th>지속가능성_공정무역</th>\n",
       "      <th>...</th>\n",
       "      <th>로스팅 포인트_라이트미디엄</th>\n",
       "      <th>로스팅 포인트_미디엄</th>\n",
       "      <th>로스팅 포인트_미디엄다크</th>\n",
       "      <th>꽃</th>\n",
       "      <th>과일</th>\n",
       "      <th>허브</th>\n",
       "      <th>달콤함</th>\n",
       "      <th>고소함</th>\n",
       "      <th>향료</th>\n",
       "      <th>초콜릿</th>\n",
       "    </tr>\n",
       "  </thead>\n",
       "  <tbody>\n",
       "    <tr>\n",
       "      <th>0</th>\n",
       "      <td>3896</td>\n",
       "      <td>4</td>\n",
       "      <td>2</td>\n",
       "      <td>4</td>\n",
       "      <td>3</td>\n",
       "      <td>1</td>\n",
       "      <td>0</td>\n",
       "      <td>1</td>\n",
       "      <td>1</td>\n",
       "      <td>0</td>\n",
       "      <td>...</td>\n",
       "      <td>0</td>\n",
       "      <td>0</td>\n",
       "      <td>1</td>\n",
       "      <td>0</td>\n",
       "      <td>0</td>\n",
       "      <td>0</td>\n",
       "      <td>0</td>\n",
       "      <td>0</td>\n",
       "      <td>0</td>\n",
       "      <td>0</td>\n",
       "    </tr>\n",
       "    <tr>\n",
       "      <th>1</th>\n",
       "      <td>4603</td>\n",
       "      <td>3</td>\n",
       "      <td>2</td>\n",
       "      <td>3</td>\n",
       "      <td>2</td>\n",
       "      <td>1</td>\n",
       "      <td>0</td>\n",
       "      <td>1</td>\n",
       "      <td>0</td>\n",
       "      <td>1</td>\n",
       "      <td>...</td>\n",
       "      <td>0</td>\n",
       "      <td>0</td>\n",
       "      <td>1</td>\n",
       "      <td>0</td>\n",
       "      <td>0</td>\n",
       "      <td>0</td>\n",
       "      <td>0</td>\n",
       "      <td>0</td>\n",
       "      <td>0</td>\n",
       "      <td>0</td>\n",
       "    </tr>\n",
       "    <tr>\n",
       "      <th>2</th>\n",
       "      <td>3460</td>\n",
       "      <td>3</td>\n",
       "      <td>4</td>\n",
       "      <td>5</td>\n",
       "      <td>3</td>\n",
       "      <td>1</td>\n",
       "      <td>0</td>\n",
       "      <td>1</td>\n",
       "      <td>0</td>\n",
       "      <td>0</td>\n",
       "      <td>...</td>\n",
       "      <td>0</td>\n",
       "      <td>1</td>\n",
       "      <td>0</td>\n",
       "      <td>0</td>\n",
       "      <td>0</td>\n",
       "      <td>0</td>\n",
       "      <td>0</td>\n",
       "      <td>0</td>\n",
       "      <td>0</td>\n",
       "      <td>0</td>\n",
       "    </tr>\n",
       "  </tbody>\n",
       "</table>\n",
       "<p>3 rows × 24 columns</p>\n",
       "</div>"
      ],
      "text/plain": [
       "     id  body  sour  sweet  bitter  decaf  blend  single  지속가능성_0  지속가능성_공정무역  \\\n",
       "0  3896     4     2      4       3      1      0       1        1           0   \n",
       "1  4603     3     2      3       2      1      0       1        0           1   \n",
       "2  3460     3     4      5       3      1      0       1        0           0   \n",
       "\n",
       "   ...  로스팅 포인트_라이트미디엄  로스팅 포인트_미디엄  로스팅 포인트_미디엄다크  꽃  과일  허브  달콤함  고소함  향료  \\\n",
       "0  ...               0            0              1  0   0   0    0    0   0   \n",
       "1  ...               0            0              1  0   0   0    0    0   0   \n",
       "2  ...               0            1              0  0   0   0    0    0   0   \n",
       "\n",
       "   초콜릿  \n",
       "0    0  \n",
       "1    0  \n",
       "2    0  \n",
       "\n",
       "[3 rows x 24 columns]"
      ]
     },
     "execution_count": 68,
     "metadata": {},
     "output_type": "execute_result"
    }
   ],
   "source": [
    "mysite.drop(columns=['decaf', 'blend', '타입_싱글오리진'], inplace=True)\n",
    "mysite = pd.merge(mysite, corrected_features, on=\"id\")\n",
    "\n",
    "mysite = mysite.rename(columns={'타입_블렌드':'blend', '타입_싱글오리진':'single', '타입_디카페인':'decaf'})\n",
    "\n",
    "mysite = mysite[['id', 'body', 'sour', 'sweet', 'bitter', 'decaf', 'blend', 'single',\n",
    "       '지속가능성_0', '지속가능성_공정무역', '지속가능성_유기농', '지속가능성_직접무역', '로스팅 포인트_다크',\n",
    "       '로스팅 포인트_라이트', '로스팅 포인트_라이트미디엄', '로스팅 포인트_미디엄', '로스팅 포인트_미디엄다크', '꽃',\n",
    "       '과일', '허브', '달콤함', '고소함', '향료', '초콜릿']]\n",
    "\n",
    "mysite.head(3)"
   ]
  },
  {
   "cell_type": "code",
   "execution_count": 73,
   "metadata": {},
   "outputs": [
    {
     "data": {
      "text/html": [
       "<div>\n",
       "<style scoped>\n",
       "    .dataframe tbody tr th:only-of-type {\n",
       "        vertical-align: middle;\n",
       "    }\n",
       "\n",
       "    .dataframe tbody tr th {\n",
       "        vertical-align: top;\n",
       "    }\n",
       "\n",
       "    .dataframe thead th {\n",
       "        text-align: right;\n",
       "    }\n",
       "</style>\n",
       "<table border=\"1\" class=\"dataframe\">\n",
       "  <thead>\n",
       "    <tr style=\"text-align: right;\">\n",
       "      <th></th>\n",
       "      <th>id</th>\n",
       "      <th>body</th>\n",
       "      <th>sour</th>\n",
       "      <th>sweet</th>\n",
       "      <th>bitter</th>\n",
       "      <th>decaf</th>\n",
       "      <th>blend</th>\n",
       "      <th>single</th>\n",
       "      <th>지속가능성_0</th>\n",
       "      <th>지속가능성_공정무역</th>\n",
       "      <th>...</th>\n",
       "      <th>로스팅 포인트_라이트미디엄</th>\n",
       "      <th>로스팅 포인트_미디엄</th>\n",
       "      <th>로스팅 포인트_미디엄다크</th>\n",
       "      <th>꽃</th>\n",
       "      <th>과일</th>\n",
       "      <th>허브</th>\n",
       "      <th>달콤함</th>\n",
       "      <th>고소함</th>\n",
       "      <th>향료</th>\n",
       "      <th>초콜릿</th>\n",
       "    </tr>\n",
       "  </thead>\n",
       "  <tbody>\n",
       "    <tr>\n",
       "      <th>0</th>\n",
       "      <td>3896</td>\n",
       "      <td>4</td>\n",
       "      <td>2</td>\n",
       "      <td>4</td>\n",
       "      <td>3</td>\n",
       "      <td>1</td>\n",
       "      <td>0</td>\n",
       "      <td>1</td>\n",
       "      <td>1</td>\n",
       "      <td>0</td>\n",
       "      <td>...</td>\n",
       "      <td>0</td>\n",
       "      <td>0</td>\n",
       "      <td>1</td>\n",
       "      <td>0</td>\n",
       "      <td>0</td>\n",
       "      <td>0</td>\n",
       "      <td>0</td>\n",
       "      <td>0</td>\n",
       "      <td>0</td>\n",
       "      <td>0</td>\n",
       "    </tr>\n",
       "    <tr>\n",
       "      <th>1</th>\n",
       "      <td>4603</td>\n",
       "      <td>3</td>\n",
       "      <td>2</td>\n",
       "      <td>3</td>\n",
       "      <td>2</td>\n",
       "      <td>1</td>\n",
       "      <td>0</td>\n",
       "      <td>1</td>\n",
       "      <td>0</td>\n",
       "      <td>1</td>\n",
       "      <td>...</td>\n",
       "      <td>0</td>\n",
       "      <td>0</td>\n",
       "      <td>1</td>\n",
       "      <td>0</td>\n",
       "      <td>0</td>\n",
       "      <td>0</td>\n",
       "      <td>0</td>\n",
       "      <td>0</td>\n",
       "      <td>0</td>\n",
       "      <td>0</td>\n",
       "    </tr>\n",
       "    <tr>\n",
       "      <th>2</th>\n",
       "      <td>3460</td>\n",
       "      <td>3</td>\n",
       "      <td>4</td>\n",
       "      <td>5</td>\n",
       "      <td>3</td>\n",
       "      <td>1</td>\n",
       "      <td>0</td>\n",
       "      <td>1</td>\n",
       "      <td>0</td>\n",
       "      <td>0</td>\n",
       "      <td>...</td>\n",
       "      <td>0</td>\n",
       "      <td>1</td>\n",
       "      <td>0</td>\n",
       "      <td>0</td>\n",
       "      <td>0</td>\n",
       "      <td>0</td>\n",
       "      <td>0</td>\n",
       "      <td>0</td>\n",
       "      <td>0</td>\n",
       "      <td>0</td>\n",
       "    </tr>\n",
       "  </tbody>\n",
       "</table>\n",
       "<p>3 rows × 24 columns</p>\n",
       "</div>"
      ],
      "text/plain": [
       "     id  body  sour  sweet  bitter  decaf  blend  single  지속가능성_0  지속가능성_공정무역  \\\n",
       "0  3896     4     2      4       3      1      0       1        1           0   \n",
       "1  4603     3     2      3       2      1      0       1        0           1   \n",
       "2  3460     3     4      5       3      1      0       1        0           0   \n",
       "\n",
       "   ...  로스팅 포인트_라이트미디엄  로스팅 포인트_미디엄  로스팅 포인트_미디엄다크  꽃  과일  허브  달콤함  고소함  향료  \\\n",
       "0  ...               0            0              1  0   0   0    0    0   0   \n",
       "1  ...               0            0              1  0   0   0    0    0   0   \n",
       "2  ...               0            1              0  0   0   0    0    0   0   \n",
       "\n",
       "   초콜릿  \n",
       "0    0  \n",
       "1    0  \n",
       "2    0  \n",
       "\n",
       "[3 rows x 24 columns]"
      ]
     },
     "execution_count": 73,
     "metadata": {},
     "output_type": "execute_result"
    }
   ],
   "source": [
    "# update mysite/data/features.csv\n",
    "mysite.to_csv('mysite/data/features.csv', index=0)\n",
    "mysite = pd.read_csv('mysite/data/features.csv')\n",
    "mysite.head(3)  "
   ]
  },
  {
   "cell_type": "code",
   "execution_count": 31,
   "metadata": {},
   "outputs": [
    {
     "data": {
      "text/html": [
       "<div>\n",
       "<style scoped>\n",
       "    .dataframe tbody tr th:only-of-type {\n",
       "        vertical-align: middle;\n",
       "    }\n",
       "\n",
       "    .dataframe tbody tr th {\n",
       "        vertical-align: top;\n",
       "    }\n",
       "\n",
       "    .dataframe thead th {\n",
       "        text-align: right;\n",
       "    }\n",
       "</style>\n",
       "<table border=\"1\" class=\"dataframe\">\n",
       "  <thead>\n",
       "    <tr style=\"text-align: right;\">\n",
       "      <th></th>\n",
       "      <th>타입</th>\n",
       "      <th>로스팅 포인트</th>\n",
       "      <th>지속가능성</th>\n",
       "    </tr>\n",
       "  </thead>\n",
       "  <tbody>\n",
       "    <tr>\n",
       "      <th>3896</th>\n",
       "      <td>['싱글오리진', '디카페인']</td>\n",
       "      <td>['미디엄다크']</td>\n",
       "      <td>[]</td>\n",
       "    </tr>\n",
       "    <tr>\n",
       "      <th>4603</th>\n",
       "      <td>['싱글오리진', '디카페인']</td>\n",
       "      <td>['미디엄다크']</td>\n",
       "      <td>['공정무역']</td>\n",
       "    </tr>\n",
       "    <tr>\n",
       "      <th>3460</th>\n",
       "      <td>['싱글오리진', '디카페인']</td>\n",
       "      <td>['미디엄']</td>\n",
       "      <td>['유기농']</td>\n",
       "    </tr>\n",
       "  </tbody>\n",
       "</table>\n",
       "</div>"
      ],
      "text/plain": [
       "                     타입    로스팅 포인트     지속가능성\n",
       "3896  ['싱글오리진', '디카페인']  ['미디엄다크']        []\n",
       "4603  ['싱글오리진', '디카페인']  ['미디엄다크']  ['공정무역']\n",
       "3460  ['싱글오리진', '디카페인']    ['미디엄']   ['유기농']"
      ]
     },
     "execution_count": 31,
     "metadata": {},
     "output_type": "execute_result"
    }
   ],
   "source": [
    "import pandas as pd\n",
    "decaf = pd.read_csv('decaf.csv', index_col=0)\n",
    "decaf.head(3)"
   ]
  },
  {
   "cell_type": "code",
   "execution_count": 32,
   "metadata": {},
   "outputs": [
    {
     "data": {
      "text/plain": [
       "['싱글오리진', '디카페인']"
      ]
     },
     "execution_count": 32,
     "metadata": {},
     "output_type": "execute_result"
    }
   ],
   "source": [
    "decaf['타입'] = decaf['타입'].apply(literal_eval)\n",
    "decaf['타입'][3896]"
   ]
  },
  {
   "cell_type": "code",
   "execution_count": 33,
   "metadata": {},
   "outputs": [
    {
     "data": {
      "text/html": [
       "<div>\n",
       "<style scoped>\n",
       "    .dataframe tbody tr th:only-of-type {\n",
       "        vertical-align: middle;\n",
       "    }\n",
       "\n",
       "    .dataframe tbody tr th {\n",
       "        vertical-align: top;\n",
       "    }\n",
       "\n",
       "    .dataframe thead th {\n",
       "        text-align: right;\n",
       "    }\n",
       "</style>\n",
       "<table border=\"1\" class=\"dataframe\">\n",
       "  <thead>\n",
       "    <tr style=\"text-align: right;\">\n",
       "      <th></th>\n",
       "      <th>new_id</th>\n",
       "      <th>id</th>\n",
       "      <th>이름</th>\n",
       "      <th>로스터리ID</th>\n",
       "      <th>커피 소개</th>\n",
       "      <th>타입</th>\n",
       "      <th>로스팅 포인트</th>\n",
       "      <th>지속가능성</th>\n",
       "      <th>컵 노트</th>\n",
       "      <th>바디감</th>\n",
       "      <th>...</th>\n",
       "      <th>나라</th>\n",
       "      <th>식품의 유형</th>\n",
       "      <th>제조원 및 소재지</th>\n",
       "      <th>유통기한</th>\n",
       "      <th>제조일자</th>\n",
       "      <th>내용량</th>\n",
       "      <th>보관 방법</th>\n",
       "      <th>원재료 및 함량</th>\n",
       "      <th>제품문의 관련 주소 및 전화번호</th>\n",
       "      <th>price</th>\n",
       "    </tr>\n",
       "  </thead>\n",
       "  <tbody>\n",
       "    <tr>\n",
       "      <th>0</th>\n",
       "      <td>0</td>\n",
       "      <td>2</td>\n",
       "      <td>나탈리</td>\n",
       "      <td>60</td>\n",
       "      <td>잘 익은 딸기를 베어 문듯한 단맛과 적당한 산미의 조화를 이루는 와인의 풍미를 느낄...</td>\n",
       "      <td>블렌드</td>\n",
       "      <td>미디엄</td>\n",
       "      <td>공정무역</td>\n",
       "      <td>['딸기', '와인', '화이트 초콜릿']</td>\n",
       "      <td>2</td>\n",
       "      <td>...</td>\n",
       "      <td>['파푸아뉴기니 바로이디아 콜브란', '브라질', '코스타리카']</td>\n",
       "      <td>원두 커피</td>\n",
       "      <td>영앤도터스, 서울 마포구 마포대로 156 공덕 프루지오시티 1층 107호</td>\n",
       "      <td>제조일로부터 1년</td>\n",
       "      <td>제조일 별도 표기</td>\n",
       "      <td>200g / 1kg</td>\n",
       "      <td>직사광선을 피하고 밀봉하여 건조하고 서늘한 곳에 보관</td>\n",
       "      <td>원두 커피(엘살바도르 30%, 파푸아뉴기니 40%, 코스타리카 30%)</td>\n",
       "      <td>코케 고객센터 070-4647-1868</td>\n",
       "      <td>16000</td>\n",
       "    </tr>\n",
       "    <tr>\n",
       "      <th>1</th>\n",
       "      <td>1</td>\n",
       "      <td>3</td>\n",
       "      <td>콜린</td>\n",
       "      <td>60</td>\n",
       "      <td>잘 익은 체리의 농후한 단맛과 고소한 아몬드 캐러멜이 입안 가득 남는 끝 맛을 느낄...</td>\n",
       "      <td>블렌드</td>\n",
       "      <td>미디엄다크</td>\n",
       "      <td>공정무역</td>\n",
       "      <td>['다크 초콜릿', '체리', '아몬드']</td>\n",
       "      <td>4</td>\n",
       "      <td>...</td>\n",
       "      <td>['인도', '콜롬비아', '코스타리카']</td>\n",
       "      <td>원두 커피</td>\n",
       "      <td>영앤도터스, 서울 마포구 마포대로 156 공덕 프루지오시티 1층 107호</td>\n",
       "      <td>제조일로부터 1년(권장기한 제조일로부터 1달)</td>\n",
       "      <td>제조일 별도 표기</td>\n",
       "      <td>200g / 1kg</td>\n",
       "      <td>직사광선을 피하고 밀봉하여 건조하고 서늘한 곳에 보관</td>\n",
       "      <td>원두 커피(코스타리카 30%, 콜롬비아 40%, 인도 30%)</td>\n",
       "      <td>코케 고객센터 070-4647-1868</td>\n",
       "      <td>16000</td>\n",
       "    </tr>\n",
       "  </tbody>\n",
       "</table>\n",
       "<p>2 rows × 24 columns</p>\n",
       "</div>"
      ],
      "text/plain": [
       "   new_id  id   이름  로스터리ID                                              커피 소개  \\\n",
       "0       0   2  나탈리      60  잘 익은 딸기를 베어 문듯한 단맛과 적당한 산미의 조화를 이루는 와인의 풍미를 느낄...   \n",
       "1       1   3   콜린      60  잘 익은 체리의 농후한 단맛과 고소한 아몬드 캐러멜이 입안 가득 남는 끝 맛을 느낄...   \n",
       "\n",
       "    타입 로스팅 포인트 지속가능성                     컵 노트  바디감  ...  \\\n",
       "0  블렌드     미디엄  공정무역  ['딸기', '와인', '화이트 초콜릿']    2  ...   \n",
       "1  블렌드   미디엄다크  공정무역  ['다크 초콜릿', '체리', '아몬드']    4  ...   \n",
       "\n",
       "                                     나라  식품의 유형  \\\n",
       "0  ['파푸아뉴기니 바로이디아 콜브란', '브라질', '코스타리카']   원두 커피   \n",
       "1               ['인도', '콜롬비아', '코스타리카']   원두 커피   \n",
       "\n",
       "                                  제조원 및 소재지                       유통기한  \\\n",
       "0  영앤도터스, 서울 마포구 마포대로 156 공덕 프루지오시티 1층 107호                  제조일로부터 1년   \n",
       "1  영앤도터스, 서울 마포구 마포대로 156 공덕 프루지오시티 1층 107호  제조일로부터 1년(권장기한 제조일로부터 1달)   \n",
       "\n",
       "        제조일자         내용량                          보관 방법  \\\n",
       "0  제조일 별도 표기  200g / 1kg  직사광선을 피하고 밀봉하여 건조하고 서늘한 곳에 보관   \n",
       "1  제조일 별도 표기  200g / 1kg  직사광선을 피하고 밀봉하여 건조하고 서늘한 곳에 보관   \n",
       "\n",
       "                                  원재료 및 함량      제품문의 관련 주소 및 전화번호  price  \n",
       "0  원두 커피(엘살바도르 30%, 파푸아뉴기니 40%, 코스타리카 30%)  코케 고객센터 070-4647-1868  16000  \n",
       "1       원두 커피(코스타리카 30%, 콜롬비아 40%, 인도 30%)  코케 고객센터 070-4647-1868  16000  \n",
       "\n",
       "[2 rows x 24 columns]"
      ]
     },
     "execution_count": 33,
     "metadata": {},
     "output_type": "execute_result"
    }
   ],
   "source": [
    "coffeeDB = pd.read_csv('mysite/data/coffeeDB2.csv', index_col=0)\n",
    "coffeeDB.head(2)"
   ]
  },
  {
   "cell_type": "code",
   "execution_count": 34,
   "metadata": {},
   "outputs": [
    {
     "data": {
      "text/plain": [
       "['싱글오리진', '디카페인']"
      ]
     },
     "execution_count": 34,
     "metadata": {},
     "output_type": "execute_result"
    }
   ],
   "source": [
    "decaf['타입'][3896]"
   ]
  },
  {
   "cell_type": "code",
   "execution_count": 35,
   "metadata": {},
   "outputs": [
    {
     "data": {
      "text/html": [
       "<div>\n",
       "<style scoped>\n",
       "    .dataframe tbody tr th:only-of-type {\n",
       "        vertical-align: middle;\n",
       "    }\n",
       "\n",
       "    .dataframe tbody tr th {\n",
       "        vertical-align: top;\n",
       "    }\n",
       "\n",
       "    .dataframe thead th {\n",
       "        text-align: right;\n",
       "    }\n",
       "</style>\n",
       "<table border=\"1\" class=\"dataframe\">\n",
       "  <thead>\n",
       "    <tr style=\"text-align: right;\">\n",
       "      <th></th>\n",
       "      <th>new_id</th>\n",
       "      <th>id</th>\n",
       "      <th>이름</th>\n",
       "      <th>로스터리ID</th>\n",
       "      <th>커피 소개</th>\n",
       "      <th>타입</th>\n",
       "      <th>로스팅 포인트</th>\n",
       "      <th>지속가능성</th>\n",
       "      <th>컵 노트</th>\n",
       "      <th>바디감</th>\n",
       "      <th>...</th>\n",
       "      <th>나라</th>\n",
       "      <th>식품의 유형</th>\n",
       "      <th>제조원 및 소재지</th>\n",
       "      <th>유통기한</th>\n",
       "      <th>제조일자</th>\n",
       "      <th>내용량</th>\n",
       "      <th>보관 방법</th>\n",
       "      <th>원재료 및 함량</th>\n",
       "      <th>제품문의 관련 주소 및 전화번호</th>\n",
       "      <th>price</th>\n",
       "    </tr>\n",
       "  </thead>\n",
       "  <tbody>\n",
       "    <tr>\n",
       "      <th>399</th>\n",
       "      <td>399</td>\n",
       "      <td>3896</td>\n",
       "      <td>브라질 세라도 디카페인</td>\n",
       "      <td>67</td>\n",
       "      <td>땅콩의 고소함과 코코아 파우더의 쌉싸름함 진득한 단맛과 클래식한 커피향  중강배전으...</td>\n",
       "      <td>디카페인</td>\n",
       "      <td>미디엄다크</td>\n",
       "      <td>0</td>\n",
       "      <td>NaN</td>\n",
       "      <td>4</td>\n",
       "      <td>...</td>\n",
       "      <td>['세라도']</td>\n",
       "      <td>커피</td>\n",
       "      <td>경기도 화성시 동탄지성로 306번길 68</td>\n",
       "      <td>제조일로부터 1년</td>\n",
       "      <td>주문 확인 후 제조</td>\n",
       "      <td>500g 1kg</td>\n",
       "      <td>직사광선을 피하고 온도, 습도가 낮으며 통풍이 잘 되는 곳에 밀폐 보관</td>\n",
       "      <td>커피원두 100%</td>\n",
       "      <td>운조커피 010-4535-8819</td>\n",
       "      <td>13000</td>\n",
       "    </tr>\n",
       "  </tbody>\n",
       "</table>\n",
       "<p>1 rows × 24 columns</p>\n",
       "</div>"
      ],
      "text/plain": [
       "     new_id    id            이름  로스터리ID  \\\n",
       "399     399  3896  브라질 세라도 디카페인      67   \n",
       "\n",
       "                                                 커피 소개    타입 로스팅 포인트 지속가능성  \\\n",
       "399  땅콩의 고소함과 코코아 파우더의 쌉싸름함 진득한 단맛과 클래식한 커피향  중강배전으...  디카페인   미디엄다크     0   \n",
       "\n",
       "    컵 노트  바디감  ...       나라  식품의 유형               제조원 및 소재지       유통기한  \\\n",
       "399  NaN    4  ...  ['세라도']      커피  경기도 화성시 동탄지성로 306번길 68  제조일로부터 1년   \n",
       "\n",
       "           제조일자       내용량                                    보관 방법   원재료 및 함량  \\\n",
       "399  주문 확인 후 제조  500g 1kg  직사광선을 피하고 온도, 습도가 낮으며 통풍이 잘 되는 곳에 밀폐 보관  커피원두 100%   \n",
       "\n",
       "      제품문의 관련 주소 및 전화번호  price  \n",
       "399  운조커피 010-4535-8819  13000  \n",
       "\n",
       "[1 rows x 24 columns]"
      ]
     },
     "execution_count": 35,
     "metadata": {},
     "output_type": "execute_result"
    }
   ],
   "source": [
    "coffeeDB[coffeeDB['id']==3896] "
   ]
  },
  {
   "cell_type": "code",
   "execution_count": 36,
   "metadata": {},
   "outputs": [
    {
     "data": {
      "text/html": [
       "<div>\n",
       "<style scoped>\n",
       "    .dataframe tbody tr th:only-of-type {\n",
       "        vertical-align: middle;\n",
       "    }\n",
       "\n",
       "    .dataframe tbody tr th {\n",
       "        vertical-align: top;\n",
       "    }\n",
       "\n",
       "    .dataframe thead th {\n",
       "        text-align: right;\n",
       "    }\n",
       "</style>\n",
       "<table border=\"1\" class=\"dataframe\">\n",
       "  <thead>\n",
       "    <tr style=\"text-align: right;\">\n",
       "      <th></th>\n",
       "      <th>new_id</th>\n",
       "      <th>id</th>\n",
       "      <th>이름</th>\n",
       "      <th>로스터리ID</th>\n",
       "      <th>커피 소개</th>\n",
       "      <th>타입</th>\n",
       "      <th>로스팅 포인트</th>\n",
       "      <th>지속가능성</th>\n",
       "      <th>컵 노트</th>\n",
       "      <th>바디감</th>\n",
       "      <th>...</th>\n",
       "      <th>나라</th>\n",
       "      <th>식품의 유형</th>\n",
       "      <th>제조원 및 소재지</th>\n",
       "      <th>유통기한</th>\n",
       "      <th>제조일자</th>\n",
       "      <th>내용량</th>\n",
       "      <th>보관 방법</th>\n",
       "      <th>원재료 및 함량</th>\n",
       "      <th>제품문의 관련 주소 및 전화번호</th>\n",
       "      <th>price</th>\n",
       "    </tr>\n",
       "  </thead>\n",
       "  <tbody>\n",
       "    <tr>\n",
       "      <th>399</th>\n",
       "      <td>399</td>\n",
       "      <td>3896</td>\n",
       "      <td>브라질 세라도 디카페인</td>\n",
       "      <td>67</td>\n",
       "      <td>땅콩의 고소함과 코코아 파우더의 쌉싸름함 진득한 단맛과 클래식한 커피향  중강배전으...</td>\n",
       "      <td>싱글오리진</td>\n",
       "      <td>미디엄다크</td>\n",
       "      <td>0</td>\n",
       "      <td>NaN</td>\n",
       "      <td>4</td>\n",
       "      <td>...</td>\n",
       "      <td>['세라도']</td>\n",
       "      <td>커피</td>\n",
       "      <td>경기도 화성시 동탄지성로 306번길 68</td>\n",
       "      <td>제조일로부터 1년</td>\n",
       "      <td>주문 확인 후 제조</td>\n",
       "      <td>500g 1kg</td>\n",
       "      <td>직사광선을 피하고 온도, 습도가 낮으며 통풍이 잘 되는 곳에 밀폐 보관</td>\n",
       "      <td>커피원두 100%</td>\n",
       "      <td>운조커피 010-4535-8819</td>\n",
       "      <td>13000</td>\n",
       "    </tr>\n",
       "  </tbody>\n",
       "</table>\n",
       "<p>1 rows × 24 columns</p>\n",
       "</div>"
      ],
      "text/plain": [
       "     new_id    id            이름  로스터리ID  \\\n",
       "399     399  3896  브라질 세라도 디카페인      67   \n",
       "\n",
       "                                                 커피 소개     타입 로스팅 포인트 지속가능성  \\\n",
       "399  땅콩의 고소함과 코코아 파우더의 쌉싸름함 진득한 단맛과 클래식한 커피향  중강배전으...  싱글오리진   미디엄다크     0   \n",
       "\n",
       "    컵 노트  바디감  ...       나라  식품의 유형               제조원 및 소재지       유통기한  \\\n",
       "399  NaN    4  ...  ['세라도']      커피  경기도 화성시 동탄지성로 306번길 68  제조일로부터 1년   \n",
       "\n",
       "           제조일자       내용량                                    보관 방법   원재료 및 함량  \\\n",
       "399  주문 확인 후 제조  500g 1kg  직사광선을 피하고 온도, 습도가 낮으며 통풍이 잘 되는 곳에 밀폐 보관  커피원두 100%   \n",
       "\n",
       "      제품문의 관련 주소 및 전화번호  price  \n",
       "399  운조커피 010-4535-8819  13000  \n",
       "\n",
       "[1 rows x 24 columns]"
      ]
     },
     "execution_count": 36,
     "metadata": {},
     "output_type": "execute_result"
    }
   ],
   "source": [
    "for i in decaf_list:\n",
    "    for k in decaf['타입'][i]:\n",
    "        if k != '디카페인':\n",
    "            coffeeDB.loc[coffeeDB['id'] == i, '타입'] = k\n",
    "        \n",
    "coffeeDB[coffeeDB['id']==3896]"
   ]
  },
  {
   "cell_type": "code",
   "execution_count": 38,
   "metadata": {},
   "outputs": [
    {
     "data": {
      "text/html": [
       "<div>\n",
       "<style scoped>\n",
       "    .dataframe tbody tr th:only-of-type {\n",
       "        vertical-align: middle;\n",
       "    }\n",
       "\n",
       "    .dataframe tbody tr th {\n",
       "        vertical-align: top;\n",
       "    }\n",
       "\n",
       "    .dataframe thead th {\n",
       "        text-align: right;\n",
       "    }\n",
       "</style>\n",
       "<table border=\"1\" class=\"dataframe\">\n",
       "  <thead>\n",
       "    <tr style=\"text-align: right;\">\n",
       "      <th></th>\n",
       "      <th>new_id</th>\n",
       "      <th>id</th>\n",
       "      <th>이름</th>\n",
       "      <th>로스터리ID</th>\n",
       "      <th>커피 소개</th>\n",
       "      <th>타입</th>\n",
       "      <th>로스팅 포인트</th>\n",
       "      <th>지속가능성</th>\n",
       "      <th>컵 노트</th>\n",
       "      <th>바디감</th>\n",
       "      <th>...</th>\n",
       "      <th>나라</th>\n",
       "      <th>식품의 유형</th>\n",
       "      <th>제조원 및 소재지</th>\n",
       "      <th>유통기한</th>\n",
       "      <th>제조일자</th>\n",
       "      <th>내용량</th>\n",
       "      <th>보관 방법</th>\n",
       "      <th>원재료 및 함량</th>\n",
       "      <th>제품문의 관련 주소 및 전화번호</th>\n",
       "      <th>price</th>\n",
       "    </tr>\n",
       "  </thead>\n",
       "  <tbody>\n",
       "    <tr>\n",
       "      <th>0</th>\n",
       "      <td>0</td>\n",
       "      <td>2</td>\n",
       "      <td>나탈리</td>\n",
       "      <td>60</td>\n",
       "      <td>잘 익은 딸기를 베어 문듯한 단맛과 적당한 산미의 조화를 이루는 와인의 풍미를 느낄...</td>\n",
       "      <td>블렌드</td>\n",
       "      <td>미디엄</td>\n",
       "      <td>공정무역</td>\n",
       "      <td>['딸기', '와인', '화이트 초콜릿']</td>\n",
       "      <td>2</td>\n",
       "      <td>...</td>\n",
       "      <td>['파푸아뉴기니 바로이디아 콜브란', '브라질', '코스타리카']</td>\n",
       "      <td>원두 커피</td>\n",
       "      <td>영앤도터스, 서울 마포구 마포대로 156 공덕 프루지오시티 1층 107호</td>\n",
       "      <td>제조일로부터 1년</td>\n",
       "      <td>제조일 별도 표기</td>\n",
       "      <td>200g / 1kg</td>\n",
       "      <td>직사광선을 피하고 밀봉하여 건조하고 서늘한 곳에 보관</td>\n",
       "      <td>원두 커피(엘살바도르 30%, 파푸아뉴기니 40%, 코스타리카 30%)</td>\n",
       "      <td>코케 고객센터 070-4647-1868</td>\n",
       "      <td>16000</td>\n",
       "    </tr>\n",
       "    <tr>\n",
       "      <th>1</th>\n",
       "      <td>1</td>\n",
       "      <td>3</td>\n",
       "      <td>콜린</td>\n",
       "      <td>60</td>\n",
       "      <td>잘 익은 체리의 농후한 단맛과 고소한 아몬드 캐러멜이 입안 가득 남는 끝 맛을 느낄...</td>\n",
       "      <td>블렌드</td>\n",
       "      <td>미디엄다크</td>\n",
       "      <td>공정무역</td>\n",
       "      <td>['다크 초콜릿', '체리', '아몬드']</td>\n",
       "      <td>4</td>\n",
       "      <td>...</td>\n",
       "      <td>['인도', '콜롬비아', '코스타리카']</td>\n",
       "      <td>원두 커피</td>\n",
       "      <td>영앤도터스, 서울 마포구 마포대로 156 공덕 프루지오시티 1층 107호</td>\n",
       "      <td>제조일로부터 1년(권장기한 제조일로부터 1달)</td>\n",
       "      <td>제조일 별도 표기</td>\n",
       "      <td>200g / 1kg</td>\n",
       "      <td>직사광선을 피하고 밀봉하여 건조하고 서늘한 곳에 보관</td>\n",
       "      <td>원두 커피(코스타리카 30%, 콜롬비아 40%, 인도 30%)</td>\n",
       "      <td>코케 고객센터 070-4647-1868</td>\n",
       "      <td>16000</td>\n",
       "    </tr>\n",
       "    <tr>\n",
       "      <th>2</th>\n",
       "      <td>2</td>\n",
       "      <td>5</td>\n",
       "      <td>매뉴얼</td>\n",
       "      <td>5</td>\n",
       "      <td>아메리카노, 라떼 모두 잘 어울리는 블렌딩입니다. 부드럽고 은은하게 올라오는 산미와...</td>\n",
       "      <td>블렌드</td>\n",
       "      <td>미디엄다크</td>\n",
       "      <td>0</td>\n",
       "      <td>NaN</td>\n",
       "      <td>4</td>\n",
       "      <td>...</td>\n",
       "      <td>['브라질', '에티오피아', '인도', '과테말라']</td>\n",
       "      <td>볶은 커피</td>\n",
       "      <td>그럼블커피</td>\n",
       "      <td>제조일로부터 6개월</td>\n",
       "      <td>제조일 별도 표기</td>\n",
       "      <td>200g / 1kg</td>\n",
       "      <td>직사광선을 피하고 서늘한 곳에 밀폐보관</td>\n",
       "      <td>커피원두 100% (브라질, 과테말라, 인도네시아, 에디오피아)</td>\n",
       "      <td>코케 고객센터 070-4647-1868</td>\n",
       "      <td>11000</td>\n",
       "    </tr>\n",
       "  </tbody>\n",
       "</table>\n",
       "<p>3 rows × 24 columns</p>\n",
       "</div>"
      ],
      "text/plain": [
       "   new_id  id   이름  로스터리ID                                              커피 소개  \\\n",
       "0       0   2  나탈리      60  잘 익은 딸기를 베어 문듯한 단맛과 적당한 산미의 조화를 이루는 와인의 풍미를 느낄...   \n",
       "1       1   3   콜린      60  잘 익은 체리의 농후한 단맛과 고소한 아몬드 캐러멜이 입안 가득 남는 끝 맛을 느낄...   \n",
       "2       2   5  매뉴얼       5  아메리카노, 라떼 모두 잘 어울리는 블렌딩입니다. 부드럽고 은은하게 올라오는 산미와...   \n",
       "\n",
       "    타입 로스팅 포인트 지속가능성                     컵 노트  바디감  ...  \\\n",
       "0  블렌드     미디엄  공정무역  ['딸기', '와인', '화이트 초콜릿']    2  ...   \n",
       "1  블렌드   미디엄다크  공정무역  ['다크 초콜릿', '체리', '아몬드']    4  ...   \n",
       "2  블렌드   미디엄다크     0                      NaN    4  ...   \n",
       "\n",
       "                                     나라  식품의 유형  \\\n",
       "0  ['파푸아뉴기니 바로이디아 콜브란', '브라질', '코스타리카']   원두 커피   \n",
       "1               ['인도', '콜롬비아', '코스타리카']   원두 커피   \n",
       "2        ['브라질', '에티오피아', '인도', '과테말라']   볶은 커피   \n",
       "\n",
       "                                  제조원 및 소재지                       유통기한  \\\n",
       "0  영앤도터스, 서울 마포구 마포대로 156 공덕 프루지오시티 1층 107호                  제조일로부터 1년   \n",
       "1  영앤도터스, 서울 마포구 마포대로 156 공덕 프루지오시티 1층 107호  제조일로부터 1년(권장기한 제조일로부터 1달)   \n",
       "2                                     그럼블커피                 제조일로부터 6개월   \n",
       "\n",
       "        제조일자         내용량                          보관 방법  \\\n",
       "0  제조일 별도 표기  200g / 1kg  직사광선을 피하고 밀봉하여 건조하고 서늘한 곳에 보관   \n",
       "1  제조일 별도 표기  200g / 1kg  직사광선을 피하고 밀봉하여 건조하고 서늘한 곳에 보관   \n",
       "2  제조일 별도 표기  200g / 1kg          직사광선을 피하고 서늘한 곳에 밀폐보관   \n",
       "\n",
       "                                  원재료 및 함량      제품문의 관련 주소 및 전화번호  price  \n",
       "0  원두 커피(엘살바도르 30%, 파푸아뉴기니 40%, 코스타리카 30%)  코케 고객센터 070-4647-1868  16000  \n",
       "1       원두 커피(코스타리카 30%, 콜롬비아 40%, 인도 30%)  코케 고객센터 070-4647-1868  16000  \n",
       "2      커피원두 100% (브라질, 과테말라, 인도네시아, 에디오피아)  코케 고객센터 070-4647-1868  11000  \n",
       "\n",
       "[3 rows x 24 columns]"
      ]
     },
     "execution_count": 38,
     "metadata": {},
     "output_type": "execute_result"
    }
   ],
   "source": [
    "# update mysite/data/coffeeDB2.csv\n",
    "coffeeDB.to_csv('mysite/data/coffeeDB2.csv', index=0)\n",
    "mysite = pd.read_csv('mysite/data/coffeeDB2.csv')\n",
    "mysite.head(3)"
   ]
  },
  {
   "cell_type": "code",
   "execution_count": 40,
   "metadata": {},
   "outputs": [
    {
     "data": {
      "text/html": [
       "<div>\n",
       "<style scoped>\n",
       "    .dataframe tbody tr th:only-of-type {\n",
       "        vertical-align: middle;\n",
       "    }\n",
       "\n",
       "    .dataframe tbody tr th {\n",
       "        vertical-align: top;\n",
       "    }\n",
       "\n",
       "    .dataframe thead th {\n",
       "        text-align: right;\n",
       "    }\n",
       "</style>\n",
       "<table border=\"1\" class=\"dataframe\">\n",
       "  <thead>\n",
       "    <tr style=\"text-align: right;\">\n",
       "      <th></th>\n",
       "      <th>new_id</th>\n",
       "      <th>id</th>\n",
       "      <th>이름</th>\n",
       "      <th>로스터리ID</th>\n",
       "      <th>커피 소개</th>\n",
       "      <th>타입</th>\n",
       "      <th>로스팅 포인트</th>\n",
       "      <th>지속가능성</th>\n",
       "      <th>컵 노트</th>\n",
       "      <th>바디감</th>\n",
       "      <th>...</th>\n",
       "      <th>나라</th>\n",
       "      <th>식품의 유형</th>\n",
       "      <th>제조원 및 소재지</th>\n",
       "      <th>유통기한</th>\n",
       "      <th>제조일자</th>\n",
       "      <th>내용량</th>\n",
       "      <th>보관 방법</th>\n",
       "      <th>원재료 및 함량</th>\n",
       "      <th>제품문의 관련 주소 및 전화번호</th>\n",
       "      <th>price</th>\n",
       "    </tr>\n",
       "  </thead>\n",
       "  <tbody>\n",
       "    <tr>\n",
       "      <th>399</th>\n",
       "      <td>399</td>\n",
       "      <td>3896</td>\n",
       "      <td>브라질 세라도 디카페인</td>\n",
       "      <td>67</td>\n",
       "      <td>땅콩의 고소함과 코코아 파우더의 쌉싸름함 진득한 단맛과 클래식한 커피향  중강배전으...</td>\n",
       "      <td>싱글오리진</td>\n",
       "      <td>미디엄다크</td>\n",
       "      <td>0</td>\n",
       "      <td>NaN</td>\n",
       "      <td>4</td>\n",
       "      <td>...</td>\n",
       "      <td>['세라도']</td>\n",
       "      <td>커피</td>\n",
       "      <td>경기도 화성시 동탄지성로 306번길 68</td>\n",
       "      <td>제조일로부터 1년</td>\n",
       "      <td>주문 확인 후 제조</td>\n",
       "      <td>500g 1kg</td>\n",
       "      <td>직사광선을 피하고 온도, 습도가 낮으며 통풍이 잘 되는 곳에 밀폐 보관</td>\n",
       "      <td>커피원두 100%</td>\n",
       "      <td>운조커피 010-4535-8819</td>\n",
       "      <td>13000</td>\n",
       "    </tr>\n",
       "  </tbody>\n",
       "</table>\n",
       "<p>1 rows × 24 columns</p>\n",
       "</div>"
      ],
      "text/plain": [
       "     new_id    id            이름  로스터리ID  \\\n",
       "399     399  3896  브라질 세라도 디카페인      67   \n",
       "\n",
       "                                                 커피 소개     타입 로스팅 포인트 지속가능성  \\\n",
       "399  땅콩의 고소함과 코코아 파우더의 쌉싸름함 진득한 단맛과 클래식한 커피향  중강배전으...  싱글오리진   미디엄다크     0   \n",
       "\n",
       "    컵 노트  바디감  ...       나라  식품의 유형               제조원 및 소재지       유통기한  \\\n",
       "399  NaN    4  ...  ['세라도']      커피  경기도 화성시 동탄지성로 306번길 68  제조일로부터 1년   \n",
       "\n",
       "           제조일자       내용량                                    보관 방법   원재료 및 함량  \\\n",
       "399  주문 확인 후 제조  500g 1kg  직사광선을 피하고 온도, 습도가 낮으며 통풍이 잘 되는 곳에 밀폐 보관  커피원두 100%   \n",
       "\n",
       "      제품문의 관련 주소 및 전화번호  price  \n",
       "399  운조커피 010-4535-8819  13000  \n",
       "\n",
       "[1 rows x 24 columns]"
      ]
     },
     "execution_count": 40,
     "metadata": {},
     "output_type": "execute_result"
    }
   ],
   "source": [
    "mysite[mysite['id']==3896]"
   ]
  },
  {
   "cell_type": "markdown",
   "metadata": {},
   "source": [
    "***\n",
    "add cupnote category to coffeeDB\n",
    "***"
   ]
  },
  {
   "cell_type": "code",
   "execution_count": 41,
   "metadata": {},
   "outputs": [
    {
     "data": {
      "text/html": [
       "<div>\n",
       "<style scoped>\n",
       "    .dataframe tbody tr th:only-of-type {\n",
       "        vertical-align: middle;\n",
       "    }\n",
       "\n",
       "    .dataframe tbody tr th {\n",
       "        vertical-align: top;\n",
       "    }\n",
       "\n",
       "    .dataframe thead th {\n",
       "        text-align: right;\n",
       "    }\n",
       "</style>\n",
       "<table border=\"1\" class=\"dataframe\">\n",
       "  <thead>\n",
       "    <tr style=\"text-align: right;\">\n",
       "      <th></th>\n",
       "      <th>id</th>\n",
       "      <th>컵 노트</th>\n",
       "      <th>꽃</th>\n",
       "      <th>과일</th>\n",
       "      <th>허브</th>\n",
       "      <th>달콤함</th>\n",
       "      <th>고소함</th>\n",
       "      <th>향료</th>\n",
       "      <th>초콜릿</th>\n",
       "    </tr>\n",
       "  </thead>\n",
       "  <tbody>\n",
       "    <tr>\n",
       "      <th>0</th>\n",
       "      <td>43</td>\n",
       "      <td>['토피', '맥아', '흑설탕']</td>\n",
       "      <td>0</td>\n",
       "      <td>0</td>\n",
       "      <td>0</td>\n",
       "      <td>1</td>\n",
       "      <td>0</td>\n",
       "      <td>1</td>\n",
       "      <td>0</td>\n",
       "    </tr>\n",
       "    <tr>\n",
       "      <th>1</th>\n",
       "      <td>3896</td>\n",
       "      <td>['null']</td>\n",
       "      <td>0</td>\n",
       "      <td>0</td>\n",
       "      <td>0</td>\n",
       "      <td>0</td>\n",
       "      <td>0</td>\n",
       "      <td>0</td>\n",
       "      <td>0</td>\n",
       "    </tr>\n",
       "    <tr>\n",
       "      <th>2</th>\n",
       "      <td>3458</td>\n",
       "      <td>['null']</td>\n",
       "      <td>0</td>\n",
       "      <td>0</td>\n",
       "      <td>0</td>\n",
       "      <td>0</td>\n",
       "      <td>0</td>\n",
       "      <td>0</td>\n",
       "      <td>0</td>\n",
       "    </tr>\n",
       "  </tbody>\n",
       "</table>\n",
       "</div>"
      ],
      "text/plain": [
       "     id                 컵 노트  꽃  과일  허브  달콤함  고소함  향료  초콜릿\n",
       "0    43  ['토피', '맥아', '흑설탕']  0   0   0    1    0   1    0\n",
       "1  3896             ['null']  0   0   0    0    0   0    0\n",
       "2  3458             ['null']  0   0   0    0    0   0    0"
      ]
     },
     "execution_count": 41,
     "metadata": {},
     "output_type": "execute_result"
    }
   ],
   "source": [
    "category = pd.read_csv('category.csv')\n",
    "category.head(3)"
   ]
  },
  {
   "cell_type": "code",
   "execution_count": 44,
   "metadata": {},
   "outputs": [
    {
     "data": {
      "text/html": [
       "<div>\n",
       "<style scoped>\n",
       "    .dataframe tbody tr th:only-of-type {\n",
       "        vertical-align: middle;\n",
       "    }\n",
       "\n",
       "    .dataframe tbody tr th {\n",
       "        vertical-align: top;\n",
       "    }\n",
       "\n",
       "    .dataframe thead th {\n",
       "        text-align: right;\n",
       "    }\n",
       "</style>\n",
       "<table border=\"1\" class=\"dataframe\">\n",
       "  <thead>\n",
       "    <tr style=\"text-align: right;\">\n",
       "      <th></th>\n",
       "      <th>id</th>\n",
       "      <th>꽃</th>\n",
       "      <th>과일</th>\n",
       "      <th>허브</th>\n",
       "      <th>달콤함</th>\n",
       "      <th>고소함</th>\n",
       "      <th>향료</th>\n",
       "      <th>초콜릿</th>\n",
       "    </tr>\n",
       "  </thead>\n",
       "  <tbody>\n",
       "    <tr>\n",
       "      <th>0</th>\n",
       "      <td>43</td>\n",
       "      <td>0</td>\n",
       "      <td>0</td>\n",
       "      <td>0</td>\n",
       "      <td>1</td>\n",
       "      <td>0</td>\n",
       "      <td>1</td>\n",
       "      <td>0</td>\n",
       "    </tr>\n",
       "    <tr>\n",
       "      <th>1</th>\n",
       "      <td>3896</td>\n",
       "      <td>0</td>\n",
       "      <td>0</td>\n",
       "      <td>0</td>\n",
       "      <td>0</td>\n",
       "      <td>0</td>\n",
       "      <td>0</td>\n",
       "      <td>0</td>\n",
       "    </tr>\n",
       "    <tr>\n",
       "      <th>2</th>\n",
       "      <td>3458</td>\n",
       "      <td>0</td>\n",
       "      <td>0</td>\n",
       "      <td>0</td>\n",
       "      <td>0</td>\n",
       "      <td>0</td>\n",
       "      <td>0</td>\n",
       "      <td>0</td>\n",
       "    </tr>\n",
       "  </tbody>\n",
       "</table>\n",
       "</div>"
      ],
      "text/plain": [
       "     id  꽃  과일  허브  달콤함  고소함  향료  초콜릿\n",
       "0    43  0   0   0    1    0   1    0\n",
       "1  3896  0   0   0    0    0   0    0\n",
       "2  3458  0   0   0    0    0   0    0"
      ]
     },
     "execution_count": 44,
     "metadata": {},
     "output_type": "execute_result"
    }
   ],
   "source": [
    "category = category[['id', '꽃', '과일', '허브', '달콤함', '고소함', '향료', '초콜릿']]\n",
    "category.head(3)"
   ]
  },
  {
   "cell_type": "code",
   "execution_count": 45,
   "metadata": {},
   "outputs": [
    {
     "data": {
      "text/html": [
       "<div>\n",
       "<style scoped>\n",
       "    .dataframe tbody tr th:only-of-type {\n",
       "        vertical-align: middle;\n",
       "    }\n",
       "\n",
       "    .dataframe tbody tr th {\n",
       "        vertical-align: top;\n",
       "    }\n",
       "\n",
       "    .dataframe thead th {\n",
       "        text-align: right;\n",
       "    }\n",
       "</style>\n",
       "<table border=\"1\" class=\"dataframe\">\n",
       "  <thead>\n",
       "    <tr style=\"text-align: right;\">\n",
       "      <th></th>\n",
       "      <th>new_id</th>\n",
       "      <th>id</th>\n",
       "      <th>이름</th>\n",
       "      <th>로스터리ID</th>\n",
       "      <th>커피 소개</th>\n",
       "      <th>타입</th>\n",
       "      <th>로스팅 포인트</th>\n",
       "      <th>지속가능성</th>\n",
       "      <th>컵 노트</th>\n",
       "      <th>바디감</th>\n",
       "      <th>...</th>\n",
       "      <th>원재료 및 함량</th>\n",
       "      <th>제품문의 관련 주소 및 전화번호</th>\n",
       "      <th>price</th>\n",
       "      <th>꽃</th>\n",
       "      <th>과일</th>\n",
       "      <th>허브</th>\n",
       "      <th>달콤함</th>\n",
       "      <th>고소함</th>\n",
       "      <th>향료</th>\n",
       "      <th>초콜릿</th>\n",
       "    </tr>\n",
       "  </thead>\n",
       "  <tbody>\n",
       "    <tr>\n",
       "      <th>0</th>\n",
       "      <td>0</td>\n",
       "      <td>2</td>\n",
       "      <td>나탈리</td>\n",
       "      <td>60</td>\n",
       "      <td>잘 익은 딸기를 베어 문듯한 단맛과 적당한 산미의 조화를 이루는 와인의 풍미를 느낄...</td>\n",
       "      <td>블렌드</td>\n",
       "      <td>미디엄</td>\n",
       "      <td>공정무역</td>\n",
       "      <td>['딸기', '와인', '화이트 초콜릿']</td>\n",
       "      <td>2</td>\n",
       "      <td>...</td>\n",
       "      <td>원두 커피(엘살바도르 30%, 파푸아뉴기니 40%, 코스타리카 30%)</td>\n",
       "      <td>코케 고객센터 070-4647-1868</td>\n",
       "      <td>16000</td>\n",
       "      <td>0</td>\n",
       "      <td>1</td>\n",
       "      <td>0</td>\n",
       "      <td>0</td>\n",
       "      <td>0</td>\n",
       "      <td>0</td>\n",
       "      <td>1</td>\n",
       "    </tr>\n",
       "    <tr>\n",
       "      <th>1</th>\n",
       "      <td>1</td>\n",
       "      <td>3</td>\n",
       "      <td>콜린</td>\n",
       "      <td>60</td>\n",
       "      <td>잘 익은 체리의 농후한 단맛과 고소한 아몬드 캐러멜이 입안 가득 남는 끝 맛을 느낄...</td>\n",
       "      <td>블렌드</td>\n",
       "      <td>미디엄다크</td>\n",
       "      <td>공정무역</td>\n",
       "      <td>['다크 초콜릿', '체리', '아몬드']</td>\n",
       "      <td>4</td>\n",
       "      <td>...</td>\n",
       "      <td>원두 커피(코스타리카 30%, 콜롬비아 40%, 인도 30%)</td>\n",
       "      <td>코케 고객센터 070-4647-1868</td>\n",
       "      <td>16000</td>\n",
       "      <td>0</td>\n",
       "      <td>1</td>\n",
       "      <td>0</td>\n",
       "      <td>0</td>\n",
       "      <td>1</td>\n",
       "      <td>0</td>\n",
       "      <td>1</td>\n",
       "    </tr>\n",
       "  </tbody>\n",
       "</table>\n",
       "<p>2 rows × 31 columns</p>\n",
       "</div>"
      ],
      "text/plain": [
       "   new_id  id   이름  로스터리ID                                              커피 소개  \\\n",
       "0       0   2  나탈리      60  잘 익은 딸기를 베어 문듯한 단맛과 적당한 산미의 조화를 이루는 와인의 풍미를 느낄...   \n",
       "1       1   3   콜린      60  잘 익은 체리의 농후한 단맛과 고소한 아몬드 캐러멜이 입안 가득 남는 끝 맛을 느낄...   \n",
       "\n",
       "    타입 로스팅 포인트 지속가능성                     컵 노트  바디감  ...  \\\n",
       "0  블렌드     미디엄  공정무역  ['딸기', '와인', '화이트 초콜릿']    2  ...   \n",
       "1  블렌드   미디엄다크  공정무역  ['다크 초콜릿', '체리', '아몬드']    4  ...   \n",
       "\n",
       "                                  원재료 및 함량      제품문의 관련 주소 및 전화번호  price  꽃  \\\n",
       "0  원두 커피(엘살바도르 30%, 파푸아뉴기니 40%, 코스타리카 30%)  코케 고객센터 070-4647-1868  16000  0   \n",
       "1       원두 커피(코스타리카 30%, 콜롬비아 40%, 인도 30%)  코케 고객센터 070-4647-1868  16000  0   \n",
       "\n",
       "  과일 허브 달콤함 고소함 향료 초콜릿  \n",
       "0  1  0   0   0  0   1  \n",
       "1  1  0   0   1  0   1  \n",
       "\n",
       "[2 rows x 31 columns]"
      ]
     },
     "execution_count": 45,
     "metadata": {},
     "output_type": "execute_result"
    }
   ],
   "source": [
    "coffeeDB = pd.merge(mysite, category, on=\"id\")\n",
    "coffeeDB.head(2)"
   ]
  },
  {
   "cell_type": "code",
   "execution_count": 47,
   "metadata": {},
   "outputs": [
    {
     "data": {
      "text/html": [
       "<div>\n",
       "<style scoped>\n",
       "    .dataframe tbody tr th:only-of-type {\n",
       "        vertical-align: middle;\n",
       "    }\n",
       "\n",
       "    .dataframe tbody tr th {\n",
       "        vertical-align: top;\n",
       "    }\n",
       "\n",
       "    .dataframe thead th {\n",
       "        text-align: right;\n",
       "    }\n",
       "</style>\n",
       "<table border=\"1\" class=\"dataframe\">\n",
       "  <thead>\n",
       "    <tr style=\"text-align: right;\">\n",
       "      <th></th>\n",
       "      <th>new_id</th>\n",
       "      <th>id</th>\n",
       "      <th>이름</th>\n",
       "      <th>로스터리ID</th>\n",
       "      <th>커피 소개</th>\n",
       "      <th>타입</th>\n",
       "      <th>로스팅 포인트</th>\n",
       "      <th>지속가능성</th>\n",
       "      <th>컵 노트</th>\n",
       "      <th>바디감</th>\n",
       "      <th>...</th>\n",
       "      <th>원재료 및 함량</th>\n",
       "      <th>제품문의 관련 주소 및 전화번호</th>\n",
       "      <th>price</th>\n",
       "      <th>꽃</th>\n",
       "      <th>과일</th>\n",
       "      <th>허브</th>\n",
       "      <th>달콤함</th>\n",
       "      <th>고소함</th>\n",
       "      <th>향료</th>\n",
       "      <th>초콜릿</th>\n",
       "    </tr>\n",
       "  </thead>\n",
       "  <tbody>\n",
       "    <tr>\n",
       "      <th>0</th>\n",
       "      <td>0</td>\n",
       "      <td>2</td>\n",
       "      <td>나탈리</td>\n",
       "      <td>60</td>\n",
       "      <td>잘 익은 딸기를 베어 문듯한 단맛과 적당한 산미의 조화를 이루는 와인의 풍미를 느낄...</td>\n",
       "      <td>블렌드</td>\n",
       "      <td>미디엄</td>\n",
       "      <td>공정무역</td>\n",
       "      <td>['딸기', '와인', '화이트 초콜릿']</td>\n",
       "      <td>2</td>\n",
       "      <td>...</td>\n",
       "      <td>원두 커피(엘살바도르 30%, 파푸아뉴기니 40%, 코스타리카 30%)</td>\n",
       "      <td>코케 고객센터 070-4647-1868</td>\n",
       "      <td>16000</td>\n",
       "      <td>0</td>\n",
       "      <td>1</td>\n",
       "      <td>0</td>\n",
       "      <td>0</td>\n",
       "      <td>0</td>\n",
       "      <td>0</td>\n",
       "      <td>1</td>\n",
       "    </tr>\n",
       "    <tr>\n",
       "      <th>1</th>\n",
       "      <td>1</td>\n",
       "      <td>3</td>\n",
       "      <td>콜린</td>\n",
       "      <td>60</td>\n",
       "      <td>잘 익은 체리의 농후한 단맛과 고소한 아몬드 캐러멜이 입안 가득 남는 끝 맛을 느낄...</td>\n",
       "      <td>블렌드</td>\n",
       "      <td>미디엄다크</td>\n",
       "      <td>공정무역</td>\n",
       "      <td>['다크 초콜릿', '체리', '아몬드']</td>\n",
       "      <td>4</td>\n",
       "      <td>...</td>\n",
       "      <td>원두 커피(코스타리카 30%, 콜롬비아 40%, 인도 30%)</td>\n",
       "      <td>코케 고객센터 070-4647-1868</td>\n",
       "      <td>16000</td>\n",
       "      <td>0</td>\n",
       "      <td>1</td>\n",
       "      <td>0</td>\n",
       "      <td>0</td>\n",
       "      <td>1</td>\n",
       "      <td>0</td>\n",
       "      <td>1</td>\n",
       "    </tr>\n",
       "    <tr>\n",
       "      <th>2</th>\n",
       "      <td>2</td>\n",
       "      <td>5</td>\n",
       "      <td>매뉴얼</td>\n",
       "      <td>5</td>\n",
       "      <td>아메리카노, 라떼 모두 잘 어울리는 블렌딩입니다. 부드럽고 은은하게 올라오는 산미와...</td>\n",
       "      <td>블렌드</td>\n",
       "      <td>미디엄다크</td>\n",
       "      <td>0</td>\n",
       "      <td>NaN</td>\n",
       "      <td>4</td>\n",
       "      <td>...</td>\n",
       "      <td>커피원두 100% (브라질, 과테말라, 인도네시아, 에디오피아)</td>\n",
       "      <td>코케 고객센터 070-4647-1868</td>\n",
       "      <td>11000</td>\n",
       "      <td>0</td>\n",
       "      <td>0</td>\n",
       "      <td>0</td>\n",
       "      <td>0</td>\n",
       "      <td>0</td>\n",
       "      <td>0</td>\n",
       "      <td>0</td>\n",
       "    </tr>\n",
       "  </tbody>\n",
       "</table>\n",
       "<p>3 rows × 31 columns</p>\n",
       "</div>"
      ],
      "text/plain": [
       "   new_id  id   이름  로스터리ID                                              커피 소개  \\\n",
       "0       0   2  나탈리      60  잘 익은 딸기를 베어 문듯한 단맛과 적당한 산미의 조화를 이루는 와인의 풍미를 느낄...   \n",
       "1       1   3   콜린      60  잘 익은 체리의 농후한 단맛과 고소한 아몬드 캐러멜이 입안 가득 남는 끝 맛을 느낄...   \n",
       "2       2   5  매뉴얼       5  아메리카노, 라떼 모두 잘 어울리는 블렌딩입니다. 부드럽고 은은하게 올라오는 산미와...   \n",
       "\n",
       "    타입 로스팅 포인트 지속가능성                     컵 노트  바디감  ...  \\\n",
       "0  블렌드     미디엄  공정무역  ['딸기', '와인', '화이트 초콜릿']    2  ...   \n",
       "1  블렌드   미디엄다크  공정무역  ['다크 초콜릿', '체리', '아몬드']    4  ...   \n",
       "2  블렌드   미디엄다크     0                      NaN    4  ...   \n",
       "\n",
       "                                  원재료 및 함량      제품문의 관련 주소 및 전화번호  price  꽃  \\\n",
       "0  원두 커피(엘살바도르 30%, 파푸아뉴기니 40%, 코스타리카 30%)  코케 고객센터 070-4647-1868  16000  0   \n",
       "1       원두 커피(코스타리카 30%, 콜롬비아 40%, 인도 30%)  코케 고객센터 070-4647-1868  16000  0   \n",
       "2      커피원두 100% (브라질, 과테말라, 인도네시아, 에디오피아)  코케 고객센터 070-4647-1868  11000  0   \n",
       "\n",
       "  과일 허브 달콤함 고소함 향료 초콜릿  \n",
       "0  1  0   0   0  0   1  \n",
       "1  1  0   0   1  0   1  \n",
       "2  0  0   0   0  0   0  \n",
       "\n",
       "[3 rows x 31 columns]"
      ]
     },
     "execution_count": 47,
     "metadata": {},
     "output_type": "execute_result"
    }
   ],
   "source": [
    "# update mysite/data/coffeeDB2.csv\n",
    "coffeeDB.to_csv('mysite/data/coffeeDB2.csv', index=0)\n",
    "mysite = pd.read_csv('mysite/data/coffeeDB2.csv')\n",
    "mysite.head(3)"
   ]
  },
  {
   "cell_type": "markdown",
   "metadata": {},
   "source": [
    "***\n",
    "식품의 유형\n",
    "***"
   ]
  },
  {
   "cell_type": "code",
   "execution_count": 48,
   "metadata": {},
   "outputs": [
    {
     "name": "stdout",
     "output_type": "stream",
     "text": [
      "<class 'pandas.core.frame.DataFrame'>\n",
      "RangeIndex: 559 entries, 0 to 558\n",
      "Data columns (total 27 columns):\n",
      " #   Column             Non-Null Count  Dtype \n",
      "---  ------             --------------  ----- \n",
      " 0   id                 559 non-null    int64 \n",
      " 1   이름                 559 non-null    object\n",
      " 2   로스터리               559 non-null    object\n",
      " 3   타입                 559 non-null    object\n",
      " 4   로스팅 포인트            559 non-null    object\n",
      " 5   지속가능성              559 non-null    object\n",
      " 6   컵 노트               559 non-null    object\n",
      " 7   바디감                559 non-null    int64 \n",
      " 8   신맛                 559 non-null    int64 \n",
      " 9   단맛                 559 non-null    int64 \n",
      " 10  쓴맛                 559 non-null    int64 \n",
      " 11  커피 소개              559 non-null    object\n",
      " 12  나라                 559 non-null    object\n",
      " 13  로스터리 소개            559 non-null    object\n",
      " 14  로스터리 주소            559 non-null    object\n",
      " 15  이름.1               559 non-null    object\n",
      " 16  식품의 유형             554 non-null    object\n",
      " 17  제조원 및 소재지          559 non-null    object\n",
      " 18  유통기한               557 non-null    object\n",
      " 19  제조일자               559 non-null    object\n",
      " 20  내용량                559 non-null    object\n",
      " 21  보관 방법              545 non-null    object\n",
      " 22  원재료 및 함량           559 non-null    object\n",
      " 23  제품문의 관련 주소 및 전화번호  559 non-null    object\n",
      " 24  카페인                559 non-null    int64 \n",
      " 25  로스터리ID             559 non-null    int64 \n",
      " 26  price              559 non-null    int64 \n",
      "dtypes: int64(8), object(19)\n",
      "memory usage: 118.0+ KB\n"
     ]
    }
   ],
   "source": [
    "df = pd.read_csv('wondoofin.csv')\n",
    "df.info()"
   ]
  },
  {
   "cell_type": "code",
   "execution_count": 49,
   "metadata": {},
   "outputs": [
    {
     "data": {
      "text/plain": [
       "count     554\n",
       "unique     13\n",
       "top        커피\n",
       "freq      426\n",
       "Name: 식품의 유형, dtype: object"
      ]
     },
     "execution_count": 49,
     "metadata": {},
     "output_type": "execute_result"
    }
   ],
   "source": [
    "df['식품의 유형'].describe()"
   ]
  },
  {
   "cell_type": "code",
   "execution_count": 50,
   "metadata": {},
   "outputs": [
    {
     "data": {
      "text/plain": [
       "array(['커피(볶은커피)', '커피', '볶은커피', '원두커피', '원두', '볶은 커피', '디카페인 커피',\n",
       "       '커피 원두', '커피원두', nan, '커피원', '원두 커피', '가공 원두', '커피 원두 100%'],\n",
       "      dtype=object)"
      ]
     },
     "execution_count": 50,
     "metadata": {},
     "output_type": "execute_result"
    }
   ],
   "source": [
    "df['식품의 유형'].unique()"
   ]
  },
  {
   "cell_type": "code",
   "execution_count": 51,
   "metadata": {},
   "outputs": [],
   "source": [
    "df['식품의 유형'] = '커피 원두'"
   ]
  },
  {
   "cell_type": "code",
   "execution_count": 53,
   "metadata": {},
   "outputs": [
    {
     "data": {
      "text/plain": [
       "count       559\n",
       "unique        1\n",
       "top       커피 원두\n",
       "freq        559\n",
       "Name: 식품의 유형, dtype: object"
      ]
     },
     "execution_count": 53,
     "metadata": {},
     "output_type": "execute_result"
    }
   ],
   "source": [
    "# update wondoofin.csv\n",
    "df.to_csv('wondoofin.csv', index=0)\n",
    "df = pd.read_csv('wondoofin.csv')\n",
    "df['식품의 유형'].describe()"
   ]
  },
  {
   "cell_type": "code",
   "execution_count": 57,
   "metadata": {},
   "outputs": [
    {
     "data": {
      "text/plain": [
       "count     554\n",
       "unique     13\n",
       "top        커피\n",
       "freq      426\n",
       "Name: 식품의 유형, dtype: object"
      ]
     },
     "execution_count": 57,
     "metadata": {},
     "output_type": "execute_result"
    }
   ],
   "source": [
    "coffeeDB = pd.read_csv('mysite/data/coffeeDB2.csv')\n",
    "coffeeDB['식품의 유형'].describe()"
   ]
  },
  {
   "cell_type": "code",
   "execution_count": 58,
   "metadata": {},
   "outputs": [
    {
     "data": {
      "text/html": [
       "<div>\n",
       "<style scoped>\n",
       "    .dataframe tbody tr th:only-of-type {\n",
       "        vertical-align: middle;\n",
       "    }\n",
       "\n",
       "    .dataframe tbody tr th {\n",
       "        vertical-align: top;\n",
       "    }\n",
       "\n",
       "    .dataframe thead th {\n",
       "        text-align: right;\n",
       "    }\n",
       "</style>\n",
       "<table border=\"1\" class=\"dataframe\">\n",
       "  <thead>\n",
       "    <tr style=\"text-align: right;\">\n",
       "      <th></th>\n",
       "      <th>new_id</th>\n",
       "      <th>id</th>\n",
       "      <th>이름</th>\n",
       "      <th>로스터리ID</th>\n",
       "      <th>커피 소개</th>\n",
       "      <th>타입</th>\n",
       "      <th>로스팅 포인트</th>\n",
       "      <th>지속가능성</th>\n",
       "      <th>컵 노트</th>\n",
       "      <th>바디감</th>\n",
       "      <th>...</th>\n",
       "      <th>원재료 및 함량</th>\n",
       "      <th>제품문의 관련 주소 및 전화번호</th>\n",
       "      <th>price</th>\n",
       "      <th>꽃</th>\n",
       "      <th>과일</th>\n",
       "      <th>허브</th>\n",
       "      <th>달콤함</th>\n",
       "      <th>고소함</th>\n",
       "      <th>향료</th>\n",
       "      <th>초콜릿</th>\n",
       "    </tr>\n",
       "  </thead>\n",
       "  <tbody>\n",
       "    <tr>\n",
       "      <th>0</th>\n",
       "      <td>0</td>\n",
       "      <td>2</td>\n",
       "      <td>나탈리</td>\n",
       "      <td>60</td>\n",
       "      <td>잘 익은 딸기를 베어 문듯한 단맛과 적당한 산미의 조화를 이루는 와인의 풍미를 느낄...</td>\n",
       "      <td>블렌드</td>\n",
       "      <td>미디엄</td>\n",
       "      <td>공정무역</td>\n",
       "      <td>['딸기', '와인', '화이트 초콜릿']</td>\n",
       "      <td>2</td>\n",
       "      <td>...</td>\n",
       "      <td>원두 커피(엘살바도르 30%, 파푸아뉴기니 40%, 코스타리카 30%)</td>\n",
       "      <td>코케 고객센터 070-4647-1868</td>\n",
       "      <td>16000</td>\n",
       "      <td>0</td>\n",
       "      <td>1</td>\n",
       "      <td>0</td>\n",
       "      <td>0</td>\n",
       "      <td>0</td>\n",
       "      <td>0</td>\n",
       "      <td>1</td>\n",
       "    </tr>\n",
       "    <tr>\n",
       "      <th>1</th>\n",
       "      <td>1</td>\n",
       "      <td>3</td>\n",
       "      <td>콜린</td>\n",
       "      <td>60</td>\n",
       "      <td>잘 익은 체리의 농후한 단맛과 고소한 아몬드 캐러멜이 입안 가득 남는 끝 맛을 느낄...</td>\n",
       "      <td>블렌드</td>\n",
       "      <td>미디엄다크</td>\n",
       "      <td>공정무역</td>\n",
       "      <td>['다크 초콜릿', '체리', '아몬드']</td>\n",
       "      <td>4</td>\n",
       "      <td>...</td>\n",
       "      <td>원두 커피(코스타리카 30%, 콜롬비아 40%, 인도 30%)</td>\n",
       "      <td>코케 고객센터 070-4647-1868</td>\n",
       "      <td>16000</td>\n",
       "      <td>0</td>\n",
       "      <td>1</td>\n",
       "      <td>0</td>\n",
       "      <td>0</td>\n",
       "      <td>1</td>\n",
       "      <td>0</td>\n",
       "      <td>1</td>\n",
       "    </tr>\n",
       "  </tbody>\n",
       "</table>\n",
       "<p>2 rows × 31 columns</p>\n",
       "</div>"
      ],
      "text/plain": [
       "   new_id  id   이름  로스터리ID                                              커피 소개  \\\n",
       "0       0   2  나탈리      60  잘 익은 딸기를 베어 문듯한 단맛과 적당한 산미의 조화를 이루는 와인의 풍미를 느낄...   \n",
       "1       1   3   콜린      60  잘 익은 체리의 농후한 단맛과 고소한 아몬드 캐러멜이 입안 가득 남는 끝 맛을 느낄...   \n",
       "\n",
       "    타입 로스팅 포인트 지속가능성                     컵 노트  바디감  ...  \\\n",
       "0  블렌드     미디엄  공정무역  ['딸기', '와인', '화이트 초콜릿']    2  ...   \n",
       "1  블렌드   미디엄다크  공정무역  ['다크 초콜릿', '체리', '아몬드']    4  ...   \n",
       "\n",
       "                                  원재료 및 함량      제품문의 관련 주소 및 전화번호  price  꽃  \\\n",
       "0  원두 커피(엘살바도르 30%, 파푸아뉴기니 40%, 코스타리카 30%)  코케 고객센터 070-4647-1868  16000  0   \n",
       "1       원두 커피(코스타리카 30%, 콜롬비아 40%, 인도 30%)  코케 고객센터 070-4647-1868  16000  0   \n",
       "\n",
       "  과일 허브 달콤함 고소함 향료 초콜릿  \n",
       "0  1  0   0   0  0   1  \n",
       "1  1  0   0   1  0   1  \n",
       "\n",
       "[2 rows x 31 columns]"
      ]
     },
     "execution_count": 58,
     "metadata": {},
     "output_type": "execute_result"
    }
   ],
   "source": [
    "coffeeDB['식품의 유형'] = '커피 원두'\n",
    "coffeeDB.head(2)"
   ]
  },
  {
   "cell_type": "code",
   "execution_count": 59,
   "metadata": {},
   "outputs": [
    {
     "data": {
      "text/plain": [
       "count       559\n",
       "unique        1\n",
       "top       커피 원두\n",
       "freq        559\n",
       "Name: 식품의 유형, dtype: object"
      ]
     },
     "execution_count": 59,
     "metadata": {},
     "output_type": "execute_result"
    }
   ],
   "source": [
    "# update mysite/data/coffeeDB2.csv\n",
    "coffeeDB.to_csv('mysite/data/coffeeDB2.csv', index=0)\n",
    "coffeeDB = pd.read_csv('mysite/data/coffeeDB2.csv')\n",
    "coffeeDB['식품의 유형'].describe()"
   ]
  },
  {
   "cell_type": "markdown",
   "metadata": {},
   "source": [
    "***\n",
    "유통기한\n",
    "***\n",
    "- count : 557/559\n",
    "- 같은 말인데 다르게 쓰여 있는 value들 합치기"
   ]
  },
  {
   "cell_type": "code",
   "execution_count": 60,
   "metadata": {},
   "outputs": [
    {
     "data": {
      "text/plain": [
       "count           557\n",
       "unique           23\n",
       "top       제조일로부터 1년\n",
       "freq            452\n",
       "Name: 유통기한, dtype: object"
      ]
     },
     "execution_count": 60,
     "metadata": {},
     "output_type": "execute_result"
    }
   ],
   "source": [
    "df = pd.read_csv('wondoofin.csv')\n",
    "df['유통기한'].describe()"
   ]
  },
  {
   "cell_type": "code",
   "execution_count": 61,
   "metadata": {},
   "outputs": [
    {
     "data": {
      "text/plain": [
       "array(['제조일로부터 12개월', '제조일로부터 1년', '제품 별도 표기', '제조일로부터 6개월',\n",
       "       '제조일로부터 2달 이내', '제조일로 부터 1년', '제조일로부터 3개월 이내(실온 상태)', nan,\n",
       "       '제조일로부터1년', '제조일로부터 1개월', '제조일로부터 3개월까지(실온상태)', '제조일로부터 3개월 이내',\n",
       "       '제조일로부터24개월', '제조일자로부터 1년', '제조일부터 1년 이내', '제조일로 2개월',\n",
       "       '제조일로부터 2개월', '제조일로부터 12개월 이내', '제조일로부터 24개월', '제조일로부터 3개월',\n",
       "       '제조일로부터 10개월', '제조일로부터 1년(권장기한 제조일로부터 1달)',\n",
       "       '제조일로부터 1년(향미 보존 위해 3주 이내에 소비 권장)', '제조일로부터 6개월 이내 권장'],\n",
       "      dtype=object)"
      ]
     },
     "execution_count": 61,
     "metadata": {},
     "output_type": "execute_result"
    }
   ],
   "source": [
    "df['유통기한'].unique()"
   ]
  },
  {
   "cell_type": "markdown",
   "metadata": {},
   "source": [
    "'제조일로부터 1년' : '제조일로부터 12개월', '제조일로 부터 1년', '제조일로부터1년', '제조일자로부터 1년', '제조일부터 1년 이내', '제조일로부터 12개월 이내', '제조일로부터 1년(권장기한 제조일로부터 1달)', '제조일로부터 1년(향미 보존 위해 3주 이내에 소비 권장)'\n",
    "\n",
    "'제품 별도 표기' : nan\n",
    "\n",
    "'제조일로부터 6개월' : '제조일로부터 6개월 이내 권장'\n",
    "\n",
    "'제조일로부터 2개월' : '제조일로부터 2달 이내', '제조일로 2개월'\n",
    "\n",
    "'제조일로부터 3개월' : '제조일로부터 3개월 이내(실온 상태)', '제조일로부터 3개월까지(실온상태)', '제조일로부터 3개월 이내'\n",
    "\n",
    "'제조일로부터 1개월'  \n",
    "\n",
    "'제조일로부터 24개월' : '제조일로부터24개월'\n",
    "\n",
    "'제조일로부터 10개월'"
   ]
  },
  {
   "cell_type": "code",
   "execution_count": 69,
   "metadata": {},
   "outputs": [
    {
     "data": {
      "text/plain": [
       "array(['제조일로부터 1년', '제품 별도 표기', '제조일로부터 6개월', '제조일로부터 2개월', '제조일로부터 3개월',\n",
       "       '제조일로부터 1개월', '제조일로부터 24개월', '제조일로부터 10개월'], dtype=object)"
      ]
     },
     "execution_count": 69,
     "metadata": {},
     "output_type": "execute_result"
    }
   ],
   "source": [
    "df['유통기한'] = df['유통기한'].map(lambda x: \n",
    "    '제조일로부터 1년' if x in [\n",
    "        '제조일로부터 12개월', '제조일로 부터 1년', '제조일로부터1년', '제조일자로부터 1년',\n",
    "        '제조일부터 1년 이내', '제조일로부터 12개월 이내', '제조일로부터 1년(권장기한 제조일로부터 1달)',\n",
    "        '제조일로부터 1년(향미 보존 위해 3주 이내에 소비 권장)'\n",
    "    ] else (\n",
    "    '제품 별도 표기' if pd.isna(x) or x == '제품 별도 표기' else (\n",
    "    '제조일로부터 2개월' if x == '제조일로부터 2달 이내' or x == '제조일로 2개월' else (\n",
    "    '제조일로부터 6개월' if x == '제조일로부터 6개월 이내 권장' else (\n",
    "    '제조일로부터 24개월' if x == '제조일로부터24개월' else (\n",
    "    '제조일로부터 3개월' if x in ['제조일로부터 3개월 이내(실온 상태)', '제조일로부터 3개월까지(실온상태)', '제조일로부터 3개월 이내'] else x\n",
    "    )))))\n",
    ")\n",
    "df['유통기한'].unique()"
   ]
  },
  {
   "cell_type": "code",
   "execution_count": 70,
   "metadata": {},
   "outputs": [
    {
     "data": {
      "text/plain": [
       "array(['제조일로부터 1년', '제품 별도 표기', '제조일로부터 6개월', '제조일로부터 2개월', '제조일로부터 3개월',\n",
       "       '제조일로부터 1개월', '제조일로부터 24개월', '제조일로부터 10개월'], dtype=object)"
      ]
     },
     "execution_count": 70,
     "metadata": {},
     "output_type": "execute_result"
    }
   ],
   "source": [
    "# update wondoofin.csv\n",
    "df.to_csv('wondoofin.csv', index=0)\n",
    "df = pd.read_csv('wondoofin.csv')\n",
    "df['유통기한'].unique()"
   ]
  },
  {
   "cell_type": "code",
   "execution_count": 79,
   "metadata": {},
   "outputs": [
    {
     "data": {
      "text/plain": [
       "Index(['new_id', 'id', '이름', '로스터리ID', '커피 소개', '타입', '로스팅 포인트', '지속가능성',\n",
       "       '컵 노트', '바디감', '신맛', '단맛', '쓴맛', '카페인', '나라', '식품의 유형', '제조원 및 소재지',\n",
       "       '유통기한', '제조일자', '내용량', '보관 방법', '원재료 및 함량', '제품문의 관련 주소 및 전화번호',\n",
       "       'price', '꽃', '과일', '허브', '달콤함', '고소함', '향료', '초콜릿'],\n",
       "      dtype='object')"
      ]
     },
     "execution_count": 79,
     "metadata": {},
     "output_type": "execute_result"
    }
   ],
   "source": [
    "coffee = pd.read_csv('mysite/data/coffeeDB2.csv')\n",
    "coffee.columns"
   ]
  },
  {
   "cell_type": "code",
   "execution_count": 80,
   "metadata": {},
   "outputs": [
    {
     "data": {
      "text/plain": [
       "Index(['new_id', 'id', '이름', '로스터리ID', '커피 소개', '타입', '로스팅 포인트', '지속가능성',\n",
       "       '컵 노트', '바디감', '신맛', '단맛', '쓴맛', '카페인', '나라', '식품의 유형', '제조원 및 소재지',\n",
       "       '유통기한_x', '제조일자', '내용량', '보관 방법', '원재료 및 함량', '제품문의 관련 주소 및 전화번호',\n",
       "       'price', '꽃', '과일', '허브', '달콤함', '고소함', '향료', '초콜릿', '유통기한_y'],\n",
       "      dtype='object')"
      ]
     },
     "execution_count": 80,
     "metadata": {},
     "output_type": "execute_result"
    }
   ],
   "source": [
    "coffeeDB = pd.merge(coffee, df[['id', '유통기한']], on='id')\n",
    "coffeeDB.columns"
   ]
  },
  {
   "cell_type": "code",
   "execution_count": 81,
   "metadata": {},
   "outputs": [
    {
     "name": "stdout",
     "output_type": "stream",
     "text": [
      "Index(['new_id', 'id', '이름', '로스터리ID', '커피 소개', '타입', '로스팅 포인트', '지속가능성',\n",
      "       '컵 노트', '바디감', '신맛', '단맛', '쓴맛', '카페인', '나라', '식품의 유형', '제조원 및 소재지',\n",
      "       '유통기한', '제조일자', '내용량', '보관 방법', '원재료 및 함량', '제품문의 관련 주소 및 전화번호',\n",
      "       'price', '꽃', '과일', '허브', '달콤함', '고소함', '향료', '초콜릿'],\n",
      "      dtype='object')\n",
      "['제조일로부터 1년' '제조일로부터 6개월' '제조일로부터 2개월' '제조일로부터 1개월' '제조일로부터 3개월'\n",
      " '제조일로부터 10개월' '제조일로부터 24개월' '제품 별도 표기']\n"
     ]
    }
   ],
   "source": [
    "coffeeDB.drop(columns=['유통기한_x'], inplace=True)\n",
    "coffeeDB = coffeeDB.rename(columns={'유통기한_y': '유통기한'})\n",
    "\n",
    "column_order = ['new_id', 'id', '이름', '로스터리ID', '커피 소개', '타입', '로스팅 포인트', '지속가능성',\n",
    "       '컵 노트', '바디감', '신맛', '단맛', '쓴맛', '카페인', '나라', '식품의 유형', '제조원 및 소재지',\n",
    "       '유통기한', '제조일자', '내용량', '보관 방법', '원재료 및 함량', '제품문의 관련 주소 및 전화번호',\n",
    "       'price', '꽃', '과일', '허브', '달콤함', '고소함', '향료', '초콜릿']\n",
    "\n",
    "coffeeDB = coffeeDB[column_order]\n",
    "\n",
    "print(coffeeDB.columns)\n",
    "print(coffeeDB['유통기한'].unique())"
   ]
  },
  {
   "cell_type": "code",
   "execution_count": 82,
   "metadata": {},
   "outputs": [
    {
     "data": {
      "text/plain": [
       "array(['제조일로부터 1년', '제조일로부터 6개월', '제조일로부터 2개월', '제조일로부터 1개월',\n",
       "       '제조일로부터 3개월', '제조일로부터 10개월', '제조일로부터 24개월', '제품 별도 표기'],\n",
       "      dtype=object)"
      ]
     },
     "execution_count": 82,
     "metadata": {},
     "output_type": "execute_result"
    }
   ],
   "source": [
    "# update mysite/data/coffeeDB2.csv\n",
    "coffeeDB.to_csv('mysite/data/coffeeDB2.csv', index=0)\n",
    "coffeeDB = pd.read_csv('mysite/data/coffeeDB2.csv')\n",
    "coffeeDB['유통기한'].unique()"
   ]
  },
  {
   "cell_type": "markdown",
   "metadata": {},
   "source": [
    "***\n",
    "보관 방법\n",
    "***"
   ]
  },
  {
   "cell_type": "code",
   "execution_count": 83,
   "metadata": {},
   "outputs": [
    {
     "data": {
      "text/plain": [
       "count                                         545\n",
       "unique                                         36\n",
       "top       직사광선을 피하고 온도, 습도가 낮으며 통풍이 잘 되는 곳에 밀폐 보관\n",
       "freq                                          358\n",
       "Name: 보관 방법, dtype: object"
      ]
     },
     "execution_count": 83,
     "metadata": {},
     "output_type": "execute_result"
    }
   ],
   "source": [
    "df = pd.read_csv('wondoofin.csv')\n",
    "df['보관 방법'].describe()"
   ]
  },
  {
   "cell_type": "code",
   "execution_count": 84,
   "metadata": {},
   "outputs": [
    {
     "data": {
      "text/plain": [
       "array(['직사광선을 피하고 온도, 습도가 낮으며 통풍이 잘 되는 곳에 보관하여 주십시오.',\n",
       "       '직사광선을 피하고 온도, 습도가 낮으며 통풍이 잘 되는 곳에 밀폐 보관',\n",
       "       '직사광선을 피하고 서늘한 곳에 보관하세요.', '건냉한 곳에 밀폐 보관', '직사광선을 피하고 밀봉하여 실온보관',\n",
       "       '직사광선을 피하고 서늘하고 건조한 곳', '실온보관', nan, '건냉한 곳에 밀폐보관', '없음',\n",
       "       '서늘한 곳에 밀폐보관', '서늘한 곳에 보관', '밀봉 후 직사광선을 피하여 실온 보관', '해당없음',\n",
       "       '직사광선을 피하고 밀봉하여 건조하고 서늘한 곳에 보관',\n",
       "       '직사광선과 습기를 피하여 서늘한 곳에 실온 보관 하며, 개봉한 후에는 빨리 드십시오.',\n",
       "       '직사광선을 피하고, 온도 습도가 낮으며 통풍이 잘되는 곳에 밀폐 보관해 주십시오.',\n",
       "       '실온에서 직사광선을 피해 서늘한 곳에 보관하세요.', '습기 및 직사광선을 피하고 서늘한 장소에 보관하십시오.',\n",
       "       '건조하고 서늘한 곳에 보관', '직사광선을 피하고 밀봉하여 실온', '직사광선을 피하고 서늘한 곳에 보관하십시오.',\n",
       "       '직사광선을 피하고 서늘한 곳에 밀폐보관', '-',\n",
       "       '직사광선을 피해 온도, 습도가 낮으며 통풍이 잘 되는 곳에 보관하십시오.',\n",
       "       '직사광선을 피하고 서늘하고 건조한 곳에 보관하십시오. 개봉 후 빨리 드시기 바랍니다.',\n",
       "       '햇빛이 들지 않는 상온에 밀폐 보관',\n",
       "       '개봉 후 서늘한 곳에 밀폐하여 보관하시고, 되도록 공기와의 접촉을 피해야합니다.', '상온 보관', '실온 보관',\n",
       "       '후면에 표기', '공기가 들어가지 않도록 밀봉 또는 밀폐 용기에 담아 서늘한 그늘에 보관하십시오.',\n",
       "       '직사광선 피하고 서늘한 곳', '서늘한 곳에 상온보관', '직사광선을 피하고 서늘한 곳에 보관하십시오',\n",
       "       '직사광선을 피하고, 건냉한 곳에 보관', '햇빛이 들지 않는 상온에 밀폐보관'], dtype=object)"
      ]
     },
     "execution_count": 84,
     "metadata": {},
     "output_type": "execute_result"
    }
   ],
   "source": [
    "df['보관 방법'].unique()"
   ]
  },
  {
   "cell_type": "code",
   "execution_count": 85,
   "metadata": {},
   "outputs": [
    {
     "data": {
      "text/plain": [
       "array(['직사광선을 피하고 온도, 습도가 낮으며 통풍이 잘 되는 곳에 보관하여 주십시오.',\n",
       "       '직사광선을 피하고 온도, 습도가 낮으며 통풍이 잘 되는 곳에 밀폐 보관',\n",
       "       '직사광선을 피하고 서늘한 곳에 보관하세요.', '건냉한 곳에 밀폐 보관', '직사광선을 피하고 밀봉하여 실온보관',\n",
       "       '직사광선을 피하고 서늘하고 건조한 곳', '실온보관', '제조일로부터 1년', '건냉한 곳에 밀폐보관',\n",
       "       '서늘한 곳에 밀폐보관', '서늘한 곳에 보관', '밀봉 후 직사광선을 피하여 실온 보관',\n",
       "       '직사광선을 피하고 밀봉하여 건조하고 서늘한 곳에 보관',\n",
       "       '직사광선과 습기를 피하여 서늘한 곳에 실온 보관 하며, 개봉한 후에는 빨리 드십시오.',\n",
       "       '직사광선을 피하고, 온도 습도가 낮으며 통풍이 잘되는 곳에 밀폐 보관해 주십시오.',\n",
       "       '실온에서 직사광선을 피해 서늘한 곳에 보관하세요.', '습기 및 직사광선을 피하고 서늘한 장소에 보관하십시오.',\n",
       "       '건조하고 서늘한 곳에 보관', '직사광선을 피하고 밀봉하여 실온', '직사광선을 피하고 서늘한 곳에 보관하십시오.',\n",
       "       '직사광선을 피하고 서늘한 곳에 밀폐보관',\n",
       "       '직사광선을 피해 온도, 습도가 낮으며 통풍이 잘 되는 곳에 보관하십시오.',\n",
       "       '직사광선을 피하고 서늘하고 건조한 곳에 보관하십시오. 개봉 후 빨리 드시기 바랍니다.',\n",
       "       '햇빛이 들지 않는 상온에 밀폐 보관',\n",
       "       '개봉 후 서늘한 곳에 밀폐하여 보관하시고, 되도록 공기와의 접촉을 피해야합니다.', '상온 보관', '실온 보관',\n",
       "       '후면에 표기', '공기가 들어가지 않도록 밀봉 또는 밀폐 용기에 담아 서늘한 그늘에 보관하십시오.',\n",
       "       '직사광선 피하고 서늘한 곳', '서늘한 곳에 상온보관', '직사광선을 피하고 서늘한 곳에 보관하십시오',\n",
       "       '직사광선을 피하고, 건냉한 곳에 보관', '햇빛이 들지 않는 상온에 밀폐보관'], dtype=object)"
      ]
     },
     "execution_count": 85,
     "metadata": {},
     "output_type": "execute_result"
    }
   ],
   "source": [
    "df['보관 방법'] = df['보관 방법'].map(lambda x: \n",
    "    '제조일로부터 1년' if pd.isna(x) or x in [\n",
    "        '없음', '해당없음', '-'\n",
    "    ] else x\n",
    "    )\n",
    "df['보관 방법'].unique()"
   ]
  },
  {
   "cell_type": "code",
   "execution_count": 86,
   "metadata": {},
   "outputs": [
    {
     "data": {
      "text/plain": [
       "count                                         559\n",
       "unique                                         34\n",
       "top       직사광선을 피하고 온도, 습도가 낮으며 통풍이 잘 되는 곳에 밀폐 보관\n",
       "freq                                          358\n",
       "Name: 보관 방법, dtype: object"
      ]
     },
     "execution_count": 86,
     "metadata": {},
     "output_type": "execute_result"
    }
   ],
   "source": [
    "df['보관 방법'].describe()"
   ]
  },
  {
   "cell_type": "code",
   "execution_count": 87,
   "metadata": {},
   "outputs": [
    {
     "data": {
      "text/plain": [
       "count                                         559\n",
       "unique                                         34\n",
       "top       직사광선을 피하고 온도, 습도가 낮으며 통풍이 잘 되는 곳에 밀폐 보관\n",
       "freq                                          358\n",
       "Name: 보관 방법, dtype: object"
      ]
     },
     "execution_count": 87,
     "metadata": {},
     "output_type": "execute_result"
    }
   ],
   "source": [
    "# update wondoofin.csv\n",
    "df.to_csv('wondoofin.csv', index=0)\n",
    "df = pd.read_csv('wondoofin.csv')\n",
    "df['보관 방법'].describe()"
   ]
  },
  {
   "cell_type": "code",
   "execution_count": 98,
   "metadata": {},
   "outputs": [
    {
     "data": {
      "text/plain": [
       "Index(['new_id', 'id', '이름', '로스터리ID', '커피 소개', '타입', '로스팅 포인트', '지속가능성',\n",
       "       '컵 노트', '바디감', '신맛', '단맛', '쓴맛', '카페인', '나라', '식품의 유형', '제조원 및 소재지',\n",
       "       '유통기한', '제조일자', '내용량', '보관 방법', '원재료 및 함량', '제품문의 관련 주소 및 전화번호',\n",
       "       'price', '꽃', '과일', '허브', '달콤함', '고소함', '향료', '초콜릿'],\n",
       "      dtype='object')"
      ]
     },
     "execution_count": 98,
     "metadata": {},
     "output_type": "execute_result"
    }
   ],
   "source": [
    "coffee = pd.read_csv('mysite/data/coffeeDB2.csv')\n",
    "coffee.columns"
   ]
  },
  {
   "cell_type": "code",
   "execution_count": 99,
   "metadata": {},
   "outputs": [
    {
     "data": {
      "text/plain": [
       "Index(['new_id', 'id', '이름', '로스터리ID', '커피 소개', '타입', '로스팅 포인트', '지속가능성',\n",
       "       '컵 노트', '바디감', '신맛', '단맛', '쓴맛', '카페인', '나라', '식품의 유형', '제조원 및 소재지',\n",
       "       '유통기한', '제조일자', '내용량', '보관 방법_x', '원재료 및 함량', '제품문의 관련 주소 및 전화번호',\n",
       "       'price', '꽃', '과일', '허브', '달콤함', '고소함', '향료', '초콜릿', '보관 방법_y'],\n",
       "      dtype='object')"
      ]
     },
     "execution_count": 99,
     "metadata": {},
     "output_type": "execute_result"
    }
   ],
   "source": [
    "coffeeDB = pd.merge(coffee, df[['id', '보관 방법']], on='id')\n",
    "coffeeDB.columns"
   ]
  },
  {
   "cell_type": "code",
   "execution_count": 100,
   "metadata": {},
   "outputs": [
    {
     "name": "stdout",
     "output_type": "stream",
     "text": [
      "37\n",
      "34\n"
     ]
    }
   ],
   "source": [
    "print(len(coffeeDB['보관 방법_x'].unique()))\n",
    "print(len(coffeeDB['보관 방법_y'].unique()))"
   ]
  },
  {
   "cell_type": "code",
   "execution_count": 101,
   "metadata": {},
   "outputs": [
    {
     "name": "stdout",
     "output_type": "stream",
     "text": [
      "Index(['new_id', 'id', '이름', '로스터리ID', '커피 소개', '타입', '로스팅 포인트', '지속가능성',\n",
      "       '컵 노트', '바디감', '신맛', '단맛', '쓴맛', '카페인', '나라', '식품의 유형', '제조원 및 소재지',\n",
      "       '유통기한', '제조일자', '내용량', '보관 방법', '원재료 및 함량', '제품문의 관련 주소 및 전화번호',\n",
      "       'price', '꽃', '과일', '허브', '달콤함', '고소함', '향료', '초콜릿'],\n",
      "      dtype='object')\n",
      "34\n"
     ]
    }
   ],
   "source": [
    "coffeeDB.drop(columns=['보관 방법_x'], inplace=True)\n",
    "coffeeDB = coffeeDB.rename(columns={'보관 방법_y': '보관 방법'})\n",
    "\n",
    "column_order = ['new_id', 'id', '이름', '로스터리ID', '커피 소개', '타입', '로스팅 포인트', '지속가능성',\n",
    "       '컵 노트', '바디감', '신맛', '단맛', '쓴맛', '카페인', '나라', '식품의 유형', '제조원 및 소재지',\n",
    "       '유통기한', '제조일자', '내용량', '보관 방법', '원재료 및 함량', '제품문의 관련 주소 및 전화번호',\n",
    "       'price', '꽃', '과일', '허브', '달콤함', '고소함', '향료', '초콜릿']\n",
    "\n",
    "coffeeDB = coffeeDB[column_order]\n",
    "\n",
    "print(coffeeDB.columns)\n",
    "print(len(coffeeDB['보관 방법'].unique()))"
   ]
  },
  {
   "cell_type": "code",
   "execution_count": 102,
   "metadata": {},
   "outputs": [
    {
     "name": "stdout",
     "output_type": "stream",
     "text": [
      "34\n"
     ]
    }
   ],
   "source": [
    "# update mysite/data/coffeeDB2.csv\n",
    "coffeeDB.to_csv('mysite/data/coffeeDB2.csv', index=0)\n",
    "coffeeDB = pd.read_csv('mysite/data/coffeeDB2.csv')\n",
    "print(len(coffeeDB['보관 방법'].unique()))"
   ]
  },
  {
   "cell_type": "markdown",
   "metadata": {},
   "source": [
    "***\n",
    "확인\n",
    "***"
   ]
  },
  {
   "cell_type": "code",
   "execution_count": 157,
   "metadata": {},
   "outputs": [
    {
     "name": "stdout",
     "output_type": "stream",
     "text": [
      "<class 'pandas.core.frame.DataFrame'>\n",
      "RangeIndex: 559 entries, 0 to 558\n",
      "Data columns (total 27 columns):\n",
      " #   Column             Non-Null Count  Dtype \n",
      "---  ------             --------------  ----- \n",
      " 0   id                 559 non-null    int64 \n",
      " 1   이름                 559 non-null    object\n",
      " 2   로스터리               559 non-null    object\n",
      " 3   타입                 559 non-null    object\n",
      " 4   로스팅 포인트            559 non-null    object\n",
      " 5   지속가능성              559 non-null    object\n",
      " 6   컵 노트               559 non-null    object\n",
      " 7   바디감                559 non-null    int64 \n",
      " 8   신맛                 559 non-null    int64 \n",
      " 9   단맛                 559 non-null    int64 \n",
      " 10  쓴맛                 559 non-null    int64 \n",
      " 11  커피 소개              559 non-null    object\n",
      " 12  나라                 559 non-null    object\n",
      " 13  로스터리 소개            559 non-null    object\n",
      " 14  로스터리 주소            559 non-null    object\n",
      " 15  이름.1               559 non-null    object\n",
      " 16  식품의 유형             559 non-null    object\n",
      " 17  제조원 및 소재지          559 non-null    object\n",
      " 18  유통기한               559 non-null    object\n",
      " 19  제조일자               559 non-null    object\n",
      " 20  내용량                559 non-null    object\n",
      " 21  보관 방법              559 non-null    object\n",
      " 22  원재료 및 함량           559 non-null    object\n",
      " 23  제품문의 관련 주소 및 전화번호  559 non-null    object\n",
      " 24  카페인                559 non-null    int64 \n",
      " 25  로스터리ID             559 non-null    int64 \n",
      " 26  price              559 non-null    int64 \n",
      "dtypes: int64(8), object(19)\n",
      "memory usage: 118.0+ KB\n"
     ]
    }
   ],
   "source": [
    "df = pd.read_csv('wondoofin.csv')\n",
    "df.info()"
   ]
  },
  {
   "cell_type": "code",
   "execution_count": 158,
   "metadata": {},
   "outputs": [
    {
     "data": {
      "text/plain": [
       "Index(['id', '이름', '로스터리', '타입', '로스팅 포인트', '지속가능성', '컵 노트', '바디감', '신맛', '단맛',\n",
       "       '쓴맛', '커피 소개', '나라', '로스터리 소개', '로스터리 주소', '이름.1', '식품의 유형',\n",
       "       '제조원 및 소재지', '유통기한', '제조일자', '내용량', '보관 방법', '원재료 및 함량',\n",
       "       '제품문의 관련 주소 및 전화번호', '카페인', '로스터리ID', 'price'],\n",
       "      dtype='object')"
      ]
     },
     "execution_count": 158,
     "metadata": {},
     "output_type": "execute_result"
    }
   ],
   "source": [
    "df.columns"
   ]
  },
  {
   "cell_type": "code",
   "execution_count": 159,
   "metadata": {},
   "outputs": [
    {
     "data": {
      "text/plain": [
       "array(['0', '유기농', '공정무역', '직접무역'], dtype=object)"
      ]
     },
     "execution_count": 159,
     "metadata": {},
     "output_type": "execute_result"
    }
   ],
   "source": [
    "df['지속가능성'].unique()"
   ]
  },
  {
   "cell_type": "code",
   "execution_count": 160,
   "metadata": {},
   "outputs": [
    {
     "data": {
      "text/plain": [
       "nan"
      ]
     },
     "execution_count": 160,
     "metadata": {},
     "output_type": "execute_result"
    }
   ],
   "source": [
    "import numpy as np\n",
    "df['컵 노트'].replace(\"['null']\", np.nan, inplace=True)\n",
    "df['컵 노트'][1]"
   ]
  },
  {
   "cell_type": "code",
   "execution_count": 162,
   "metadata": {},
   "outputs": [
    {
     "name": "stdout",
     "output_type": "stream",
     "text": [
      "[4 3 5 2 1]\n",
      "[2 4 1 3 5]\n",
      "[4 5 3 2]\n",
      "[3 1 4 2 5]\n"
     ]
    }
   ],
   "source": [
    "flavour = ['바디감', '신맛', '단맛', '쓴맛']\n",
    "for i in flavour:\n",
    "    print(df[i].unique())"
   ]
  },
  {
   "cell_type": "markdown",
   "metadata": {},
   "source": [
    "'커피 소개', '나라', '로스터리 소개', '로스터리 주소', '이름.1', '식품의 유형',\n",
    "       '제조원 및 소재지', '유통기한', '제조일자', '내용량', '보관 방법', '원재료 및 함량',\n",
    "       '제품문의 관련 주소 및 전화번호', '카페인', '로스터리ID', 'price'"
   ]
  },
  {
   "cell_type": "code",
   "execution_count": null,
   "metadata": {},
   "outputs": [],
   "source": []
  },
  {
   "cell_type": "markdown",
   "metadata": {},
   "source": [
    "***\n",
    "디카페인 수정할 때 실수로 feature.csv를 디카페인인 원두들만의 정보만 들어있는 dataframe으로 덮어 써버려서 되돌리고 최신 정보로 수정\n",
    "***"
   ]
  },
  {
   "cell_type": "code",
   "execution_count": 145,
   "metadata": {},
   "outputs": [
    {
     "data": {
      "text/plain": [
       "Index(['id', 'body', 'sour', 'sweet', 'bitter', 'decaf', 'blend', 'single',\n",
       "       '지속가능성_0', '지속가능성_공정무역', '지속가능성_유기농', '지속가능성_직접무역', '로스팅 포인트_다크',\n",
       "       '로스팅 포인트_라이트', '로스팅 포인트_라이트미디엄', '로스팅 포인트_미디엄', '로스팅 포인트_미디엄다크', '꽃',\n",
       "       '과일', '허브', '달콤함', '고소함', '향료', '초콜릿'],\n",
       "      dtype='object')"
      ]
     },
     "execution_count": 145,
     "metadata": {},
     "output_type": "execute_result"
    }
   ],
   "source": [
    "df = pd.read_csv('mysite/data/features.csv')\n",
    "df.columns"
   ]
  },
  {
   "cell_type": "code",
   "execution_count": 146,
   "metadata": {},
   "outputs": [
    {
     "data": {
      "text/plain": [
       "array(['블렌드', '싱글오리진'], dtype=object)"
      ]
     },
     "execution_count": 146,
     "metadata": {},
     "output_type": "execute_result"
    }
   ],
   "source": [
    "coffeeDB = pd.read_csv('mysite/data/coffeeDB2.csv')\n",
    "coffeeDB['타입'].unique()"
   ]
  },
  {
   "cell_type": "code",
   "execution_count": 147,
   "metadata": {},
   "outputs": [],
   "source": [
    "features = pd.get_dummies(coffeeDB, columns=['타입'], dtype=int)"
   ]
  },
  {
   "cell_type": "code",
   "execution_count": 148,
   "metadata": {},
   "outputs": [],
   "source": [
    "features = features[['id', '로스팅 포인트', '지속가능성','카페인', '바디감', '신맛', '단맛', '쓴맛', '타입_블렌드', '타입_싱글오리진', '꽃',\n",
    "       '과일', '허브', '달콤함', '고소함', '향료', '초콜릿']]\n",
    "features = pd.get_dummies(features, columns=['지속가능성', '로스팅 포인트'], dtype=int)"
   ]
  },
  {
   "cell_type": "code",
   "execution_count": 149,
   "metadata": {},
   "outputs": [
    {
     "name": "stdout",
     "output_type": "stream",
     "text": [
      "Index(['id', '카페인', '바디감', '신맛', '단맛', '쓴맛', '타입_블렌드', '타입_싱글오리진', '꽃', '과일',\n",
      "       '허브', '달콤함', '고소함', '향료', '초콜릿', '지속가능성_0', '지속가능성_공정무역', '지속가능성_유기농',\n",
      "       '지속가능성_직접무역', '로스팅 포인트_다크', '로스팅 포인트_라이트', '로스팅 포인트_라이트미디엄',\n",
      "       '로스팅 포인트_미디엄', '로스팅 포인트_미디엄다크'],\n",
      "      dtype='object')\n",
      "24\n"
     ]
    }
   ],
   "source": [
    "print(features.columns)\n",
    "print(len(features.columns))"
   ]
  },
  {
   "cell_type": "code",
   "execution_count": 150,
   "metadata": {},
   "outputs": [
    {
     "name": "stdout",
     "output_type": "stream",
     "text": [
      "Index(['id', 'body', 'sour', 'sweet', 'bitter', 'decaf', 'blend', 'single',\n",
      "       '지속가능성_0', '지속가능성_공정무역', '지속가능성_유기농', '지속가능성_직접무역', '로스팅 포인트_다크',\n",
      "       '로스팅 포인트_라이트', '로스팅 포인트_라이트미디엄', '로스팅 포인트_미디엄', '로스팅 포인트_미디엄다크', '꽃',\n",
      "       '과일', '허브', '달콤함', '고소함', '향료', '초콜릿'],\n",
      "      dtype='object')\n",
      "24\n"
     ]
    }
   ],
   "source": [
    "print(df.columns)\n",
    "print(len(df.columns))"
   ]
  },
  {
   "cell_type": "code",
   "execution_count": 151,
   "metadata": {},
   "outputs": [
    {
     "name": "stdout",
     "output_type": "stream",
     "text": [
      "[ True  True  True  True  True False  True  True  True  True  True  True\n",
      "  True  True  True  True  True  True  True  True  True  True  True  True]\n"
     ]
    }
   ],
   "source": [
    "column_mapping = {'바디감' : 'body', '신맛' : 'sour', '단맛' : 'sweet', '쓴맛' : 'bitter', '카페인' : 'caf', '타입_블렌드' : 'blend', '타입_싱글오리진':'single'}\n",
    "features.rename(columns=column_mapping, inplace=True)\n",
    "\n",
    "column_order = ['id', 'body', 'sour', 'sweet', 'bitter', 'caf', 'blend', 'single',\n",
    "       '지속가능성_0', '지속가능성_공정무역', '지속가능성_유기농', '지속가능성_직접무역', '로스팅 포인트_다크',\n",
    "       '로스팅 포인트_라이트', '로스팅 포인트_라이트미디엄', '로스팅 포인트_미디엄', '로스팅 포인트_미디엄다크', '꽃',\n",
    "       '과일', '허브', '달콤함', '고소함', '향료', '초콜릿']\n",
    "features = features[column_order]\n",
    "\n",
    "print(features.columns == df.columns)"
   ]
  },
  {
   "cell_type": "code",
   "execution_count": 154,
   "metadata": {},
   "outputs": [
    {
     "name": "stdout",
     "output_type": "stream",
     "text": [
      "(559, 24)\n",
      "(93, 24)\n"
     ]
    }
   ],
   "source": [
    "print(features.shape)\n",
    "print(df.shape)"
   ]
  },
  {
   "cell_type": "code",
   "execution_count": 155,
   "metadata": {},
   "outputs": [
    {
     "data": {
      "text/plain": [
       "(559, 24)"
      ]
     },
     "execution_count": 155,
     "metadata": {},
     "output_type": "execute_result"
    }
   ],
   "source": [
    "features.to_csv('mysite/data/features.csv', index=0)\n",
    "featuresDB = pd.read_csv('mysite/data/features.csv')\n",
    "featuresDB.shape"
   ]
  },
  {
   "cell_type": "code",
   "execution_count": null,
   "metadata": {},
   "outputs": [],
   "source": []
  }
 ],
 "metadata": {
  "kernelspec": {
   "display_name": "coffee",
   "language": "python",
   "name": "python3"
  },
  "language_info": {
   "codemirror_mode": {
    "name": "ipython",
    "version": 3
   },
   "file_extension": ".py",
   "mimetype": "text/x-python",
   "name": "python",
   "nbconvert_exporter": "python",
   "pygments_lexer": "ipython3",
   "version": "3.10.4"
  }
 },
 "nbformat": 4,
 "nbformat_minor": 2
}
