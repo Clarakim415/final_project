{
 "cells": [
  {
   "cell_type": "code",
   "execution_count": 3,
   "metadata": {},
   "outputs": [],
   "source": [
    "from selenium import webdriver\n",
    "from selenium.webdriver.chrome.service import Service\n",
    "from selenium.webdriver.chrome.options import Options\n",
    "from selenium.webdriver.chrome.service import Service as ChromeService\n",
    "from webdriver_manager.chrome import ChromeDriverManager\n",
    "from selenium.webdriver.common.by import By\n",
    "import pandas as pd\n",
    "import warnings\n",
    "import time\n",
    "warnings.filterwarnings(action='ignore')"
   ]
  },
  {
   "cell_type": "code",
   "execution_count": 9,
   "metadata": {},
   "outputs": [],
   "source": [
    "# 드라이버 불러오기\n",
    "driver = webdriver.Chrome(service=ChromeService(ChromeDriverManager().install()))"
   ]
  },
  {
   "cell_type": "code",
   "execution_count": 10,
   "metadata": {},
   "outputs": [],
   "source": [
    "# 메인 페이지\n",
    "url = 'https://biz.koke.kr/products?filters=%7B%22categoryGroup%22%3A%22WholeBean%22%7D'\n",
    "driver.get(url) # go to website\n",
    "time.sleep(1)"
   ]
  },
  {
   "cell_type": "code",
   "execution_count": 14,
   "metadata": {},
   "outputs": [
    {
     "name": "stdout",
     "output_type": "stream",
     "text": [
      "페이지:  0  링크 수: 18  총 링크 수: 18\n",
      "2\n",
      "페이지:  1  링크 수: 18  총 링크 수: 36\n",
      "2\n",
      "페이지:  2  링크 수: 18  총 링크 수: 54\n",
      "3\n",
      "페이지:  3  링크 수: 18  총 링크 수: 72\n",
      "3\n",
      "페이지:  4  링크 수: 18  총 링크 수: 90\n",
      "3\n",
      "페이지:  5  링크 수: 18  총 링크 수: 108\n",
      "3\n",
      "페이지:  6  링크 수: 18  총 링크 수: 126\n",
      "3\n",
      "페이지:  7  링크 수: 18  총 링크 수: 144\n",
      "3\n",
      "페이지:  8  링크 수: 18  총 링크 수: 162\n",
      "3\n",
      "페이지:  9  링크 수: 18  총 링크 수: 180\n",
      "3\n",
      "페이지:  10  링크 수: 18  총 링크 수: 198\n",
      "3\n",
      "페이지:  11  링크 수: 18  총 링크 수: 216\n",
      "3\n",
      "페이지:  12  링크 수: 18  총 링크 수: 234\n",
      "3\n",
      "페이지:  13  링크 수: 18  총 링크 수: 252\n",
      "3\n",
      "페이지:  14  링크 수: 18  총 링크 수: 270\n",
      "3\n",
      "페이지:  15  링크 수: 18  총 링크 수: 288\n",
      "3\n",
      "페이지:  16  링크 수: 18  총 링크 수: 306\n",
      "3\n",
      "페이지:  17  링크 수: 18  총 링크 수: 324\n",
      "3\n",
      "페이지:  18  링크 수: 18  총 링크 수: 342\n",
      "3\n",
      "페이지:  19  링크 수: 18  총 링크 수: 360\n",
      "3\n",
      "페이지:  20  링크 수: 18  총 링크 수: 378\n",
      "3\n",
      "페이지:  21  링크 수: 18  총 링크 수: 396\n",
      "3\n",
      "페이지:  22  링크 수: 18  총 링크 수: 414\n",
      "3\n",
      "페이지:  23  링크 수: 18  총 링크 수: 432\n",
      "3\n",
      "페이지:  24  링크 수: 18  총 링크 수: 450\n",
      "3\n",
      "페이지:  25  링크 수: 18  총 링크 수: 468\n",
      "3\n",
      "페이지:  26  링크 수: 18  총 링크 수: 486\n",
      "3\n",
      "페이지:  27  링크 수: 18  총 링크 수: 504\n",
      "3\n",
      "페이지:  28  링크 수: 18  총 링크 수: 522\n",
      "3\n",
      "페이지:  29  링크 수: 18  총 링크 수: 540\n",
      "3\n",
      "페이지:  30  링크 수: 16  총 링크 수: 556\n",
      "556 556\n"
     ]
    }
   ],
   "source": [
    "links = [] # 제품 링크 리스트\n",
    "\n",
    "# 약 4분 30초 소요\n",
    "for i in range(31):\n",
    "    raw = driver.find_elements(By.CSS_SELECTOR,\"div.flex.flex-col.w-full.lg\\:w-3\\/4\")\n",
    "    link_elements = raw[0].find_elements(By.TAG_NAME,'a') \n",
    "    href_links = [link.get_attribute('href') for link in link_elements]\n",
    "    links = links + href_links # 현재 페이지에 있는 상품 가져오기\n",
    "    time.sleep(3)\n",
    "\n",
    "    if i is not 30:\n",
    "        button = driver.find_elements(By.CSS_SELECTOR ,\"button.text-gray-500.bg-white.border.border-gray-200.koke-button\")\n",
    "        print(len(button))\n",
    "        button[-1].click()\n",
    "        time.sleep(5)\n",
    "\n",
    "links = set(links)\n",
    "print(len(links)) # 총 556개\n"
   ]
  },
  {
   "cell_type": "code",
   "execution_count": null,
   "metadata": {},
   "outputs": [],
   "source": []
  }
 ],
 "metadata": {
  "kernelspec": {
   "display_name": "base",
   "language": "python",
   "name": "python3"
  },
  "language_info": {
   "codemirror_mode": {
    "name": "ipython",
    "version": 3
   },
   "file_extension": ".py",
   "mimetype": "text/x-python",
   "name": "python",
   "nbconvert_exporter": "python",
   "pygments_lexer": "ipython3",
   "version": "3.10.4"
  }
 },
 "nbformat": 4,
 "nbformat_minor": 2
}
