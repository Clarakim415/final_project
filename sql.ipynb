{
 "cells": [
  {
   "cell_type": "code",
   "execution_count": 1,
   "metadata": {},
   "outputs": [],
   "source": [
    "import MySQLdb"
   ]
  },
  {
   "cell_type": "code",
   "execution_count": 6,
   "metadata": {},
   "outputs": [],
   "source": [
    "from django.shortcuts import render"
   ]
  },
  {
   "cell_type": "code",
   "execution_count": 3,
   "metadata": {},
   "outputs": [],
   "source": [
    "coffee_id = 2"
   ]
  },
  {
   "cell_type": "code",
   "execution_count": 15,
   "metadata": {},
   "outputs": [
    {
     "data": {
      "text/plain": [
       "1"
      ]
     },
     "execution_count": 15,
     "metadata": {},
     "output_type": "execute_result"
    }
   ],
   "source": [
    "conn = MySQLdb.connect(\n",
    "        user='root',\n",
    "        passwd='MShw1214!',\n",
    "        host='localhost',\n",
    "        db='wondoodoo'\n",
    "    )\n",
    "cursor = conn.cursor()\n",
    "# Retrieving data\n",
    "coffee_info = \"SELECT * from Coffee where CoffeeID = {}\".format(coffee_id)\n",
    "# execute the query\n",
    "cursor.execute(coffee_info)\n",
    "\n",
    "# Fetching 1st row from the table\n"
   ]
  },
  {
   "cell_type": "code",
   "execution_count": 16,
   "metadata": {},
   "outputs": [
    {
     "data": {
      "text/plain": [
       "(2,\n",
       " '나탈리',\n",
       " '',\n",
       " '블렌드',\n",
       " '미디엄',\n",
       " '공정무역',\n",
       " \"['딸기', ' 와인', ' 화이트 초콜릿']\",\n",
       " '2',\n",
       " '3',\n",
       " '5',\n",
       " '1',\n",
       " '1',\n",
       " '잘 익은 딸기를 베어 문듯한 단맛과 적당한 산미의 조화를 이루는 와인의 풍미를 느낄 수 있어요.  블렌딩에 최적화된 좋은 생두를 선별하고, 일관성 있고 논리적인 로스팅을 추구합니다. 결점두를 직접 선별하여 패키징 하는 등 최상의 품질을 위해 노력합니다.',\n",
       " ' 파푸아뉴기니 바로이디아 콜브란, 브라질, 코스타리카',\n",
       " '원두 커피',\n",
       " '영앤도터스, 서울 마포구 마포대로 156 공덕 프루지오시티 1층 107호',\n",
       " '제조일로부터 1년',\n",
       " '제조일 별도 표기',\n",
       " '200g / 1kg',\n",
       " '직사광선을 피하고 밀봉하여 건조하고 서늘한 곳에 보관',\n",
       " '원두 커피(엘살바도르 30%, 파푸아뉴기니 40%, 코스타리카 30%)',\n",
       " '코케 고객센터 070-4647-1868',\n",
       " 60)"
      ]
     },
     "execution_count": 16,
     "metadata": {},
     "output_type": "execute_result"
    }
   ],
   "source": [
    "result = cursor.fetchone()\n",
    "result"
   ]
  },
  {
   "cell_type": "markdown",
   "metadata": {},
   "source": [
    "***"
   ]
  },
  {
   "cell_type": "code",
   "execution_count": 18,
   "metadata": {},
   "outputs": [
    {
     "data": {
      "text/plain": [
       "'나탈리'"
      ]
     },
     "execution_count": 18,
     "metadata": {},
     "output_type": "execute_result"
    }
   ],
   "source": [
    "# conn = MySQLdb.connect(\n",
    "    #     user='root',\n",
    "    #     passwd='MShw1214!',\n",
    "    #     host='localhost',\n",
    "    #     db='wondoodoo'\n",
    "    # )\n",
    "    # cursor = conn.cursor()\n",
    "    # # Retrieving data\n",
    "    # coffee_info = \"SELECT * from Coffee where CoffeeID = {}\".format(coffee_id)\n",
    "    # # execute the query\n",
    "    # cursor.execute(coffee_info)\n",
    "    #\n",
    "    # # Fetching 1st row from the table\n",
    "    # result = cursor.fetchone()\n",
    "    # context = {'coffee_name': result[1], 'coffee_info' : result[12]}\n"
   ]
  },
  {
   "cell_type": "code",
   "execution_count": null,
   "metadata": {},
   "outputs": [],
   "source": []
  }
 ],
 "metadata": {
  "kernelspec": {
   "display_name": "coffee",
   "language": "python",
   "name": "python3"
  },
  "language_info": {
   "codemirror_mode": {
    "name": "ipython",
    "version": 3
   },
   "file_extension": ".py",
   "mimetype": "text/x-python",
   "name": "python",
   "nbconvert_exporter": "python",
   "pygments_lexer": "ipython3",
   "version": "3.10.4"
  }
 },
 "nbformat": 4,
 "nbformat_minor": 2
}
