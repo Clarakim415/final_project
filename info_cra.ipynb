{
 "cells": [
  {
   "cell_type": "code",
   "execution_count": 30,
   "metadata": {},
   "outputs": [],
   "source": [
    "from selenium import webdriver\n",
    "from selenium.webdriver.chrome.service import Service\n",
    "from selenium.webdriver.chrome.options import Options\n",
    "from selenium.webdriver.chrome.service import Service as ChromeService\n",
    "from webdriver_manager.chrome import ChromeDriverManager\n",
    "from selenium.webdriver.common.by import By\n",
    "import pandas as pd\n",
    "import warnings\n",
    "import time\n",
    "warnings.filterwarnings(action='ignore')"
   ]
  },
  {
   "cell_type": "code",
   "execution_count": 31,
   "metadata": {},
   "outputs": [],
   "source": [
    "# 드라이버 불러오기\n",
    "driver = webdriver.Chrome(service=ChromeService(ChromeDriverManager().install()))"
   ]
  },
  {
   "cell_type": "code",
   "execution_count": 32,
   "metadata": {},
   "outputs": [],
   "source": [
    "# 메인 페이지\n",
    "url = 'https://biz.koke.kr/products?filters=%7B%22categoryGroup%22%3A%22WholeBean%22%7D'\n",
    "driver.get(url) # go to website\n",
    "time.sleep(4)"
   ]
  },
  {
   "cell_type": "code",
   "execution_count": 33,
   "metadata": {},
   "outputs": [],
   "source": [
    "import pickle\n",
    "# Load the set of links from the file\n",
    "with open(\"links_559.pkl\", \"rb\") as file:\n",
    "    links = pickle.load(file)"
   ]
  },
  {
   "cell_type": "code",
   "execution_count": 34,
   "metadata": {},
   "outputs": [
    {
     "data": {
      "text/plain": [
       "559"
      ]
     },
     "execution_count": 34,
     "metadata": {},
     "output_type": "execute_result"
    }
   ],
   "source": [
    "len(links)"
   ]
  },
  {
   "cell_type": "code",
   "execution_count": 35,
   "metadata": {},
   "outputs": [],
   "source": [
    "import re"
   ]
  },
  {
   "cell_type": "code",
   "execution_count": 44,
   "metadata": {},
   "outputs": [],
   "source": [
    "def bean_info (url):\n",
    "    driver.get(url)\n",
    "    time.sleep(5)\n",
    "    # 원두 정보 블룩\n",
    "    raw = driver.find_element(By.CSS_SELECTOR, \"div.mt-dist-lg\")\n",
    "    \n",
    "    # product id\n",
    "    pattern = r\"https://biz.koke.kr/products/(\\d+)\"\n",
    "    match = re.search(pattern, url)\n",
    "    product_number = match.group(1) if match else None\n",
    "    \n",
    "    # 원두 이름\n",
    "    name = driver.find_element(By.CSS_SELECTOR,\"div.flex.flex-col\").find_element(By.TAG_NAME,'h1').text\n",
    "    # 원두 소개\n",
    "    \n",
    "    introduction_element = driver.find_element(By.CSS_SELECTOR, \"div.inline-block.md\\:koke-word-keep-all p\")\n",
    "    introduction = introduction_element.text\n",
    "    time.sleep(3)\n",
    "\n",
    "    # 블랜딩 나라\n",
    "    \n",
    "    countries = [country.text for country in raw.find_elements(By.CSS_SELECTOR, 'li.koke-word-keep-all')]\n",
    "    countries_text = ', '.join(countries)\n",
    "    time.sleep(3)\n",
    "    \n",
    "# product id\n",
    "    pattern = r\"https://biz.koke.kr/products/(\\d+)\"\n",
    "    match = re.search(pattern, url)\n",
    "    product_number = match.group(1) if match else None\n",
    "    \n",
    "    \n",
    "    \n",
    "    return [name, introduction ,countries_text, product_number]\n"
   ]
  },
  {
   "cell_type": "code",
   "execution_count": 45,
   "metadata": {},
   "outputs": [
    {
     "ename": "NoSuchElementException",
     "evalue": "Message: no such element: Unable to locate element: {\"method\":\"css selector\",\"selector\":\"div.mt-dist-lg\"}\n  (Session info: chrome=118.0.5993.71); For documentation on this error, please visit: https://www.selenium.dev/documentation/webdriver/troubleshooting/errors#no-such-element-exception\nStacktrace:\n\tGetHandleVerifier [0x011F4DE3+43907]\n\t(No symbol) [0x01180741]\n\t(No symbol) [0x010733ED]\n\t(No symbol) [0x010A6760]\n\t(No symbol) [0x010A6C2B]\n\t(No symbol) [0x010D6F62]\n\t(No symbol) [0x010C2BA4]\n\t(No symbol) [0x010D55CA]\n\t(No symbol) [0x010C2956]\n\t(No symbol) [0x0109E17E]\n\t(No symbol) [0x0109F32D]\n\tGetHandleVerifier [0x014A5AF9+2865305]\n\tGetHandleVerifier [0x014EE78B+3163435]\n\tGetHandleVerifier [0x014E8441+3138017]\n\tGetHandleVerifier [0x0127E0F0+605840]\n\t(No symbol) [0x0118A64C]\n\t(No symbol) [0x01186638]\n\t(No symbol) [0x0118675F]\n\t(No symbol) [0x01178DB7]\n\tBaseThreadInitThunk [0x76D9FCC9+25]\n\tRtlGetAppContainerNamedObjectPath [0x76FC7C6E+286]\n\tRtlGetAppContainerNamedObjectPath [0x76FC7C3E+238]\n",
     "output_type": "error",
     "traceback": [
      "\u001b[1;31m---------------------------------------------------------------------------\u001b[0m",
      "\u001b[1;31mNoSuchElementException\u001b[0m                    Traceback (most recent call last)",
      "\u001b[1;32mc:\\Users\\Playdata\\Documents\\venv\\info.ipynb 셀 8\u001b[0m line \u001b[0;36m3\n\u001b[0;32m      <a href='vscode-notebook-cell:/c%3A/Users/Playdata/Documents/venv/info.ipynb#X10sZmlsZQ%3D%3D?line=0'>1</a>\u001b[0m temp_list \u001b[39m=\u001b[39m []\n\u001b[0;32m      <a href='vscode-notebook-cell:/c%3A/Users/Playdata/Documents/venv/info.ipynb#X10sZmlsZQ%3D%3D?line=1'>2</a>\u001b[0m \u001b[39mfor\u001b[39;00m link \u001b[39min\u001b[39;00m links:\n\u001b[1;32m----> <a href='vscode-notebook-cell:/c%3A/Users/Playdata/Documents/venv/info.ipynb#X10sZmlsZQ%3D%3D?line=2'>3</a>\u001b[0m     temp \u001b[39m=\u001b[39m bean_info(link)\n\u001b[0;32m      <a href='vscode-notebook-cell:/c%3A/Users/Playdata/Documents/venv/info.ipynb#X10sZmlsZQ%3D%3D?line=3'>4</a>\u001b[0m     temp_list\u001b[39m.\u001b[39mappend(temp)\n",
      "\u001b[1;32mc:\\Users\\Playdata\\Documents\\venv\\info.ipynb 셀 8\u001b[0m line \u001b[0;36m5\n\u001b[0;32m      <a href='vscode-notebook-cell:/c%3A/Users/Playdata/Documents/venv/info.ipynb#X10sZmlsZQ%3D%3D?line=2'>3</a>\u001b[0m time\u001b[39m.\u001b[39msleep(\u001b[39m5\u001b[39m)\n\u001b[0;32m      <a href='vscode-notebook-cell:/c%3A/Users/Playdata/Documents/venv/info.ipynb#X10sZmlsZQ%3D%3D?line=3'>4</a>\u001b[0m \u001b[39m# 원두 정보 블룩\u001b[39;00m\n\u001b[1;32m----> <a href='vscode-notebook-cell:/c%3A/Users/Playdata/Documents/venv/info.ipynb#X10sZmlsZQ%3D%3D?line=4'>5</a>\u001b[0m raw \u001b[39m=\u001b[39m driver\u001b[39m.\u001b[39;49mfind_element(By\u001b[39m.\u001b[39;49mCSS_SELECTOR, \u001b[39m\"\u001b[39;49m\u001b[39mdiv.mt-dist-lg\u001b[39;49m\u001b[39m\"\u001b[39;49m)\n\u001b[0;32m      <a href='vscode-notebook-cell:/c%3A/Users/Playdata/Documents/venv/info.ipynb#X10sZmlsZQ%3D%3D?line=6'>7</a>\u001b[0m \u001b[39m# 원두 이름\u001b[39;00m\n\u001b[0;32m      <a href='vscode-notebook-cell:/c%3A/Users/Playdata/Documents/venv/info.ipynb#X10sZmlsZQ%3D%3D?line=7'>8</a>\u001b[0m name \u001b[39m=\u001b[39m driver\u001b[39m.\u001b[39mfind_element(By\u001b[39m.\u001b[39mCSS_SELECTOR,\u001b[39m\"\u001b[39m\u001b[39mdiv.flex.flex-col\u001b[39m\u001b[39m\"\u001b[39m)\u001b[39m.\u001b[39mfind_element(By\u001b[39m.\u001b[39mTAG_NAME,\u001b[39m'\u001b[39m\u001b[39mh1\u001b[39m\u001b[39m'\u001b[39m)\u001b[39m.\u001b[39mtext\n",
      "File \u001b[1;32mc:\\Users\\Playdata\\Documents\\venv\\lib\\site-packages\\selenium\\webdriver\\remote\\webdriver.py:738\u001b[0m, in \u001b[0;36mWebDriver.find_element\u001b[1;34m(self, by, value)\u001b[0m\n\u001b[0;32m    735\u001b[0m     by \u001b[39m=\u001b[39m By\u001b[39m.\u001b[39mCSS_SELECTOR\n\u001b[0;32m    736\u001b[0m     value \u001b[39m=\u001b[39m \u001b[39mf\u001b[39m\u001b[39m'\u001b[39m\u001b[39m[name=\u001b[39m\u001b[39m\"\u001b[39m\u001b[39m{\u001b[39;00mvalue\u001b[39m}\u001b[39;00m\u001b[39m\"\u001b[39m\u001b[39m]\u001b[39m\u001b[39m'\u001b[39m\n\u001b[1;32m--> 738\u001b[0m \u001b[39mreturn\u001b[39;00m \u001b[39mself\u001b[39;49m\u001b[39m.\u001b[39;49mexecute(Command\u001b[39m.\u001b[39;49mFIND_ELEMENT, {\u001b[39m\"\u001b[39;49m\u001b[39musing\u001b[39;49m\u001b[39m\"\u001b[39;49m: by, \u001b[39m\"\u001b[39;49m\u001b[39mvalue\u001b[39;49m\u001b[39m\"\u001b[39;49m: value})[\u001b[39m\"\u001b[39m\u001b[39mvalue\u001b[39m\u001b[39m\"\u001b[39m]\n",
      "File \u001b[1;32mc:\\Users\\Playdata\\Documents\\venv\\lib\\site-packages\\selenium\\webdriver\\remote\\webdriver.py:344\u001b[0m, in \u001b[0;36mWebDriver.execute\u001b[1;34m(self, driver_command, params)\u001b[0m\n\u001b[0;32m    342\u001b[0m response \u001b[39m=\u001b[39m \u001b[39mself\u001b[39m\u001b[39m.\u001b[39mcommand_executor\u001b[39m.\u001b[39mexecute(driver_command, params)\n\u001b[0;32m    343\u001b[0m \u001b[39mif\u001b[39;00m response:\n\u001b[1;32m--> 344\u001b[0m     \u001b[39mself\u001b[39;49m\u001b[39m.\u001b[39;49merror_handler\u001b[39m.\u001b[39;49mcheck_response(response)\n\u001b[0;32m    345\u001b[0m     response[\u001b[39m\"\u001b[39m\u001b[39mvalue\u001b[39m\u001b[39m\"\u001b[39m] \u001b[39m=\u001b[39m \u001b[39mself\u001b[39m\u001b[39m.\u001b[39m_unwrap_value(response\u001b[39m.\u001b[39mget(\u001b[39m\"\u001b[39m\u001b[39mvalue\u001b[39m\u001b[39m\"\u001b[39m, \u001b[39mNone\u001b[39;00m))\n\u001b[0;32m    346\u001b[0m     \u001b[39mreturn\u001b[39;00m response\n",
      "File \u001b[1;32mc:\\Users\\Playdata\\Documents\\venv\\lib\\site-packages\\selenium\\webdriver\\remote\\errorhandler.py:229\u001b[0m, in \u001b[0;36mErrorHandler.check_response\u001b[1;34m(self, response)\u001b[0m\n\u001b[0;32m    227\u001b[0m         alert_text \u001b[39m=\u001b[39m value[\u001b[39m\"\u001b[39m\u001b[39malert\u001b[39m\u001b[39m\"\u001b[39m]\u001b[39m.\u001b[39mget(\u001b[39m\"\u001b[39m\u001b[39mtext\u001b[39m\u001b[39m\"\u001b[39m)\n\u001b[0;32m    228\u001b[0m     \u001b[39mraise\u001b[39;00m exception_class(message, screen, stacktrace, alert_text)  \u001b[39m# type: ignore[call-arg]  # mypy is not smart enough here\u001b[39;00m\n\u001b[1;32m--> 229\u001b[0m \u001b[39mraise\u001b[39;00m exception_class(message, screen, stacktrace)\n",
      "\u001b[1;31mNoSuchElementException\u001b[0m: Message: no such element: Unable to locate element: {\"method\":\"css selector\",\"selector\":\"div.mt-dist-lg\"}\n  (Session info: chrome=118.0.5993.71); For documentation on this error, please visit: https://www.selenium.dev/documentation/webdriver/troubleshooting/errors#no-such-element-exception\nStacktrace:\n\tGetHandleVerifier [0x011F4DE3+43907]\n\t(No symbol) [0x01180741]\n\t(No symbol) [0x010733ED]\n\t(No symbol) [0x010A6760]\n\t(No symbol) [0x010A6C2B]\n\t(No symbol) [0x010D6F62]\n\t(No symbol) [0x010C2BA4]\n\t(No symbol) [0x010D55CA]\n\t(No symbol) [0x010C2956]\n\t(No symbol) [0x0109E17E]\n\t(No symbol) [0x0109F32D]\n\tGetHandleVerifier [0x014A5AF9+2865305]\n\tGetHandleVerifier [0x014EE78B+3163435]\n\tGetHandleVerifier [0x014E8441+3138017]\n\tGetHandleVerifier [0x0127E0F0+605840]\n\t(No symbol) [0x0118A64C]\n\t(No symbol) [0x01186638]\n\t(No symbol) [0x0118675F]\n\t(No symbol) [0x01178DB7]\n\tBaseThreadInitThunk [0x76D9FCC9+25]\n\tRtlGetAppContainerNamedObjectPath [0x76FC7C6E+286]\n\tRtlGetAppContainerNamedObjectPath [0x76FC7C3E+238]\n"
     ]
    }
   ],
   "source": [
    "temp_list = []\n",
    "for link in links:\n",
    "    temp = bean_info(link)\n",
    "    temp_list.append(temp)"
   ]
  },
  {
   "cell_type": "code",
   "execution_count": 56,
   "metadata": {},
   "outputs": [
    {
     "data": {
      "text/html": [
       "<div>\n",
       "<style scoped>\n",
       "    .dataframe tbody tr th:only-of-type {\n",
       "        vertical-align: middle;\n",
       "    }\n",
       "\n",
       "    .dataframe tbody tr th {\n",
       "        vertical-align: top;\n",
       "    }\n",
       "\n",
       "    .dataframe thead th {\n",
       "        text-align: right;\n",
       "    }\n",
       "</style>\n",
       "<table border=\"1\" class=\"dataframe\">\n",
       "  <thead>\n",
       "    <tr style=\"text-align: right;\">\n",
       "      <th></th>\n",
       "      <th>name</th>\n",
       "      <th>introduction</th>\n",
       "      <th>country</th>\n",
       "      <th>id</th>\n",
       "    </tr>\n",
       "  </thead>\n",
       "  <tbody>\n",
       "    <tr>\n",
       "      <th>0</th>\n",
       "      <td>조이가이 블랜드</td>\n",
       "      <td>피넛 버터, 구운 아몬드, 구운 땅콩, 초콜릿</td>\n",
       "      <td>과테말라 엘 소코로 레드 버번 풀 워시드, 🌎 브라질 모지아나 프리미엄 내추럴 N/...</td>\n",
       "      <td>3024</td>\n",
       "    </tr>\n",
       "    <tr>\n",
       "      <th>1</th>\n",
       "      <td>콜롬비아 살피콘 게이샤 CM내추럴</td>\n",
       "      <td>향기로운 장미와 로즈마리의 향, 레드와인과 체리, 초콜릿의 풍미를 가진 커피입니다.</td>\n",
       "      <td></td>\n",
       "      <td>3741</td>\n",
       "    </tr>\n",
       "    <tr>\n",
       "      <th>2</th>\n",
       "      <td>Caramelo 카라멜로</td>\n",
       "      <td>푸루티하고 쥬시한 커피예요.\\n사탕같은 달콤함이 가득합니다.</td>\n",
       "      <td>🌍 Ethiopia Santawane G1 Natural 50%, 🌍 Ethiopi...</td>\n",
       "      <td>3514</td>\n",
       "    </tr>\n",
       "  </tbody>\n",
       "</table>\n",
       "</div>"
      ],
      "text/plain": [
       "                 name                                    introduction  \\\n",
       "0            조이가이 블랜드                       피넛 버터, 구운 아몬드, 구운 땅콩, 초콜릿   \n",
       "1  콜롬비아 살피콘 게이샤 CM내추럴  향기로운 장미와 로즈마리의 향, 레드와인과 체리, 초콜릿의 풍미를 가진 커피입니다.   \n",
       "2       Caramelo 카라멜로               푸루티하고 쥬시한 커피예요.\\n사탕같은 달콤함이 가득합니다.   \n",
       "\n",
       "                                             country    id  \n",
       "0  과테말라 엘 소코로 레드 버번 풀 워시드, 🌎 브라질 모지아나 프리미엄 내추럴 N/...  3024  \n",
       "1                                                     3741  \n",
       "2  🌍 Ethiopia Santawane G1 Natural 50%, 🌍 Ethiopi...  3514  "
      ]
     },
     "execution_count": 56,
     "metadata": {},
     "output_type": "execute_result"
    }
   ],
   "source": [
    "\n",
    "df = pd.DataFrame(temp_list,\n",
    "                  columns=['id','name','introduction','country'])\n",
    "df.tail()"
   ]
  },
  {
   "cell_type": "code",
   "execution_count": 47,
   "metadata": {},
   "outputs": [],
   "source": [
    "df.to_csv(\"cra_1.csv\", index = False)"
   ]
  },
  {
   "cell_type": "code",
   "execution_count": 52,
   "metadata": {},
   "outputs": [],
   "source": [
    "links_list = list(links)\n",
    "temp_list = []\n",
    "for link in links_list[556:]:\n",
    "    temp = bean_info(link)\n",
    "    temp_list.append(temp)"
   ]
  },
  {
   "cell_type": "code",
   "execution_count": 57,
   "metadata": {},
   "outputs": [
    {
     "data": {
      "text/html": [
       "<div>\n",
       "<style scoped>\n",
       "    .dataframe tbody tr th:only-of-type {\n",
       "        vertical-align: middle;\n",
       "    }\n",
       "\n",
       "    .dataframe tbody tr th {\n",
       "        vertical-align: top;\n",
       "    }\n",
       "\n",
       "    .dataframe thead th {\n",
       "        text-align: right;\n",
       "    }\n",
       "</style>\n",
       "<table border=\"1\" class=\"dataframe\">\n",
       "  <thead>\n",
       "    <tr style=\"text-align: right;\">\n",
       "      <th></th>\n",
       "      <th>name</th>\n",
       "      <th>introduction</th>\n",
       "      <th>country</th>\n",
       "      <th>id</th>\n",
       "    </tr>\n",
       "  </thead>\n",
       "  <tbody>\n",
       "    <tr>\n",
       "      <th>0</th>\n",
       "      <td>조이가이 블랜드</td>\n",
       "      <td>피넛 버터, 구운 아몬드, 구운 땅콩, 초콜릿</td>\n",
       "      <td>과테말라 엘 소코로 레드 버번 풀 워시드, 🌎 브라질 모지아나 프리미엄 내추럴 N/...</td>\n",
       "      <td>3024</td>\n",
       "    </tr>\n",
       "    <tr>\n",
       "      <th>1</th>\n",
       "      <td>콜롬비아 살피콘 게이샤 CM내추럴</td>\n",
       "      <td>향기로운 장미와 로즈마리의 향, 레드와인과 체리, 초콜릿의 풍미를 가진 커피입니다.</td>\n",
       "      <td></td>\n",
       "      <td>3741</td>\n",
       "    </tr>\n",
       "    <tr>\n",
       "      <th>2</th>\n",
       "      <td>Caramelo 카라멜로</td>\n",
       "      <td>푸루티하고 쥬시한 커피예요.\\n사탕같은 달콤함이 가득합니다.</td>\n",
       "      <td>🌍 Ethiopia Santawane G1 Natural 50%, 🌍 Ethiopi...</td>\n",
       "      <td>3514</td>\n",
       "    </tr>\n",
       "  </tbody>\n",
       "</table>\n",
       "</div>"
      ],
      "text/plain": [
       "                 name                                    introduction  \\\n",
       "0            조이가이 블랜드                       피넛 버터, 구운 아몬드, 구운 땅콩, 초콜릿   \n",
       "1  콜롬비아 살피콘 게이샤 CM내추럴  향기로운 장미와 로즈마리의 향, 레드와인과 체리, 초콜릿의 풍미를 가진 커피입니다.   \n",
       "2       Caramelo 카라멜로               푸루티하고 쥬시한 커피예요.\\n사탕같은 달콤함이 가득합니다.   \n",
       "\n",
       "                                             country    id  \n",
       "0  과테말라 엘 소코로 레드 버번 풀 워시드, 🌎 브라질 모지아나 프리미엄 내추럴 N/...  3024  \n",
       "1                                                     3741  \n",
       "2  🌍 Ethiopia Santawane G1 Natural 50%, 🌍 Ethiopi...  3514  "
      ]
     },
     "execution_count": 57,
     "metadata": {},
     "output_type": "execute_result"
    }
   ],
   "source": [
    "\n",
    "df = pd.DataFrame(temp_list,\n",
    "                  columns=['id','name','introduction','country'])\n",
    "df.tail()"
   ]
  },
  {
   "cell_type": "code",
   "execution_count": 54,
   "metadata": {},
   "outputs": [],
   "source": [
    "df.to_csv(\"cra_2.csv\", index = False)"
   ]
  },
  {
   "cell_type": "code",
   "execution_count": 55,
   "metadata": {},
   "outputs": [],
   "source": [
    "driver.close()"
   ]
  }
 ],
 "metadata": {
  "kernelspec": {
   "display_name": "venv",
   "language": "python",
   "name": "python3"
  },
  "language_info": {
   "codemirror_mode": {
    "name": "ipython",
    "version": 3
   },
   "file_extension": ".py",
   "mimetype": "text/x-python",
   "name": "python",
   "nbconvert_exporter": "python",
   "pygments_lexer": "ipython3",
   "version": "3.10.4"
  }
 },
 "nbformat": 4,
 "nbformat_minor": 2
}
