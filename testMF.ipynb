{
 "cells": [
  {
   "cell_type": "code",
   "execution_count": 1,
   "metadata": {},
   "outputs": [],
   "source": [
    "import numpy\n",
    "\n",
    "def matrix_factorization(R, P, Q, K, steps=5000, alpha=0.0002, beta=0.02):\n",
    "    '''\n",
    "    R: rating matrix\n",
    "    P: |U| * K (User features matrix)\n",
    "    Q: |D| * K (Item features matrix)\n",
    "    K: latent features\n",
    "    steps: iterations\n",
    "    alpha: learning rate\n",
    "    beta: regularization parameter'''\n",
    "    Q = Q.T\n",
    "\n",
    "    for step in range(steps):\n",
    "        for i in range(len(R)):\n",
    "            for j in range(len(R[i])):\n",
    "                if R[i][j] > 0:\n",
    "                    # calculate error\n",
    "                    eij = R[i][j] - numpy.dot(P[i,:],Q[:,j])\n",
    "\n",
    "                    for k in range(K):\n",
    "                        # calculate gradient with a and beta parameter\n",
    "                        P[i][k] = P[i][k] + alpha * (2 * eij * Q[k][j] - beta * P[i][k])\n",
    "                        Q[k][j] = Q[k][j] + alpha * (2 * eij * P[i][k] - beta * Q[k][j])\n",
    "\n",
    "        eR = numpy.dot(P,Q)\n",
    "\n",
    "        e = 0\n",
    "\n",
    "        for i in range(len(R)):\n",
    "\n",
    "            for j in range(len(R[i])):\n",
    "\n",
    "                if R[i][j] > 0:\n",
    "\n",
    "                    e = e + pow(R[i][j] - numpy.dot(P[i,:],Q[:,j]), 2)\n",
    "\n",
    "                    for k in range(K):\n",
    "\n",
    "                        e = e + (beta/2) * (pow(P[i][k],2) + pow(Q[k][j],2))\n",
    "        # 0.001: local minimum\n",
    "        if e < 0.001:\n",
    "\n",
    "            break\n",
    "\n",
    "    return P, Q.T"
   ]
  },
  {
   "cell_type": "code",
   "execution_count": 4,
   "metadata": {},
   "outputs": [
    {
     "ename": "SyntaxError",
     "evalue": "invalid syntax (2831805224.py, line 3)",
     "output_type": "error",
     "traceback": [
      "\u001b[1;36m  Cell \u001b[1;32mIn[4], line 3\u001b[1;36m\u001b[0m\n\u001b[1;33m    [5,,,],\u001b[0m\n\u001b[1;37m       ^\u001b[0m\n\u001b[1;31mSyntaxError\u001b[0m\u001b[1;31m:\u001b[0m invalid syntax\n"
     ]
    }
   ],
   "source": [
    "R = [\n",
    "\n",
    "     [5,,,],\n",
    "\n",
    "     [4,,,1],\n",
    "\n",
    "     [1,,,],\n",
    "\n",
    "     [,,,4],\n",
    "\n",
    "     [,1,,],\n",
    "    \n",
    "     [2,,,0],\n",
    "\n",
    "    ]\n",
    "\n",
    "R = numpy.array(R)\n",
    "# N: num of User\n",
    "N = len(R)\n",
    "# M: num of Movie\n",
    "M = len(R[0])\n",
    "# Num of Features\n",
    "K = 3\n",
    "\n",
    " \n",
    "P = numpy.random.rand(N,K)\n",
    "Q = numpy.random.rand(M,K)\n",
    "\n",
    " \n",
    "\n",
    "nP, nQ = matrix_factorization(R, P, Q, K)\n",
    "\n",
    "nR = numpy.dot(nP, nQ.T)"
   ]
  },
  {
   "cell_type": "code",
   "execution_count": 3,
   "metadata": {},
   "outputs": [
    {
     "data": {
      "text/plain": [
       "array([[5.01515027, 2.90839315, 3.6626842 , 0.99898363],\n",
       "       [3.97613904, 2.35281884, 3.06613421, 0.99580939],\n",
       "       [1.08724407, 0.83412789, 5.19842487, 4.96071447],\n",
       "       [0.98372969, 0.76881276, 4.19891791, 3.97242263],\n",
       "       [1.94947728, 1.12036158, 4.92494926, 4.03316774],\n",
       "       [1.85855505, 1.16488659, 3.02399568, 2.17279283]])"
      ]
     },
     "execution_count": 3,
     "metadata": {},
     "output_type": "execute_result"
    }
   ],
   "source": [
    "nR"
   ]
  },
  {
   "cell_type": "code",
   "execution_count": 5,
   "metadata": {},
   "outputs": [],
   "source": [
    "import pandas as pd\n",
    "test_C = pd.read_csv('P_coffees.csv')\n",
    "test_U = pd.read_csv('P_users.csv')\n",
    "test_CL = pd.read_csv('P_coffeelens.csv')\n",
    "test_R = pd.read_csv('P_ratings.csv')"
   ]
  },
  {
   "cell_type": "code",
   "execution_count": 6,
   "metadata": {},
   "outputs": [
    {
     "name": "stdout",
     "output_type": "stream",
     "text": [
      "Downloading movielens data...\n",
      "Done. Dataset contains:\n",
      "b'943 users\\n1682 items\\n100000 ratings\\n'\n"
     ]
    }
   ],
   "source": [
    "# @title Load the MovieLens data (run this cell).\n",
    "\n",
    "# Download MovieLens data.\n",
    "print(\"Downloading movielens data...\")\n",
    "from urllib.request import urlretrieve\n",
    "import zipfile\n",
    "\n",
    "urlretrieve(\"http://files.grouplens.org/datasets/movielens/ml-100k.zip\", \"movielens.zip\")\n",
    "zip_ref = zipfile.ZipFile('movielens.zip', \"r\")\n",
    "zip_ref.extractall()\n",
    "print(\"Done. Dataset contains:\")\n",
    "print(zip_ref.read('ml-100k/u.info'))\n",
    "\n",
    "# Load each data set (users, movies, and ratings).\n",
    "users_cols = ['user_id', 'age', 'sex', 'occupation', 'zip_code']\n",
    "users = pd.read_csv(\n",
    "    'ml-100k/u.user', sep='|', names=users_cols, encoding='latin-1')\n",
    "\n",
    "ratings_cols = ['user_id', 'movie_id', 'rating', 'unix_timestamp']\n",
    "ratings = pd.read_csv(\n",
    "    'ml-100k/u.data', sep='\\t', names=ratings_cols, encoding='latin-1')\n",
    "\n",
    "# The movies file contains a binary feature for each genre.\n",
    "genre_cols = [\n",
    "    \"genre_unknown\", \"Action\", \"Adventure\", \"Animation\", \"Children\", \"Comedy\",\n",
    "    \"Crime\", \"Documentary\", \"Drama\", \"Fantasy\", \"Film-Noir\", \"Horror\",\n",
    "    \"Musical\", \"Mystery\", \"Romance\", \"Sci-Fi\", \"Thriller\", \"War\", \"Western\"\n",
    "]\n",
    "movies_cols = [\n",
    "    'movie_id', 'title', 'release_date', \"video_release_date\", \"imdb_url\"\n",
    "] + genre_cols\n",
    "movies = pd.read_csv(\n",
    "    'ml-100k/u.item', sep='|', names=movies_cols, encoding='latin-1')"
   ]
  },
  {
   "cell_type": "code",
   "execution_count": 7,
   "metadata": {},
   "outputs": [
    {
     "data": {
      "text/html": [
       "<div>\n",
       "<style scoped>\n",
       "    .dataframe tbody tr th:only-of-type {\n",
       "        vertical-align: middle;\n",
       "    }\n",
       "\n",
       "    .dataframe tbody tr th {\n",
       "        vertical-align: top;\n",
       "    }\n",
       "\n",
       "    .dataframe thead th {\n",
       "        text-align: right;\n",
       "    }\n",
       "</style>\n",
       "<table border=\"1\" class=\"dataframe\">\n",
       "  <thead>\n",
       "    <tr style=\"text-align: right;\">\n",
       "      <th></th>\n",
       "      <th>user_id</th>\n",
       "      <th>movie_id</th>\n",
       "      <th>rating</th>\n",
       "      <th>unix_timestamp</th>\n",
       "    </tr>\n",
       "  </thead>\n",
       "  <tbody>\n",
       "    <tr>\n",
       "      <th>0</th>\n",
       "      <td>196</td>\n",
       "      <td>242</td>\n",
       "      <td>3</td>\n",
       "      <td>881250949</td>\n",
       "    </tr>\n",
       "    <tr>\n",
       "      <th>1</th>\n",
       "      <td>186</td>\n",
       "      <td>302</td>\n",
       "      <td>3</td>\n",
       "      <td>891717742</td>\n",
       "    </tr>\n",
       "    <tr>\n",
       "      <th>2</th>\n",
       "      <td>22</td>\n",
       "      <td>377</td>\n",
       "      <td>1</td>\n",
       "      <td>878887116</td>\n",
       "    </tr>\n",
       "  </tbody>\n",
       "</table>\n",
       "</div>"
      ],
      "text/plain": [
       "   user_id  movie_id  rating  unix_timestamp\n",
       "0      196       242       3       881250949\n",
       "1      186       302       3       891717742\n",
       "2       22       377       1       878887116"
      ]
     },
     "execution_count": 7,
     "metadata": {},
     "output_type": "execute_result"
    }
   ],
   "source": [
    "ratings.head(3)"
   ]
  },
  {
   "cell_type": "code",
   "execution_count": 8,
   "metadata": {},
   "outputs": [
    {
     "data": {
      "text/html": [
       "<div>\n",
       "<style scoped>\n",
       "    .dataframe tbody tr th:only-of-type {\n",
       "        vertical-align: middle;\n",
       "    }\n",
       "\n",
       "    .dataframe tbody tr th {\n",
       "        vertical-align: top;\n",
       "    }\n",
       "\n",
       "    .dataframe thead th {\n",
       "        text-align: right;\n",
       "    }\n",
       "</style>\n",
       "<table border=\"1\" class=\"dataframe\">\n",
       "  <thead>\n",
       "    <tr style=\"text-align: right;\">\n",
       "      <th></th>\n",
       "      <th>userid</th>\n",
       "      <th>coffeeid</th>\n",
       "      <th>Stars</th>\n",
       "      <th>created_date</th>\n",
       "    </tr>\n",
       "  </thead>\n",
       "  <tbody>\n",
       "    <tr>\n",
       "      <th>0</th>\n",
       "      <td>0</td>\n",
       "      <td>60</td>\n",
       "      <td>4</td>\n",
       "      <td>2023-11-15 12:45:57.508133</td>\n",
       "    </tr>\n",
       "    <tr>\n",
       "      <th>1</th>\n",
       "      <td>0</td>\n",
       "      <td>149</td>\n",
       "      <td>5</td>\n",
       "      <td>2023-11-15 12:45:57.511119</td>\n",
       "    </tr>\n",
       "    <tr>\n",
       "      <th>2</th>\n",
       "      <td>0</td>\n",
       "      <td>177</td>\n",
       "      <td>1</td>\n",
       "      <td>2023-11-15 12:45:57.513877</td>\n",
       "    </tr>\n",
       "    <tr>\n",
       "      <th>3</th>\n",
       "      <td>0</td>\n",
       "      <td>205</td>\n",
       "      <td>4</td>\n",
       "      <td>2023-11-15 12:45:57.515229</td>\n",
       "    </tr>\n",
       "    <tr>\n",
       "      <th>4</th>\n",
       "      <td>0</td>\n",
       "      <td>215</td>\n",
       "      <td>5</td>\n",
       "      <td>2023-11-15 12:45:57.518882</td>\n",
       "    </tr>\n",
       "  </tbody>\n",
       "</table>\n",
       "</div>"
      ],
      "text/plain": [
       "   userid  coffeeid  Stars                created_date\n",
       "0       0        60      4  2023-11-15 12:45:57.508133\n",
       "1       0       149      5  2023-11-15 12:45:57.511119\n",
       "2       0       177      1  2023-11-15 12:45:57.513877\n",
       "3       0       205      4  2023-11-15 12:45:57.515229\n",
       "4       0       215      5  2023-11-15 12:45:57.518882"
      ]
     },
     "execution_count": 8,
     "metadata": {},
     "output_type": "execute_result"
    }
   ],
   "source": [
    "test_R.head()"
   ]
  },
  {
   "cell_type": "code",
   "execution_count": 9,
   "metadata": {},
   "outputs": [
    {
     "name": "stdout",
     "output_type": "stream",
     "text": [
      "<class 'pandas.core.frame.DataFrame'>\n",
      "RangeIndex: 46 entries, 0 to 45\n",
      "Data columns (total 8 columns):\n",
      " #   Column             Non-Null Count  Dtype \n",
      "---  ------             --------------  ----- \n",
      " 0   userid             46 non-null     int64 \n",
      " 1   Caffeine           46 non-null     int64 \n",
      " 2   CoffeeType         46 non-null     int64 \n",
      " 3   CupNoteCategories  46 non-null     object\n",
      " 4   Body               46 non-null     int64 \n",
      " 5   Sourness           46 non-null     int64 \n",
      " 6   Sweetness          46 non-null     int64 \n",
      " 7   Bitterness         46 non-null     int64 \n",
      "dtypes: int64(7), object(1)\n",
      "memory usage: 3.0+ KB\n"
     ]
    }
   ],
   "source": [
    "test_U.info()"
   ]
  },
  {
   "cell_type": "code",
   "execution_count": 10,
   "metadata": {},
   "outputs": [
    {
     "data": {
      "text/plain": [
       "Index(['user_id', 'movie_id', 'rating', 'unix_timestamp'], dtype='object')"
      ]
     },
     "execution_count": 10,
     "metadata": {},
     "output_type": "execute_result"
    }
   ],
   "source": [
    "# movies.info() : 1682개의 영화\n",
    "ratings.columns"
   ]
  },
  {
   "cell_type": "code",
   "execution_count": 11,
   "metadata": {},
   "outputs": [],
   "source": [
    "from collections import Counter\n",
    "c = Counter(ratings['movie_id'])"
   ]
  },
  {
   "cell_type": "code",
   "execution_count": 19,
   "metadata": {},
   "outputs": [
    {
     "data": {
      "text/html": [
       "<div>\n",
       "<style scoped>\n",
       "    .dataframe tbody tr th:only-of-type {\n",
       "        vertical-align: middle;\n",
       "    }\n",
       "\n",
       "    .dataframe tbody tr th {\n",
       "        vertical-align: top;\n",
       "    }\n",
       "\n",
       "    .dataframe thead th {\n",
       "        text-align: right;\n",
       "    }\n",
       "</style>\n",
       "<table border=\"1\" class=\"dataframe\">\n",
       "  <thead>\n",
       "    <tr style=\"text-align: right;\">\n",
       "      <th></th>\n",
       "      <th>userid</th>\n",
       "      <th>coffeeid</th>\n",
       "      <th>Stars</th>\n",
       "      <th>created_date</th>\n",
       "    </tr>\n",
       "  </thead>\n",
       "  <tbody>\n",
       "    <tr>\n",
       "      <th>0</th>\n",
       "      <td>0</td>\n",
       "      <td>60</td>\n",
       "      <td>4</td>\n",
       "      <td>2023-11-15 12:45:57.508133</td>\n",
       "    </tr>\n",
       "    <tr>\n",
       "      <th>1</th>\n",
       "      <td>0</td>\n",
       "      <td>149</td>\n",
       "      <td>5</td>\n",
       "      <td>2023-11-15 12:45:57.511119</td>\n",
       "    </tr>\n",
       "  </tbody>\n",
       "</table>\n",
       "</div>"
      ],
      "text/plain": [
       "   userid  coffeeid  Stars                created_date\n",
       "0       0        60      4  2023-11-15 12:45:57.508133\n",
       "1       0       149      5  2023-11-15 12:45:57.511119"
      ]
     },
     "execution_count": 19,
     "metadata": {},
     "output_type": "execute_result"
    }
   ],
   "source": [
    "test_R.head(2)"
   ]
  },
  {
   "cell_type": "code",
   "execution_count": 18,
   "metadata": {},
   "outputs": [
    {
     "data": {
      "text/html": [
       "<div>\n",
       "<style scoped>\n",
       "    .dataframe tbody tr th:only-of-type {\n",
       "        vertical-align: middle;\n",
       "    }\n",
       "\n",
       "    .dataframe tbody tr th {\n",
       "        vertical-align: top;\n",
       "    }\n",
       "\n",
       "    .dataframe thead th {\n",
       "        text-align: right;\n",
       "    }\n",
       "</style>\n",
       "<table border=\"1\" class=\"dataframe\">\n",
       "  <thead>\n",
       "    <tr style=\"text-align: right;\">\n",
       "      <th></th>\n",
       "      <th>id</th>\n",
       "      <th>Stars</th>\n",
       "      <th>created_date</th>\n",
       "      <th>CoffeeID_id</th>\n",
       "    </tr>\n",
       "  </thead>\n",
       "  <tbody>\n",
       "    <tr>\n",
       "      <th>0</th>\n",
       "      <td>1</td>\n",
       "      <td>2</td>\n",
       "      <td>2023-11-19 08:15:56.924843</td>\n",
       "      <td>3061</td>\n",
       "    </tr>\n",
       "    <tr>\n",
       "      <th>1</th>\n",
       "      <td>2</td>\n",
       "      <td>4</td>\n",
       "      <td>2023-11-19 08:15:56.928438</td>\n",
       "      <td>3198</td>\n",
       "    </tr>\n",
       "    <tr>\n",
       "      <th>2</th>\n",
       "      <td>3</td>\n",
       "      <td>5</td>\n",
       "      <td>2023-11-19 08:15:56.931876</td>\n",
       "      <td>3241</td>\n",
       "    </tr>\n",
       "    <tr>\n",
       "      <th>3</th>\n",
       "      <td>4</td>\n",
       "      <td>2</td>\n",
       "      <td>2023-11-19 08:15:56.935511</td>\n",
       "      <td>3369</td>\n",
       "    </tr>\n",
       "    <tr>\n",
       "      <th>4</th>\n",
       "      <td>5</td>\n",
       "      <td>4</td>\n",
       "      <td>2023-11-19 08:15:56.939011</td>\n",
       "      <td>3461</td>\n",
       "    </tr>\n",
       "  </tbody>\n",
       "</table>\n",
       "</div>"
      ],
      "text/plain": [
       "   id  Stars                created_date  CoffeeID_id\n",
       "0   1      2  2023-11-19 08:15:56.924843         3061\n",
       "1   2      4  2023-11-19 08:15:56.928438         3198\n",
       "2   3      5  2023-11-19 08:15:56.931876         3241\n",
       "3   4      2  2023-11-19 08:15:56.935511         3369\n",
       "4   5      4  2023-11-19 08:15:56.939011         3461"
      ]
     },
     "execution_count": 18,
     "metadata": {},
     "output_type": "execute_result"
    }
   ],
   "source": [
    "new_R = pd.read_csv('survey_review_1121.csv')  # ratings 60개 추가\n",
    "new_R.drop(columns=['email'], inplace=True)\n",
    "new_R.head()"
   ]
  },
  {
   "cell_type": "code",
   "execution_count": null,
   "metadata": {},
   "outputs": [],
   "source": [
    "new_R['Stars']"
   ]
  },
  {
   "cell_type": "code",
   "execution_count": 24,
   "metadata": {},
   "outputs": [
    {
     "data": {
      "text/plain": [
       "[0, 1, 2]"
      ]
     },
     "execution_count": 24,
     "metadata": {},
     "output_type": "execute_result"
    }
   ],
   "source": [
    "# idxs : list of index of new_R\n",
    "# df.loc[len(df.index)] = [userid, coffeeid, Stars, created_date] \n",
    "count = 0\n",
    "for i in idx_s:\n",
    "    while count <= 10:\n",
    "        for k in range(6):\n",
    "            if new_R['CoffeeID_id'] not in test_R[test_R['userid'] == k]['coffeeid']:\n",
    "                test_R.loc[len(test_R.index)] = [k, new_R['CoffeeID_id'][i], new_R['Stars'][i], new_R['created_date']]\n",
    "                idx_s.remove(i)\n",
    "                count += 1\n",
    "    count = 0\n",
    "            "
   ]
  },
  {
   "cell_type": "markdown",
   "metadata": {},
   "source": [
    "***\n",
    "***"
   ]
  },
  {
   "cell_type": "code",
   "execution_count": 115,
   "metadata": {},
   "outputs": [],
   "source": [
    "import pymysql"
   ]
  },
  {
   "cell_type": "code",
   "execution_count": 160,
   "metadata": {},
   "outputs": [
    {
     "name": "stdout",
     "output_type": "stream",
     "text": [
      "데이터((3, 10))를 성공적으로 불러왔습니다.\n"
     ]
    },
    {
     "name": "stderr",
     "output_type": "stream",
     "text": [
      "C:\\Users\\Playdata\\AppData\\Local\\Temp\\ipykernel_6048\\1965728530.py:20: UserWarning: pandas only supports SQLAlchemy connectable (engine/connection) or database string URI or sqlite3 DBAPI2 connection. Other DBAPI2 objects are not tested. Please consider using SQLAlchemy.\n",
      "  users = pd.read_sql(users_query, conn)  # ['id', 'caf', 'blend', 'notes', 'sour', 'sweet', 'bitter', 'body', 'user_id']\n",
      "C:\\Users\\Playdata\\AppData\\Local\\Temp\\ipykernel_6048\\1965728530.py:23: UserWarning: pandas only supports SQLAlchemy connectable (engine/connection) or database string URI or sqlite3 DBAPI2 connection. Other DBAPI2 objects are not tested. Please consider using SQLAlchemy.\n",
      "  ratings = pd.read_sql(review_query, conn)   # 'id', 'Stars', 'content', 'created_date', 'Coffee_id', 'Order_id', 'user_id'\n"
     ]
    }
   ],
   "source": [
    "df = pd.read_csv('mysite/data/features.csv')\n",
    "features = df.loc[:, df.columns != 'id']\n",
    "coffees = df.reset_index(drop=False)\n",
    "coffees = coffees.rename(columns={\"index\":\"coffeeid\"})\n",
    "\n",
    "# MySQL 연결 정보\n",
    "mysql_host = 'localhost'\n",
    "mysql_user = 'root'\n",
    "mysql_password = 'MShw1214!'\n",
    "mysql_db = 'wondoodoo'\n",
    "\n",
    "conn = pymysql.connect(host=mysql_host, user=mysql_user, password=mysql_password, database=mysql_db)\n",
    "\n",
    "try:\n",
    "    # 쿼리 작성\n",
    "    review_query = f\"SELECT * FROM review;\"\n",
    "    users_query = f\"SELECT * FROM main_preference;\"\n",
    "\n",
    "    # MySQL에서 데이터 읽어오기\n",
    "    users = pd.read_sql(users_query, conn)  # ['id', 'caf', 'blend', 'notes', 'sour', 'sweet', 'bitter', 'body', 'user_id']\n",
    "    users.reset_index(drop=False, inplace=True)\n",
    "    \n",
    "    ratings = pd.read_sql(review_query, conn)   # 'id', 'Stars', 'content', 'created_date', 'Coffee_id', 'Order_id', 'user_id'\n",
    "    ratings = ratings[['user_id', 'Coffee_id', 'Stars', 'created_date']]\n",
    "\n",
    "\n",
    "    print(f\"데이터({users.shape})를 성공적으로 불러왔습니다.\")\n",
    "\n",
    "except Exception as e:\n",
    "    print(f\"오류 발생: {e}\")\n",
    "\n",
    "finally:\n",
    "    # 연결 닫기\n",
    "    conn.close()\n"
   ]
  },
  {
   "cell_type": "code",
   "execution_count": 161,
   "metadata": {},
   "outputs": [],
   "source": [
    "ratings['userid'] = ratings.merge(users, on='user_id')['index']\n",
    "ratings['coffeeid'] = ratings.merge(coffees, how='left', left_on='Coffee_id', right_on='id')['coffeeid']"
   ]
  },
  {
   "cell_type": "code",
   "execution_count": 162,
   "metadata": {},
   "outputs": [],
   "source": [
    "ratings.drop(columns=['user_id', 'Coffee_id'], inplace=True)\n",
    "coffees.drop(columns='id', inplace=True)\n",
    "users.drop(columns=['user_id', 'id'], inplace=True)\n",
    "users.rename(columns={\"index\":\"userid\"}, inplace=True)"
   ]
  },
  {
   "cell_type": "code",
   "execution_count": 163,
   "metadata": {},
   "outputs": [],
   "source": [
    "import json\n",
    "jsonDec = json.decoder.JSONDecoder()"
   ]
  },
  {
   "cell_type": "code",
   "execution_count": 164,
   "metadata": {},
   "outputs": [
    {
     "data": {
      "text/html": [
       "<div>\n",
       "<style scoped>\n",
       "    .dataframe tbody tr th:only-of-type {\n",
       "        vertical-align: middle;\n",
       "    }\n",
       "\n",
       "    .dataframe tbody tr th {\n",
       "        vertical-align: top;\n",
       "    }\n",
       "\n",
       "    .dataframe thead th {\n",
       "        text-align: right;\n",
       "    }\n",
       "</style>\n",
       "<table border=\"1\" class=\"dataframe\">\n",
       "  <thead>\n",
       "    <tr style=\"text-align: right;\">\n",
       "      <th></th>\n",
       "      <th>userid</th>\n",
       "      <th>caf</th>\n",
       "      <th>blend</th>\n",
       "      <th>notes</th>\n",
       "      <th>sour</th>\n",
       "      <th>sweet</th>\n",
       "      <th>bitter</th>\n",
       "      <th>body</th>\n",
       "    </tr>\n",
       "  </thead>\n",
       "  <tbody>\n",
       "    <tr>\n",
       "      <th>0</th>\n",
       "      <td>0</td>\n",
       "      <td>1</td>\n",
       "      <td>1</td>\n",
       "      <td>[\"\\ucd08\\ucf5c\\ub9bf\", \"\\uace0\\uc18c\\ud568\"]</td>\n",
       "      <td>2</td>\n",
       "      <td>4</td>\n",
       "      <td>3</td>\n",
       "      <td>3</td>\n",
       "    </tr>\n",
       "    <tr>\n",
       "      <th>1</th>\n",
       "      <td>1</td>\n",
       "      <td>1</td>\n",
       "      <td>1</td>\n",
       "      <td>[\"\\ucd08\\ucf5c\\ub9bf\", \"\\uace0\\uc18c\\ud568\"]</td>\n",
       "      <td>1</td>\n",
       "      <td>4</td>\n",
       "      <td>3</td>\n",
       "      <td>4</td>\n",
       "    </tr>\n",
       "    <tr>\n",
       "      <th>2</th>\n",
       "      <td>2</td>\n",
       "      <td>1</td>\n",
       "      <td>1</td>\n",
       "      <td>[\"\\uaf43\", \"\\ud5c8\\ube0c\"]</td>\n",
       "      <td>5</td>\n",
       "      <td>2</td>\n",
       "      <td>4</td>\n",
       "      <td>3</td>\n",
       "    </tr>\n",
       "  </tbody>\n",
       "</table>\n",
       "</div>"
      ],
      "text/plain": [
       "   userid caf blend                                         notes sour sweet  \\\n",
       "0       0   1     1  [\"\\ucd08\\ucf5c\\ub9bf\", \"\\uace0\\uc18c\\ud568\"]    2     4   \n",
       "1       1   1     1  [\"\\ucd08\\ucf5c\\ub9bf\", \"\\uace0\\uc18c\\ud568\"]    1     4   \n",
       "2       2   1     1                    [\"\\uaf43\", \"\\ud5c8\\ube0c\"]    5     2   \n",
       "\n",
       "  bitter body  \n",
       "0      3    3  \n",
       "1      3    4  \n",
       "2      4    3  "
      ]
     },
     "execution_count": 164,
     "metadata": {},
     "output_type": "execute_result"
    }
   ],
   "source": [
    "users"
   ]
  },
  {
   "cell_type": "code",
   "execution_count": 165,
   "metadata": {},
   "outputs": [
    {
     "data": {
      "text/html": [
       "<div>\n",
       "<style scoped>\n",
       "    .dataframe tbody tr th:only-of-type {\n",
       "        vertical-align: middle;\n",
       "    }\n",
       "\n",
       "    .dataframe tbody tr th {\n",
       "        vertical-align: top;\n",
       "    }\n",
       "\n",
       "    .dataframe thead th {\n",
       "        text-align: right;\n",
       "    }\n",
       "</style>\n",
       "<table border=\"1\" class=\"dataframe\">\n",
       "  <thead>\n",
       "    <tr style=\"text-align: right;\">\n",
       "      <th></th>\n",
       "      <th>Stars</th>\n",
       "      <th>created_date</th>\n",
       "      <th>userid</th>\n",
       "      <th>coffeeid</th>\n",
       "    </tr>\n",
       "  </thead>\n",
       "  <tbody>\n",
       "    <tr>\n",
       "      <th>0</th>\n",
       "      <td>4</td>\n",
       "      <td>2023-11-23 03:55:00.373289</td>\n",
       "      <td>0</td>\n",
       "      <td>0</td>\n",
       "    </tr>\n",
       "  </tbody>\n",
       "</table>\n",
       "</div>"
      ],
      "text/plain": [
       "  Stars               created_date  userid  coffeeid\n",
       "0     4 2023-11-23 03:55:00.373289       0         0"
      ]
     },
     "execution_count": 165,
     "metadata": {},
     "output_type": "execute_result"
    }
   ],
   "source": [
    "ratings"
   ]
  },
  {
   "cell_type": "code",
   "execution_count": 166,
   "metadata": {},
   "outputs": [
    {
     "data": {
      "text/html": [
       "<div>\n",
       "<style scoped>\n",
       "    .dataframe tbody tr th:only-of-type {\n",
       "        vertical-align: middle;\n",
       "    }\n",
       "\n",
       "    .dataframe tbody tr th {\n",
       "        vertical-align: top;\n",
       "    }\n",
       "\n",
       "    .dataframe thead th {\n",
       "        text-align: right;\n",
       "    }\n",
       "</style>\n",
       "<table border=\"1\" class=\"dataframe\">\n",
       "  <thead>\n",
       "    <tr style=\"text-align: right;\">\n",
       "      <th></th>\n",
       "      <th>coffeeid</th>\n",
       "      <th>body</th>\n",
       "      <th>sour</th>\n",
       "      <th>sweet</th>\n",
       "      <th>bitter</th>\n",
       "      <th>caf</th>\n",
       "      <th>blend</th>\n",
       "      <th>single</th>\n",
       "      <th>지속가능성_0</th>\n",
       "      <th>지속가능성_공정무역</th>\n",
       "      <th>...</th>\n",
       "      <th>로스팅 포인트_라이트미디엄</th>\n",
       "      <th>로스팅 포인트_미디엄</th>\n",
       "      <th>로스팅 포인트_미디엄다크</th>\n",
       "      <th>꽃</th>\n",
       "      <th>과일</th>\n",
       "      <th>허브</th>\n",
       "      <th>달콤함</th>\n",
       "      <th>고소함</th>\n",
       "      <th>향료</th>\n",
       "      <th>초콜릿</th>\n",
       "    </tr>\n",
       "  </thead>\n",
       "  <tbody>\n",
       "    <tr>\n",
       "      <th>0</th>\n",
       "      <td>0</td>\n",
       "      <td>2</td>\n",
       "      <td>3</td>\n",
       "      <td>5</td>\n",
       "      <td>1</td>\n",
       "      <td>1</td>\n",
       "      <td>1</td>\n",
       "      <td>0</td>\n",
       "      <td>0</td>\n",
       "      <td>1</td>\n",
       "      <td>...</td>\n",
       "      <td>0</td>\n",
       "      <td>1</td>\n",
       "      <td>0</td>\n",
       "      <td>0</td>\n",
       "      <td>1</td>\n",
       "      <td>0</td>\n",
       "      <td>0</td>\n",
       "      <td>0</td>\n",
       "      <td>0</td>\n",
       "      <td>1</td>\n",
       "    </tr>\n",
       "    <tr>\n",
       "      <th>1</th>\n",
       "      <td>1</td>\n",
       "      <td>4</td>\n",
       "      <td>2</td>\n",
       "      <td>4</td>\n",
       "      <td>1</td>\n",
       "      <td>1</td>\n",
       "      <td>1</td>\n",
       "      <td>0</td>\n",
       "      <td>0</td>\n",
       "      <td>1</td>\n",
       "      <td>...</td>\n",
       "      <td>0</td>\n",
       "      <td>0</td>\n",
       "      <td>1</td>\n",
       "      <td>0</td>\n",
       "      <td>1</td>\n",
       "      <td>0</td>\n",
       "      <td>0</td>\n",
       "      <td>1</td>\n",
       "      <td>0</td>\n",
       "      <td>1</td>\n",
       "    </tr>\n",
       "  </tbody>\n",
       "</table>\n",
       "<p>2 rows × 24 columns</p>\n",
       "</div>"
      ],
      "text/plain": [
       "   coffeeid  body  sour  sweet  bitter  caf  blend  single  지속가능성_0  \\\n",
       "0         0     2     3      5       1    1      1       0        0   \n",
       "1         1     4     2      4       1    1      1       0        0   \n",
       "\n",
       "   지속가능성_공정무역  ...  로스팅 포인트_라이트미디엄  로스팅 포인트_미디엄  로스팅 포인트_미디엄다크  꽃  과일  허브  \\\n",
       "0           1  ...               0            1              0  0   1   0   \n",
       "1           1  ...               0            0              1  0   1   0   \n",
       "\n",
       "   달콤함  고소함  향료  초콜릿  \n",
       "0    0    0   0    1  \n",
       "1    0    1   0    1  \n",
       "\n",
       "[2 rows x 24 columns]"
      ]
     },
     "execution_count": 166,
     "metadata": {},
     "output_type": "execute_result"
    }
   ],
   "source": [
    "coffees.head(2)"
   ]
  },
  {
   "cell_type": "code",
   "execution_count": 167,
   "metadata": {},
   "outputs": [],
   "source": [
    "#@title Solution\n",
    "DOT = 'dot'\n",
    "COSINE = 'cosine'\n",
    "def compute_scores(query_embedding, item_embeddings, measure=DOT):\n",
    "  \"\"\"Computes the scores of the candidates given a query.\n",
    "  Args:\n",
    "    query_embedding: a vector of shape [k], representing the query embedding.\n",
    "    item_embeddings: a matrix of shape [N, k], such that row i is the embedding\n",
    "      of item i.\n",
    "    measure: a string specifying the similarity measure to be used. Can be\n",
    "      either DOT or COSINE.\n",
    "  Returns:\n",
    "    scores: a vector of shape [N], such that scores[i] is the score of item i.\n",
    "  \"\"\"\n",
    "  u = query_embedding\n",
    "  V = item_embeddings\n",
    "  if measure == COSINE:\n",
    "    V = V / np.linalg.norm(V, axis=1, keepdims=True)\n",
    "    u = u / np.linalg.norm(u)\n",
    "  scores = u.dot(V.T)\n",
    "  return scores"
   ]
  },
  {
   "cell_type": "code",
   "execution_count": 168,
   "metadata": {},
   "outputs": [],
   "source": [
    "df = pd.read_csv('mysite/data/features.csv')"
   ]
  },
  {
   "cell_type": "code",
   "execution_count": 169,
   "metadata": {},
   "outputs": [],
   "source": [
    "# df_copy['cosine_similarity'] = cosine_similarity_matrix[-1]\n",
    "# result_df = df_copy[df_copy['id'].notna()].sort_values(by='cosine_similarity', ascending=False)[:top_n]\n",
    "# return result_df['id'].tolist()\n",
    "\n",
    "def collaborative_rec(model, measure=DOT, exclude_rated=True, k=8, userid=0):\n",
    "        scores = compute_scores(\n",
    "            model.embeddings[\"userid\"][userid], model.embeddings[\"coffeeid\"], measure)\n",
    "        score_key = measure + ' score'\n",
    "        df_copy = df.copy()\n",
    "        df_copy[score_key] = list(scores)\n",
    "        if exclude_rated:\n",
    "            # remove movies that are already rated\n",
    "            rated_coffees = ratings[ratings.userid == str(userid)][\"coffeeid\"].values\n",
    "            df_copy.reset_index(drop=False, inplace=True)\n",
    "            df_copy.rename(columns={'index':'coffeeid'}, inplace=True)\n",
    "            df_copy = df_copy[df_copy.coffeeid.apply(lambda coffeeid: coffeeid not in rated_coffees)]\n",
    "        \n",
    "        result_df = df_copy.sort_values([score_key], ascending=False).head(k)\n",
    "        return result_df['id'].tolist()"
   ]
  },
  {
   "cell_type": "code",
   "execution_count": 170,
   "metadata": {},
   "outputs": [],
   "source": [
    "from keras.models import load_model\n",
    "new_model = load_model('mysite/model/test_model.hdf5')"
   ]
  },
  {
   "cell_type": "code",
   "execution_count": 171,
   "metadata": {},
   "outputs": [],
   "source": [
    "new_model = load_model('mysite/model/test_model.hdf5')\n",
    "new_model.embeddings = {\n",
    "    'userid': new_model.get_layer('user_embedding').weights[0].numpy(), # U (943, 30)\n",
    "    'coffeeid': new_model.get_layer('coffee_embedding').weights[0].numpy() # V (1682, 30)\n",
    "}"
   ]
  },
  {
   "cell_type": "code",
   "execution_count": 136,
   "metadata": {},
   "outputs": [
    {
     "data": {
      "text/plain": [
       "[4482, 4333, 3438, 4122, 4790]"
      ]
     },
     "execution_count": 136,
     "metadata": {},
     "output_type": "execute_result"
    }
   ],
   "source": [
    "import numpy as np\n",
    "collaborative_rec(new_model, measure=DOT, k=5, userid=3, exclude_rated=True)"
   ]
  },
  {
   "cell_type": "code",
   "execution_count": 173,
   "metadata": {},
   "outputs": [
    {
     "data": {
      "text/plain": [
       "[3508, 3151, 1026, 1475, 3740, 3011, 4694, 1573]"
      ]
     },
     "execution_count": 173,
     "metadata": {},
     "output_type": "execute_result"
    }
   ],
   "source": [
    "collaborative_rec(new_model, userid=2)"
   ]
  },
  {
   "cell_type": "code",
   "execution_count": 172,
   "metadata": {},
   "outputs": [
    {
     "data": {
      "text/html": [
       "<div>\n",
       "<style scoped>\n",
       "    .dataframe tbody tr th:only-of-type {\n",
       "        vertical-align: middle;\n",
       "    }\n",
       "\n",
       "    .dataframe tbody tr th {\n",
       "        vertical-align: top;\n",
       "    }\n",
       "\n",
       "    .dataframe thead th {\n",
       "        text-align: right;\n",
       "    }\n",
       "</style>\n",
       "<table border=\"1\" class=\"dataframe\">\n",
       "  <thead>\n",
       "    <tr style=\"text-align: right;\">\n",
       "      <th></th>\n",
       "      <th>userid</th>\n",
       "      <th>caf</th>\n",
       "      <th>blend</th>\n",
       "      <th>notes</th>\n",
       "      <th>sour</th>\n",
       "      <th>sweet</th>\n",
       "      <th>bitter</th>\n",
       "      <th>body</th>\n",
       "    </tr>\n",
       "  </thead>\n",
       "  <tbody>\n",
       "    <tr>\n",
       "      <th>2</th>\n",
       "      <td>2</td>\n",
       "      <td>1</td>\n",
       "      <td>1</td>\n",
       "      <td>[\"\\uaf43\", \"\\ud5c8\\ube0c\"]</td>\n",
       "      <td>5</td>\n",
       "      <td>2</td>\n",
       "      <td>4</td>\n",
       "      <td>3</td>\n",
       "    </tr>\n",
       "  </tbody>\n",
       "</table>\n",
       "</div>"
      ],
      "text/plain": [
       "   userid caf blend                       notes sour sweet bitter body\n",
       "2       2   1     1  [\"\\uaf43\", \"\\ud5c8\\ube0c\"]    5     2      4    3"
      ]
     },
     "execution_count": 172,
     "metadata": {},
     "output_type": "execute_result"
    }
   ],
   "source": [
    "users[users['userid'] == 2]"
   ]
  },
  {
   "cell_type": "code",
   "execution_count": 174,
   "metadata": {},
   "outputs": [],
   "source": [
    "test_list = collaborative_rec(new_model, userid=2)"
   ]
  },
  {
   "cell_type": "code",
   "execution_count": 175,
   "metadata": {},
   "outputs": [
    {
     "data": {
      "text/html": [
       "<div>\n",
       "<style scoped>\n",
       "    .dataframe tbody tr th:only-of-type {\n",
       "        vertical-align: middle;\n",
       "    }\n",
       "\n",
       "    .dataframe tbody tr th {\n",
       "        vertical-align: top;\n",
       "    }\n",
       "\n",
       "    .dataframe thead th {\n",
       "        text-align: right;\n",
       "    }\n",
       "</style>\n",
       "<table border=\"1\" class=\"dataframe\">\n",
       "  <thead>\n",
       "    <tr style=\"text-align: right;\">\n",
       "      <th></th>\n",
       "      <th>id</th>\n",
       "      <th>body</th>\n",
       "      <th>sour</th>\n",
       "      <th>sweet</th>\n",
       "      <th>bitter</th>\n",
       "      <th>caf</th>\n",
       "      <th>blend</th>\n",
       "      <th>single</th>\n",
       "      <th>지속가능성_0</th>\n",
       "      <th>지속가능성_공정무역</th>\n",
       "      <th>...</th>\n",
       "      <th>로스팅 포인트_라이트미디엄</th>\n",
       "      <th>로스팅 포인트_미디엄</th>\n",
       "      <th>로스팅 포인트_미디엄다크</th>\n",
       "      <th>꽃</th>\n",
       "      <th>과일</th>\n",
       "      <th>허브</th>\n",
       "      <th>달콤함</th>\n",
       "      <th>고소함</th>\n",
       "      <th>향료</th>\n",
       "      <th>초콜릿</th>\n",
       "    </tr>\n",
       "  </thead>\n",
       "  <tbody>\n",
       "    <tr>\n",
       "      <th>113</th>\n",
       "      <td>1026</td>\n",
       "      <td>4</td>\n",
       "      <td>2</td>\n",
       "      <td>3</td>\n",
       "      <td>1</td>\n",
       "      <td>1</td>\n",
       "      <td>1</td>\n",
       "      <td>0</td>\n",
       "      <td>1</td>\n",
       "      <td>0</td>\n",
       "      <td>...</td>\n",
       "      <td>0</td>\n",
       "      <td>0</td>\n",
       "      <td>1</td>\n",
       "      <td>0</td>\n",
       "      <td>1</td>\n",
       "      <td>0</td>\n",
       "      <td>0</td>\n",
       "      <td>1</td>\n",
       "      <td>0</td>\n",
       "      <td>0</td>\n",
       "    </tr>\n",
       "    <tr>\n",
       "      <th>172</th>\n",
       "      <td>1475</td>\n",
       "      <td>4</td>\n",
       "      <td>3</td>\n",
       "      <td>4</td>\n",
       "      <td>2</td>\n",
       "      <td>1</td>\n",
       "      <td>1</td>\n",
       "      <td>0</td>\n",
       "      <td>1</td>\n",
       "      <td>0</td>\n",
       "      <td>...</td>\n",
       "      <td>0</td>\n",
       "      <td>0</td>\n",
       "      <td>1</td>\n",
       "      <td>0</td>\n",
       "      <td>0</td>\n",
       "      <td>0</td>\n",
       "      <td>0</td>\n",
       "      <td>1</td>\n",
       "      <td>0</td>\n",
       "      <td>1</td>\n",
       "    </tr>\n",
       "    <tr>\n",
       "      <th>182</th>\n",
       "      <td>1573</td>\n",
       "      <td>3</td>\n",
       "      <td>3</td>\n",
       "      <td>4</td>\n",
       "      <td>3</td>\n",
       "      <td>0</td>\n",
       "      <td>0</td>\n",
       "      <td>1</td>\n",
       "      <td>1</td>\n",
       "      <td>0</td>\n",
       "      <td>...</td>\n",
       "      <td>1</td>\n",
       "      <td>0</td>\n",
       "      <td>0</td>\n",
       "      <td>0</td>\n",
       "      <td>0</td>\n",
       "      <td>1</td>\n",
       "      <td>1</td>\n",
       "      <td>0</td>\n",
       "      <td>0</td>\n",
       "      <td>1</td>\n",
       "    </tr>\n",
       "    <tr>\n",
       "      <th>212</th>\n",
       "      <td>3011</td>\n",
       "      <td>3</td>\n",
       "      <td>2</td>\n",
       "      <td>4</td>\n",
       "      <td>2</td>\n",
       "      <td>1</td>\n",
       "      <td>1</td>\n",
       "      <td>0</td>\n",
       "      <td>1</td>\n",
       "      <td>0</td>\n",
       "      <td>...</td>\n",
       "      <td>0</td>\n",
       "      <td>1</td>\n",
       "      <td>0</td>\n",
       "      <td>0</td>\n",
       "      <td>0</td>\n",
       "      <td>0</td>\n",
       "      <td>0</td>\n",
       "      <td>0</td>\n",
       "      <td>0</td>\n",
       "      <td>0</td>\n",
       "    </tr>\n",
       "    <tr>\n",
       "      <th>262</th>\n",
       "      <td>3151</td>\n",
       "      <td>4</td>\n",
       "      <td>1</td>\n",
       "      <td>3</td>\n",
       "      <td>1</td>\n",
       "      <td>1</td>\n",
       "      <td>1</td>\n",
       "      <td>0</td>\n",
       "      <td>0</td>\n",
       "      <td>1</td>\n",
       "      <td>...</td>\n",
       "      <td>0</td>\n",
       "      <td>0</td>\n",
       "      <td>1</td>\n",
       "      <td>0</td>\n",
       "      <td>0</td>\n",
       "      <td>0</td>\n",
       "      <td>0</td>\n",
       "      <td>0</td>\n",
       "      <td>0</td>\n",
       "      <td>0</td>\n",
       "    </tr>\n",
       "    <tr>\n",
       "      <th>334</th>\n",
       "      <td>3508</td>\n",
       "      <td>4</td>\n",
       "      <td>1</td>\n",
       "      <td>4</td>\n",
       "      <td>3</td>\n",
       "      <td>0</td>\n",
       "      <td>1</td>\n",
       "      <td>0</td>\n",
       "      <td>1</td>\n",
       "      <td>0</td>\n",
       "      <td>...</td>\n",
       "      <td>0</td>\n",
       "      <td>0</td>\n",
       "      <td>1</td>\n",
       "      <td>0</td>\n",
       "      <td>0</td>\n",
       "      <td>0</td>\n",
       "      <td>0</td>\n",
       "      <td>0</td>\n",
       "      <td>0</td>\n",
       "      <td>0</td>\n",
       "    </tr>\n",
       "    <tr>\n",
       "      <th>381</th>\n",
       "      <td>3740</td>\n",
       "      <td>3</td>\n",
       "      <td>3</td>\n",
       "      <td>4</td>\n",
       "      <td>1</td>\n",
       "      <td>1</td>\n",
       "      <td>0</td>\n",
       "      <td>1</td>\n",
       "      <td>1</td>\n",
       "      <td>0</td>\n",
       "      <td>...</td>\n",
       "      <td>1</td>\n",
       "      <td>0</td>\n",
       "      <td>0</td>\n",
       "      <td>0</td>\n",
       "      <td>0</td>\n",
       "      <td>0</td>\n",
       "      <td>0</td>\n",
       "      <td>0</td>\n",
       "      <td>0</td>\n",
       "      <td>0</td>\n",
       "    </tr>\n",
       "    <tr>\n",
       "      <th>507</th>\n",
       "      <td>4694</td>\n",
       "      <td>5</td>\n",
       "      <td>1</td>\n",
       "      <td>5</td>\n",
       "      <td>4</td>\n",
       "      <td>1</td>\n",
       "      <td>1</td>\n",
       "      <td>0</td>\n",
       "      <td>1</td>\n",
       "      <td>0</td>\n",
       "      <td>...</td>\n",
       "      <td>0</td>\n",
       "      <td>0</td>\n",
       "      <td>0</td>\n",
       "      <td>0</td>\n",
       "      <td>0</td>\n",
       "      <td>0</td>\n",
       "      <td>0</td>\n",
       "      <td>0</td>\n",
       "      <td>0</td>\n",
       "      <td>0</td>\n",
       "    </tr>\n",
       "  </tbody>\n",
       "</table>\n",
       "<p>8 rows × 24 columns</p>\n",
       "</div>"
      ],
      "text/plain": [
       "       id  body  sour  sweet  bitter  caf  blend  single  지속가능성_0  지속가능성_공정무역  \\\n",
       "113  1026     4     2      3       1    1      1       0        1           0   \n",
       "172  1475     4     3      4       2    1      1       0        1           0   \n",
       "182  1573     3     3      4       3    0      0       1        1           0   \n",
       "212  3011     3     2      4       2    1      1       0        1           0   \n",
       "262  3151     4     1      3       1    1      1       0        0           1   \n",
       "334  3508     4     1      4       3    0      1       0        1           0   \n",
       "381  3740     3     3      4       1    1      0       1        1           0   \n",
       "507  4694     5     1      5       4    1      1       0        1           0   \n",
       "\n",
       "     ...  로스팅 포인트_라이트미디엄  로스팅 포인트_미디엄  로스팅 포인트_미디엄다크  꽃  과일  허브  달콤함  고소함  향료  \\\n",
       "113  ...               0            0              1  0   1   0    0    1   0   \n",
       "172  ...               0            0              1  0   0   0    0    1   0   \n",
       "182  ...               1            0              0  0   0   1    1    0   0   \n",
       "212  ...               0            1              0  0   0   0    0    0   0   \n",
       "262  ...               0            0              1  0   0   0    0    0   0   \n",
       "334  ...               0            0              1  0   0   0    0    0   0   \n",
       "381  ...               1            0              0  0   0   0    0    0   0   \n",
       "507  ...               0            0              0  0   0   0    0    0   0   \n",
       "\n",
       "     초콜릿  \n",
       "113    0  \n",
       "172    1  \n",
       "182    1  \n",
       "212    0  \n",
       "262    0  \n",
       "334    0  \n",
       "381    0  \n",
       "507    0  \n",
       "\n",
       "[8 rows x 24 columns]"
      ]
     },
     "execution_count": 175,
     "metadata": {},
     "output_type": "execute_result"
    }
   ],
   "source": [
    "df[df['id'].isin(test_list)]"
   ]
  },
  {
   "cell_type": "markdown",
   "metadata": {},
   "source": [
    "***\n",
    "dataframes 전처리 후\n",
    "***"
   ]
  },
  {
   "cell_type": "code",
   "execution_count": 176,
   "metadata": {},
   "outputs": [],
   "source": [
    "from __future__ import print_function\n",
    "\n",
    "import numpy as np\n",
    "import pandas as pd\n",
    "import collections\n",
    "# from mpl_toolkits.mplot3d import Axes3D\n",
    "from IPython import display\n",
    "from matplotlib import pyplot as plt\n",
    "import sklearn\n",
    "import sklearn.manifold\n",
    "\n",
    "# Add some convenience functions to Pandas DataFrame.\n",
    "pd.options.display.max_rows = 10\n",
    "pd.options.display.float_format = '{:.3f}'.format\n",
    "def mask(df, key, function):\n",
    "  \"\"\"Returns a filtered dataframe, by applying function to key\"\"\"\n",
    "  return df[function(df[key])]\n",
    "\n",
    "def flatten_cols(df):\n",
    "  df.columns = [' '.join(col).strip() for col in df.columns.values]\n",
    "  return df\n",
    "\n",
    "pd.DataFrame.mask = mask\n",
    "pd.DataFrame.flatten_cols = flatten_cols\n",
    "\n",
    "# Install spreadsheets and import authentication module.\n",
    "USER_RATINGS = True"
   ]
  },
  {
   "cell_type": "code",
   "execution_count": 177,
   "metadata": {},
   "outputs": [],
   "source": [
    "# Utility to split the data into training and test sets.\n",
    "def split_dataframe(df, holdout_fraction=0.1):\n",
    "  \"\"\"Splits a DataFrame into training and test sets.\n",
    "  Args:\n",
    "    df: a dataframe.\n",
    "    holdout_fraction: fraction of dataframe rows to use in the test set.\n",
    "  Returns:\n",
    "    train: dataframe for training\n",
    "    test: dataframe for testing\n",
    "  \"\"\"\n",
    "  test = df.sample(frac=holdout_fraction, replace=False)\n",
    "  train = df[~df.index.isin(test.index)]\n",
    "  return train, test"
   ]
  },
  {
   "cell_type": "code",
   "execution_count": 178,
   "metadata": {},
   "outputs": [],
   "source": [
    "# Tensorflow2로 MF 구현\n",
    "\n",
    "import tensorflow as tf\n",
    "from tensorflow import keras\n",
    "from keras.models import Model\n",
    "\n",
    "from keras.layers import Input, Embedding, Flatten, dot"
   ]
  },
  {
   "cell_type": "code",
   "execution_count": 179,
   "metadata": {},
   "outputs": [
    {
     "data": {
      "text/plain": [
       "(3, 559)"
      ]
     },
     "execution_count": 179,
     "metadata": {},
     "output_type": "execute_result"
    }
   ],
   "source": [
    "users.shape[0], coffees.shape[0]  # user 3명, 커피 559개"
   ]
  },
  {
   "cell_type": "markdown",
   "metadata": {},
   "source": [
    "### building models with actual users"
   ]
  },
  {
   "cell_type": "code",
   "execution_count": 182,
   "metadata": {},
   "outputs": [],
   "source": [
    "n_latent_factors = 10 # user와 movie embedding의 차원수\n",
    "\n",
    "user_input = Input(shape=[1], name='user')\n",
    "coffee_input = Input(shape=[1], name='coffee')\n",
    "\n",
    "user_embedding = Embedding(input_dim=users.shape[0] # 3\n",
    "                           , output_dim = n_latent_factors # 10\n",
    "                           , name='user_embedding'\n",
    "                           )(user_input)\n",
    "\n",
    "coffee_embedding = Embedding(input_dim=coffees.shape[0] # 559\n",
    "                           , output_dim = n_latent_factors # 10\n",
    "                           , name='coffee_embedding'\n",
    "                           )(coffee_input)\n",
    "\n",
    "user_vec = Flatten(name='flatten_users')(user_embedding) # 1차원 배열로 변환\n",
    "coffee_vec = Flatten(name='flatten_coffees')(coffee_embedding) # 1차원 배열로 변환\n",
    "\n",
    "product = dot([coffee_vec, user_vec], axes=1) # 평점\n",
    "model = Model(inputs=[user_input, coffee_input], outputs=product) # user와 movie가 주어졌을 때, 평점을 예측하는 모델"
   ]
  },
  {
   "cell_type": "code",
   "execution_count": 183,
   "metadata": {},
   "outputs": [
    {
     "name": "stdout",
     "output_type": "stream",
     "text": [
      "Model: \"model_2\"\n",
      "__________________________________________________________________________________________________\n",
      " Layer (type)                Output Shape                 Param #   Connected to                  \n",
      "==================================================================================================\n",
      " coffee (InputLayer)         [(None, 1)]                  0         []                            \n",
      "                                                                                                  \n",
      " user (InputLayer)           [(None, 1)]                  0         []                            \n",
      "                                                                                                  \n",
      " coffee_embedding (Embeddin  (None, 1, 10)                5590      ['coffee[0][0]']              \n",
      " g)                                                                                               \n",
      "                                                                                                  \n",
      " user_embedding (Embedding)  (None, 1, 10)                30        ['user[0][0]']                \n",
      "                                                                                                  \n",
      " flatten_coffees (Flatten)   (None, 10)                   0         ['coffee_embedding[0][0]']    \n",
      "                                                                                                  \n",
      " flatten_users (Flatten)     (None, 10)                   0         ['user_embedding[0][0]']      \n",
      "                                                                                                  \n",
      " dot_2 (Dot)                 (None, 1)                    0         ['flatten_coffees[0][0]',     \n",
      "                                                                     'flatten_users[0][0]']       \n",
      "                                                                                                  \n",
      "==================================================================================================\n",
      "Total params: 5620 (21.95 KB)\n",
      "Trainable params: 5620 (21.95 KB)\n",
      "Non-trainable params: 0 (0.00 Byte)\n",
      "__________________________________________________________________________________________________\n"
     ]
    }
   ],
   "source": [
    "model.summary()"
   ]
  },
  {
   "cell_type": "code",
   "execution_count": 184,
   "metadata": {},
   "outputs": [
    {
     "name": "stdout",
     "output_type": "stream",
     "text": [
      "WARNING:tensorflow:From c:\\venvs\\coffee\\lib\\site-packages\\keras\\src\\optimizers\\__init__.py:309: The name tf.train.Optimizer is deprecated. Please use tf.compat.v1.train.Optimizer instead.\n",
      "\n"
     ]
    }
   ],
   "source": [
    "# compile\n",
    "model.compile(optimizer='adam', loss='mse')"
   ]
  },
  {
   "cell_type": "code",
   "execution_count": 185,
   "metadata": {},
   "outputs": [
    {
     "data": {
      "text/plain": [
       "((1, 4), (0, 4))"
      ]
     },
     "execution_count": 185,
     "metadata": {},
     "output_type": "execute_result"
    }
   ],
   "source": [
    "ratings['userid'] = ratings['userid'].astype(int)\n",
    "ratings['coffeeid'] = ratings['coffeeid'].astype(int)\n",
    "\n",
    "train_ratings, test_ratings = split_dataframe(ratings)\n",
    "train_ratings.shape, test_ratings.shape"
   ]
  },
  {
   "cell_type": "code",
   "execution_count": 187,
   "metadata": {},
   "outputs": [
    {
     "data": {
      "text/plain": [
       "1"
      ]
     },
     "execution_count": 187,
     "metadata": {},
     "output_type": "execute_result"
    }
   ],
   "source": [
    "train_ratings.shape[0]"
   ]
  },
  {
   "cell_type": "code",
   "execution_count": 188,
   "metadata": {},
   "outputs": [
    {
     "name": "stdout",
     "output_type": "stream",
     "text": [
      "Epoch 1/500\n",
      "WARNING:tensorflow:From c:\\venvs\\coffee\\lib\\site-packages\\keras\\src\\utils\\tf_utils.py:492: The name tf.ragged.RaggedTensorValue is deprecated. Please use tf.compat.v1.ragged.RaggedTensorValue instead.\n",
      "\n"
     ]
    },
    {
     "ename": "UnimplementedError",
     "evalue": "Graph execution error:\n\nDetected at node mean_squared_error/Cast defined at (most recent call last):\n  File \"C:\\Users\\Playdata\\AppData\\Local\\Programs\\Python\\Python310\\lib\\runpy.py\", line 196, in _run_module_as_main\n\n  File \"C:\\Users\\Playdata\\AppData\\Local\\Programs\\Python\\Python310\\lib\\runpy.py\", line 86, in _run_code\n\n  File \"c:\\venvs\\coffee\\lib\\site-packages\\ipykernel_launcher.py\", line 17, in <module>\n\n  File \"c:\\venvs\\coffee\\lib\\site-packages\\traitlets\\config\\application.py\", line 1053, in launch_instance\n\n  File \"c:\\venvs\\coffee\\lib\\site-packages\\ipykernel\\kernelapp.py\", line 736, in start\n\n  File \"c:\\venvs\\coffee\\lib\\site-packages\\tornado\\platform\\asyncio.py\", line 195, in start\n\n  File \"C:\\Users\\Playdata\\AppData\\Local\\Programs\\Python\\Python310\\lib\\asyncio\\base_events.py\", line 600, in run_forever\n\n  File \"C:\\Users\\Playdata\\AppData\\Local\\Programs\\Python\\Python310\\lib\\asyncio\\base_events.py\", line 1896, in _run_once\n\n  File \"C:\\Users\\Playdata\\AppData\\Local\\Programs\\Python\\Python310\\lib\\asyncio\\events.py\", line 80, in _run\n\n  File \"c:\\venvs\\coffee\\lib\\site-packages\\ipykernel\\kernelbase.py\", line 516, in dispatch_queue\n\n  File \"c:\\venvs\\coffee\\lib\\site-packages\\ipykernel\\kernelbase.py\", line 505, in process_one\n\n  File \"c:\\venvs\\coffee\\lib\\site-packages\\ipykernel\\kernelbase.py\", line 412, in dispatch_shell\n\n  File \"c:\\venvs\\coffee\\lib\\site-packages\\ipykernel\\kernelbase.py\", line 740, in execute_request\n\n  File \"c:\\venvs\\coffee\\lib\\site-packages\\ipykernel\\ipkernel.py\", line 422, in do_execute\n\n  File \"c:\\venvs\\coffee\\lib\\site-packages\\ipykernel\\zmqshell.py\", line 546, in run_cell\n\n  File \"c:\\venvs\\coffee\\lib\\site-packages\\IPython\\core\\interactiveshell.py\", line 3024, in run_cell\n\n  File \"c:\\venvs\\coffee\\lib\\site-packages\\IPython\\core\\interactiveshell.py\", line 3079, in _run_cell\n\n  File \"c:\\venvs\\coffee\\lib\\site-packages\\IPython\\core\\async_helpers.py\", line 129, in _pseudo_sync_runner\n\n  File \"c:\\venvs\\coffee\\lib\\site-packages\\IPython\\core\\interactiveshell.py\", line 3284, in run_cell_async\n\n  File \"c:\\venvs\\coffee\\lib\\site-packages\\IPython\\core\\interactiveshell.py\", line 3466, in run_ast_nodes\n\n  File \"c:\\venvs\\coffee\\lib\\site-packages\\IPython\\core\\interactiveshell.py\", line 3526, in run_code\n\n  File \"C:\\Users\\Playdata\\AppData\\Local\\Temp\\ipykernel_6048\\523606363.py\", line 1, in <module>\n\n  File \"c:\\venvs\\coffee\\lib\\site-packages\\keras\\src\\utils\\traceback_utils.py\", line 65, in error_handler\n\n  File \"c:\\venvs\\coffee\\lib\\site-packages\\keras\\src\\engine\\training.py\", line 1807, in fit\n\n  File \"c:\\venvs\\coffee\\lib\\site-packages\\keras\\src\\engine\\training.py\", line 1401, in train_function\n\n  File \"c:\\venvs\\coffee\\lib\\site-packages\\keras\\src\\engine\\training.py\", line 1384, in step_function\n\n  File \"c:\\venvs\\coffee\\lib\\site-packages\\keras\\src\\engine\\training.py\", line 1373, in run_step\n\n  File \"c:\\venvs\\coffee\\lib\\site-packages\\keras\\src\\engine\\training.py\", line 1151, in train_step\n\n  File \"c:\\venvs\\coffee\\lib\\site-packages\\keras\\src\\engine\\training.py\", line 1209, in compute_loss\n\n  File \"c:\\venvs\\coffee\\lib\\site-packages\\keras\\src\\engine\\compile_utils.py\", line 277, in __call__\n\n  File \"c:\\venvs\\coffee\\lib\\site-packages\\keras\\src\\losses.py\", line 143, in __call__\n\n  File \"c:\\venvs\\coffee\\lib\\site-packages\\keras\\src\\losses.py\", line 270, in call\n\n  File \"c:\\venvs\\coffee\\lib\\site-packages\\keras\\src\\losses.py\", line 1705, in mean_squared_error\n\nCast string to float is not supported\n\t [[{{node mean_squared_error/Cast}}]] [Op:__inference_train_function_1825]",
     "output_type": "error",
     "traceback": [
      "\u001b[1;31m---------------------------------------------------------------------------\u001b[0m",
      "\u001b[1;31mUnimplementedError\u001b[0m                        Traceback (most recent call last)",
      "\u001b[1;32mc:\\Users\\Playdata\\Documents\\project_coffee\\testMF.ipynb 셀 45\u001b[0m line \u001b[0;36m1\n\u001b[1;32m----> <a href='vscode-notebook-cell:/c%3A/Users/Playdata/Documents/project_coffee/testMF.ipynb#Y126sZmlsZQ%3D%3D?line=0'>1</a>\u001b[0m history \u001b[39m=\u001b[39m model\u001b[39m.\u001b[39;49mfit(x\u001b[39m=\u001b[39;49m[train_ratings[\u001b[39m'\u001b[39;49m\u001b[39muserid\u001b[39;49m\u001b[39m'\u001b[39;49m], train_ratings[\u001b[39m'\u001b[39;49m\u001b[39mcoffeeid\u001b[39;49m\u001b[39m'\u001b[39;49m]],\n\u001b[0;32m      <a href='vscode-notebook-cell:/c%3A/Users/Playdata/Documents/project_coffee/testMF.ipynb#Y126sZmlsZQ%3D%3D?line=1'>2</a>\u001b[0m                     y\u001b[39m=\u001b[39;49mtrain_ratings[\u001b[39m'\u001b[39;49m\u001b[39mStars\u001b[39;49m\u001b[39m'\u001b[39;49m], epochs\u001b[39m=\u001b[39;49m\u001b[39m500\u001b[39;49m,\n\u001b[0;32m      <a href='vscode-notebook-cell:/c%3A/Users/Playdata/Documents/project_coffee/testMF.ipynb#Y126sZmlsZQ%3D%3D?line=2'>3</a>\u001b[0m                     validation_data\u001b[39m=\u001b[39;49m([test_ratings[\u001b[39m'\u001b[39;49m\u001b[39muserid\u001b[39;49m\u001b[39m'\u001b[39;49m], test_ratings[\u001b[39m'\u001b[39;49m\u001b[39mcoffeeid\u001b[39;49m\u001b[39m'\u001b[39;49m] ],\n\u001b[0;32m      <a href='vscode-notebook-cell:/c%3A/Users/Playdata/Documents/project_coffee/testMF.ipynb#Y126sZmlsZQ%3D%3D?line=3'>4</a>\u001b[0m                                      test_ratings[\u001b[39m'\u001b[39;49m\u001b[39mStars\u001b[39;49m\u001b[39m'\u001b[39;49m]),\n\u001b[0;32m      <a href='vscode-notebook-cell:/c%3A/Users/Playdata/Documents/project_coffee/testMF.ipynb#Y126sZmlsZQ%3D%3D?line=4'>5</a>\u001b[0m                     verbose\u001b[39m=\u001b[39;49m\u001b[39m1\u001b[39;49m, batch_size\u001b[39m=\u001b[39;49mtrain_ratings\u001b[39m.\u001b[39;49mshape[\u001b[39m0\u001b[39;49m])\n",
      "File \u001b[1;32mc:\\venvs\\coffee\\lib\\site-packages\\keras\\src\\utils\\traceback_utils.py:70\u001b[0m, in \u001b[0;36mfilter_traceback.<locals>.error_handler\u001b[1;34m(*args, **kwargs)\u001b[0m\n\u001b[0;32m     67\u001b[0m     filtered_tb \u001b[39m=\u001b[39m _process_traceback_frames(e\u001b[39m.\u001b[39m__traceback__)\n\u001b[0;32m     68\u001b[0m     \u001b[39m# To get the full stack trace, call:\u001b[39;00m\n\u001b[0;32m     69\u001b[0m     \u001b[39m# `tf.debugging.disable_traceback_filtering()`\u001b[39;00m\n\u001b[1;32m---> 70\u001b[0m     \u001b[39mraise\u001b[39;00m e\u001b[39m.\u001b[39mwith_traceback(filtered_tb) \u001b[39mfrom\u001b[39;00m \u001b[39mNone\u001b[39;00m\n\u001b[0;32m     71\u001b[0m \u001b[39mfinally\u001b[39;00m:\n\u001b[0;32m     72\u001b[0m     \u001b[39mdel\u001b[39;00m filtered_tb\n",
      "File \u001b[1;32mc:\\venvs\\coffee\\lib\\site-packages\\tensorflow\\python\\eager\\execute.py:53\u001b[0m, in \u001b[0;36mquick_execute\u001b[1;34m(op_name, num_outputs, inputs, attrs, ctx, name)\u001b[0m\n\u001b[0;32m     51\u001b[0m \u001b[39mtry\u001b[39;00m:\n\u001b[0;32m     52\u001b[0m   ctx\u001b[39m.\u001b[39mensure_initialized()\n\u001b[1;32m---> 53\u001b[0m   tensors \u001b[39m=\u001b[39m pywrap_tfe\u001b[39m.\u001b[39mTFE_Py_Execute(ctx\u001b[39m.\u001b[39m_handle, device_name, op_name,\n\u001b[0;32m     54\u001b[0m                                       inputs, attrs, num_outputs)\n\u001b[0;32m     55\u001b[0m \u001b[39mexcept\u001b[39;00m core\u001b[39m.\u001b[39m_NotOkStatusException \u001b[39mas\u001b[39;00m e:\n\u001b[0;32m     56\u001b[0m   \u001b[39mif\u001b[39;00m name \u001b[39mis\u001b[39;00m \u001b[39mnot\u001b[39;00m \u001b[39mNone\u001b[39;00m:\n",
      "\u001b[1;31mUnimplementedError\u001b[0m: Graph execution error:\n\nDetected at node mean_squared_error/Cast defined at (most recent call last):\n  File \"C:\\Users\\Playdata\\AppData\\Local\\Programs\\Python\\Python310\\lib\\runpy.py\", line 196, in _run_module_as_main\n\n  File \"C:\\Users\\Playdata\\AppData\\Local\\Programs\\Python\\Python310\\lib\\runpy.py\", line 86, in _run_code\n\n  File \"c:\\venvs\\coffee\\lib\\site-packages\\ipykernel_launcher.py\", line 17, in <module>\n\n  File \"c:\\venvs\\coffee\\lib\\site-packages\\traitlets\\config\\application.py\", line 1053, in launch_instance\n\n  File \"c:\\venvs\\coffee\\lib\\site-packages\\ipykernel\\kernelapp.py\", line 736, in start\n\n  File \"c:\\venvs\\coffee\\lib\\site-packages\\tornado\\platform\\asyncio.py\", line 195, in start\n\n  File \"C:\\Users\\Playdata\\AppData\\Local\\Programs\\Python\\Python310\\lib\\asyncio\\base_events.py\", line 600, in run_forever\n\n  File \"C:\\Users\\Playdata\\AppData\\Local\\Programs\\Python\\Python310\\lib\\asyncio\\base_events.py\", line 1896, in _run_once\n\n  File \"C:\\Users\\Playdata\\AppData\\Local\\Programs\\Python\\Python310\\lib\\asyncio\\events.py\", line 80, in _run\n\n  File \"c:\\venvs\\coffee\\lib\\site-packages\\ipykernel\\kernelbase.py\", line 516, in dispatch_queue\n\n  File \"c:\\venvs\\coffee\\lib\\site-packages\\ipykernel\\kernelbase.py\", line 505, in process_one\n\n  File \"c:\\venvs\\coffee\\lib\\site-packages\\ipykernel\\kernelbase.py\", line 412, in dispatch_shell\n\n  File \"c:\\venvs\\coffee\\lib\\site-packages\\ipykernel\\kernelbase.py\", line 740, in execute_request\n\n  File \"c:\\venvs\\coffee\\lib\\site-packages\\ipykernel\\ipkernel.py\", line 422, in do_execute\n\n  File \"c:\\venvs\\coffee\\lib\\site-packages\\ipykernel\\zmqshell.py\", line 546, in run_cell\n\n  File \"c:\\venvs\\coffee\\lib\\site-packages\\IPython\\core\\interactiveshell.py\", line 3024, in run_cell\n\n  File \"c:\\venvs\\coffee\\lib\\site-packages\\IPython\\core\\interactiveshell.py\", line 3079, in _run_cell\n\n  File \"c:\\venvs\\coffee\\lib\\site-packages\\IPython\\core\\async_helpers.py\", line 129, in _pseudo_sync_runner\n\n  File \"c:\\venvs\\coffee\\lib\\site-packages\\IPython\\core\\interactiveshell.py\", line 3284, in run_cell_async\n\n  File \"c:\\venvs\\coffee\\lib\\site-packages\\IPython\\core\\interactiveshell.py\", line 3466, in run_ast_nodes\n\n  File \"c:\\venvs\\coffee\\lib\\site-packages\\IPython\\core\\interactiveshell.py\", line 3526, in run_code\n\n  File \"C:\\Users\\Playdata\\AppData\\Local\\Temp\\ipykernel_6048\\523606363.py\", line 1, in <module>\n\n  File \"c:\\venvs\\coffee\\lib\\site-packages\\keras\\src\\utils\\traceback_utils.py\", line 65, in error_handler\n\n  File \"c:\\venvs\\coffee\\lib\\site-packages\\keras\\src\\engine\\training.py\", line 1807, in fit\n\n  File \"c:\\venvs\\coffee\\lib\\site-packages\\keras\\src\\engine\\training.py\", line 1401, in train_function\n\n  File \"c:\\venvs\\coffee\\lib\\site-packages\\keras\\src\\engine\\training.py\", line 1384, in step_function\n\n  File \"c:\\venvs\\coffee\\lib\\site-packages\\keras\\src\\engine\\training.py\", line 1373, in run_step\n\n  File \"c:\\venvs\\coffee\\lib\\site-packages\\keras\\src\\engine\\training.py\", line 1151, in train_step\n\n  File \"c:\\venvs\\coffee\\lib\\site-packages\\keras\\src\\engine\\training.py\", line 1209, in compute_loss\n\n  File \"c:\\venvs\\coffee\\lib\\site-packages\\keras\\src\\engine\\compile_utils.py\", line 277, in __call__\n\n  File \"c:\\venvs\\coffee\\lib\\site-packages\\keras\\src\\losses.py\", line 143, in __call__\n\n  File \"c:\\venvs\\coffee\\lib\\site-packages\\keras\\src\\losses.py\", line 270, in call\n\n  File \"c:\\venvs\\coffee\\lib\\site-packages\\keras\\src\\losses.py\", line 1705, in mean_squared_error\n\nCast string to float is not supported\n\t [[{{node mean_squared_error/Cast}}]] [Op:__inference_train_function_1825]"
     ]
    }
   ],
   "source": [
    "history = model.fit(x=[train_ratings['userid'], train_ratings['coffeeid']],\n",
    "                    y=train_ratings['Stars'], epochs=500,\n",
    "                    validation_data=([test_ratings['userid'], test_ratings['coffeeid'] ],\n",
    "                                     test_ratings['Stars']),\n",
    "                    verbose=1, batch_size=train_ratings.shape[0])"
   ]
  },
  {
   "cell_type": "code",
   "execution_count": null,
   "metadata": {},
   "outputs": [],
   "source": []
  }
 ],
 "metadata": {
  "kernelspec": {
   "display_name": "coffee",
   "language": "python",
   "name": "python3"
  },
  "language_info": {
   "codemirror_mode": {
    "name": "ipython",
    "version": 3
   },
   "file_extension": ".py",
   "mimetype": "text/x-python",
   "name": "python",
   "nbconvert_exporter": "python",
   "pygments_lexer": "ipython3",
   "version": "3.10.4"
  }
 },
 "nbformat": 4,
 "nbformat_minor": 2
}
