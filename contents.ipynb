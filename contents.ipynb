{
 "cells": [
  {
   "cell_type": "code",
   "execution_count": 2,
   "metadata": {},
   "outputs": [],
   "source": [
    "import pandas as pd\n",
    "import numpy as np\n",
    "from ast import literal_eval"
   ]
  },
  {
   "cell_type": "markdown",
   "metadata": {},
   "source": [
    "***\n",
    "Contents 기반 추천 해보기\n",
    "***"
   ]
  },
  {
   "cell_type": "code",
   "execution_count": 3,
   "metadata": {},
   "outputs": [],
   "source": [
    "df = pd.read_csv('wondoofin.csv')\n",
    "cat_df = pd.read_csv('category.csv')"
   ]
  },
  {
   "cell_type": "code",
   "execution_count": 3,
   "metadata": {},
   "outputs": [
    {
     "name": "stdout",
     "output_type": "stream",
     "text": [
      "<class 'pandas.core.frame.DataFrame'>\n",
      "RangeIndex: 559 entries, 0 to 558\n",
      "Data columns (total 26 columns):\n",
      " #   Column             Non-Null Count  Dtype \n",
      "---  ------             --------------  ----- \n",
      " 0   id                 559 non-null    int64 \n",
      " 1   이름                 559 non-null    object\n",
      " 2   로스터리               559 non-null    object\n",
      " 3   타입                 559 non-null    object\n",
      " 4   로스팅 포인트            559 non-null    object\n",
      " 5   지속가능성              113 non-null    object\n",
      " 6   컵 노트               559 non-null    object\n",
      " 7   바디감                559 non-null    int64 \n",
      " 8   신맛                 559 non-null    int64 \n",
      " 9   단맛                 559 non-null    int64 \n",
      " 10  쓴맛                 559 non-null    int64 \n",
      " 11  커피 소개              559 non-null    object\n",
      " 12  나라                 543 non-null    object\n",
      " 13  로스터리 소개            559 non-null    object\n",
      " 14  로스터리 주소            550 non-null    object\n",
      " 15  이름.1               559 non-null    object\n",
      " 16  식품의 유형             554 non-null    object\n",
      " 17  제조원 및 소재지          557 non-null    object\n",
      " 18  유통기한               557 non-null    object\n",
      " 19  제조일자               559 non-null    object\n",
      " 20  내용량                559 non-null    object\n",
      " 21  보관 방법              545 non-null    object\n",
      " 22  원재료 및 함량           559 non-null    object\n",
      " 23  제품문의 관련 주소 및 전화번호  559 non-null    object\n",
      " 24  카페인                559 non-null    int64 \n",
      " 25  로스터리ID             559 non-null    int64 \n",
      "dtypes: int64(7), object(19)\n",
      "memory usage: 113.7+ KB\n"
     ]
    }
   ],
   "source": [
    "df.info()"
   ]
  },
  {
   "cell_type": "code",
   "execution_count": 7,
   "metadata": {},
   "outputs": [
    {
     "data": {
      "text/plain": [
       "Index(['id', '이름', '로스터리', '타입', '로스팅 포인트', '지속가능성', '컵 노트', '바디감', '신맛', '단맛',\n",
       "       '쓴맛', '커피 소개', '나라', '로스터리 소개', '로스터리 주소', '이름.1', '식품의 유형',\n",
       "       '제조원 및 소재지', '유통기한', '제조일자', '내용량', '보관 방법', '원재료 및 함량',\n",
       "       '제품문의 관련 주소 및 전화번호', '카페인', '로스터리ID'],\n",
       "      dtype='object')"
      ]
     },
     "execution_count": 7,
     "metadata": {},
     "output_type": "execute_result"
    }
   ],
   "source": [
    "df.columns"
   ]
  },
  {
   "cell_type": "code",
   "execution_count": 6,
   "metadata": {},
   "outputs": [
    {
     "data": {
      "text/plain": [
       "(559, 26)"
      ]
     },
     "execution_count": 6,
     "metadata": {},
     "output_type": "execute_result"
    }
   ],
   "source": [
    "df.shape"
   ]
  },
  {
   "cell_type": "markdown",
   "metadata": {},
   "source": [
    "***\n",
    "null 값 처리\n",
    "- 지속가능성 : 113\n",
    "- 나라 : 543\n",
    "***\n",
    "- 로스터리 주소 : 550\n",
    "- 제조원 및 소재지 : 557/559\n",
    "- 유통기한 : 557\n",
    "- 보관 방법 : 545\n",
    "- 식품의 유형 : 554\n",
    "***"
   ]
  },
  {
   "cell_type": "code",
   "execution_count": 5,
   "metadata": {},
   "outputs": [
    {
     "data": {
      "text/plain": [
       "['토피', '맥아', '흑설탕']"
      ]
     },
     "execution_count": 5,
     "metadata": {},
     "output_type": "execute_result"
    }
   ],
   "source": [
    "# 리스트 처리\n",
    "df['컵 노트'] = df['컵 노트'].apply(literal_eval)\n",
    "df['컵 노트'][0]"
   ]
  },
  {
   "cell_type": "markdown",
   "metadata": {},
   "source": [
    "***"
   ]
  },
  {
   "cell_type": "code",
   "execution_count": 6,
   "metadata": {},
   "outputs": [
    {
     "data": {
      "text/plain": [
       "0         0\n",
       "1         0\n",
       "2       유기농\n",
       "3      공정무역\n",
       "4         0\n",
       "       ... \n",
       "554       0\n",
       "555       0\n",
       "556       0\n",
       "557       0\n",
       "558       0\n",
       "Name: 지속가능성, Length: 559, dtype: object"
      ]
     },
     "execution_count": 6,
     "metadata": {},
     "output_type": "execute_result"
    }
   ],
   "source": [
    "#################################\n",
    "########## 지속 가능성 ##########\n",
    "#################################\n",
    "for i in range(len(df)):\n",
    "    if df['지속가능성'][i] is np.nan:\n",
    "        df.at[i, '지속가능성'] = 0\n",
    "        \n",
    "df['지속가능성']"
   ]
  },
  {
   "cell_type": "markdown",
   "metadata": {},
   "source": [
    "***\n",
    "나라\n",
    "***"
   ]
  },
  {
   "cell_type": "code",
   "execution_count": 7,
   "metadata": {},
   "outputs": [
    {
     "data": {
      "text/plain": [
       "['브라질', '과테말라']"
      ]
     },
     "execution_count": 7,
     "metadata": {},
     "output_type": "execute_result"
    }
   ],
   "source": [
    "df['나라'] = df['나라'].str.split(', ')\n",
    "df['나라'][0]"
   ]
  },
  {
   "cell_type": "code",
   "execution_count": 8,
   "metadata": {},
   "outputs": [
    {
     "data": {
      "text/plain": [
       "0           [브라질, 과테말라]\n",
       "1                 [세라도]\n",
       "2                 [아리차]\n",
       "3             [브라질, 인도]\n",
       "4              [리무 볼레소]\n",
       "             ...       \n",
       "554                   0\n",
       "555       [에티오피아, 콜롬비아]\n",
       "556         [브라질, 콜롬비아]\n",
       "557               [파젠다]\n",
       "558    [과테말라, 콜롬비아, 인도]\n",
       "Name: 나라, Length: 559, dtype: object"
      ]
     },
     "execution_count": 8,
     "metadata": {},
     "output_type": "execute_result"
    }
   ],
   "source": [
    "for i in range(len(df)):\n",
    "    if df['나라'][i] is np.nan:\n",
    "        df.at[i, '나라'] = 0\n",
    "        \n",
    "df['나라']"
   ]
  },
  {
   "cell_type": "markdown",
   "metadata": {},
   "source": [
    "***\n",
    "추천에 필요한 값들\n",
    "1. 카페인 유무 : 카페인 칼럼\n",
    "2. 블렌드/ 싱글오리진\n",
    "3. 향 카테고리\n",
    "4. 맛의 강도 : 쓴맛, 단맛, 바디감, 산미\n",
    "***"
   ]
  },
  {
   "cell_type": "code",
   "execution_count": 24,
   "metadata": {},
   "outputs": [
    {
     "data": {
      "text/html": [
       "<div>\n",
       "<style scoped>\n",
       "    .dataframe tbody tr th:only-of-type {\n",
       "        vertical-align: middle;\n",
       "    }\n",
       "\n",
       "    .dataframe tbody tr th {\n",
       "        vertical-align: top;\n",
       "    }\n",
       "\n",
       "    .dataframe thead th {\n",
       "        text-align: right;\n",
       "    }\n",
       "</style>\n",
       "<table border=\"1\" class=\"dataframe\">\n",
       "  <thead>\n",
       "    <tr style=\"text-align: right;\">\n",
       "      <th></th>\n",
       "      <th>id</th>\n",
       "      <th>이름</th>\n",
       "      <th>로스터리</th>\n",
       "      <th>로스팅 포인트</th>\n",
       "      <th>지속가능성</th>\n",
       "      <th>컵 노트</th>\n",
       "      <th>바디감</th>\n",
       "      <th>신맛</th>\n",
       "      <th>단맛</th>\n",
       "      <th>쓴맛</th>\n",
       "      <th>...</th>\n",
       "      <th>제조일자</th>\n",
       "      <th>내용량</th>\n",
       "      <th>보관 방법</th>\n",
       "      <th>원재료 및 함량</th>\n",
       "      <th>제품문의 관련 주소 및 전화번호</th>\n",
       "      <th>카페인</th>\n",
       "      <th>로스터리ID</th>\n",
       "      <th>타입_디카페인</th>\n",
       "      <th>타입_블렌드</th>\n",
       "      <th>타입_싱글오리진</th>\n",
       "    </tr>\n",
       "  </thead>\n",
       "  <tbody>\n",
       "    <tr>\n",
       "      <th>0</th>\n",
       "      <td>43</td>\n",
       "      <td>데일리스윗</td>\n",
       "      <td>언더프레셔</td>\n",
       "      <td>미디엄다크</td>\n",
       "      <td>NaN</td>\n",
       "      <td>['토피', '맥아', '흑설탕']</td>\n",
       "      <td>4</td>\n",
       "      <td>2</td>\n",
       "      <td>4</td>\n",
       "      <td>3</td>\n",
       "      <td>...</td>\n",
       "      <td>상단 표기일</td>\n",
       "      <td>140g / 1kg</td>\n",
       "      <td>직사광선을 피하고 온도, 습도가 낮으며 통풍이 잘 되는 곳에 보관하여 주십시오.</td>\n",
       "      <td>커피원두 100% (브라질산 60%, 과테말라산 40%)</td>\n",
       "      <td>핸디엄 고객센터 1599-2681</td>\n",
       "      <td>1</td>\n",
       "      <td>57</td>\n",
       "      <td>0</td>\n",
       "      <td>1</td>\n",
       "      <td>0</td>\n",
       "    </tr>\n",
       "    <tr>\n",
       "      <th>1</th>\n",
       "      <td>3896</td>\n",
       "      <td>브라질 세라도 디카페인</td>\n",
       "      <td>운조커피</td>\n",
       "      <td>미디엄다크</td>\n",
       "      <td>NaN</td>\n",
       "      <td>['null']</td>\n",
       "      <td>4</td>\n",
       "      <td>2</td>\n",
       "      <td>4</td>\n",
       "      <td>3</td>\n",
       "      <td>...</td>\n",
       "      <td>주문 확인 후 제조</td>\n",
       "      <td>500g 1kg</td>\n",
       "      <td>직사광선을 피하고 온도, 습도가 낮으며 통풍이 잘 되는 곳에 밀폐 보관</td>\n",
       "      <td>커피원두 100%</td>\n",
       "      <td>운조커피 010-4535-8819</td>\n",
       "      <td>0</td>\n",
       "      <td>67</td>\n",
       "      <td>1</td>\n",
       "      <td>0</td>\n",
       "      <td>0</td>\n",
       "    </tr>\n",
       "  </tbody>\n",
       "</table>\n",
       "<p>2 rows × 28 columns</p>\n",
       "</div>"
      ],
      "text/plain": [
       "     id            이름   로스터리 로스팅 포인트 지속가능성                 컵 노트  바디감  신맛  단맛  \\\n",
       "0    43         데일리스윗  언더프레셔   미디엄다크   NaN  ['토피', '맥아', '흑설탕']    4   2   4   \n",
       "1  3896  브라질 세라도 디카페인   운조커피   미디엄다크   NaN             ['null']    4   2   4   \n",
       "\n",
       "   쓴맛  ...        제조일자         내용량  \\\n",
       "0   3  ...      상단 표기일  140g / 1kg   \n",
       "1   3  ...  주문 확인 후 제조    500g 1kg   \n",
       "\n",
       "                                          보관 방법  \\\n",
       "0  직사광선을 피하고 온도, 습도가 낮으며 통풍이 잘 되는 곳에 보관하여 주십시오.   \n",
       "1       직사광선을 피하고 온도, 습도가 낮으며 통풍이 잘 되는 곳에 밀폐 보관   \n",
       "\n",
       "                          원재료 및 함량   제품문의 관련 주소 및 전화번호 카페인 로스터리ID 타입_디카페인  \\\n",
       "0  커피원두 100% (브라질산 60%, 과테말라산 40%)  핸디엄 고객센터 1599-2681   1     57       0   \n",
       "1                        커피원두 100%  운조커피 010-4535-8819   0     67       1   \n",
       "\n",
       "  타입_블렌드 타입_싱글오리진  \n",
       "0      1        0  \n",
       "1      0        0  \n",
       "\n",
       "[2 rows x 28 columns]"
      ]
     },
     "execution_count": 24,
     "metadata": {},
     "output_type": "execute_result"
    }
   ],
   "source": [
    "features = pd.get_dummies(df, columns=['타입'], dtype=int)\n",
    "features.head(2)"
   ]
  },
  {
   "cell_type": "code",
   "execution_count": 25,
   "metadata": {},
   "outputs": [
    {
     "data": {
      "text/plain": [
       "Index(['id', '이름', '로스터리', '로스팅 포인트', '지속가능성', '컵 노트', '바디감', '신맛', '단맛', '쓴맛',\n",
       "       '커피 소개', '나라', '로스터리 소개', '로스터리 주소', '이름.1', '식품의 유형', '제조원 및 소재지',\n",
       "       '유통기한', '제조일자', '내용량', '보관 방법', '원재료 및 함량', '제품문의 관련 주소 및 전화번호', '카페인',\n",
       "       '로스터리ID', '타입_디카페인', '타입_블렌드', '타입_싱글오리진'],\n",
       "      dtype='object')"
      ]
     },
     "execution_count": 25,
     "metadata": {},
     "output_type": "execute_result"
    }
   ],
   "source": [
    "features.columns"
   ]
  },
  {
   "cell_type": "code",
   "execution_count": 26,
   "metadata": {},
   "outputs": [
    {
     "data": {
      "text/html": [
       "<div>\n",
       "<style scoped>\n",
       "    .dataframe tbody tr th:only-of-type {\n",
       "        vertical-align: middle;\n",
       "    }\n",
       "\n",
       "    .dataframe tbody tr th {\n",
       "        vertical-align: top;\n",
       "    }\n",
       "\n",
       "    .dataframe thead th {\n",
       "        text-align: right;\n",
       "    }\n",
       "</style>\n",
       "<table border=\"1\" class=\"dataframe\">\n",
       "  <thead>\n",
       "    <tr style=\"text-align: right;\">\n",
       "      <th></th>\n",
       "      <th>id</th>\n",
       "      <th>나라</th>\n",
       "      <th>로스팅 포인트</th>\n",
       "      <th>지속가능성</th>\n",
       "      <th>바디감</th>\n",
       "      <th>신맛</th>\n",
       "      <th>단맛</th>\n",
       "      <th>쓴맛</th>\n",
       "      <th>타입_디카페인</th>\n",
       "      <th>타입_블렌드</th>\n",
       "      <th>타입_싱글오리진</th>\n",
       "    </tr>\n",
       "  </thead>\n",
       "  <tbody>\n",
       "    <tr>\n",
       "      <th>0</th>\n",
       "      <td>43</td>\n",
       "      <td>브라질, 과테말라</td>\n",
       "      <td>미디엄다크</td>\n",
       "      <td>NaN</td>\n",
       "      <td>4</td>\n",
       "      <td>2</td>\n",
       "      <td>4</td>\n",
       "      <td>3</td>\n",
       "      <td>0</td>\n",
       "      <td>1</td>\n",
       "      <td>0</td>\n",
       "    </tr>\n",
       "    <tr>\n",
       "      <th>1</th>\n",
       "      <td>3896</td>\n",
       "      <td>세라도</td>\n",
       "      <td>미디엄다크</td>\n",
       "      <td>NaN</td>\n",
       "      <td>4</td>\n",
       "      <td>2</td>\n",
       "      <td>4</td>\n",
       "      <td>3</td>\n",
       "      <td>1</td>\n",
       "      <td>0</td>\n",
       "      <td>0</td>\n",
       "    </tr>\n",
       "  </tbody>\n",
       "</table>\n",
       "</div>"
      ],
      "text/plain": [
       "     id         나라 로스팅 포인트 지속가능성  바디감  신맛  단맛  쓴맛  타입_디카페인  타입_블렌드  타입_싱글오리진\n",
       "0    43  브라질, 과테말라   미디엄다크   NaN    4   2   4   3        0       1         0\n",
       "1  3896        세라도   미디엄다크   NaN    4   2   4   3        1       0         0"
      ]
     },
     "execution_count": 26,
     "metadata": {},
     "output_type": "execute_result"
    }
   ],
   "source": [
    "features = features[['id', '나라', '로스팅 포인트', '지속가능성', '바디감', '신맛', '단맛', '쓴맛', '타입_디카페인', '타입_블렌드', '타입_싱글오리진']]\n",
    "features.head(2)"
   ]
  },
  {
   "cell_type": "code",
   "execution_count": 27,
   "metadata": {},
   "outputs": [
    {
     "data": {
      "text/plain": [
       "array([nan, '유기농', '공정무역', '직접무역'], dtype=object)"
      ]
     },
     "execution_count": 27,
     "metadata": {},
     "output_type": "execute_result"
    }
   ],
   "source": [
    "features['지속가능성'].unique()"
   ]
  },
  {
   "cell_type": "code",
   "execution_count": 28,
   "metadata": {},
   "outputs": [
    {
     "data": {
      "text/plain": [
       "array(['미디엄다크', '라이트미디엄', '다크', '미디엄', '라이트'], dtype=object)"
      ]
     },
     "execution_count": 28,
     "metadata": {},
     "output_type": "execute_result"
    }
   ],
   "source": [
    "features['로스팅 포인트'].unique()"
   ]
  },
  {
   "cell_type": "code",
   "execution_count": 29,
   "metadata": {},
   "outputs": [
    {
     "data": {
      "text/html": [
       "<div>\n",
       "<style scoped>\n",
       "    .dataframe tbody tr th:only-of-type {\n",
       "        vertical-align: middle;\n",
       "    }\n",
       "\n",
       "    .dataframe tbody tr th {\n",
       "        vertical-align: top;\n",
       "    }\n",
       "\n",
       "    .dataframe thead th {\n",
       "        text-align: right;\n",
       "    }\n",
       "</style>\n",
       "<table border=\"1\" class=\"dataframe\">\n",
       "  <thead>\n",
       "    <tr style=\"text-align: right;\">\n",
       "      <th></th>\n",
       "      <th>id</th>\n",
       "      <th>나라</th>\n",
       "      <th>바디감</th>\n",
       "      <th>신맛</th>\n",
       "      <th>단맛</th>\n",
       "      <th>쓴맛</th>\n",
       "      <th>타입_디카페인</th>\n",
       "      <th>타입_블렌드</th>\n",
       "      <th>타입_싱글오리진</th>\n",
       "      <th>지속가능성_공정무역</th>\n",
       "      <th>지속가능성_유기농</th>\n",
       "      <th>지속가능성_직접무역</th>\n",
       "      <th>로스팅 포인트_다크</th>\n",
       "      <th>로스팅 포인트_라이트</th>\n",
       "      <th>로스팅 포인트_라이트미디엄</th>\n",
       "      <th>로스팅 포인트_미디엄</th>\n",
       "      <th>로스팅 포인트_미디엄다크</th>\n",
       "    </tr>\n",
       "  </thead>\n",
       "  <tbody>\n",
       "    <tr>\n",
       "      <th>0</th>\n",
       "      <td>43</td>\n",
       "      <td>브라질, 과테말라</td>\n",
       "      <td>4</td>\n",
       "      <td>2</td>\n",
       "      <td>4</td>\n",
       "      <td>3</td>\n",
       "      <td>0</td>\n",
       "      <td>1</td>\n",
       "      <td>0</td>\n",
       "      <td>0</td>\n",
       "      <td>0</td>\n",
       "      <td>0</td>\n",
       "      <td>0</td>\n",
       "      <td>0</td>\n",
       "      <td>0</td>\n",
       "      <td>0</td>\n",
       "      <td>1</td>\n",
       "    </tr>\n",
       "    <tr>\n",
       "      <th>1</th>\n",
       "      <td>3896</td>\n",
       "      <td>세라도</td>\n",
       "      <td>4</td>\n",
       "      <td>2</td>\n",
       "      <td>4</td>\n",
       "      <td>3</td>\n",
       "      <td>1</td>\n",
       "      <td>0</td>\n",
       "      <td>0</td>\n",
       "      <td>0</td>\n",
       "      <td>0</td>\n",
       "      <td>0</td>\n",
       "      <td>0</td>\n",
       "      <td>0</td>\n",
       "      <td>0</td>\n",
       "      <td>0</td>\n",
       "      <td>1</td>\n",
       "    </tr>\n",
       "  </tbody>\n",
       "</table>\n",
       "</div>"
      ],
      "text/plain": [
       "     id         나라  바디감  신맛  단맛  쓴맛  타입_디카페인  타입_블렌드  타입_싱글오리진  지속가능성_공정무역  \\\n",
       "0    43  브라질, 과테말라    4   2   4   3        0       1         0           0   \n",
       "1  3896        세라도    4   2   4   3        1       0         0           0   \n",
       "\n",
       "   지속가능성_유기농  지속가능성_직접무역  로스팅 포인트_다크  로스팅 포인트_라이트  로스팅 포인트_라이트미디엄  \\\n",
       "0          0           0           0            0               0   \n",
       "1          0           0           0            0               0   \n",
       "\n",
       "   로스팅 포인트_미디엄  로스팅 포인트_미디엄다크  \n",
       "0            0              1  \n",
       "1            0              1  "
      ]
     },
     "execution_count": 29,
     "metadata": {},
     "output_type": "execute_result"
    }
   ],
   "source": [
    "features = pd.get_dummies(features, columns=['지속가능성', '로스팅 포인트'], dtype=int)\n",
    "features.head(2)"
   ]
  },
  {
   "cell_type": "code",
   "execution_count": 33,
   "metadata": {},
   "outputs": [
    {
     "data": {
      "text/html": [
       "<div>\n",
       "<style scoped>\n",
       "    .dataframe tbody tr th:only-of-type {\n",
       "        vertical-align: middle;\n",
       "    }\n",
       "\n",
       "    .dataframe tbody tr th {\n",
       "        vertical-align: top;\n",
       "    }\n",
       "\n",
       "    .dataframe thead th {\n",
       "        text-align: right;\n",
       "    }\n",
       "</style>\n",
       "<table border=\"1\" class=\"dataframe\">\n",
       "  <thead>\n",
       "    <tr style=\"text-align: right;\">\n",
       "      <th></th>\n",
       "      <th>id</th>\n",
       "      <th>꽃</th>\n",
       "      <th>과일</th>\n",
       "      <th>허브</th>\n",
       "      <th>달콤함</th>\n",
       "      <th>고소함</th>\n",
       "      <th>향료_풍미</th>\n",
       "      <th>초콜릿</th>\n",
       "    </tr>\n",
       "  </thead>\n",
       "  <tbody>\n",
       "    <tr>\n",
       "      <th>0</th>\n",
       "      <td>43</td>\n",
       "      <td>0</td>\n",
       "      <td>0</td>\n",
       "      <td>0</td>\n",
       "      <td>1</td>\n",
       "      <td>0</td>\n",
       "      <td>1</td>\n",
       "      <td>0</td>\n",
       "    </tr>\n",
       "    <tr>\n",
       "      <th>1</th>\n",
       "      <td>3896</td>\n",
       "      <td>0</td>\n",
       "      <td>0</td>\n",
       "      <td>0</td>\n",
       "      <td>0</td>\n",
       "      <td>0</td>\n",
       "      <td>0</td>\n",
       "      <td>0</td>\n",
       "    </tr>\n",
       "  </tbody>\n",
       "</table>\n",
       "</div>"
      ],
      "text/plain": [
       "     id  꽃  과일  허브  달콤함  고소함  향료_풍미  초콜릿\n",
       "0    43  0   0   0    1    0      1    0\n",
       "1  3896  0   0   0    0    0      0    0"
      ]
     },
     "execution_count": 33,
     "metadata": {},
     "output_type": "execute_result"
    }
   ],
   "source": [
    "notes = pd.read_csv('category.csv')\n",
    "notes = notes.loc[:, notes.columns!='컵 노트']\n",
    "notes.head(2)"
   ]
  },
  {
   "cell_type": "code",
   "execution_count": 35,
   "metadata": {},
   "outputs": [
    {
     "data": {
      "text/html": [
       "<div>\n",
       "<style scoped>\n",
       "    .dataframe tbody tr th:only-of-type {\n",
       "        vertical-align: middle;\n",
       "    }\n",
       "\n",
       "    .dataframe tbody tr th {\n",
       "        vertical-align: top;\n",
       "    }\n",
       "\n",
       "    .dataframe thead th {\n",
       "        text-align: right;\n",
       "    }\n",
       "</style>\n",
       "<table border=\"1\" class=\"dataframe\">\n",
       "  <thead>\n",
       "    <tr style=\"text-align: right;\">\n",
       "      <th></th>\n",
       "      <th>id</th>\n",
       "      <th>나라</th>\n",
       "      <th>바디감</th>\n",
       "      <th>신맛</th>\n",
       "      <th>단맛</th>\n",
       "      <th>쓴맛</th>\n",
       "      <th>타입_디카페인</th>\n",
       "      <th>타입_블렌드</th>\n",
       "      <th>타입_싱글오리진</th>\n",
       "      <th>지속가능성_공정무역</th>\n",
       "      <th>...</th>\n",
       "      <th>로스팅 포인트_라이트미디엄</th>\n",
       "      <th>로스팅 포인트_미디엄</th>\n",
       "      <th>로스팅 포인트_미디엄다크</th>\n",
       "      <th>꽃</th>\n",
       "      <th>과일</th>\n",
       "      <th>허브</th>\n",
       "      <th>달콤함</th>\n",
       "      <th>고소함</th>\n",
       "      <th>향료_풍미</th>\n",
       "      <th>초콜릿</th>\n",
       "    </tr>\n",
       "  </thead>\n",
       "  <tbody>\n",
       "    <tr>\n",
       "      <th>0</th>\n",
       "      <td>43</td>\n",
       "      <td>브라질, 과테말라</td>\n",
       "      <td>4</td>\n",
       "      <td>2</td>\n",
       "      <td>4</td>\n",
       "      <td>3</td>\n",
       "      <td>0</td>\n",
       "      <td>1</td>\n",
       "      <td>0</td>\n",
       "      <td>0</td>\n",
       "      <td>...</td>\n",
       "      <td>0</td>\n",
       "      <td>0</td>\n",
       "      <td>1</td>\n",
       "      <td>0</td>\n",
       "      <td>0</td>\n",
       "      <td>0</td>\n",
       "      <td>1</td>\n",
       "      <td>0</td>\n",
       "      <td>1</td>\n",
       "      <td>0</td>\n",
       "    </tr>\n",
       "    <tr>\n",
       "      <th>1</th>\n",
       "      <td>3896</td>\n",
       "      <td>세라도</td>\n",
       "      <td>4</td>\n",
       "      <td>2</td>\n",
       "      <td>4</td>\n",
       "      <td>3</td>\n",
       "      <td>1</td>\n",
       "      <td>0</td>\n",
       "      <td>0</td>\n",
       "      <td>0</td>\n",
       "      <td>...</td>\n",
       "      <td>0</td>\n",
       "      <td>0</td>\n",
       "      <td>1</td>\n",
       "      <td>0</td>\n",
       "      <td>0</td>\n",
       "      <td>0</td>\n",
       "      <td>0</td>\n",
       "      <td>0</td>\n",
       "      <td>0</td>\n",
       "      <td>0</td>\n",
       "    </tr>\n",
       "  </tbody>\n",
       "</table>\n",
       "<p>2 rows × 24 columns</p>\n",
       "</div>"
      ],
      "text/plain": [
       "     id         나라  바디감  신맛  단맛  쓴맛  타입_디카페인  타입_블렌드  타입_싱글오리진  지속가능성_공정무역  \\\n",
       "0    43  브라질, 과테말라    4   2   4   3        0       1         0           0   \n",
       "1  3896        세라도    4   2   4   3        1       0         0           0   \n",
       "\n",
       "   ...  로스팅 포인트_라이트미디엄  로스팅 포인트_미디엄  로스팅 포인트_미디엄다크  꽃  과일  허브  달콤함  고소함  \\\n",
       "0  ...               0            0              1  0   0   0    1    0   \n",
       "1  ...               0            0              1  0   0   0    0    0   \n",
       "\n",
       "   향료_풍미  초콜릿  \n",
       "0      1    0  \n",
       "1      0    0  \n",
       "\n",
       "[2 rows x 24 columns]"
      ]
     },
     "execution_count": 35,
     "metadata": {},
     "output_type": "execute_result"
    }
   ],
   "source": [
    "features = pd.merge(features, notes, on=\"id\")\n",
    "features.head(2)"
   ]
  },
  {
   "cell_type": "code",
   "execution_count": 36,
   "metadata": {},
   "outputs": [
    {
     "data": {
      "text/html": [
       "<div>\n",
       "<style scoped>\n",
       "    .dataframe tbody tr th:only-of-type {\n",
       "        vertical-align: middle;\n",
       "    }\n",
       "\n",
       "    .dataframe tbody tr th {\n",
       "        vertical-align: top;\n",
       "    }\n",
       "\n",
       "    .dataframe thead th {\n",
       "        text-align: right;\n",
       "    }\n",
       "</style>\n",
       "<table border=\"1\" class=\"dataframe\">\n",
       "  <thead>\n",
       "    <tr style=\"text-align: right;\">\n",
       "      <th></th>\n",
       "      <th>id</th>\n",
       "      <th>나라</th>\n",
       "      <th>바디감</th>\n",
       "      <th>신맛</th>\n",
       "      <th>단맛</th>\n",
       "      <th>쓴맛</th>\n",
       "      <th>타입_디카페인</th>\n",
       "      <th>타입_블렌드</th>\n",
       "      <th>타입_싱글오리진</th>\n",
       "      <th>지속가능성_공정무역</th>\n",
       "      <th>...</th>\n",
       "      <th>로스팅 포인트_라이트미디엄</th>\n",
       "      <th>로스팅 포인트_미디엄</th>\n",
       "      <th>로스팅 포인트_미디엄다크</th>\n",
       "      <th>꽃</th>\n",
       "      <th>과일</th>\n",
       "      <th>허브</th>\n",
       "      <th>달콤함</th>\n",
       "      <th>고소함</th>\n",
       "      <th>향료_풍미</th>\n",
       "      <th>초콜릿</th>\n",
       "    </tr>\n",
       "  </thead>\n",
       "  <tbody>\n",
       "    <tr>\n",
       "      <th>0</th>\n",
       "      <td>43</td>\n",
       "      <td>브라질, 과테말라</td>\n",
       "      <td>4</td>\n",
       "      <td>2</td>\n",
       "      <td>4</td>\n",
       "      <td>3</td>\n",
       "      <td>0</td>\n",
       "      <td>1</td>\n",
       "      <td>0</td>\n",
       "      <td>0</td>\n",
       "      <td>...</td>\n",
       "      <td>0</td>\n",
       "      <td>0</td>\n",
       "      <td>1</td>\n",
       "      <td>0</td>\n",
       "      <td>0</td>\n",
       "      <td>0</td>\n",
       "      <td>1</td>\n",
       "      <td>0</td>\n",
       "      <td>1</td>\n",
       "      <td>0</td>\n",
       "    </tr>\n",
       "    <tr>\n",
       "      <th>1</th>\n",
       "      <td>3896</td>\n",
       "      <td>세라도</td>\n",
       "      <td>4</td>\n",
       "      <td>2</td>\n",
       "      <td>4</td>\n",
       "      <td>3</td>\n",
       "      <td>1</td>\n",
       "      <td>0</td>\n",
       "      <td>0</td>\n",
       "      <td>0</td>\n",
       "      <td>...</td>\n",
       "      <td>0</td>\n",
       "      <td>0</td>\n",
       "      <td>1</td>\n",
       "      <td>0</td>\n",
       "      <td>0</td>\n",
       "      <td>0</td>\n",
       "      <td>0</td>\n",
       "      <td>0</td>\n",
       "      <td>0</td>\n",
       "      <td>0</td>\n",
       "    </tr>\n",
       "    <tr>\n",
       "      <th>2</th>\n",
       "      <td>3458</td>\n",
       "      <td>아리차</td>\n",
       "      <td>3</td>\n",
       "      <td>4</td>\n",
       "      <td>5</td>\n",
       "      <td>1</td>\n",
       "      <td>0</td>\n",
       "      <td>0</td>\n",
       "      <td>1</td>\n",
       "      <td>0</td>\n",
       "      <td>...</td>\n",
       "      <td>1</td>\n",
       "      <td>0</td>\n",
       "      <td>0</td>\n",
       "      <td>0</td>\n",
       "      <td>0</td>\n",
       "      <td>0</td>\n",
       "      <td>0</td>\n",
       "      <td>0</td>\n",
       "      <td>0</td>\n",
       "      <td>0</td>\n",
       "    </tr>\n",
       "    <tr>\n",
       "      <th>3</th>\n",
       "      <td>22</td>\n",
       "      <td>브라질, 인도</td>\n",
       "      <td>4</td>\n",
       "      <td>1</td>\n",
       "      <td>3</td>\n",
       "      <td>4</td>\n",
       "      <td>0</td>\n",
       "      <td>1</td>\n",
       "      <td>0</td>\n",
       "      <td>1</td>\n",
       "      <td>...</td>\n",
       "      <td>0</td>\n",
       "      <td>0</td>\n",
       "      <td>0</td>\n",
       "      <td>0</td>\n",
       "      <td>0</td>\n",
       "      <td>0</td>\n",
       "      <td>1</td>\n",
       "      <td>1</td>\n",
       "      <td>0</td>\n",
       "      <td>1</td>\n",
       "    </tr>\n",
       "    <tr>\n",
       "      <th>4</th>\n",
       "      <td>180</td>\n",
       "      <td>리무 볼레소</td>\n",
       "      <td>5</td>\n",
       "      <td>3</td>\n",
       "      <td>5</td>\n",
       "      <td>1</td>\n",
       "      <td>0</td>\n",
       "      <td>0</td>\n",
       "      <td>1</td>\n",
       "      <td>0</td>\n",
       "      <td>...</td>\n",
       "      <td>0</td>\n",
       "      <td>0</td>\n",
       "      <td>1</td>\n",
       "      <td>0</td>\n",
       "      <td>1</td>\n",
       "      <td>0</td>\n",
       "      <td>0</td>\n",
       "      <td>0</td>\n",
       "      <td>0</td>\n",
       "      <td>1</td>\n",
       "    </tr>\n",
       "  </tbody>\n",
       "</table>\n",
       "<p>5 rows × 24 columns</p>\n",
       "</div>"
      ],
      "text/plain": [
       "     id         나라  바디감  신맛  단맛  쓴맛  타입_디카페인  타입_블렌드  타입_싱글오리진  지속가능성_공정무역  \\\n",
       "0    43  브라질, 과테말라    4   2   4   3        0       1         0           0   \n",
       "1  3896        세라도    4   2   4   3        1       0         0           0   \n",
       "2  3458        아리차    3   4   5   1        0       0         1           0   \n",
       "3    22    브라질, 인도    4   1   3   4        0       1         0           1   \n",
       "4   180     리무 볼레소    5   3   5   1        0       0         1           0   \n",
       "\n",
       "   ...  로스팅 포인트_라이트미디엄  로스팅 포인트_미디엄  로스팅 포인트_미디엄다크  꽃  과일  허브  달콤함  고소함  \\\n",
       "0  ...               0            0              1  0   0   0    1    0   \n",
       "1  ...               0            0              1  0   0   0    0    0   \n",
       "2  ...               1            0              0  0   0   0    0    0   \n",
       "3  ...               0            0              0  0   0   0    1    1   \n",
       "4  ...               0            0              1  0   1   0    0    0   \n",
       "\n",
       "   향료_풍미  초콜릿  \n",
       "0      1    0  \n",
       "1      0    0  \n",
       "2      0    0  \n",
       "3      0    1  \n",
       "4      0    1  \n",
       "\n",
       "[5 rows x 24 columns]"
      ]
     },
     "execution_count": 36,
     "metadata": {},
     "output_type": "execute_result"
    }
   ],
   "source": [
    "features.to_csv('features.csv', index=False)\n",
    "\n",
    "test = pd.read_csv('features.csv')\n",
    "test.head()"
   ]
  },
  {
   "cell_type": "code",
   "execution_count": null,
   "metadata": {},
   "outputs": [],
   "source": []
  }
 ],
 "metadata": {
  "kernelspec": {
   "display_name": "coffee",
   "language": "python",
   "name": "python3"
  },
  "language_info": {
   "codemirror_mode": {
    "name": "ipython",
    "version": 3
   },
   "file_extension": ".py",
   "mimetype": "text/x-python",
   "name": "python",
   "nbconvert_exporter": "python",
   "pygments_lexer": "ipython3",
   "version": "3.10.4"
  }
 },
 "nbformat": 4,
 "nbformat_minor": 2
}
