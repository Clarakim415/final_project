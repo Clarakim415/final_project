{
 "cells": [
  {
   "cell_type": "markdown",
   "metadata": {},
   "source": [
    "### 커피 특징\n",
    "* !원두 이름!\n",
    "    - 타입 (string)\n",
    "    - 로스팅 포인트 (string)\n",
    "    - 지속가능성 (string)\n",
    "    - 컵 노트 (list of strings)\n",
    "    - 바디감\n",
    "    - 신맛\n",
    "    - 단맛\n",
    "    - 쓴맛"
   ]
  },
  {
   "cell_type": "code",
   "execution_count": 2,
   "metadata": {},
   "outputs": [],
   "source": [
    "# package import\n",
    "import pandas as pd\n",
    "\n",
    "from bs4 import BeautifulSoup\n",
    "from selenium import webdriver\n",
    "from selenium.webdriver.chrome.service import Service\n",
    "from selenium.webdriver.common.by import By\n",
    "from selenium.webdriver.chrome.options import Options\n",
    "\n",
    "import re\n",
    "import time\n",
    "from tqdm import tqdm_notebook\n",
    "\n",
    "import pickle"
   ]
  },
  {
   "cell_type": "code",
   "execution_count": 118,
   "metadata": {},
   "outputs": [],
   "source": [
    "# example dictionary into df\n",
    "dict = {'원두1':{'타입':'블랜드', '로스팅 포인트':'다크', '지속가능성':'-', '컵노트':['구운 아몬드', '밀크 초콜릿'], '바디감':4, '신맛':2, '단맛':4, '쓴맛':3}}\n",
    "# df = pd.DataFrame.from_dict(dict)\n",
    "# df.T"
   ]
  },
  {
   "cell_type": "code",
   "execution_count": 120,
   "metadata": {},
   "outputs": [],
   "source": [
    "dict['원두1']['테스트'] = '테스트'"
   ]
  },
  {
   "cell_type": "code",
   "execution_count": 122,
   "metadata": {},
   "outputs": [
    {
     "data": {
      "text/plain": [
       "{'타입': '블랜드',\n",
       " '로스팅 포인트': '다크',\n",
       " '지속가능성': '-',\n",
       " '컵노트': ['구운 아몬드', '밀크 초콜릿'],\n",
       " '바디감': 4,\n",
       " '신맛': 2,\n",
       " '단맛': 4,\n",
       " '쓴맛': 3,\n",
       " '테스트': '테스트'}"
      ]
     },
     "execution_count": 122,
     "metadata": {},
     "output_type": "execute_result"
    }
   ],
   "source": [
    "dict['원두1']"
   ]
  },
  {
   "cell_type": "code",
   "execution_count": 112,
   "metadata": {},
   "outputs": [],
   "source": [
    "service = Service(path= './driver/chromedriver.exe')\n",
    "driver = webdriver.Chrome(service=service)"
   ]
  },
  {
   "cell_type": "code",
   "execution_count": 113,
   "metadata": {},
   "outputs": [],
   "source": [
    "# 메인 페이지\n",
    "url = 'https://biz.koke.kr/products?filters=%7B%22categoryGroup%22%3A%22WholeBean%22%7D'\n",
    "driver.get(url) # go to website\n",
    "time.sleep(1)"
   ]
  },
  {
   "cell_type": "code",
   "execution_count": 114,
   "metadata": {},
   "outputs": [
    {
     "name": "stderr",
     "output_type": "stream",
     "text": [
      "<>:12: SyntaxWarning: \"is not\" with a literal. Did you mean \"!=\"?\n",
      "<>:12: SyntaxWarning: \"is not\" with a literal. Did you mean \"!=\"?\n",
      "C:\\Users\\Playdata\\AppData\\Local\\Temp\\ipykernel_1956\\2079587560.py:12: SyntaxWarning: \"is not\" with a literal. Did you mean \"!=\"?\n",
      "  if i is not 30:\n"
     ]
    },
    {
     "name": "stdout",
     "output_type": "stream",
     "text": [
      "페이지수 0 링크 수 18 총 링크 수 18\n",
      "2\n",
      "페이지수 1 링크 수 18 총 링크 수 36\n",
      "2\n",
      "페이지수 2 링크 수 18 총 링크 수 54\n",
      "3\n",
      "페이지수 3 링크 수 18 총 링크 수 72\n",
      "3\n",
      "페이지수 4 링크 수 18 총 링크 수 90\n",
      "3\n",
      "페이지수 5 링크 수 18 총 링크 수 108\n",
      "3\n",
      "페이지수 6 링크 수 18 총 링크 수 126\n",
      "3\n",
      "페이지수 7 링크 수 18 총 링크 수 144\n",
      "3\n",
      "페이지수 8 링크 수 18 총 링크 수 162\n",
      "3\n",
      "페이지수 9 링크 수 18 총 링크 수 180\n",
      "3\n",
      "페이지수 10 링크 수 18 총 링크 수 198\n",
      "3\n",
      "페이지수 11 링크 수 18 총 링크 수 216\n",
      "3\n",
      "페이지수 12 링크 수 18 총 링크 수 234\n",
      "3\n",
      "페이지수 13 링크 수 18 총 링크 수 252\n",
      "3\n",
      "페이지수 14 링크 수 18 총 링크 수 270\n",
      "3\n",
      "페이지수 15 링크 수 18 총 링크 수 288\n",
      "3\n",
      "페이지수 16 링크 수 18 총 링크 수 306\n",
      "3\n",
      "페이지수 17 링크 수 18 총 링크 수 324\n",
      "3\n",
      "페이지수 18 링크 수 18 총 링크 수 342\n",
      "3\n",
      "페이지수 19 링크 수 18 총 링크 수 360\n",
      "3\n",
      "페이지수 20 링크 수 18 총 링크 수 378\n",
      "3\n",
      "페이지수 21 링크 수 18 총 링크 수 396\n",
      "3\n",
      "페이지수 22 링크 수 18 총 링크 수 414\n",
      "3\n",
      "페이지수 23 링크 수 18 총 링크 수 432\n",
      "3\n",
      "페이지수 24 링크 수 18 총 링크 수 450\n",
      "3\n",
      "페이지수 25 링크 수 18 총 링크 수 468\n",
      "3\n",
      "페이지수 26 링크 수 18 총 링크 수 486\n",
      "3\n",
      "페이지수 27 링크 수 18 총 링크 수 504\n",
      "3\n",
      "페이지수 28 링크 수 18 총 링크 수 522\n",
      "3\n",
      "페이지수 29 링크 수 18 총 링크 수 540\n",
      "3\n",
      "페이지수 30 링크 수 16 총 링크 수 556\n",
      "556\n"
     ]
    }
   ],
   "source": [
    "links = [] # 제품 링크 리스트\n",
    "\n",
    "# 약 4분 30초 소요\n",
    "for i in range(31):\n",
    "    raw = driver.find_elements(By.CSS_SELECTOR,\"div.flex.flex-col.w-full.lg\\:w-3\\/4\")\n",
    "    link_elements = raw[0].find_elements(By.TAG_NAME,'a') \n",
    "    href_links = [link.get_attribute('href') for link in link_elements]\n",
    "    links = links + href_links # 현재 페이지에 있는 상품 가져오기\n",
    "    print('페이지수', i, '링크 수', len(href_links), '총 링크 수', len(links))\n",
    "    time.sleep(3)\n",
    "\n",
    "    if i is not 30:\n",
    "        button = driver.find_elements(By.CSS_SELECTOR ,\"button.text-gray-500.bg-white.border.border-gray-200.koke-button\")\n",
    "        print(len(button))\n",
    "        button[-1].click()\n",
    "        time.sleep(5)\n",
    "\n",
    "links = set(links)\n",
    "print(len(links)) # 총 556개\n",
    "\n",
    "driver.quit()"
   ]
  },
  {
   "cell_type": "code",
   "execution_count": 115,
   "metadata": {},
   "outputs": [
    {
     "data": {
      "text/plain": [
       "556"
      ]
     },
     "execution_count": 115,
     "metadata": {},
     "output_type": "execute_result"
    }
   ],
   "source": [
    "len(links)"
   ]
  },
  {
   "cell_type": "code",
   "execution_count": 116,
   "metadata": {},
   "outputs": [
    {
     "name": "stdout",
     "output_type": "stream",
     "text": [
      "Loaded links: {'https://biz.koke.kr/products/1207', 'https://biz.koke.kr/products/1055', 'https://biz.koke.kr/products/1012', 'https://biz.koke.kr/products/3340', 'https://biz.koke.kr/products/3739', 'https://biz.koke.kr/products/3390', 'https://biz.koke.kr/products/274', 'https://biz.koke.kr/products/186', 'https://biz.koke.kr/products/1045', 'https://biz.koke.kr/products/3446', 'https://biz.koke.kr/products/4870', 'https://biz.koke.kr/products/4328', 'https://biz.koke.kr/products/1047', 'https://biz.koke.kr/products/3937', 'https://biz.koke.kr/products/4524', 'https://biz.koke.kr/products/4449', 'https://biz.koke.kr/products/4613', 'https://biz.koke.kr/products/3067', 'https://biz.koke.kr/products/174', 'https://biz.koke.kr/products/3199', 'https://biz.koke.kr/products/74', 'https://biz.koke.kr/products/1504', 'https://biz.koke.kr/products/4766', 'https://biz.koke.kr/products/3591', 'https://biz.koke.kr/products/3465', 'https://biz.koke.kr/products/3015', 'https://biz.koke.kr/products/4696', 'https://biz.koke.kr/products/4839', 'https://biz.koke.kr/products/3141', 'https://biz.koke.kr/products/4450', 'https://biz.koke.kr/products/103', 'https://biz.koke.kr/products/57', 'https://biz.koke.kr/products/1296', 'https://biz.koke.kr/products/3557', 'https://biz.koke.kr/products/4819', 'https://biz.koke.kr/products/1478', 'https://biz.koke.kr/products/71', 'https://biz.koke.kr/products/3006', 'https://biz.koke.kr/products/1502', 'https://biz.koke.kr/products/4697', 'https://biz.koke.kr/products/3075', 'https://biz.koke.kr/products/3643', 'https://biz.koke.kr/products/4842', 'https://biz.koke.kr/products/3515', 'https://biz.koke.kr/products/4523', 'https://biz.koke.kr/products/3142', 'https://biz.koke.kr/products/4546', 'https://biz.koke.kr/products/1021', 'https://biz.koke.kr/products/3', 'https://biz.koke.kr/products/3214', 'https://biz.koke.kr/products/1038', 'https://biz.koke.kr/products/4774', 'https://biz.koke.kr/products/1043', 'https://biz.koke.kr/products/3223', 'https://biz.koke.kr/products/3588', 'https://biz.koke.kr/products/4643', 'https://biz.koke.kr/products/1084', 'https://biz.koke.kr/products/3333', 'https://biz.koke.kr/products/191', 'https://biz.koke.kr/products/3907', 'https://biz.koke.kr/products/4017', 'https://biz.koke.kr/products/3553', 'https://biz.koke.kr/products/3177', 'https://biz.koke.kr/products/3605', 'https://biz.koke.kr/products/4736', 'https://biz.koke.kr/products/1120', 'https://biz.koke.kr/products/1204', 'https://biz.koke.kr/products/1343', 'https://biz.koke.kr/products/206', 'https://biz.koke.kr/products/1722', 'https://biz.koke.kr/products/51', 'https://biz.koke.kr/products/167', 'https://biz.koke.kr/products/3393', 'https://biz.koke.kr/products/8', 'https://biz.koke.kr/products/125', 'https://biz.koke.kr/products/3736', 'https://biz.koke.kr/products/4823', 'https://biz.koke.kr/products/281', 'https://biz.koke.kr/products/1089', 'https://biz.koke.kr/products/3457', 'https://biz.koke.kr/products/43', 'https://biz.koke.kr/products/4313', 'https://biz.koke.kr/products/3064', 'https://biz.koke.kr/products/3042', 'https://biz.koke.kr/products/4016', 'https://biz.koke.kr/products/3902', 'https://biz.koke.kr/products/4692', 'https://biz.koke.kr/products/3048', 'https://biz.koke.kr/products/3914', 'https://biz.koke.kr/products/1049', 'https://biz.koke.kr/products/3401', 'https://biz.koke.kr/products/4448', 'https://biz.koke.kr/products/4605', 'https://biz.koke.kr/products/3038', 'https://biz.koke.kr/products/1332', 'https://biz.koke.kr/products/3160', 'https://biz.koke.kr/products/4665', 'https://biz.koke.kr/products/3461', 'https://biz.koke.kr/products/3503', 'https://biz.koke.kr/products/4455', 'https://biz.koke.kr/products/3026', 'https://biz.koke.kr/products/3840', 'https://biz.koke.kr/products/4122', 'https://biz.koke.kr/products/3583', 'https://biz.koke.kr/products/1200', 'https://biz.koke.kr/products/1119', 'https://biz.koke.kr/products/4730', 'https://biz.koke.kr/products/1311', 'https://biz.koke.kr/products/4330', 'https://biz.koke.kr/products/4427', 'https://biz.koke.kr/products/3513', 'https://biz.koke.kr/products/1048', 'https://biz.koke.kr/products/3031', 'https://biz.koke.kr/products/4311', 'https://biz.koke.kr/products/1316', 'https://biz.koke.kr/products/3841', 'https://biz.koke.kr/products/3232', 'https://biz.koke.kr/products/4305', 'https://biz.koke.kr/products/4841', 'https://biz.koke.kr/products/4797', 'https://biz.koke.kr/products/3369', 'https://biz.koke.kr/products/232', 'https://biz.koke.kr/products/3152', 'https://biz.koke.kr/products/1495', 'https://biz.koke.kr/products/3836', 'https://biz.koke.kr/products/42', 'https://biz.koke.kr/products/3514', 'https://biz.koke.kr/products/3908', 'https://biz.koke.kr/products/1474', 'https://biz.koke.kr/products/4010', 'https://biz.koke.kr/products/3892', 'https://biz.koke.kr/products/3070', 'https://biz.koke.kr/products/1476', 'https://biz.koke.kr/products/4674', 'https://biz.koke.kr/products/3041', 'https://biz.koke.kr/products/135', 'https://biz.koke.kr/products/110', 'https://biz.koke.kr/products/3345', 'https://biz.koke.kr/products/3507', 'https://biz.koke.kr/products/1340', 'https://biz.koke.kr/products/3140', 'https://biz.koke.kr/products/3043', 'https://biz.koke.kr/products/4601', 'https://biz.koke.kr/products/3148', 'https://biz.koke.kr/products/1085', 'https://biz.koke.kr/products/3801', 'https://biz.koke.kr/products/2993', 'https://biz.koke.kr/products/3198', 'https://biz.koke.kr/products/37', 'https://biz.koke.kr/products/3071', 'https://biz.koke.kr/products/4052', 'https://biz.koke.kr/products/226', 'https://biz.koke.kr/products/4614', 'https://biz.koke.kr/products/3039', 'https://biz.koke.kr/products/3206', 'https://biz.koke.kr/products/272', 'https://biz.koke.kr/products/3356', 'https://biz.koke.kr/products/3721', 'https://biz.koke.kr/products/10', 'https://biz.koke.kr/products/4705', 'https://biz.koke.kr/products/4682', 'https://biz.koke.kr/products/19', 'https://biz.koke.kr/products/3028', 'https://biz.koke.kr/products/3040', 'https://biz.koke.kr/products/3359', 'https://biz.koke.kr/products/3008', 'https://biz.koke.kr/products/4332', 'https://biz.koke.kr/products/105', 'https://biz.koke.kr/products/3150', 'https://biz.koke.kr/products/1105', 'https://biz.koke.kr/products/4321', 'https://biz.koke.kr/products/3603', 'https://biz.koke.kr/products/4486', 'https://biz.koke.kr/products/1341', 'https://biz.koke.kr/products/195', 'https://biz.koke.kr/products/3899', 'https://biz.koke.kr/products/4837', 'https://biz.koke.kr/products/3946', 'https://biz.koke.kr/products/3027', 'https://biz.koke.kr/products/1103', 'https://biz.koke.kr/products/1475', 'https://biz.koke.kr/products/1737', 'https://biz.koke.kr/products/4316', 'https://biz.koke.kr/products/61', 'https://biz.koke.kr/products/194', 'https://biz.koke.kr/products/1300', 'https://biz.koke.kr/products/4701', 'https://biz.koke.kr/products/4603', 'https://biz.koke.kr/products/3450', 'https://biz.koke.kr/products/3524', 'https://biz.koke.kr/products/113', 'https://biz.koke.kr/products/1104', 'https://biz.koke.kr/products/3058', 'https://biz.koke.kr/products/3802', 'https://biz.koke.kr/products/3737', 'https://biz.koke.kr/products/3930', 'https://biz.koke.kr/products/4482', 'https://biz.koke.kr/products/3089', 'https://biz.koke.kr/products/3005', 'https://biz.koke.kr/products/3584', 'https://biz.koke.kr/products/52', 'https://biz.koke.kr/products/1018', 'https://biz.koke.kr/products/3196', 'https://biz.koke.kr/products/2', 'https://biz.koke.kr/products/3963', 'https://biz.koke.kr/products/3508', 'https://biz.koke.kr/products/1092', 'https://biz.koke.kr/products/3438', 'https://biz.koke.kr/products/190', 'https://biz.koke.kr/products/1083', 'https://biz.koke.kr/products/225', 'https://biz.koke.kr/products/1121', 'https://biz.koke.kr/products/3406', 'https://biz.koke.kr/products/3395', 'https://biz.koke.kr/products/4056', 'https://biz.koke.kr/products/3516', 'https://biz.koke.kr/products/4785', 'https://biz.koke.kr/products/1066', 'https://biz.koke.kr/products/3084', 'https://biz.koke.kr/products/4772', 'https://biz.koke.kr/products/124', 'https://biz.koke.kr/products/1336', 'https://biz.koke.kr/products/4691', 'https://biz.koke.kr/products/2992', 'https://biz.koke.kr/products/3741', 'https://biz.koke.kr/products/3200', 'https://biz.koke.kr/products/145', 'https://biz.koke.kr/products/1735', 'https://biz.koke.kr/products/3069', 'https://biz.koke.kr/products/141', 'https://biz.koke.kr/products/3936', 'https://biz.koke.kr/products/4599', 'https://biz.koke.kr/products/4309', 'https://biz.koke.kr/products/3911', 'https://biz.koke.kr/products/4015', 'https://biz.koke.kr/products/3090', 'https://biz.koke.kr/products/4760', 'https://biz.koke.kr/products/4775', 'https://biz.koke.kr/products/4459', 'https://biz.koke.kr/products/4818', 'https://biz.koke.kr/products/4428', 'https://biz.koke.kr/products/4802', 'https://biz.koke.kr/products/4695', 'https://biz.koke.kr/products/3606', 'https://biz.koke.kr/products/1471', 'https://biz.koke.kr/products/3895', 'https://biz.koke.kr/products/22', 'https://biz.koke.kr/products/4445', 'https://biz.koke.kr/products/119', 'https://biz.koke.kr/products/4604', 'https://biz.koke.kr/products/116', 'https://biz.koke.kr/products/3563', 'https://biz.koke.kr/products/4443', 'https://biz.koke.kr/products/1714', 'https://biz.koke.kr/products/4694', 'https://biz.koke.kr/products/1016', 'https://biz.koke.kr/products/4407', 'https://biz.koke.kr/products/11', 'https://biz.koke.kr/products/3901', 'https://biz.koke.kr/products/4188', 'https://biz.koke.kr/products/1073', 'https://biz.koke.kr/products/1298', 'https://biz.koke.kr/products/3061', 'https://biz.koke.kr/products/3459', 'https://biz.koke.kr/products/3486', 'https://biz.koke.kr/products/1108', 'https://biz.koke.kr/products/280', 'https://biz.koke.kr/products/3565', 'https://biz.koke.kr/products/23', 'https://biz.koke.kr/products/204', 'https://biz.koke.kr/products/3404', 'https://biz.koke.kr/products/196', 'https://biz.koke.kr/products/4824', 'https://biz.koke.kr/products/4693', 'https://biz.koke.kr/products/3055', 'https://biz.koke.kr/products/203', 'https://biz.koke.kr/products/1725', 'https://biz.koke.kr/products/4683', 'https://biz.koke.kr/products/3354', 'https://biz.koke.kr/products/3231', 'https://biz.koke.kr/products/2995', 'https://biz.koke.kr/products/54', 'https://biz.koke.kr/products/4611', 'https://biz.koke.kr/products/1022', 'https://biz.koke.kr/products/292', 'https://biz.koke.kr/products/3607', 'https://biz.koke.kr/products/4570', 'https://biz.koke.kr/products/3763', 'https://biz.koke.kr/products/3928', 'https://biz.koke.kr/products/4602', 'https://biz.koke.kr/products/60', 'https://biz.koke.kr/products/1494', 'https://biz.koke.kr/products/3561', 'https://biz.koke.kr/products/82', 'https://biz.koke.kr/products/3193', 'https://biz.koke.kr/products/3609', 'https://biz.koke.kr/products/1712', 'https://biz.koke.kr/products/1093', 'https://biz.koke.kr/products/217', 'https://biz.koke.kr/products/2999', 'https://biz.koke.kr/products/3025', 'https://biz.koke.kr/products/3893', 'https://biz.koke.kr/products/1210', 'https://biz.koke.kr/products/223', 'https://biz.koke.kr/products/3022', 'https://biz.koke.kr/products/4820', 'https://biz.koke.kr/products/3009', 'https://biz.koke.kr/products/4522', 'https://biz.koke.kr/products/4767', 'https://biz.koke.kr/products/4057', 'https://biz.koke.kr/products/4446', 'https://biz.koke.kr/products/3018', 'https://biz.koke.kr/products/3176', 'https://biz.koke.kr/products/3740', 'https://biz.koke.kr/products/4334', 'https://biz.koke.kr/products/249', 'https://biz.koke.kr/products/3804', 'https://biz.koke.kr/products/4726', 'https://biz.koke.kr/products/3707', 'https://biz.koke.kr/products/5', 'https://biz.koke.kr/products/83', 'https://biz.koke.kr/products/3738', 'https://biz.koke.kr/products/3151', 'https://biz.koke.kr/products/53', 'https://biz.koke.kr/products/276', 'https://biz.koke.kr/products/3029', 'https://biz.koke.kr/products/1470', 'https://biz.koke.kr/products/134', 'https://biz.koke.kr/products/218', 'https://biz.koke.kr/products/1731', 'https://biz.koke.kr/products/55', 'https://biz.koke.kr/products/1024', 'https://biz.koke.kr/products/1040', 'https://biz.koke.kr/products/4790', 'https://biz.koke.kr/products/3616', 'https://biz.koke.kr/products/4220', 'https://biz.koke.kr/products/3722', 'https://biz.koke.kr/products/1017', 'https://biz.koke.kr/products/3068', 'https://biz.koke.kr/products/18', 'https://biz.koke.kr/products/185', 'https://biz.koke.kr/products/3447', 'https://biz.koke.kr/products/1726', 'https://biz.koke.kr/products/3437', 'https://biz.koke.kr/products/1708', 'https://biz.koke.kr/products/13', 'https://biz.koke.kr/products/4786', 'https://biz.koke.kr/products/231', 'https://biz.koke.kr/products/291', 'https://biz.koke.kr/products/4484', 'https://biz.koke.kr/products/3218', 'https://biz.koke.kr/products/1109', 'https://biz.koke.kr/products/3552', 'https://biz.koke.kr/products/4716', 'https://biz.koke.kr/products/4331', 'https://biz.koke.kr/products/3587', 'https://biz.koke.kr/products/4702', 'https://biz.koke.kr/products/3897', 'https://biz.koke.kr/products/4458', 'https://biz.koke.kr/products/118', 'https://biz.koke.kr/products/4750', 'https://biz.koke.kr/products/4706', 'https://biz.koke.kr/products/3837', 'https://biz.koke.kr/products/3608', 'https://biz.koke.kr/products/3456', 'https://biz.koke.kr/products/3935', 'https://biz.koke.kr/products/1110', 'https://biz.koke.kr/products/102', 'https://biz.koke.kr/products/3046', 'https://biz.koke.kr/products/1707', 'https://biz.koke.kr/products/275', 'https://biz.koke.kr/products/1736', 'https://biz.koke.kr/products/1505', 'https://biz.koke.kr/products/127', 'https://biz.koke.kr/products/3219', 'https://biz.koke.kr/products/3903', 'https://biz.koke.kr/products/3065', 'https://biz.koke.kr/products/1088', 'https://biz.koke.kr/products/3810', 'https://biz.koke.kr/products/228', 'https://biz.koke.kr/products/4737', 'https://biz.koke.kr/products/3910', 'https://biz.koke.kr/products/3355', 'https://biz.koke.kr/products/3221', 'https://biz.koke.kr/products/1727', 'https://biz.koke.kr/products/4717', 'https://biz.koke.kr/products/4429', 'https://biz.koke.kr/products/4306', 'https://biz.koke.kr/products/4408', 'https://biz.koke.kr/products/3706', 'https://biz.koke.kr/products/4312', 'https://biz.koke.kr/products/4014', 'https://biz.koke.kr/products/3909', 'https://biz.koke.kr/products/3011', 'https://biz.koke.kr/products/4817', 'https://biz.koke.kr/products/1589', 'https://biz.koke.kr/products/3241', 'https://biz.koke.kr/products/1205', 'https://biz.koke.kr/products/3460', 'https://biz.koke.kr/products/104', 'https://biz.koke.kr/products/4799', 'https://biz.koke.kr/products/4008', 'https://biz.koke.kr/products/70', 'https://biz.koke.kr/products/3838', 'https://biz.koke.kr/products/4483', 'https://biz.koke.kr/products/2998', 'https://biz.koke.kr/products/4699', 'https://biz.koke.kr/products/4689', 'https://biz.koke.kr/products/4776', 'https://biz.koke.kr/products/3526', 'https://biz.koke.kr/products/3429', 'https://biz.koke.kr/products/4759', 'https://biz.koke.kr/products/3894', 'https://biz.koke.kr/products/4707', 'https://biz.koke.kr/products/3391', 'https://biz.koke.kr/products/173', 'https://biz.koke.kr/products/266', 'https://biz.koke.kr/products/1002', 'https://biz.koke.kr/products/3161', 'https://biz.koke.kr/products/3197', 'https://biz.koke.kr/products/4840', 'https://biz.koke.kr/products/168', 'https://biz.koke.kr/products/3072', 'https://biz.koke.kr/products/4426', 'https://biz.koke.kr/products/3586', 'https://biz.koke.kr/products/3147', 'https://biz.koke.kr/products/3016', 'https://biz.koke.kr/products/3013', 'https://biz.koke.kr/products/1734', 'https://biz.koke.kr/products/3590', 'https://biz.koke.kr/products/189', 'https://biz.koke.kr/products/3929', 'https://biz.koke.kr/products/133', 'https://biz.koke.kr/products/4333', 'https://biz.koke.kr/products/1342', 'https://biz.koke.kr/products/4600', 'https://biz.koke.kr/products/137', 'https://biz.koke.kr/products/3984', 'https://biz.koke.kr/products/1713', 'https://biz.koke.kr/products/1723', 'https://biz.koke.kr/products/136', 'https://biz.koke.kr/products/4447', 'https://biz.koke.kr/products/3194', 'https://biz.koke.kr/products/1292', 'https://biz.koke.kr/products/3047', 'https://biz.koke.kr/products/3555', 'https://biz.koke.kr/products/1094', 'https://biz.koke.kr/products/1118', 'https://biz.koke.kr/products/3562', 'https://biz.koke.kr/products/4153', 'https://biz.koke.kr/products/4686', 'https://biz.koke.kr/products/2994', 'https://biz.koke.kr/products/3896', 'https://biz.koke.kr/products/3444', 'https://biz.koke.kr/products/44', 'https://biz.koke.kr/products/1025', 'https://biz.koke.kr/products/4826', 'https://biz.koke.kr/products/3229', 'https://biz.koke.kr/products/1013', 'https://biz.koke.kr/products/3585', 'https://biz.koke.kr/products/3601', 'https://biz.koke.kr/products/3839', 'https://biz.koke.kr/products/3010', 'https://biz.koke.kr/products/3505', 'https://biz.koke.kr/products/3602', 'https://biz.koke.kr/products/227', 'https://biz.koke.kr/products/1573', 'https://biz.koke.kr/products/72', 'https://biz.koke.kr/products/1001', 'https://biz.koke.kr/products/3394', 'https://biz.koke.kr/products/1046', 'https://biz.koke.kr/products/4485', 'https://biz.koke.kr/products/3525', 'https://biz.koke.kr/products/4310', 'https://biz.koke.kr/products/56', 'https://biz.koke.kr/products/3891', 'https://biz.koke.kr/products/1023', 'https://biz.koke.kr/products/3402', 'https://biz.koke.kr/products/3145', 'https://biz.koke.kr/products/3921', 'https://biz.koke.kr/products/3705', 'https://biz.koke.kr/products/4612', 'https://biz.koke.kr/products/205', 'https://biz.koke.kr/products/3021', 'https://biz.koke.kr/products/3725', 'https://biz.koke.kr/products/3912', 'https://biz.koke.kr/products/3433', 'https://biz.koke.kr/products/4800', 'https://biz.koke.kr/products/3617', 'https://biz.koke.kr/products/3392', 'https://biz.koke.kr/products/3157', 'https://biz.koke.kr/products/1479', 'https://biz.koke.kr/products/4487', 'https://biz.koke.kr/products/140', 'https://biz.koke.kr/products/1710', 'https://biz.koke.kr/products/4004', 'https://biz.koke.kr/products/1063', 'https://biz.koke.kr/products/12', 'https://biz.koke.kr/products/188', 'https://biz.koke.kr/products/36', 'https://biz.koke.kr/products/3357', 'https://biz.koke.kr/products/1331', 'https://biz.koke.kr/products/1086', 'https://biz.koke.kr/products/3556', 'https://biz.koke.kr/products/3506', 'https://biz.koke.kr/products/4041', 'https://biz.koke.kr/products/197', 'https://biz.koke.kr/products/4676', 'https://biz.koke.kr/products/4801', 'https://biz.koke.kr/products/41', 'https://biz.koke.kr/products/3014', 'https://biz.koke.kr/products/1477', 'https://biz.koke.kr/products/3207', 'https://biz.koke.kr/products/4172', 'https://biz.koke.kr/products/180', 'https://biz.koke.kr/products/193', 'https://biz.koke.kr/products/1702', 'https://biz.koke.kr/products/146', 'https://biz.koke.kr/products/9', 'https://biz.koke.kr/products/3462', 'https://biz.koke.kr/products/1026', 'https://biz.koke.kr/products/3017', 'https://biz.koke.kr/products/1107', 'https://biz.koke.kr/products/1706', 'https://biz.koke.kr/products/3217', 'https://biz.koke.kr/products/3205', 'https://biz.koke.kr/products/282', 'https://biz.koke.kr/products/4698', 'https://biz.koke.kr/products/3195', 'https://biz.koke.kr/products/3900', 'https://biz.koke.kr/products/3012', 'https://biz.koke.kr/products/120', 'https://biz.koke.kr/products/4061', 'https://biz.koke.kr/products/1101', 'https://biz.koke.kr/products/3614', 'https://biz.koke.kr/products/69', 'https://biz.koke.kr/products/3020', 'https://biz.koke.kr/products/4684', 'https://biz.koke.kr/products/4488', 'https://biz.koke.kr/products/1041', 'https://biz.koke.kr/products/3024', 'https://biz.koke.kr/products/117', 'https://biz.koke.kr/products/224', 'https://biz.koke.kr/products/219', 'https://biz.koke.kr/products/3244', 'https://biz.koke.kr/products/3153', 'https://biz.koke.kr/products/1209', 'https://biz.koke.kr/products/235', 'https://biz.koke.kr/products/3458', 'https://biz.koke.kr/products/4778', 'https://biz.koke.kr/products/3898', 'https://biz.koke.kr/products/3487', 'https://biz.koke.kr/products/3180', 'https://biz.koke.kr/products/3030', 'https://biz.koke.kr/products/1473', 'https://biz.koke.kr/products/1201'}\n"
     ]
    }
   ],
   "source": [
    "# Pickle dump the set of links to a file\n",
    "with open(\"links.pkl\", \"wb\") as file:\n",
    "    pickle.dump(links, file)\n",
    "\n",
    "# Load the set of links from the file\n",
    "with open(\"links.pkl\", \"rb\") as file:\n",
    "    loaded_links = pickle.load(file)\n",
    "\n",
    "# Print the loaded set of links\n",
    "print(\"Loaded links:\", loaded_links)"
   ]
  },
  {
   "cell_type": "code",
   "execution_count": 117,
   "metadata": {},
   "outputs": [
    {
     "data": {
      "text/plain": [
       "556"
      ]
     },
     "execution_count": 117,
     "metadata": {},
     "output_type": "execute_result"
    }
   ],
   "source": [
    "len(loaded_links)"
   ]
  },
  {
   "cell_type": "markdown",
   "metadata": {},
   "source": [
    "### 페이지간 이동 및 제품 선택\n",
    "https://biz.koke.kr/products?filters=%7B%22categoryGroup%22%3A%22WholeBean%22%7D&page=1\n",
    "- page 1 ~ 31\n",
    "- 18 links per page"
   ]
  },
  {
   "cell_type": "code",
   "execution_count": 92,
   "metadata": {},
   "outputs": [],
   "source": [
    "# prod_list = []\n",
    "# for i in range(1,19):\n",
    "#     driver.get('https://biz.koke.kr/products?filters=%7B%22categoryGroup%22%3A%22WholeBean%22%7D&page='+str(i))\n",
    "#     prod_links = driver.find_elements(By.CLASS_NAME, 'card-box')\n",
    "#     for k in range(len(prod_links)):\n",
    "#         prod_list.append(prod_links[1].get_attribute('href'))\n",
    "    \n",
    "# driver.close()"
   ]
  },
  {
   "cell_type": "markdown",
   "metadata": {},
   "source": [
    "<a class=\"card-box\" href=\"/products/1089\">"
   ]
  },
  {
   "cell_type": "markdown",
   "metadata": {},
   "source": [
    "***"
   ]
  },
  {
   "cell_type": "markdown",
   "metadata": {},
   "source": [
    "### 제품 페이지에서의 데이터 수집"
   ]
  },
  {
   "cell_type": "code",
   "execution_count": 131,
   "metadata": {},
   "outputs": [],
   "source": [
    "service = Service(path= './driver/chromedriver.exe')\n",
    "driver = webdriver.Chrome(service=service)\n",
    "# driver.get('https://biz.koke.kr/products/4801')"
   ]
  },
  {
   "cell_type": "code",
   "execution_count": 136,
   "metadata": {},
   "outputs": [
    {
     "ename": "KeyboardInterrupt",
     "evalue": "",
     "output_type": "error",
     "traceback": [
      "\u001b[1;31m---------------------------------------------------------------------------\u001b[0m",
      "\u001b[1;31mKeyboardInterrupt\u001b[0m                         Traceback (most recent call last)",
      "\u001b[1;32mc:\\Users\\Playdata\\Documents\\coffee_Proj\\CoffeeFeatures.ipynb 셀 18\u001b[0m line \u001b[0;36m4\n\u001b[0;32m      <a href='vscode-notebook-cell:/c%3A/Users/Playdata/Documents/coffee_Proj/CoffeeFeatures.ipynb#Y120sZmlsZQ%3D%3D?line=1'>2</a>\u001b[0m \u001b[39mfor\u001b[39;00m link \u001b[39min\u001b[39;00m loaded_links:\n\u001b[0;32m      <a href='vscode-notebook-cell:/c%3A/Users/Playdata/Documents/coffee_Proj/CoffeeFeatures.ipynb#Y120sZmlsZQ%3D%3D?line=2'>3</a>\u001b[0m     driver\u001b[39m.\u001b[39mget(link)\n\u001b[1;32m----> <a href='vscode-notebook-cell:/c%3A/Users/Playdata/Documents/coffee_Proj/CoffeeFeatures.ipynb#Y120sZmlsZQ%3D%3D?line=3'>4</a>\u001b[0m     time\u001b[39m.\u001b[39;49msleep(\u001b[39m3\u001b[39;49m)\n\u001b[0;32m      <a href='vscode-notebook-cell:/c%3A/Users/Playdata/Documents/coffee_Proj/CoffeeFeatures.ipynb#Y120sZmlsZQ%3D%3D?line=4'>5</a>\u001b[0m     raw \u001b[39m=\u001b[39m driver\u001b[39m.\u001b[39mfind_elements(By\u001b[39m.\u001b[39mCSS_SELECTOR,\u001b[39m\"\u001b[39m\u001b[39mdiv.flex.flex-col\u001b[39m\u001b[39m\"\u001b[39m)\n\u001b[0;32m      <a href='vscode-notebook-cell:/c%3A/Users/Playdata/Documents/coffee_Proj/CoffeeFeatures.ipynb#Y120sZmlsZQ%3D%3D?line=5'>6</a>\u001b[0m     coffee_name \u001b[39m=\u001b[39m raw[\u001b[39m0\u001b[39m]\u001b[39m.\u001b[39mfind_element(By\u001b[39m.\u001b[39mTAG_NAME,\u001b[39m'\u001b[39m\u001b[39mh1\u001b[39m\u001b[39m'\u001b[39m)\u001b[39m.\u001b[39mtext\n",
      "\u001b[1;31mKeyboardInterrupt\u001b[0m: "
     ]
    }
   ],
   "source": [
    "data = {}\n",
    "for link in loaded_links:\n",
    "    driver.get(link)\n",
    "    time.sleep(3)\n",
    "    raw = driver.find_elements(By.CSS_SELECTOR,\"div.flex.flex-col\")\n",
    "    coffee_name = raw[0].find_element(By.TAG_NAME,'h1').text\n",
    "    data['name'] = coffee_name\n",
    "driver.quit()"
   ]
  },
  {
   "cell_type": "code",
   "execution_count": null,
   "metadata": {},
   "outputs": [],
   "source": [
    "data"
   ]
  },
  {
   "cell_type": "code",
   "execution_count": 3,
   "metadata": {},
   "outputs": [
    {
     "name": "stdout",
     "output_type": "stream",
     "text": [
      "<selenium.webdriver.remote.webelement.WebElement (session=\"a4a78d5007fb97793e48f031db0a50a7\", element=\"453BBCA1B87EE2FE612B58EBEE74EF1A_element_4\")>\n",
      "바디감\n"
     ]
    }
   ],
   "source": [
    "# # Use Selenium to find the element by the provided CSS selector\n",
    "# elements = driver.find_element(By.XPATH, '/html/body/div[1]/div[4]/div/div[7]/div/div[1]/div/div/div[1]/ul/li[1]/div/div[1]/span')\n",
    "\n",
    "# print(elements)\n",
    "# print(elements.text)\n",
    "\n",
    "\n",
    "# # Close the browser\n",
    "# driver.quit()"
   ]
  },
  {
   "cell_type": "code",
   "execution_count": 22,
   "metadata": {},
   "outputs": [
    {
     "name": "stdout",
     "output_type": "stream",
     "text": [
      "[<selenium.webdriver.remote.webelement.WebElement (session=\"a2160951bf1446df88bf68113c722771\", element=\"DA5A36F4D1EFA01DC53CE227FF884B3E_element_3\")>, <selenium.webdriver.remote.webelement.WebElement (session=\"a2160951bf1446df88bf68113c722771\", element=\"DA5A36F4D1EFA01DC53CE227FF884B3E_element_4\")>, <selenium.webdriver.remote.webelement.WebElement (session=\"a2160951bf1446df88bf68113c722771\", element=\"DA5A36F4D1EFA01DC53CE227FF884B3E_element_5\")>, <selenium.webdriver.remote.webelement.WebElement (session=\"a2160951bf1446df88bf68113c722771\", element=\"DA5A36F4D1EFA01DC53CE227FF884B3E_element_6\")>]\n",
      "바디감\n",
      "신맛\n",
      "단맛\n",
      "쓴맛\n"
     ]
    }
   ],
   "source": [
    "# Use Selenium to find the element by the provided CSS selector\n",
    "elements = driver.find_elements(By.CSS_SELECTOR, 'div.w-16.mr-dist-sm')\n",
    "\n",
    "for i in range(len(elements)):\n",
    "    print(elements[i].text)\n",
    "\n",
    "\n",
    "# Close the browser\n",
    "driver.quit()"
   ]
  },
  {
   "cell_type": "code",
   "execution_count": 3,
   "metadata": {},
   "outputs": [],
   "source": [
    "service = Service(path= './driver/chromedriver.exe')\n",
    "driver = webdriver.Chrome(service=service)\n",
    "driver.get('https://biz.koke.kr/products/4801')"
   ]
  },
  {
   "cell_type": "code",
   "execution_count": 5,
   "metadata": {},
   "outputs": [
    {
     "name": "stdout",
     "output_type": "stream",
     "text": [
      "4\n"
     ]
    },
    {
     "data": {
      "text/plain": [
       "'<div class=\"w-full h-full border-white border-r last:border-none bg-koke-green bg-opacity-30\"></div><div class=\"w-full h-full border-white border-r last:border-none bg-koke-green bg-opacity-30\"></div><div class=\"w-full h-full border-white border-r last:border-none bg-koke-green bg-opacity-30\"></div><div class=\"w-full h-full border-white border-r last:border-none bg-koke-green\"></div><div class=\"w-full h-full border-white border-r last:border-none bg-koke-green bg-opacity-30\"></div>'"
      ]
     },
     "execution_count": 5,
     "metadata": {},
     "output_type": "execute_result"
    }
   ],
   "source": [
    "temp = driver.find_elements(By.CSS_SELECTOR,'div.flex.justify-between.w-full.h-2\\.5.overflow-hidden.rounded-full')\n",
    "print(len(temp))\n",
    "temp[0].get_attribute('innerHTML')"
   ]
  },
  {
   "cell_type": "code",
   "execution_count": 12,
   "metadata": {},
   "outputs": [],
   "source": [
    "html = temp[3].get_attribute('innerHTML')"
   ]
  },
  {
   "cell_type": "code",
   "execution_count": 13,
   "metadata": {},
   "outputs": [
    {
     "name": "stdout",
     "output_type": "stream",
     "text": [
      "The element without 'bg-opacity-30' class is at position 1/5\n"
     ]
    }
   ],
   "source": [
    "# Parse the HTML content\n",
    "soup = BeautifulSoup(html, 'html.parser')\n",
    "\n",
    "# Find all div elements without the 'bg-opacity-30' class\n",
    "divs_without_opacity_30 = [div for div in soup.find_all('div', class_='bg-koke-green') if 'bg-opacity-30' not in div.get('class')]\n",
    "\n",
    "# Total number of blocks\n",
    "total_blocks = 5\n",
    "\n",
    "# Initialize position (n) to None\n",
    "position = None\n",
    "\n",
    "# Check if there are any elements without the 'bg-opacity-30' class\n",
    "if divs_without_opacity_30:\n",
    "    # Get the index of the first element (0-based) and add 1 to get the position (1-based)\n",
    "    position = divs_without_opacity_30[0].find_parent().find_all('div', class_='bg-koke-green').index(divs_without_opacity_30[0]) + 1\n",
    "\n",
    "print(f\"The element without 'bg-opacity-30' class is at position {position}/{total_blocks}\")\n"
   ]
  },
  {
   "cell_type": "code",
   "execution_count": 14,
   "metadata": {},
   "outputs": [],
   "source": [
    "driver.quit()"
   ]
  },
  {
   "cell_type": "markdown",
   "metadata": {},
   "source": [
    "나머지 특징"
   ]
  },
  {
   "cell_type": "code",
   "execution_count": 41,
   "metadata": {},
   "outputs": [],
   "source": [
    "service = Service(path= './driver/chromedriver.exe')\n",
    "driver = webdriver.Chrome(service=service)\n",
    "driver.get('https://biz.koke.kr/products/3928')"
   ]
  },
  {
   "cell_type": "code",
   "execution_count": 28,
   "metadata": {},
   "outputs": [
    {
     "data": {
      "text/plain": [
       "['블렌드', '미디엄다크']"
      ]
     },
     "execution_count": 28,
     "metadata": {},
     "output_type": "execute_result"
    }
   ],
   "source": [
    "elements = driver.find_elements(By.CSS_SELECTOR, 'li.lg\\:block')\n",
    "\n",
    "#print(elements)\n",
    "#print(len(elements))\n",
    "# print(elements.text)\n",
    "\n",
    "result = []\n",
    "for i in range(len(elements)):\n",
    "    html = elements[i].get_attribute('innerHTML')\n",
    "    # Parse the HTML content\n",
    "    soup = BeautifulSoup(html, 'html.parser')\n",
    "    \n",
    "    if soup.find_all('svg', 'hidden'):\n",
    "        result.append(elements[i].text)\n",
    "result"
   ]
  },
  {
   "cell_type": "code",
   "execution_count": 6,
   "metadata": {},
   "outputs": [],
   "source": [
    "element = driver.find_element(By.CSS_SELECTOR, 'li.lg\\:block')"
   ]
  },
  {
   "cell_type": "code",
   "execution_count": 33,
   "metadata": {},
   "outputs": [],
   "source": [
    "te = {'type':'블렌드', 'a':'mid'}"
   ]
  },
  {
   "cell_type": "code",
   "execution_count": 31,
   "metadata": {},
   "outputs": [
    {
     "data": {
      "text/plain": [
       "2"
      ]
     },
     "execution_count": 31,
     "metadata": {},
     "output_type": "execute_result"
    }
   ],
   "source": [
    "len(te)"
   ]
  },
  {
   "cell_type": "code",
   "execution_count": 38,
   "metadata": {},
   "outputs": [
    {
     "data": {
      "text/plain": [
       "['type', 'a']"
      ]
     },
     "execution_count": 38,
     "metadata": {},
     "output_type": "execute_result"
    }
   ],
   "source": [
    "list(te.keys())"
   ]
  },
  {
   "cell_type": "code",
   "execution_count": 42,
   "metadata": {},
   "outputs": [
    {
     "ename": "NoSuchElementException",
     "evalue": "Message: no such element: Unable to locate element: {\"method\":\"css selector\",\"selector\":\"li.tracking-wide.koke-word-keep-all\"}\n  (Session info: chrome=118.0.5993.71); For documentation on this error, please visit: https://www.selenium.dev/documentation/webdriver/troubleshooting/errors#no-such-element-exception\nStacktrace:\n\tGetHandleVerifier [0x00007FF6F5518EF2+54786]\n\t(No symbol) [0x00007FF6F5485612]\n\t(No symbol) [0x00007FF6F533A64B]\n\t(No symbol) [0x00007FF6F537B79C]\n\t(No symbol) [0x00007FF6F537B91C]\n\t(No symbol) [0x00007FF6F53B6D87]\n\t(No symbol) [0x00007FF6F539BEAF]\n\t(No symbol) [0x00007FF6F53B4D02]\n\t(No symbol) [0x00007FF6F539BC43]\n\t(No symbol) [0x00007FF6F5370941]\n\t(No symbol) [0x00007FF6F5371B84]\n\tGetHandleVerifier [0x00007FF6F5867F52+3524194]\n\tGetHandleVerifier [0x00007FF6F58BD800+3874576]\n\tGetHandleVerifier [0x00007FF6F58B5D7F+3843215]\n\tGetHandleVerifier [0x00007FF6F55B5086+694166]\n\t(No symbol) [0x00007FF6F5490A88]\n\t(No symbol) [0x00007FF6F548CA94]\n\t(No symbol) [0x00007FF6F548CBC2]\n\t(No symbol) [0x00007FF6F547CC83]\n\tBaseThreadInitThunk [0x00007FFDC20C7344+20]\n\tRtlUserThreadStart [0x00007FFDC23426B1+33]\n",
     "output_type": "error",
     "traceback": [
      "\u001b[1;31m---------------------------------------------------------------------------\u001b[0m",
      "\u001b[1;31mNoSuchElementException\u001b[0m                    Traceback (most recent call last)",
      "\u001b[1;32mc:\\Users\\Playdata\\Documents\\coffee_Proj\\CoffeeFeatures_test.ipynb 셀 34\u001b[0m line \u001b[0;36m1\n\u001b[1;32m----> <a href='vscode-notebook-cell:/c%3A/Users/Playdata/Documents/coffee_Proj/CoffeeFeatures_test.ipynb#X46sZmlsZQ%3D%3D?line=0'>1</a>\u001b[0m element \u001b[39m=\u001b[39m driver\u001b[39m.\u001b[39;49mfind_element(By\u001b[39m.\u001b[39;49mCSS_SELECTOR, \u001b[39m'\u001b[39;49m\u001b[39mli.tracking-wide.koke-word-keep-all\u001b[39;49m\u001b[39m'\u001b[39;49m)\n",
      "File \u001b[1;32mc:\\venvs\\coffee\\lib\\site-packages\\selenium\\webdriver\\remote\\webdriver.py:738\u001b[0m, in \u001b[0;36mWebDriver.find_element\u001b[1;34m(self, by, value)\u001b[0m\n\u001b[0;32m    735\u001b[0m     by \u001b[39m=\u001b[39m By\u001b[39m.\u001b[39mCSS_SELECTOR\n\u001b[0;32m    736\u001b[0m     value \u001b[39m=\u001b[39m \u001b[39mf\u001b[39m\u001b[39m'\u001b[39m\u001b[39m[name=\u001b[39m\u001b[39m\"\u001b[39m\u001b[39m{\u001b[39;00mvalue\u001b[39m}\u001b[39;00m\u001b[39m\"\u001b[39m\u001b[39m]\u001b[39m\u001b[39m'\u001b[39m\n\u001b[1;32m--> 738\u001b[0m \u001b[39mreturn\u001b[39;00m \u001b[39mself\u001b[39;49m\u001b[39m.\u001b[39;49mexecute(Command\u001b[39m.\u001b[39;49mFIND_ELEMENT, {\u001b[39m\"\u001b[39;49m\u001b[39musing\u001b[39;49m\u001b[39m\"\u001b[39;49m: by, \u001b[39m\"\u001b[39;49m\u001b[39mvalue\u001b[39;49m\u001b[39m\"\u001b[39;49m: value})[\u001b[39m\"\u001b[39m\u001b[39mvalue\u001b[39m\u001b[39m\"\u001b[39m]\n",
      "File \u001b[1;32mc:\\venvs\\coffee\\lib\\site-packages\\selenium\\webdriver\\remote\\webdriver.py:344\u001b[0m, in \u001b[0;36mWebDriver.execute\u001b[1;34m(self, driver_command, params)\u001b[0m\n\u001b[0;32m    342\u001b[0m response \u001b[39m=\u001b[39m \u001b[39mself\u001b[39m\u001b[39m.\u001b[39mcommand_executor\u001b[39m.\u001b[39mexecute(driver_command, params)\n\u001b[0;32m    343\u001b[0m \u001b[39mif\u001b[39;00m response:\n\u001b[1;32m--> 344\u001b[0m     \u001b[39mself\u001b[39;49m\u001b[39m.\u001b[39;49merror_handler\u001b[39m.\u001b[39;49mcheck_response(response)\n\u001b[0;32m    345\u001b[0m     response[\u001b[39m\"\u001b[39m\u001b[39mvalue\u001b[39m\u001b[39m\"\u001b[39m] \u001b[39m=\u001b[39m \u001b[39mself\u001b[39m\u001b[39m.\u001b[39m_unwrap_value(response\u001b[39m.\u001b[39mget(\u001b[39m\"\u001b[39m\u001b[39mvalue\u001b[39m\u001b[39m\"\u001b[39m, \u001b[39mNone\u001b[39;00m))\n\u001b[0;32m    346\u001b[0m     \u001b[39mreturn\u001b[39;00m response\n",
      "File \u001b[1;32mc:\\venvs\\coffee\\lib\\site-packages\\selenium\\webdriver\\remote\\errorhandler.py:229\u001b[0m, in \u001b[0;36mErrorHandler.check_response\u001b[1;34m(self, response)\u001b[0m\n\u001b[0;32m    227\u001b[0m         alert_text \u001b[39m=\u001b[39m value[\u001b[39m\"\u001b[39m\u001b[39malert\u001b[39m\u001b[39m\"\u001b[39m]\u001b[39m.\u001b[39mget(\u001b[39m\"\u001b[39m\u001b[39mtext\u001b[39m\u001b[39m\"\u001b[39m)\n\u001b[0;32m    228\u001b[0m     \u001b[39mraise\u001b[39;00m exception_class(message, screen, stacktrace, alert_text)  \u001b[39m# type: ignore[call-arg]  # mypy is not smart enough here\u001b[39;00m\n\u001b[1;32m--> 229\u001b[0m \u001b[39mraise\u001b[39;00m exception_class(message, screen, stacktrace)\n",
      "\u001b[1;31mNoSuchElementException\u001b[0m: Message: no such element: Unable to locate element: {\"method\":\"css selector\",\"selector\":\"li.tracking-wide.koke-word-keep-all\"}\n  (Session info: chrome=118.0.5993.71); For documentation on this error, please visit: https://www.selenium.dev/documentation/webdriver/troubleshooting/errors#no-such-element-exception\nStacktrace:\n\tGetHandleVerifier [0x00007FF6F5518EF2+54786]\n\t(No symbol) [0x00007FF6F5485612]\n\t(No symbol) [0x00007FF6F533A64B]\n\t(No symbol) [0x00007FF6F537B79C]\n\t(No symbol) [0x00007FF6F537B91C]\n\t(No symbol) [0x00007FF6F53B6D87]\n\t(No symbol) [0x00007FF6F539BEAF]\n\t(No symbol) [0x00007FF6F53B4D02]\n\t(No symbol) [0x00007FF6F539BC43]\n\t(No symbol) [0x00007FF6F5370941]\n\t(No symbol) [0x00007FF6F5371B84]\n\tGetHandleVerifier [0x00007FF6F5867F52+3524194]\n\tGetHandleVerifier [0x00007FF6F58BD800+3874576]\n\tGetHandleVerifier [0x00007FF6F58B5D7F+3843215]\n\tGetHandleVerifier [0x00007FF6F55B5086+694166]\n\t(No symbol) [0x00007FF6F5490A88]\n\t(No symbol) [0x00007FF6F548CA94]\n\t(No symbol) [0x00007FF6F548CBC2]\n\t(No symbol) [0x00007FF6F547CC83]\n\tBaseThreadInitThunk [0x00007FFDC20C7344+20]\n\tRtlUserThreadStart [0x00007FFDC23426B1+33]\n"
     ]
    }
   ],
   "source": [
    "element = driver.find_element(By.CSS_SELECTOR, 'li.tracking-wide.koke-word-keep-all')"
   ]
  },
  {
   "cell_type": "code",
   "execution_count": 40,
   "metadata": {},
   "outputs": [
    {
     "data": {
      "text/plain": [
       "'견과류, 옥수수, 긴 여운'"
      ]
     },
     "execution_count": 40,
     "metadata": {},
     "output_type": "execute_result"
    }
   ],
   "source": [
    "element.text"
   ]
  },
  {
   "cell_type": "code",
   "execution_count": 53,
   "metadata": {},
   "outputs": [
    {
     "data": {
      "text/plain": [
       "0"
      ]
     },
     "execution_count": 53,
     "metadata": {},
     "output_type": "execute_result"
    }
   ],
   "source": [
    "data = {}\n",
    "data['test'] = {'컵 노트':0}\n",
    "data['test']['컵 노트']"
   ]
  },
  {
   "cell_type": "code",
   "execution_count": 54,
   "metadata": {},
   "outputs": [
    {
     "data": {
      "text/plain": [
       "{'test': {'컵 노트': '-'}}"
      ]
     },
     "execution_count": 54,
     "metadata": {},
     "output_type": "execute_result"
    }
   ],
   "source": [
    "try:\n",
    "    notes = driver.find_element(By.CSS_SELECTOR, 'li.tracking-wide.koke-word-keep-all')\n",
    "    data['test']['컵 노트'] = notes\n",
    "except:\n",
    "    data['test']['컵 노트'] = '-'          \n",
    "\n",
    "data"
   ]
  },
  {
   "cell_type": "markdown",
   "metadata": {},
   "source": [
    "***"
   ]
  },
  {
   "cell_type": "code",
   "execution_count": null,
   "metadata": {},
   "outputs": [],
   "source": [
    "tab = driver.find_element(By.CSS_SELECTOR, 'dl.grid.bg-white.border-t.lg\\:grid-cols-2')\n",
    "len(tab)"
   ]
  },
  {
   "cell_type": "code",
   "execution_count": null,
   "metadata": {},
   "outputs": [],
   "source": [
    "html = tab.get_attribute('innerHTML')\n",
    "\n",
    "# Parse the HTML content\n",
    "soup = BeautifulSoup(html, 'html.parser')"
   ]
  },
  {
   "cell_type": "code",
   "execution_count": null,
   "metadata": {},
   "outputs": [],
   "source": [
    "info = soup.find_all(\"dl\", {'class':'attributes dl-horizontal'})\n",
    "\n",
    "comp_info = pd.DataFrame()\n",
    "cleaned_id_text = []\n",
    "for i in info[0].find_all('dt'):\n",
    "    cleaned_id_text.append(i.text)\n",
    "cleaned_id__attrb_text = []\n",
    "for i in info[0].find_all('dd'):\n",
    "    cleaned_id__attrb_text.append(i.text)\n",
    "\n",
    "comp_info['Id'] = cleaned_id_text\n",
    "comp_info['Attribute'] = cleaned_id__attrb_text\n",
    "comp_info"
   ]
  }
 ],
 "metadata": {
  "kernelspec": {
   "display_name": "coffee",
   "language": "python",
   "name": "python3"
  },
  "language_info": {
   "codemirror_mode": {
    "name": "ipython",
    "version": 3
   },
   "file_extension": ".py",
   "mimetype": "text/x-python",
   "name": "python",
   "nbconvert_exporter": "python",
   "pygments_lexer": "ipython3",
   "version": "3.10.4"
  }
 },
 "nbformat": 4,
 "nbformat_minor": 2
}
